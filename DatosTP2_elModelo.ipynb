{
 "cells": [
  {
   "cell_type": "markdown",
   "metadata": {},
   "source": [
    "## <center>Inicio"
   ]
  },
  {
   "cell_type": "code",
   "execution_count": 1,
   "metadata": {},
   "outputs": [],
   "source": [
    "# Importación de librerías\n",
    "\n",
    "import pickle\n",
    "import numpy as np\n",
    "import pandas as pd\n",
    "import matplotlib.pyplot as plt\n",
    "import seaborn as sns\n",
    "from scipy import sparse\n",
    "import random"
   ]
  },
  {
   "cell_type": "code",
   "execution_count": 2,
   "metadata": {},
   "outputs": [],
   "source": [
    "import re\n",
    "from string import punctuation\n",
    "import nltk\n",
    "from nltk.corpus import stopwords\n",
    "from nltk.stem import PorterStemmer\n",
    "from nltk.tokenize import word_tokenize, sent_tokenize\n",
    "from textblob import TextBlob"
   ]
  },
  {
   "cell_type": "code",
   "execution_count": 3,
   "metadata": {},
   "outputs": [],
   "source": [
    "from sklearn.model_selection import train_test_split, GridSearchCV, KFold, StratifiedKFold, cross_val_score\n",
    "from sklearn.feature_extraction.text import CountVectorizer, TfidfTransformer, HashingVectorizer\n",
    "from sklearn.pipeline import Pipeline\n",
    "from sklearn.ensemble import RandomForestClassifier\n",
    "from sklearn.decomposition import TruncatedSVD\n",
    "from sklearn.metrics import f1_score, confusion_matrix, classification_report, accuracy_score\n",
    "from sklearn.preprocessing import OneHotEncoder, LabelBinarizer"
   ]
  },
  {
   "cell_type": "code",
   "execution_count": 4,
   "metadata": {},
   "outputs": [],
   "source": [
    "from sklearn.utils import shuffle"
   ]
  },
  {
   "cell_type": "code",
   "execution_count": 5,
   "metadata": {},
   "outputs": [],
   "source": [
    "import xgboost as xgb"
   ]
  },
  {
   "cell_type": "code",
   "execution_count": 6,
   "metadata": {},
   "outputs": [],
   "source": [
    "import tensorflow as tf\n",
    "from tensorflow import keras\n",
    "from tensorflow.keras import layers\n",
    "import kerastuner as kt\n",
    "from kerastuner.tuners import BayesianOptimization"
   ]
  },
  {
   "cell_type": "code",
   "execution_count": null,
   "metadata": {},
   "outputs": [],
   "source": [
    "# Importación de los documentos\n",
    "\n",
    "tw_train = pd.read_csv('./train.csv')\n",
    "tw_test = pd.read_csv('./test.csv')\n",
    "pd.set_option('display.max_columns', None)\n",
    "pd.options.display.max_colwidth = 150"
   ]
  },
  {
   "cell_type": "markdown",
   "metadata": {},
   "source": [
    " "
   ]
  },
  {
   "cell_type": "markdown",
   "metadata": {},
   "source": [
    "## <center>Text: Preprocesamiento y Feature Extraction"
   ]
  },
  {
   "cell_type": "code",
   "execution_count": 6,
   "metadata": {},
   "outputs": [],
   "source": [
    "contraction_mapping = {\"ain't\": \"is not\", \"aren't\": \"are not\",\"can't\": \"cannot\", \"'cause\": \"because\", \"could've\": \"could have\", \"couldn't\": \"could not\", \"didn't\": \"did not\",  \"doesn't\": \"does not\", \"don't\": \"do not\", \"hadn't\": \"had not\", \"hasn't\": \"has not\", \"haven't\": \"have not\", \"he'd\": \"he would\",\"he'll\": \"he will\", \"he's\": \"he is\", \"how'd\": \"how did\", \"how'd'y\": \"how do you\", \"how'll\": \"how will\", \"how's\": \"how is\",  \"I'd\": \"I would\", \"I'd've\": \"I would have\", \"I'll\": \"I will\", \"I'll've\": \"I will have\",\"I'm\": \"I am\", \"I've\": \"I have\", \"i'd\": \"i would\", \"i'd've\": \"i would have\", \"i'll\": \"i will\",  \"i'll've\": \"i will have\",\"i'm\": \"i am\", \"i've\": \"i have\", \"isn't\": \"is not\", \"it'd\": \"it would\", \"it'd've\": \"it would have\", \"it'll\": \"it will\", \"it'll've\": \"it will have\",\"it's\": \"it is\", \"let's\": \"let us\", \"ma'am\": \"madam\", \"mayn't\": \"may not\", \"might've\": \"might have\",\"mightn't\": \"might not\",\"mightn't've\": \"might not have\", \"must've\": \"must have\", \"mustn't\": \"must not\", \"mustn't've\": \"must not have\", \"needn't\": \"need not\", \"needn't've\": \"need not have\",\"o'clock\": \"of the clock\", \"oughtn't\": \"ought not\", \"oughtn't've\": \"ought not have\", \"shan't\": \"shall not\", \"sha'n't\": \"shall not\", \"shan't've\": \"shall not have\", \"she'd\": \"she would\", \"she'd've\": \"she would have\", \"she'll\": \"she will\", \"she'll've\": \"she will have\", \"she's\": \"she is\", \"should've\": \"should have\", \"shouldn't\": \"should not\", \"shouldn't've\": \"should not have\", \"so've\": \"so have\",\"so's\": \"so as\", \"this's\": \"this is\",\"that'd\": \"that would\", \"that'd've\": \"that would have\", \"that's\": \"that is\", \"there'd\": \"there would\", \"there'd've\": \"there would have\", \"there's\": \"there is\", \"here's\": \"here is\",\"they'd\": \"they would\", \"they'd've\": \"they would have\", \"they'll\": \"they will\", \"they'll've\": \"they will have\", \"they're\": \"they are\", \"they've\": \"they have\", \"to've\": \"to have\", \"wasn't\": \"was not\", \"we'd\": \"we would\", \"we'd've\": \"we would have\", \"we'll\": \"we will\", \"we'll've\": \"we will have\", \"we're\": \"we are\", \"we've\": \"we have\", \"weren't\": \"were not\", \"what'll\": \"what will\", \"what'll've\": \"what will have\", \"what're\": \"what are\",  \"what's\": \"what is\", \"what've\": \"what have\", \"when's\": \"when is\", \"when've\": \"when have\", \"where'd\": \"where did\", \"where's\": \"where is\", \"where've\": \"where have\", \"who'll\": \"who will\", \"who'll've\": \"who will have\", \"who's\": \"who is\", \"who've\": \"who have\", \"why's\": \"why is\", \"why've\": \"why have\", \"will've\": \"will have\", \"won't\": \"will not\", \"won't've\": \"will not have\", \"would've\": \"would have\", \"wouldn't\": \"would not\", \"wouldn't've\": \"would not have\", \"y'all\": \"you all\", \"y'all'd\": \"you all would\",\"y'all'd've\": \"you all would have\",\"y'all're\": \"you all are\",\"y'all've\": \"you all have\",\"you'd\": \"you would\", \"you'd've\": \"you would have\", \"you'll\": \"you will\", \"you'll've\": \"you will have\", \"you're\": \"you are\", \"you've\": \"you have\" }\n",
    "\n",
    "regexes = {'hashtags':r'(#)+', 'mentions':r'(@)\\w*', 'URLs':r'(http://)[a-zA-Z0-9./]*'}\n",
    "\n",
    "referenceDF = pd.read_csv('./headlines_reference_values.csv').drop(columns = 'Unnamed: 0')\n",
    "ref = referenceDF.loc[0]\n",
    "\n",
    "basicStopwords = stopwords.words('english')\n",
    "myStopwords = set(basicStopwords + list(punctuation))"
   ]
  },
  {
   "cell_type": "code",
   "execution_count": 7,
   "metadata": {},
   "outputs": [],
   "source": [
    "def isInText(DF, feature):\n",
    "    DF[feature[0]+'_in_t'] = 0   # Inicialización de la nueva columna\n",
    "    for i in range(len(DF)):\n",
    "        try:\n",
    "            if (DF.loc[i, feature]).lower() in (DF.loc[i, 'text']).lower(): DF.loc[i, feature[0]+'_in_t'] = 1\n",
    "        except:\n",
    "            continue\n",
    "        \n",
    "def replace_contractions(text, mapping):\n",
    "    noContText = []\n",
    "    counter = 0\n",
    "    for t in text.split(\" \"):\n",
    "        if t.lower() in mapping:\n",
    "            noContText.append(mapping[t.lower()])\n",
    "            counter += 1\n",
    "        else:\n",
    "            noContText.append(t) \n",
    "    return [' '.join(noContText), counter]\n",
    "\n",
    "def Qy(regex, text):   \n",
    "    try:\n",
    "        return len(re.compile(regex).findall(text))\n",
    "    except:\n",
    "        return 0\n",
    "\n",
    "def newFeatures(DF, regexDict):\n",
    "    for k, v in regexDict.items():\n",
    "        DF[['text', k]] = pd.DataFrame(DF['text'].map(lambda x: [re.compile(v).sub(r' ', x), Qy(v, x)]).tolist())\n",
    "\n",
    "def wilsonScore(num, den):\n",
    "    if num == 0:\n",
    "        return round(0, 2)\n",
    "    phat = num/den\n",
    "    z = 1.96\n",
    "    return round(((phat + z*z/(2*den) - z * np.sqrt((phat*(1-phat)+z*z/(4*den))/den))/(1+z*z/den)), 2)\n",
    "\n",
    "def tagging(text):\n",
    "    tagsCount = {'ADJ':0, 'ADP':0, 'ADV':0, 'CONJ':0, 'DET':0, 'NOUN':0, 'NUM':0, 'PRT':0, 'PRON':0, 'VERB':0, '.':0, 'X':0}\n",
    "    tags = []\n",
    "    sentences = sent_tokenize(text)\n",
    "    for sentence in sentences:\n",
    "        tags += nltk.pos_tag(word_tokenize(sentence), tagset = 'universal')\n",
    "    for word, tag in tags:\n",
    "        tagsCount[tag] += 1    \n",
    "    POS_ratio = [round((12 - list(tagsCount.values()).count(0))/12, 2)]\n",
    "#     mostCommonPOS_ratio = [round(list(tagsCount.values()).count(max(tagsCount.values()))/(12-list(tagsCount.values()).count(0)), 2)]\n",
    "    mostCommonPOS_ratio = [wilsonScore(list(tagsCount.values()).count(max(tagsCount.values())), 12-list(tagsCount.values()).count(0))]\n",
    "    noun_ratio =  [wilsonScore(tagsCount['NOUN'], sum(tagsCount.values()))]\n",
    "    return list(tagsCount.values()) + POS_ratio + mostCommonPOS_ratio + noun_ratio\n",
    "\n",
    "def headlinesDistance(DF, ref):\n",
    "    DF['dist'] = 0\n",
    "    for i in range(len(DF)):\n",
    "        x = DF.loc[i, ['textLenght','ADJ','ADP','ADV','CONJ','DET','NOUN','NUM','PRT','PRON','VERB','.','X','POS_ratio','topPOS_ratio','NOUN/TOT', 'polarity', 'subjectivity']]\n",
    "        DF.loc[i, 'dist'] =  np.dot(x, ref)/(np.linalg.norm(x)*np.linalg.norm(ref))\n",
    "\n",
    "def sentimentAnalysis(text):\n",
    "    blob = TextBlob(text)\n",
    "    return blob.sentiment\n",
    "\n",
    "def stemmizer(text, stopwords):\n",
    "    words = word_tokenize(text)\n",
    "    return ' '.join([PorterStemmer().stem(word) for word in words if word not in stopwords])\n",
    "\n",
    "def SWRemoval(text, stopwords):\n",
    "    words = word_tokenize(text)\n",
    "    return ' '.join([word for word in words if word not in stopwords])\n",
    "    \n",
    "def preprocessing(DF, contraction_mapping, regexes, ref, myStopwords):\n",
    "#     originalTextLength = tw_train['text'].map(lambda x: len(x))\n",
    "    isInText(DF, 'keyword')\n",
    "    isInText(DF, 'location')\n",
    "    DF[['text', 'conts']] = pd.DataFrame(DF['text'].map(lambda x: replace_contractions(x, contraction_mapping)).tolist())\n",
    "    originalTextLength = DF['text'].map(lambda x: len(x))\n",
    "    newFeatures(DF, regexes) \n",
    "    DF['textLenght'] = DF['text'].map(lambda x: len(x))\n",
    "#     DF['textTrash'] = originalTextLength - DF['textLenght']\n",
    "    DF[['ADJ','ADP','ADV','CONJ','DET','NOUN','NUM','PRT','PRON','VERB','.','X','POS_ratio','topPOS_ratio','NOUN/TOT']] = pd.DataFrame(DF['text'].map(lambda x: tagging(x)).tolist())\n",
    "    DF[['polarity', 'subjectivity']] = pd.DataFrame(DF['text'].map(lambda x: sentimentAnalysis(x)).tolist())\n",
    "    headlinesDistance(DF, ref)\n",
    "    DF['K'] = DF['textLenght']*DF['NOUN/TOT']*DF['polarity']\n",
    "    DF['text'] = DF['text'].map(lambda x: x.lower())\n",
    "    DF['text'] = DF['text'].map(lambda x: re.compile(r'\\d').sub(r' ', x))\n",
    "#     DF['text'] = DF['text'].map(lambda x: stemmizer(x, myStopwords))\n",
    "    DF['text'] = DF['text'].map(lambda x: SWRemoval(x, myStopwords))\n",
    "    DF['textTrash'] = originalTextLength - DF['textLenght']    "
   ]
  },
  {
   "cell_type": "code",
   "execution_count": 10,
   "metadata": {},
   "outputs": [],
   "source": [
    "# Preprocesamiento y feature extraction del text\n",
    "\n",
    "preprocessing(tw_train, contraction_mapping, regexes, ref, myStopwords)\n",
    "preprocessing(tw_test, contraction_mapping, regexes, ref, myStopwords)"
   ]
  },
  {
   "cell_type": "markdown",
   "metadata": {},
   "source": [
    " "
   ]
  },
  {
   "cell_type": "markdown",
   "metadata": {},
   "source": [
    "## <center>Vocabulario - Embeddings"
   ]
  },
  {
   "cell_type": "code",
   "execution_count": 11,
   "metadata": {},
   "outputs": [
    {
     "name": "stdout",
     "output_type": "stream",
     "text": [
      "El vocabulario consta de 2173 palabras\n"
     ]
    }
   ],
   "source": [
    "# Vocabulary\n",
    "# las Stopwords ya quedaron afuera en el paso anterior\n",
    "\n",
    "textList = tw_train['text'].tolist()\n",
    "text = ' '.join(textList)\n",
    "tokens = word_tokenize(text)\n",
    "tokensFreq = nltk.FreqDist(tokens)\n",
    "tokensFreq = {k:v for k,v in tokensFreq.items() if (v>5) & (v<150)}\n",
    "myVocabulary = list(tokensFreq.keys())\n",
    "print('El vocabulario consta de {} palabras'.format(len(myVocabulary)))"
   ]
  },
  {
   "cell_type": "code",
   "execution_count": 7,
   "metadata": {},
   "outputs": [],
   "source": [
    "# Embeddings\n",
    "\n",
    "embeddingsFilePath = './glove.twitter.27B.100d.txt'\n",
    "embeddingsFile = open(embeddingsFilePath)\n",
    "embeddingsIndex = {}\n",
    "for line in embeddingsFile:\n",
    "    lineList = line.split()\n",
    "    word = lineList[0]\n",
    "    vector = np.array(lineList[1:])\n",
    "    embeddingsIndex[word] = vector\n",
    "embeddingsFile.close()"
   ]
  },
  {
   "cell_type": "code",
   "execution_count": 13,
   "metadata": {
    "collapsed": true,
    "jupyter": {
     "outputs_hidden": true
    }
   },
   "outputs": [
    {
     "name": "stdout",
     "output_type": "stream",
     "text": [
      "96.82% de los tokens tienen embedding\n"
     ]
    }
   ],
   "source": [
    "def embeddingsInVoc(voc):\n",
    "    noEmbeddingTokens = []\n",
    "    for token in voc:\n",
    "        if token.lower() not in embeddingsIndex:\n",
    "            noEmbeddingTokens.append(token)\n",
    "    print('{}% de los tokens tienen embedding'.format( 100 - round((len(noEmbeddingTokens)/len(voc))*100, 2) ))\n",
    "    return noEmbeddingTokens\n",
    "\n",
    "noEmbeddingTokens = embeddingsInVoc(myVocabulary)"
   ]
  },
  {
   "cell_type": "code",
   "execution_count": 14,
   "metadata": {},
   "outputs": [],
   "source": [
    "tokensReplacement = {'icemoon':'ice moon','bioterror':'bio terror','bioterrorism':'bio terrorism','microlight':'micro light',\n",
    "                     'w/heavenly':'heavenly','typhoon-devastated':'typhoon devastated',\"'save\":'save','animalrescue':'animal rescue',\n",
    "                     'mediterran':'mediterranean','meat-loving':'meat loving',\"'suicide\":'suicide'}\n",
    "tokensDeletion = set(tokensReplacement.keys()) ^ set(noEmbeddingTokens)"
   ]
  },
  {
   "cell_type": "code",
   "execution_count": 15,
   "metadata": {},
   "outputs": [],
   "source": [
    "# Últimos detalles sobre la limpieza del texto\n",
    "def replace_noEmbeddingTokens(text, replacement_mapping, deletion_list):\n",
    "    newText = []\n",
    "    for word in word_tokenize(text):\n",
    "        if word.lower() in replacement_mapping:\n",
    "            newText.append(replacement_mapping[word.lower()])\n",
    "        elif word.lower() not in deletion_list:\n",
    "            newText.append(word) \n",
    "    return ' '.join(newText)\n",
    "\n",
    "tw_train['text'] = tw_train['text'].map(lambda x: replace_noEmbeddingTokens(x, tokensReplacement, tokensDeletion))\n",
    "tw_test['text'] = tw_test['text'].map(lambda x: replace_noEmbeddingTokens(x, tokensReplacement, tokensDeletion))"
   ]
  },
  {
   "cell_type": "code",
   "execution_count": 16,
   "metadata": {},
   "outputs": [
    {
     "name": "stdout",
     "output_type": "stream",
     "text": [
      "El nuevo vocabulario consta de 2112 palabras\n"
     ]
    }
   ],
   "source": [
    "# Redefino vocabulario\n",
    "myVocabulary = [w for w in myVocabulary if w not in tokensDeletion]\n",
    "myVocabulary = [tokensReplacement[w] if (w in tokensReplacement) else w for w in myVocabulary]\n",
    "myVocabulary = list(set(myVocabulary))\n",
    "print('El nuevo vocabulario consta de {} palabras'.format(len(myVocabulary)))"
   ]
  },
  {
   "cell_type": "code",
   "execution_count": 17,
   "metadata": {},
   "outputs": [
    {
     "name": "stdout",
     "output_type": "stream",
     "text": [
      "99.67% de los tokens tienen embedding\n"
     ]
    }
   ],
   "source": [
    "noEmbeddingTokens = embeddingsInVoc(myVocabulary)"
   ]
  },
  {
   "cell_type": "markdown",
   "metadata": {},
   "source": [
    "### Resultados"
   ]
  },
  {
   "cell_type": "code",
   "execution_count": 18,
   "metadata": {},
   "outputs": [],
   "source": [
    "tw_train.to_csv('tw_train.csv', index = False)\n",
    "tw_test.to_csv('tw_test.csv', index = False)\n",
    "\n",
    "with open('myVocabulary.pickle', 'wb') as f:\n",
    "    pickle.dump(myVocabulary, f)"
   ]
  },
  {
   "cell_type": "markdown",
   "metadata": {},
   "source": [
    "### Carga de los resultados"
   ]
  },
  {
   "cell_type": "raw",
   "metadata": {},
   "source": [
    "tw_train = pd.read_csv('tw_train.csv')\n",
    "tw_train['text'] = tw_train['text'].astype('str')\n",
    "tw_test = pd.read_csv('tw_test.csv')\n",
    "tw_test['text'] = tw_test['text'].astype('str')"
   ]
  },
  {
   "cell_type": "code",
   "execution_count": 8,
   "metadata": {},
   "outputs": [],
   "source": [
    "with open('myVocabulary.pickle', 'rb') as f:\n",
    "    myVocabulary = pickle.load(f)"
   ]
  },
  {
   "cell_type": "markdown",
   "metadata": {},
   "source": [
    "### Más de embeddings"
   ]
  },
  {
   "cell_type": "code",
   "execution_count": 9,
   "metadata": {},
   "outputs": [
    {
     "name": "stdout",
     "output_type": "stream",
     "text": [
      "La embeddingsMatrix resultante tiene las dimensiones (2114, 100)\n"
     ]
    }
   ],
   "source": [
    "# Creación de un Vocabulary Index\n",
    "# El índice cero y el índice 1 se reservan para padding y \"out of index\", respectivamente.\n",
    "\n",
    "vocabularyIndex = {}\n",
    "for i in range(2, len(myVocabulary)+2):  # myVocabulary es una lista ya creada anteriormente\n",
    "    vocabularyIndex[myVocabulary[i-2]] = i\n",
    "    \n",
    "# Construcción de la embedding matrix\n",
    "\n",
    "num_tokens = len(vocabularyIndex) + 2\n",
    "embeddings_dim = 100\n",
    "embeddingsMatrix = np.zeros((num_tokens, embeddings_dim))\n",
    "for word, i in vocabularyIndex.items():\n",
    "    embedding_vector = embeddingsIndex.get(word)\n",
    "    if embedding_vector is not None:\n",
    "        embeddingsMatrix[i] = embedding_vector\n",
    "    else:\n",
    "        continue\n",
    "print('La embeddingsMatrix resultante tiene las dimensiones {}'.format(embeddingsMatrix.shape))\n",
    "\n",
    "# Construcción de los vectores de entrada\n",
    "\n",
    "def vocMapping(text):\n",
    "    vector = []\n",
    "    for word in word_tokenize(text):\n",
    "        try:\n",
    "            vector.append(vocabularyIndex[word])\n",
    "        except:\n",
    "            vector.append(1)  # Embeddings desconocidos\n",
    "    vector = vector + [0]*(num_tokens - len(vector))  # Padding\n",
    "    return np.array(vector).astype(np.float)"
   ]
  },
  {
   "cell_type": "markdown",
   "metadata": {},
   "source": [
    " "
   ]
  },
  {
   "cell_type": "markdown",
   "metadata": {},
   "source": [
    " "
   ]
  },
  {
   "cell_type": "markdown",
   "metadata": {},
   "source": [
    "## <center>Data Augmentation: Creación de un nuevo set de train basado en ruido"
   ]
  },
  {
   "cell_type": "code",
   "execution_count": 20,
   "metadata": {},
   "outputs": [],
   "source": [
    "# Data a utilizar: embeddingsIndex, que es el diccionario tal que (k, v) = (word, embedding)\n",
    "# Lo reduzco a una forma que contenga solo las claves que también se encuentran en myVocabulary\n",
    "\n",
    "myEmbeddingsIndex = {k:v.astype(np.float) for k,v in embeddingsIndex.items() if k in myVocabulary}"
   ]
  },
  {
   "cell_type": "code",
   "execution_count": 21,
   "metadata": {},
   "outputs": [],
   "source": [
    "def text_mutation(text, embDict):\n",
    "    words = text.split()\n",
    "    for i in range(len(words)):\n",
    "        if words[i].lower() in embDict:\n",
    "            minDistance = -1\n",
    "            newWord = words[i]\n",
    "            for k, v in embDict.items():\n",
    "                if k != words[i].lower():\n",
    "                    distance = np.dot(embDict[words[i].lower()], v)/(np.linalg.norm(embDict[words[i].lower()])*np.linalg.norm(v))\n",
    "                    if (1 - distance) < (1 - minDistance):\n",
    "                        minDistance = distance\n",
    "                        newWord = k\n",
    "            words[i] = newWord\n",
    "    words.insert(random.randint(0, len(words)-1) ,list(embDict.keys())[random.randint(0, len(embDict)-1)])\n",
    "    return ' '.join(words)"
   ]
  },
  {
   "cell_type": "code",
   "execution_count": 22,
   "metadata": {},
   "outputs": [],
   "source": [
    "def noisy_preprocessing(DF, contraction_mapping, regexes, ref, myStopwords, myEmbeddingsIndex):\n",
    "    isInText(DF, 'keyword')\n",
    "    isInText(DF, 'location')\n",
    "    DF[['text', 'conts']] = pd.DataFrame(DF['text'].map(lambda x: replace_contractions(x, contraction_mapping)).tolist())\n",
    "    newFeatures(DF, {'hashtags':r'(#)+'})\n",
    "    DF['text'] = DF['text'].map(lambda x: text_mutation(x, myEmbeddingsIndex))\n",
    "    originalTextLength = DF['text'].map(lambda x: len(x))\n",
    "    newFeatures(DF, {'mentions':r'(@)\\w*', 'URLs':r'(http://)[a-zA-Z0-9./]*'})\n",
    "    DF['textLenght'] = DF['text'].map(lambda x: len(x))\n",
    "    DF[['ADJ','ADP','ADV','CONJ','DET','NOUN','NUM','PRT','PRON','VERB','.','X','POS_ratio','topPOS_ratio','NOUN/TOT']] = pd.DataFrame(DF['text'].map(lambda x: tagging(x)).tolist())\n",
    "    DF[['polarity', 'subjectivity']] = pd.DataFrame(DF['text'].map(lambda x: sentimentAnalysis(x)).tolist())\n",
    "    headlinesDistance(DF, ref)\n",
    "    DF['K'] = DF['textLenght']*DF['NOUN/TOT']*DF['polarity']\n",
    "    DF['text'] = DF['text'].map(lambda x: x.lower())\n",
    "    DF['text'] = DF['text'].map(lambda x: re.compile(r'\\d').sub(r' ', x))\n",
    "    DF['text'] = DF['text'].map(lambda x: SWRemoval(x, myStopwords))\n",
    "    DF['textTrash'] = originalTextLength - DF['textLenght']\n",
    "    DF['text'] = DF['text'].map(lambda x: replace_noEmbeddingTokens(x, tokensReplacement, tokensDeletion))"
   ]
  },
  {
   "cell_type": "code",
   "execution_count": 23,
   "metadata": {},
   "outputs": [],
   "source": [
    "tw_train_noise = pd.read_csv('./train.csv')"
   ]
  },
  {
   "cell_type": "code",
   "execution_count": 24,
   "metadata": {},
   "outputs": [],
   "source": [
    "noisy_preprocessing(tw_train_noise, contraction_mapping, regexes, ref, myStopwords, myEmbeddingsIndex)"
   ]
  },
  {
   "cell_type": "code",
   "execution_count": 36,
   "metadata": {},
   "outputs": [
    {
     "name": "stdout",
     "output_type": "stream",
     "text": [
      "Para ilustrar la diferencia:\n",
      "Original: might killed airplane accident night car wreck politics best\n",
      "Mutado: could murdered plane crash tonight truck wreck politics inch best\n"
     ]
    }
   ],
   "source": [
    "print(f'''Para ilustrar la diferencia:\n",
    "Original: {tw_train.loc[150,'text']}\n",
    "Mutado: {tw_train_noise.loc[150,'text']}''')"
   ]
  },
  {
   "cell_type": "code",
   "execution_count": 26,
   "metadata": {},
   "outputs": [],
   "source": [
    "tw_train_noise = tw_train_noise[list(tw_train.columns)]"
   ]
  },
  {
   "cell_type": "markdown",
   "metadata": {},
   "source": [
    "### Resultados:"
   ]
  },
  {
   "cell_type": "raw",
   "metadata": {},
   "source": [
    "tw_train_noise.to_csv('tw_train_noise.csv', index = False)"
   ]
  },
  {
   "cell_type": "markdown",
   "metadata": {},
   "source": [
    "### Uso: Para balancear el Train Set original"
   ]
  },
  {
   "cell_type": "code",
   "execution_count": 10,
   "metadata": {},
   "outputs": [],
   "source": [
    "def balance(clean, noise):\n",
    "    delta = clean['target'].value_counts().loc[0] - clean['target'].value_counts().loc[1]\n",
    "    if delta > 0:\n",
    "        add_balance = noise.loc[noise['target'] == 1, :].sample(n = abs(delta), replace = False, random_state = 60)\n",
    "    elif delta < 0:\n",
    "        add_balance = noise.loc[noise['target'] == 0, :].sample(n = abs(delta), replace = False, random_state = 60)\n",
    "    balanced = pd.concat([clean, add_balance], axis=0, join = 'outer', ignore_index = True)    \n",
    "    return shuffle(balanced)"
   ]
  },
  {
   "cell_type": "markdown",
   "metadata": {},
   "source": [
    "### Uso: Para agragar ruido"
   ]
  },
  {
   "cell_type": "code",
   "execution_count": 11,
   "metadata": {},
   "outputs": [],
   "source": [
    "def add_noise(clean, noise, noise_level,keep_proportion = True, return_residual_noise = False):\n",
    "    \n",
    "    if keep_proportion == True:\n",
    "        stratify = noise['target']\n",
    "    else:\n",
    "        stratify = None\n",
    "        \n",
    "    residual_noise, noise_required = train_test_split(noise, stratify = stratify, test_size = noise_level)\n",
    "    noisyDF = pd.concat([clean, noise_required], axis=0, join = 'outer', ignore_index = True)\n",
    "    \n",
    "    if return_residual_noise == False:\n",
    "        return shuffle(noisyDF)\n",
    "    else:\n",
    "        return shuffle(noisyDF), shuffle(residual_noise)"
   ]
  },
  {
   "cell_type": "markdown",
   "metadata": {},
   "source": [
    " "
   ]
  },
  {
   "cell_type": "markdown",
   "metadata": {},
   "source": [
    "## <center>Redes Neuronales"
   ]
  },
  {
   "cell_type": "markdown",
   "metadata": {},
   "source": [
    "## MLP - Holdout Set Validation"
   ]
  },
  {
   "cell_type": "code",
   "execution_count": 12,
   "metadata": {},
   "outputs": [],
   "source": [
    "# SET DE DATOS: CON UN SET DE DATOS EXTENDIDO Y BALANCEADO\n",
    "tw_train = pd.read_csv('./tw_train.csv')\n",
    "tw_train['text'] = tw_train['text'].astype('str')\n",
    "tw_train = tw_train.drop(columns = ['l_in_t', 'k_in_t', 'X'])\n",
    "tw_train_noise = pd.read_csv('./tw_train_noise.csv')\n",
    "tw_train_noise['text'] = tw_train_noise['text'].astype('str')\n",
    "tw_train_noise = tw_train_noise.drop(columns = ['l_in_t', 'k_in_t', 'X'])\n",
    "tw_train_noisy, residual_noise = add_noise(tw_train, tw_train_noise, 0.50, keep_proportion = True, return_residual_noise = True)\n",
    "tw_train_noisy_balanced = balance(tw_train_noisy, residual_noise)\n",
    "tw_test = pd.read_csv('./tw_test.csv')\n",
    "tw_test['text'] = tw_test['text'].astype('str')\n",
    "tw_test = tw_test.drop(columns = ['l_in_t', 'k_in_t', 'X'])"
   ]
  },
  {
   "cell_type": "code",
   "execution_count": 13,
   "metadata": {},
   "outputs": [],
   "source": [
    "def embed(text):\n",
    "    addition = np.zeros((100,))\n",
    "    for word in word_tokenize(text):\n",
    "        try:\n",
    "            addition += np.array(embeddingsIndex[word.lower()]).astype(np.float)\n",
    "        except:\n",
    "            continue\n",
    "    return addition"
   ]
  },
  {
   "cell_type": "code",
   "execution_count": 14,
   "metadata": {},
   "outputs": [],
   "source": [
    "# Separación del set de validación\n",
    "\n",
    "def load_data(TrainDF, TestDF, validation_fraction, encode_keyword = False):\n",
    "    # Numeric Features: Encoding de 'keyword' + Resultado de feature engineering\n",
    "    print('Preparando las Numeric Features...')\n",
    "    TrainDF_subset = TrainDF.drop(columns = ['id', 'keyword', 'location', 'text', 'target'])\n",
    "    TestDF_subset = TestDF.drop(columns = ['id', 'keyword', 'location', 'text'])\n",
    "    if encode_keyword == True:\n",
    "        ohe = OneHotEncoder(handle_unknown = 'ignore')\n",
    "        ohe.fit(np.array(TrainDF.loc[TrainDF['keyword'].isna() == False, 'keyword']).reshape((-1,1)))\n",
    "        TrainDF['keyword'].fillna('NoKeyword', inplace = True)\n",
    "        TrainDF_keyword_enc = ohe.transform(np.array(TrainDF['keyword']).reshape((-1,1)))\n",
    "        TestDF['keyword'].fillna('NoKeyword', inplace = True)\n",
    "        TestDF_keyword_enc = ohe.transform(np.array(TestDF['keyword']).reshape((-1,1)))\n",
    "        print('El encoding genera {} nuevos features adicionales'.format(TrainDF_keyword_enc.shape[1])) \n",
    "        TrainDF_nf = sparse.hstack((TrainDF_keyword_enc, sparse.csr_matrix(TrainDF_subset.values))).toarray()\n",
    "        X_test_nf = sparse.hstack((TestDF_keyword_enc, sparse.csr_matrix(TestDF_subset.values))).toarray()\n",
    "    else:\n",
    "        TrainDF_nf = TrainDF_subset.to_numpy()\n",
    "        X_test_nf = TestDF_subset.to_numpy()\n",
    "    X_train_nf, X_val_nf, y_train, y_val = train_test_split(TrainDF_nf, TrainDF['target'], stratify=TrainDF['target'], test_size=validation_fraction, random_state=1)\n",
    "    nf_norm_layer = layers.experimental.preprocessing.Normalization()\n",
    "    nf_norm_layer.adapt(X_train_nf)\n",
    "    X_train_nf = nf_norm_layer(X_train_nf)\n",
    "    X_val_nf = nf_norm_layer(X_val_nf)\n",
    "    X_test_nf = nf_norm_layer(X_test_nf)\n",
    "    \n",
    "    # Formateo del texto\n",
    "    print('Preparando el texto... \\n')\n",
    "    X_train_text, X_val_text, y_train_text, y_val_text = train_test_split(TrainDF['text'], TrainDF['target'], stratify=TrainDF['target'], test_size=validation_fraction, random_state=1)\n",
    "    X_train_text = np.stack(X_train_text.map(lambda x: embed(x)))\n",
    "    X_val_text = np.stack(X_val_text.map(lambda x: embed(x)))\n",
    "    X_test_text = np.stack(TestDF['text'].map(lambda x: embed(x)))\n",
    "    nf_norm_layer_text = layers.experimental.preprocessing.Normalization()\n",
    "    nf_norm_layer_text.adapt(X_train_text)\n",
    "    X_train_text = nf_norm_layer_text(X_train_text)\n",
    "    X_val_text = nf_norm_layer_text(X_val_text)\n",
    "    X_test_text = nf_norm_layer_text(X_test_text)\n",
    "    \n",
    "    # Formateo del target\n",
    "    y_train = np.array(y_train)\n",
    "    y_val = np.array(y_val)\n",
    "\n",
    "    print('''Las dimensiones de los sets de datos son:\n",
    "        Set de entrenamiento, features numéricos: {}\n",
    "        Set de entrenamiento, texto: {}\n",
    "        Set de validación, features numéricos: {}\n",
    "        Set de validación, texto: {}\n",
    "        Set de test, features numéricos: {}\n",
    "        Set de test, texto: {}'''.format(X_train_nf.shape, X_train_text.shape, X_val_nf.shape, X_val_text.shape, X_test_nf.shape, X_test_text.shape))\n",
    "\n",
    "    return X_train_text, X_train_nf, X_val_text, X_val_nf, X_test_text, X_test_nf, y_train, y_val"
   ]
  },
  {
   "cell_type": "code",
   "execution_count": 15,
   "metadata": {},
   "outputs": [
    {
     "name": "stdout",
     "output_type": "stream",
     "text": [
      "Preparando las Numeric Features...\n",
      "Preparando el texto... \n",
      "\n",
      "Las dimensiones de los sets de datos son:\n",
      "        Set de entrenamiento, features numéricos: (10420, 24)\n",
      "        Set de entrenamiento, texto: (10420, 100)\n",
      "        Set de validación, features numéricos: (2606, 24)\n",
      "        Set de validación, texto: (2606, 100)\n",
      "        Set de test, features numéricos: (3263, 24)\n",
      "        Set de test, texto: (3263, 100)\n"
     ]
    }
   ],
   "source": [
    "X_train_text, X_train_nf, X_val_text, X_val_nf, X_test_text, X_test_nf, y_train, y_val = load_data(tw_train_noisy_balanced, tw_test, 0.20)"
   ]
  },
  {
   "cell_type": "code",
   "execution_count": 64,
   "metadata": {},
   "outputs": [],
   "source": [
    "# Creación del modelo\n",
    "\n",
    "inputs1 = keras.Input(batch_size = None, shape = (X_train_text.shape[1],))  # Entrada del texto vectorizado según myVocabulary\n",
    "inputs2 = keras.Input(batch_size = None, shape = (X_train_nf.shape[1],))  # Entrada de los features numéricos completamente pre-procesados\n",
    "\n",
    "x = layers.Concatenate(axis = 1)([inputs1, inputs2])  # Combinación de las salidas de ambas ramas\n",
    "\n",
    "x = layers.Dropout(0.5)(x)\n",
    "x = layers.Dense(512, activation=\"relu\")(x)\n",
    "x = layers.BatchNormalization(axis=-1, trainable=False)(x)\n",
    "x = layers.Dense(256, activation=\"relu\")(x)  # Antes 128\n",
    "x = layers.BatchNormalization(axis=-1, trainable=False)(x)\n",
    "x = layers.Dropout(0.5)(x)  # Antes no estaba\n",
    "x = layers.Dense(32, activation=\"relu\")(x)  # Antes 64\n",
    "x = layers.BatchNormalization(axis=-1, trainable=False)(x)\n",
    "outputs = layers.Dense(1, activation=\"sigmoid\")(x)\n",
    "\n",
    "mlp_model = keras.Model(inputs=[inputs1, inputs2], outputs=outputs, name = 'mlp_model')"
   ]
  },
  {
   "cell_type": "code",
   "execution_count": 65,
   "metadata": {},
   "outputs": [
    {
     "name": "stdout",
     "output_type": "stream",
     "text": [
      "Model: \"mlp_model\"\n",
      "__________________________________________________________________________________________________\n",
      "Layer (type)                    Output Shape         Param #     Connected to                     \n",
      "==================================================================================================\n",
      "input_16 (InputLayer)           [(None, 100)]        0                                            \n",
      "__________________________________________________________________________________________________\n",
      "input_17 (InputLayer)           [(None, 24)]         0                                            \n",
      "__________________________________________________________________________________________________\n",
      "concatenate_8 (Concatenate)     (None, 124)          0           input_16[0][0]                   \n",
      "                                                                 input_17[0][0]                   \n",
      "__________________________________________________________________________________________________\n",
      "dropout_13 (Dropout)            (None, 124)          0           concatenate_8[0][0]              \n",
      "__________________________________________________________________________________________________\n",
      "dense_12 (Dense)                (None, 512)          64000       dropout_13[0][0]                 \n",
      "__________________________________________________________________________________________________\n",
      "batch_normalization_29 (BatchNo (None, 512)          2048        dense_12[0][0]                   \n",
      "__________________________________________________________________________________________________\n",
      "dense_13 (Dense)                (None, 256)          131328      batch_normalization_29[0][0]     \n",
      "__________________________________________________________________________________________________\n",
      "batch_normalization_30 (BatchNo (None, 256)          1024        dense_13[0][0]                   \n",
      "__________________________________________________________________________________________________\n",
      "dropout_14 (Dropout)            (None, 256)          0           batch_normalization_30[0][0]     \n",
      "__________________________________________________________________________________________________\n",
      "dense_14 (Dense)                (None, 32)           8224        dropout_14[0][0]                 \n",
      "__________________________________________________________________________________________________\n",
      "batch_normalization_31 (BatchNo (None, 32)           128         dense_14[0][0]                   \n",
      "__________________________________________________________________________________________________\n",
      "dense_15 (Dense)                (None, 1)            33          batch_normalization_31[0][0]     \n",
      "==================================================================================================\n",
      "Total params: 206,785\n",
      "Trainable params: 203,585\n",
      "Non-trainable params: 3,200\n",
      "__________________________________________________________________________________________________\n"
     ]
    }
   ],
   "source": [
    "mlp_model.summary()"
   ]
  },
  {
   "cell_type": "code",
   "execution_count": 66,
   "metadata": {},
   "outputs": [],
   "source": [
    "# Compilación del modelo\n",
    "\n",
    "optimizer = keras.optimizers.Adam(learning_rate = 0.002)\n",
    "mlp_model.compile(loss = \"binary_crossentropy\", optimizer = optimizer, metrics = [\"accuracy\"])"
   ]
  },
  {
   "cell_type": "code",
   "execution_count": 67,
   "metadata": {
    "scrolled": true
   },
   "outputs": [
    {
     "name": "stdout",
     "output_type": "stream",
     "text": [
      "Epoch 1/25\n",
      "326/326 - 3s - loss: 0.5208 - accuracy: 0.7492 - val_loss: 0.4796 - val_accuracy: 0.7767\n",
      "Epoch 2/25\n",
      "326/326 - 1s - loss: 0.4832 - accuracy: 0.7749 - val_loss: 0.4831 - val_accuracy: 0.7744\n",
      "Epoch 3/25\n",
      "326/326 - 2s - loss: 0.4748 - accuracy: 0.7782 - val_loss: 0.4680 - val_accuracy: 0.7786\n",
      "Epoch 4/25\n",
      "326/326 - 1s - loss: 0.4673 - accuracy: 0.7806 - val_loss: 0.4623 - val_accuracy: 0.7763\n",
      "Epoch 5/25\n",
      "326/326 - 3s - loss: 0.4656 - accuracy: 0.7778 - val_loss: 0.4587 - val_accuracy: 0.7840\n",
      "Epoch 6/25\n",
      "326/326 - 2s - loss: 0.4566 - accuracy: 0.7882 - val_loss: 0.4530 - val_accuracy: 0.7863\n",
      "Epoch 7/25\n",
      "326/326 - 1s - loss: 0.4560 - accuracy: 0.7893 - val_loss: 0.4524 - val_accuracy: 0.7866\n",
      "Epoch 8/25\n",
      "326/326 - 2s - loss: 0.4496 - accuracy: 0.7904 - val_loss: 0.4534 - val_accuracy: 0.7913\n",
      "Epoch 9/25\n",
      "326/326 - 1s - loss: 0.4538 - accuracy: 0.7904 - val_loss: 0.4567 - val_accuracy: 0.7874\n",
      "Epoch 10/25\n",
      "326/326 - 1s - loss: 0.4520 - accuracy: 0.7861 - val_loss: 0.4571 - val_accuracy: 0.7870\n",
      "Epoch 11/25\n",
      "326/326 - 1s - loss: 0.4425 - accuracy: 0.7932 - val_loss: 0.4545 - val_accuracy: 0.7882\n",
      "Epoch 12/25\n",
      "326/326 - 1s - loss: 0.4416 - accuracy: 0.7943 - val_loss: 0.4675 - val_accuracy: 0.7932\n",
      "Epoch 13/25\n",
      "326/326 - 1s - loss: 0.4433 - accuracy: 0.7923 - val_loss: 0.4455 - val_accuracy: 0.7936\n",
      "Epoch 14/25\n",
      "326/326 - 1s - loss: 0.4387 - accuracy: 0.8004 - val_loss: 0.4421 - val_accuracy: 0.7936\n",
      "Epoch 15/25\n",
      "326/326 - 1s - loss: 0.4326 - accuracy: 0.8007 - val_loss: 0.4435 - val_accuracy: 0.7878\n",
      "Epoch 16/25\n",
      "326/326 - 2s - loss: 0.4390 - accuracy: 0.7979 - val_loss: 0.4547 - val_accuracy: 0.7947\n",
      "Epoch 17/25\n",
      "326/326 - 1s - loss: 0.4368 - accuracy: 0.7988 - val_loss: 0.4385 - val_accuracy: 0.7939\n",
      "Epoch 18/25\n",
      "326/326 - 1s - loss: 0.4257 - accuracy: 0.8033 - val_loss: 0.4439 - val_accuracy: 0.7947\n",
      "Epoch 19/25\n",
      "326/326 - 1s - loss: 0.4239 - accuracy: 0.8025 - val_loss: 0.4472 - val_accuracy: 0.8012\n",
      "Epoch 20/25\n",
      "326/326 - 1s - loss: 0.4250 - accuracy: 0.8060 - val_loss: 0.4554 - val_accuracy: 0.7974\n",
      "Epoch 21/25\n",
      "326/326 - 1s - loss: 0.4230 - accuracy: 0.8035 - val_loss: 0.4440 - val_accuracy: 0.7970\n",
      "Epoch 22/25\n",
      "326/326 - 1s - loss: 0.4245 - accuracy: 0.8039 - val_loss: 0.4390 - val_accuracy: 0.7939\n",
      "Epoch 23/25\n",
      "326/326 - 1s - loss: 0.4219 - accuracy: 0.8094 - val_loss: 0.4451 - val_accuracy: 0.8001\n",
      "Epoch 24/25\n",
      "326/326 - 1s - loss: 0.4179 - accuracy: 0.8045 - val_loss: 0.4453 - val_accuracy: 0.7974\n",
      "Epoch 25/25\n",
      "326/326 - 2s - loss: 0.4102 - accuracy: 0.8072 - val_loss: 0.4405 - val_accuracy: 0.8016\n"
     ]
    }
   ],
   "source": [
    "mlp_model_history = mlp_model.fit([X_train_text, X_train_nf], y_train, validation_data = ([X_val_text, X_val_nf], y_val), \n",
    "                    batch_size = 32, epochs = 25, verbose = 2)"
   ]
  },
  {
   "cell_type": "code",
   "execution_count": 31,
   "metadata": {},
   "outputs": [],
   "source": [
    "## PLOTEO DE LOS RESULTADOS\n",
    "\n",
    "plt.style.use('ggplot')  # Ploteo de Loss y Accuracy\n",
    "def plot_history(history):\n",
    "    acc = history.history['accuracy']\n",
    "    val_acc = history.history['val_accuracy']\n",
    "    loss = history.history['loss']\n",
    "    val_loss = history.history['val_loss']\n",
    "    x = range(1, len(acc) + 1)\n",
    "    plt.figure(figsize=(12, 5))\n",
    "    plt.subplot(1, 2, 1)\n",
    "    plt.plot(x, acc, 'b', label='Training acc')\n",
    "    plt.plot(x, val_acc, 'r', label='Validation acc')\n",
    "    plt.title('Training and validation accuracy')\n",
    "    plt.legend()\n",
    "    plt.subplot(1, 2, 2)\n",
    "    plt.plot(x, loss, 'b', label='Training loss')\n",
    "    plt.plot(x, val_loss, 'r', label='Validation loss')\n",
    "    plt.title('Training and validation loss')\n",
    "    plt.legend()"
   ]
  },
  {
   "cell_type": "code",
   "execution_count": 68,
   "metadata": {},
   "outputs": [
    {
     "data": {
      "image/png": "[encoded data removed]",
      "text/plain": [
       "<Figure size 864x360 with 2 Axes>"
      ]
     },
     "metadata": {},
     "output_type": "display_data"
    }
   ],
   "source": [
    "plot_history(mlp_model_history)"
   ]
  },
  {
   "cell_type": "code",
   "execution_count": 30,
   "metadata": {},
   "outputs": [],
   "source": [
    "def toCategory(arr):  # Para pasar del vector de probabilidades al de predicciones del target\n",
    "    return [1 if arr[i][0]>=0.5 else 0 for i in range(len(arr))]"
   ]
  },
  {
   "cell_type": "code",
   "execution_count": 80,
   "metadata": {},
   "outputs": [],
   "source": [
    "# Predicciones\n",
    "mlp_model_validation = toCategory(mlp_model.predict([X_val_text, X_val_nf]))"
   ]
  },
  {
   "cell_type": "code",
   "execution_count": 81,
   "metadata": {},
   "outputs": [
    {
     "name": "stdout",
     "output_type": "stream",
     "text": [
      "ERROR DE VALIDACION:\n",
      "\n",
      "El F1-Score es: 0.7924528301886793 \n",
      "\n",
      "La confusion matrix es: \n",
      "[[1102  201]\n",
      " [ 316  987]] \n",
      "\n",
      "El classification report es: \n",
      "              precision    recall  f1-score   support\n",
      "\n",
      "           0       0.78      0.85      0.81      1303\n",
      "           1       0.83      0.76      0.79      1303\n",
      "\n",
      "    accuracy                           0.80      2606\n",
      "   macro avg       0.80      0.80      0.80      2606\n",
      "weighted avg       0.80      0.80      0.80      2606\n",
      " \n",
      "\n"
     ]
    }
   ],
   "source": [
    "# Más evaluación: F1-Score\n",
    "\n",
    "print('ERROR DE VALIDACION:\\n')\n",
    "print('El F1-Score es: {} \\n'.format(f1_score(y_val, mlp_model_validation)))\n",
    "print('La confusion matrix es: \\n{} \\n'.format(confusion_matrix(y_val, mlp_model_validation)))\n",
    "print('El classification report es: \\n{} \\n'.format(classification_report(y_val, mlp_model_validation)))"
   ]
  },
  {
   "cell_type": "code",
   "execution_count": 69,
   "metadata": {},
   "outputs": [],
   "source": [
    "# Predicciones\n",
    "mlp_model_prediction = toCategory(mlp_model.predict([X_test_text, X_test_nf]))"
   ]
  },
  {
   "cell_type": "code",
   "execution_count": 72,
   "metadata": {},
   "outputs": [],
   "source": [
    "submission = pd.read_csv('./test.csv')"
   ]
  },
  {
   "cell_type": "code",
   "execution_count": 73,
   "metadata": {},
   "outputs": [],
   "source": [
    "submission = submission.merge(pd.DataFrame(mlp_model_prediction), how = 'inner', on = submission.index)"
   ]
  },
  {
   "cell_type": "code",
   "execution_count": 75,
   "metadata": {},
   "outputs": [],
   "source": [
    "submission = submission[['id', 0]]"
   ]
  },
  {
   "cell_type": "code",
   "execution_count": 76,
   "metadata": {},
   "outputs": [
    {
     "name": "stderr",
     "output_type": "stream",
     "text": [
      "/home/martin/Datos/TP2/venvTP2/lib/python3.6/site-packages/pandas/core/frame.py:4133: SettingWithCopyWarning: \n",
      "A value is trying to be set on a copy of a slice from a DataFrame\n",
      "\n",
      "See the caveats in the documentation: https://pandas.pydata.org/pandas-docs/stable/user_guide/indexing.html#returning-a-view-versus-a-copy\n",
      "  errors=errors,\n"
     ]
    }
   ],
   "source": [
    "submission.rename(columns = {0: 'target'}, inplace = True)"
   ]
  },
  {
   "cell_type": "code",
   "execution_count": 78,
   "metadata": {},
   "outputs": [
    {
     "data": {
      "text/plain": [
       "0    2016\n",
       "1    1247\n",
       "Name: target, dtype: int64"
      ]
     },
     "execution_count": 78,
     "metadata": {},
     "output_type": "execute_result"
    }
   ],
   "source": [
    "submission['target'].value_counts()"
   ]
  },
  {
   "cell_type": "code",
   "execution_count": 79,
   "metadata": {},
   "outputs": [],
   "source": [
    "submission.to_csv('submission09082020.csv', index = False)"
   ]
  },
  {
   "cell_type": "markdown",
   "metadata": {},
   "source": [
    " "
   ]
  },
  {
   "cell_type": "markdown",
   "metadata": {},
   "source": [
    "## MLP - HP Tuning"
   ]
  },
  {
   "cell_type": "code",
   "execution_count": 16,
   "metadata": {},
   "outputs": [],
   "source": [
    "# Parámetros\n",
    "no_trials = 25\n",
    "batch_size = 32\n",
    "no_epochs = 20"
   ]
  },
  {
   "cell_type": "code",
   "execution_count": 17,
   "metadata": {},
   "outputs": [],
   "source": [
    "# Creación del modelo iterable para tuning\n",
    "\n",
    "def get_tuning_model(hp):\n",
    "    inputs1 = keras.Input(batch_size = None, shape = (X_train_text.shape[1],))  # Entrada del texto vectorizado según myVocabulary\n",
    "    inputs2 = keras.Input(batch_size = None, shape = (X_train_nf.shape[1],))  # Entrada de los features numéricos completamente pre-procesados\n",
    "\n",
    "    x = layers.Concatenate(axis = 1)([inputs1, inputs2])  # Combinación de las salidas de ambas ramas\n",
    "    \n",
    "    for i in range(hp.Int('layers', 1, 3)):\n",
    "        if i == 0:\n",
    "            x = layers.Dropout(0.5)(x)\n",
    "        x = layers.Dense(units=hp.Int('units_'+str(i), min_value=256, max_value=512, step=32), activation=\"relu\")(x)\n",
    "        x = layers.BatchNormalization(axis=-1, trainable=False)(x)\n",
    "    outputs = layers.Dense(1, activation=\"sigmoid\")(x)\n",
    "\n",
    "    model = keras.Model(inputs=[inputs1, inputs2], outputs=outputs)\n",
    "    optimizer = keras.optimizers.Adam(learning_rate = 0.002)\n",
    "    model.compile(loss=\"binary_crossentropy\", optimizer=optimizer, metrics=[\"accuracy\"])\n",
    "    return model"
   ]
  },
  {
   "cell_type": "code",
   "execution_count": 18,
   "metadata": {},
   "outputs": [
    {
     "data": {
      "text/html": [
       "<span style=\"color:#4527A0\"><h1 style=\"font-size:18px\">Search space summary</h1></span>"
      ],
      "text/plain": [
       "<IPython.core.display.HTML object>"
      ]
     },
     "metadata": {},
     "output_type": "display_data"
    },
    {
     "data": {
      "text/html": [
       "<span style=\"color:cyan\"> |-Default search space size: 2</span>"
      ],
      "text/plain": [
       "<IPython.core.display.HTML object>"
      ]
     },
     "metadata": {},
     "output_type": "display_data"
    },
    {
     "data": {
      "text/html": [
       "<span style=\"color:#7E57C2\"><h2 style=\"font-size:16px\">layers (Int)</h2></span>"
      ],
      "text/plain": [
       "<IPython.core.display.HTML object>"
      ]
     },
     "metadata": {},
     "output_type": "display_data"
    },
    {
     "data": {
      "text/html": [
       "<span style=\"color:cyan\"> |-default: None</span>"
      ],
      "text/plain": [
       "<IPython.core.display.HTML object>"
      ]
     },
     "metadata": {},
     "output_type": "display_data"
    },
    {
     "data": {
      "text/html": [
       "<span style=\"color:blue\"> |-max_value: 3</span>"
      ],
      "text/plain": [
       "<IPython.core.display.HTML object>"
      ]
     },
     "metadata": {},
     "output_type": "display_data"
    },
    {
     "data": {
      "text/html": [
       "<span style=\"color:cyan\"> |-min_value: 1</span>"
      ],
      "text/plain": [
       "<IPython.core.display.HTML object>"
      ]
     },
     "metadata": {},
     "output_type": "display_data"
    },
    {
     "data": {
      "text/html": [
       "<span style=\"color:blue\"> |-sampling: None</span>"
      ],
      "text/plain": [
       "<IPython.core.display.HTML object>"
      ]
     },
     "metadata": {},
     "output_type": "display_data"
    },
    {
     "data": {
      "text/html": [
       "<span style=\"color:cyan\"> |-step: 1</span>"
      ],
      "text/plain": [
       "<IPython.core.display.HTML object>"
      ]
     },
     "metadata": {},
     "output_type": "display_data"
    },
    {
     "data": {
      "text/html": [
       "<span style=\"color:#7E57C2\"><h2 style=\"font-size:16px\">units_0 (Int)</h2></span>"
      ],
      "text/plain": [
       "<IPython.core.display.HTML object>"
      ]
     },
     "metadata": {},
     "output_type": "display_data"
    },
    {
     "data": {
      "text/html": [
       "<span style=\"color:cyan\"> |-default: None</span>"
      ],
      "text/plain": [
       "<IPython.core.display.HTML object>"
      ]
     },
     "metadata": {},
     "output_type": "display_data"
    },
    {
     "data": {
      "text/html": [
       "<span style=\"color:blue\"> |-max_value: 512</span>"
      ],
      "text/plain": [
       "<IPython.core.display.HTML object>"
      ]
     },
     "metadata": {},
     "output_type": "display_data"
    },
    {
     "data": {
      "text/html": [
       "<span style=\"color:cyan\"> |-min_value: 256</span>"
      ],
      "text/plain": [
       "<IPython.core.display.HTML object>"
      ]
     },
     "metadata": {},
     "output_type": "display_data"
    },
    {
     "data": {
      "text/html": [
       "<span style=\"color:blue\"> |-sampling: None</span>"
      ],
      "text/plain": [
       "<IPython.core.display.HTML object>"
      ]
     },
     "metadata": {},
     "output_type": "display_data"
    },
    {
     "data": {
      "text/html": [
       "<span style=\"color:cyan\"> |-step: 32</span>"
      ],
      "text/plain": [
       "<IPython.core.display.HTML object>"
      ]
     },
     "metadata": {},
     "output_type": "display_data"
    }
   ],
   "source": [
    "mlp_tuner = BayesianOptimization(get_tuning_model, objective = \"val_loss\", max_trials = no_trials, num_initial_points=2, \n",
    "                                 seed=666, directory='mlp_tuner', project_name='mlp_tuner')\n",
    "mlp_tuner.search_space_summary()"
   ]
  },
  {
   "cell_type": "code",
   "execution_count": 19,
   "metadata": {
    "collapsed": true,
    "jupyter": {
     "outputs_hidden": true
    }
   },
   "outputs": [
    {
     "name": "stdout",
     "output_type": "stream",
     "text": [
      "Epoch 1/20\n",
      "326/326 - 1s - loss: 0.5103 - accuracy: 0.7603 - val_loss: 0.4514 - val_accuracy: 0.7966\n",
      "Epoch 2/20\n",
      "326/326 - 1s - loss: 0.4761 - accuracy: 0.7739 - val_loss: 0.4281 - val_accuracy: 0.8020\n",
      "Epoch 3/20\n",
      "326/326 - 1s - loss: 0.4668 - accuracy: 0.7828 - val_loss: 0.4281 - val_accuracy: 0.8047\n",
      "Epoch 4/20\n",
      "326/326 - 1s - loss: 0.4581 - accuracy: 0.7875 - val_loss: 0.4371 - val_accuracy: 0.8043\n",
      "Epoch 5/20\n",
      "326/326 - 1s - loss: 0.4591 - accuracy: 0.7881 - val_loss: 0.4347 - val_accuracy: 0.7951\n",
      "Epoch 6/20\n",
      "326/326 - 1s - loss: 0.4441 - accuracy: 0.7956 - val_loss: 0.4155 - val_accuracy: 0.8047\n",
      "Epoch 7/20\n",
      "326/326 - 1s - loss: 0.4449 - accuracy: 0.7914 - val_loss: 0.4155 - val_accuracy: 0.8127\n",
      "Epoch 8/20\n",
      "326/326 - 1s - loss: 0.4405 - accuracy: 0.7990 - val_loss: 0.4129 - val_accuracy: 0.8154\n",
      "Epoch 9/20\n",
      "326/326 - 1s - loss: 0.4370 - accuracy: 0.8003 - val_loss: 0.4093 - val_accuracy: 0.8120\n",
      "Epoch 10/20\n",
      "326/326 - 1s - loss: 0.4275 - accuracy: 0.7999 - val_loss: 0.4207 - val_accuracy: 0.8124\n",
      "Epoch 11/20\n",
      "326/326 - 1s - loss: 0.4267 - accuracy: 0.8039 - val_loss: 0.4129 - val_accuracy: 0.8124\n",
      "Epoch 12/20\n",
      "326/326 - 1s - loss: 0.4261 - accuracy: 0.8014 - val_loss: 0.4121 - val_accuracy: 0.8170\n",
      "Epoch 13/20\n",
      "326/326 - 1s - loss: 0.4235 - accuracy: 0.8035 - val_loss: 0.4153 - val_accuracy: 0.8127\n",
      "Epoch 14/20\n",
      "326/326 - 1s - loss: 0.4182 - accuracy: 0.8096 - val_loss: 0.4204 - val_accuracy: 0.8120\n",
      "Epoch 15/20\n",
      "326/326 - 1s - loss: 0.4172 - accuracy: 0.8094 - val_loss: 0.4261 - val_accuracy: 0.8093\n",
      "Epoch 16/20\n",
      "326/326 - 1s - loss: 0.4164 - accuracy: 0.8118 - val_loss: 0.4090 - val_accuracy: 0.8127\n",
      "Epoch 17/20\n",
      "326/326 - 1s - loss: 0.4134 - accuracy: 0.8102 - val_loss: 0.4157 - val_accuracy: 0.8200\n",
      "Epoch 18/20\n",
      "326/326 - 1s - loss: 0.4069 - accuracy: 0.8155 - val_loss: 0.4032 - val_accuracy: 0.8131\n",
      "Epoch 19/20\n",
      "326/326 - 1s - loss: 0.4090 - accuracy: 0.8140 - val_loss: 0.4111 - val_accuracy: 0.8196\n",
      "Epoch 20/20\n",
      "326/326 - 1s - loss: 0.3993 - accuracy: 0.8173 - val_loss: 0.4035 - val_accuracy: 0.8219\n"
     ]
    },
    {
     "data": {
      "text/html": [
       "<span style=\"color:#4527A0\"><h1 style=\"font-size:18px\">Trial complete</h1></span>"
      ],
      "text/plain": [
       "<IPython.core.display.HTML object>"
      ]
     },
     "metadata": {},
     "output_type": "display_data"
    },
    {
     "data": {
      "text/html": [
       "<span style=\"color:#4527A0\"><h1 style=\"font-size:18px\">Trial summary</h1></span>"
      ],
      "text/plain": [
       "<IPython.core.display.HTML object>"
      ]
     },
     "metadata": {},
     "output_type": "display_data"
    },
    {
     "data": {
      "text/html": [
       "<span style=\"color:cyan\"> |-Trial ID: f9df0608e03845fa9f4ae67449636e00</span>"
      ],
      "text/plain": [
       "<IPython.core.display.HTML object>"
      ]
     },
     "metadata": {},
     "output_type": "display_data"
    },
    {
     "data": {
      "text/html": [
       "<span style=\"color:cyan\"> |-Score: 0.40320977568626404</span>"
      ],
      "text/plain": [
       "<IPython.core.display.HTML object>"
      ]
     },
     "metadata": {},
     "output_type": "display_data"
    },
    {
     "data": {
      "text/html": [
       "<span style=\"color:cyan\"> |-Best step: 0</span>"
      ],
      "text/plain": [
       "<IPython.core.display.HTML object>"
      ]
     },
     "metadata": {},
     "output_type": "display_data"
    },
    {
     "data": {
      "text/html": [
       "<span style=\"color:#7E57C2\"><h2 style=\"font-size:16px\">Hyperparameters:</h2></span>"
      ],
      "text/plain": [
       "<IPython.core.display.HTML object>"
      ]
     },
     "metadata": {},
     "output_type": "display_data"
    },
    {
     "data": {
      "text/html": [
       "<span style=\"color:cyan\"> |-layers: 2</span>"
      ],
      "text/plain": [
       "<IPython.core.display.HTML object>"
      ]
     },
     "metadata": {},
     "output_type": "display_data"
    },
    {
     "data": {
      "text/html": [
       "<span style=\"color:blue\"> |-units_0: 288</span>"
      ],
      "text/plain": [
       "<IPython.core.display.HTML object>"
      ]
     },
     "metadata": {},
     "output_type": "display_data"
    },
    {
     "data": {
      "text/html": [
       "<span style=\"color:cyan\"> |-units_1: 256</span>"
      ],
      "text/plain": [
       "<IPython.core.display.HTML object>"
      ]
     },
     "metadata": {},
     "output_type": "display_data"
    },
    {
     "name": "stdout",
     "output_type": "stream",
     "text": [
      "Epoch 1/20\n",
      "326/326 - 1s - loss: 0.5100 - accuracy: 0.7547 - val_loss: 0.4436 - val_accuracy: 0.7966\n",
      "Epoch 2/20\n",
      "326/326 - 1s - loss: 0.4771 - accuracy: 0.7762 - val_loss: 0.4393 - val_accuracy: 0.7951\n",
      "Epoch 3/20\n",
      "326/326 - 1s - loss: 0.4670 - accuracy: 0.7797 - val_loss: 0.4416 - val_accuracy: 0.7997\n",
      "Epoch 4/20\n",
      "326/326 - 1s - loss: 0.4552 - accuracy: 0.7875 - val_loss: 0.4312 - val_accuracy: 0.8012\n",
      "Epoch 5/20\n",
      "326/326 - 1s - loss: 0.4559 - accuracy: 0.7895 - val_loss: 0.4652 - val_accuracy: 0.7870\n",
      "Epoch 6/20\n",
      "326/326 - 1s - loss: 0.4473 - accuracy: 0.7935 - val_loss: 0.4268 - val_accuracy: 0.8043\n",
      "Epoch 7/20\n",
      "326/326 - 1s - loss: 0.4472 - accuracy: 0.7890 - val_loss: 0.4260 - val_accuracy: 0.8101\n",
      "Epoch 8/20\n",
      "326/326 - 1s - loss: 0.4418 - accuracy: 0.7953 - val_loss: 0.4257 - val_accuracy: 0.8070\n",
      "Epoch 9/20\n",
      "326/326 - 1s - loss: 0.4375 - accuracy: 0.7953 - val_loss: 0.4184 - val_accuracy: 0.8120\n",
      "Epoch 10/20\n",
      "326/326 - 1s - loss: 0.4292 - accuracy: 0.7982 - val_loss: 0.4230 - val_accuracy: 0.8147\n",
      "Epoch 11/20\n",
      "326/326 - 1s - loss: 0.4317 - accuracy: 0.8032 - val_loss: 0.4114 - val_accuracy: 0.8158\n",
      "Epoch 12/20\n",
      "326/326 - 1s - loss: 0.4278 - accuracy: 0.8064 - val_loss: 0.4073 - val_accuracy: 0.8108\n",
      "Epoch 13/20\n",
      "326/326 - 1s - loss: 0.4207 - accuracy: 0.8105 - val_loss: 0.4109 - val_accuracy: 0.8147\n",
      "Epoch 14/20\n",
      "326/326 - 1s - loss: 0.4166 - accuracy: 0.8100 - val_loss: 0.4166 - val_accuracy: 0.8150\n",
      "Epoch 15/20\n",
      "326/326 - 1s - loss: 0.4133 - accuracy: 0.8092 - val_loss: 0.4154 - val_accuracy: 0.8162\n",
      "Epoch 16/20\n",
      "326/326 - 1s - loss: 0.4054 - accuracy: 0.8117 - val_loss: 0.4110 - val_accuracy: 0.8177\n",
      "Epoch 17/20\n",
      "326/326 - 1s - loss: 0.4085 - accuracy: 0.8120 - val_loss: 0.4145 - val_accuracy: 0.8219\n",
      "Epoch 18/20\n",
      "326/326 - 1s - loss: 0.4020 - accuracy: 0.8191 - val_loss: 0.4104 - val_accuracy: 0.8266\n",
      "Epoch 19/20\n",
      "326/326 - 1s - loss: 0.4026 - accuracy: 0.8154 - val_loss: 0.4056 - val_accuracy: 0.8216\n",
      "Epoch 20/20\n",
      "326/326 - 1s - loss: 0.4046 - accuracy: 0.8156 - val_loss: 0.4070 - val_accuracy: 0.8300\n"
     ]
    },
    {
     "data": {
      "text/html": [
       "<span style=\"color:#4527A0\"><h1 style=\"font-size:18px\">Trial complete</h1></span>"
      ],
      "text/plain": [
       "<IPython.core.display.HTML object>"
      ]
     },
     "metadata": {},
     "output_type": "display_data"
    },
    {
     "data": {
      "text/html": [
       "<span style=\"color:#4527A0\"><h1 style=\"font-size:18px\">Trial summary</h1></span>"
      ],
      "text/plain": [
       "<IPython.core.display.HTML object>"
      ]
     },
     "metadata": {},
     "output_type": "display_data"
    },
    {
     "data": {
      "text/html": [
       "<span style=\"color:cyan\"> |-Trial ID: 8f0b9cf5904d8199f5761bf4dec85ce1</span>"
      ],
      "text/plain": [
       "<IPython.core.display.HTML object>"
      ]
     },
     "metadata": {},
     "output_type": "display_data"
    },
    {
     "data": {
      "text/html": [
       "<span style=\"color:cyan\"> |-Score: 0.4056326746940613</span>"
      ],
      "text/plain": [
       "<IPython.core.display.HTML object>"
      ]
     },
     "metadata": {},
     "output_type": "display_data"
    },
    {
     "data": {
      "text/html": [
       "<span style=\"color:cyan\"> |-Best step: 0</span>"
      ],
      "text/plain": [
       "<IPython.core.display.HTML object>"
      ]
     },
     "metadata": {},
     "output_type": "display_data"
    },
    {
     "data": {
      "text/html": [
       "<span style=\"color:#7E57C2\"><h2 style=\"font-size:16px\">Hyperparameters:</h2></span>"
      ],
      "text/plain": [
       "<IPython.core.display.HTML object>"
      ]
     },
     "metadata": {},
     "output_type": "display_data"
    },
    {
     "data": {
      "text/html": [
       "<span style=\"color:cyan\"> |-layers: 2</span>"
      ],
      "text/plain": [
       "<IPython.core.display.HTML object>"
      ]
     },
     "metadata": {},
     "output_type": "display_data"
    },
    {
     "data": {
      "text/html": [
       "<span style=\"color:blue\"> |-units_0: 320</span>"
      ],
      "text/plain": [
       "<IPython.core.display.HTML object>"
      ]
     },
     "metadata": {},
     "output_type": "display_data"
    },
    {
     "data": {
      "text/html": [
       "<span style=\"color:cyan\"> |-units_1: 416</span>"
      ],
      "text/plain": [
       "<IPython.core.display.HTML object>"
      ]
     },
     "metadata": {},
     "output_type": "display_data"
    },
    {
     "name": "stdout",
     "output_type": "stream",
     "text": [
      "Epoch 1/20\n",
      "326/326 - 1s - loss: 0.5070 - accuracy: 0.7597 - val_loss: 0.4366 - val_accuracy: 0.7982\n",
      "Epoch 2/20\n",
      "326/326 - 1s - loss: 0.4756 - accuracy: 0.7794 - val_loss: 0.4408 - val_accuracy: 0.8031\n",
      "Epoch 3/20\n",
      "326/326 - 2s - loss: 0.4713 - accuracy: 0.7807 - val_loss: 0.4295 - val_accuracy: 0.8024\n",
      "Epoch 4/20\n",
      "326/326 - 1s - loss: 0.4619 - accuracy: 0.7860 - val_loss: 0.4350 - val_accuracy: 0.8035\n",
      "Epoch 5/20\n",
      "326/326 - 1s - loss: 0.4523 - accuracy: 0.7858 - val_loss: 0.4222 - val_accuracy: 0.8078\n",
      "Epoch 6/20\n",
      "326/326 - 1s - loss: 0.4513 - accuracy: 0.7876 - val_loss: 0.4264 - val_accuracy: 0.8104\n",
      "Epoch 7/20\n",
      "326/326 - 1s - loss: 0.4490 - accuracy: 0.7950 - val_loss: 0.4219 - val_accuracy: 0.8154\n",
      "Epoch 8/20\n",
      "326/326 - 1s - loss: 0.4408 - accuracy: 0.7935 - val_loss: 0.4217 - val_accuracy: 0.8093\n",
      "Epoch 9/20\n",
      "326/326 - 1s - loss: 0.4442 - accuracy: 0.7935 - val_loss: 0.4136 - val_accuracy: 0.8147\n",
      "Epoch 10/20\n",
      "326/326 - 1s - loss: 0.4369 - accuracy: 0.7984 - val_loss: 0.4138 - val_accuracy: 0.8093\n",
      "Epoch 11/20\n",
      "326/326 - 1s - loss: 0.4348 - accuracy: 0.7997 - val_loss: 0.4090 - val_accuracy: 0.8104\n",
      "Epoch 12/20\n",
      "326/326 - 1s - loss: 0.4282 - accuracy: 0.8022 - val_loss: 0.4104 - val_accuracy: 0.8147\n",
      "Epoch 13/20\n",
      "326/326 - 1s - loss: 0.4311 - accuracy: 0.8017 - val_loss: 0.4141 - val_accuracy: 0.8120\n",
      "Epoch 14/20\n",
      "326/326 - 1s - loss: 0.4210 - accuracy: 0.8056 - val_loss: 0.4180 - val_accuracy: 0.8066\n",
      "Epoch 15/20\n",
      "326/326 - 2s - loss: 0.4189 - accuracy: 0.8056 - val_loss: 0.4065 - val_accuracy: 0.8185\n",
      "Epoch 16/20\n",
      "326/326 - 1s - loss: 0.4176 - accuracy: 0.8056 - val_loss: 0.4085 - val_accuracy: 0.8266\n",
      "Epoch 17/20\n",
      "326/326 - 1s - loss: 0.4141 - accuracy: 0.8111 - val_loss: 0.4070 - val_accuracy: 0.8189\n",
      "Epoch 18/20\n",
      "326/326 - 1s - loss: 0.4094 - accuracy: 0.8059 - val_loss: 0.4109 - val_accuracy: 0.8143\n",
      "Epoch 19/20\n",
      "326/326 - 1s - loss: 0.4076 - accuracy: 0.8104 - val_loss: 0.4075 - val_accuracy: 0.8147\n",
      "Epoch 20/20\n",
      "326/326 - 1s - loss: 0.4047 - accuracy: 0.8173 - val_loss: 0.4118 - val_accuracy: 0.8170\n"
     ]
    },
    {
     "data": {
      "text/html": [
       "<span style=\"color:#4527A0\"><h1 style=\"font-size:18px\">Trial complete</h1></span>"
      ],
      "text/plain": [
       "<IPython.core.display.HTML object>"
      ]
     },
     "metadata": {},
     "output_type": "display_data"
    },
    {
     "data": {
      "text/html": [
       "<span style=\"color:#4527A0\"><h1 style=\"font-size:18px\">Trial summary</h1></span>"
      ],
      "text/plain": [
       "<IPython.core.display.HTML object>"
      ]
     },
     "metadata": {},
     "output_type": "display_data"
    },
    {
     "data": {
      "text/html": [
       "<span style=\"color:cyan\"> |-Trial ID: 1c8e7eb5e998087f2b538f11c3046bdd</span>"
      ],
      "text/plain": [
       "<IPython.core.display.HTML object>"
      ]
     },
     "metadata": {},
     "output_type": "display_data"
    },
    {
     "data": {
      "text/html": [
       "<span style=\"color:cyan\"> |-Score: 0.4065420627593994</span>"
      ],
      "text/plain": [
       "<IPython.core.display.HTML object>"
      ]
     },
     "metadata": {},
     "output_type": "display_data"
    },
    {
     "data": {
      "text/html": [
       "<span style=\"color:cyan\"> |-Best step: 0</span>"
      ],
      "text/plain": [
       "<IPython.core.display.HTML object>"
      ]
     },
     "metadata": {},
     "output_type": "display_data"
    },
    {
     "data": {
      "text/html": [
       "<span style=\"color:#7E57C2\"><h2 style=\"font-size:16px\">Hyperparameters:</h2></span>"
      ],
      "text/plain": [
       "<IPython.core.display.HTML object>"
      ]
     },
     "metadata": {},
     "output_type": "display_data"
    },
    {
     "data": {
      "text/html": [
       "<span style=\"color:cyan\"> |-layers: 2</span>"
      ],
      "text/plain": [
       "<IPython.core.display.HTML object>"
      ]
     },
     "metadata": {},
     "output_type": "display_data"
    },
    {
     "data": {
      "text/html": [
       "<span style=\"color:blue\"> |-units_0: 480</span>"
      ],
      "text/plain": [
       "<IPython.core.display.HTML object>"
      ]
     },
     "metadata": {},
     "output_type": "display_data"
    },
    {
     "data": {
      "text/html": [
       "<span style=\"color:cyan\"> |-units_1: 416</span>"
      ],
      "text/plain": [
       "<IPython.core.display.HTML object>"
      ]
     },
     "metadata": {},
     "output_type": "display_data"
    },
    {
     "name": "stdout",
     "output_type": "stream",
     "text": [
      "Epoch 1/20\n",
      "326/326 - 1s - loss: 0.5104 - accuracy: 0.7583 - val_loss: 0.4405 - val_accuracy: 0.7905\n",
      "Epoch 2/20\n",
      "326/326 - 1s - loss: 0.4722 - accuracy: 0.7814 - val_loss: 0.4304 - val_accuracy: 0.7943\n",
      "Epoch 3/20\n",
      "326/326 - 1s - loss: 0.4656 - accuracy: 0.7842 - val_loss: 0.4288 - val_accuracy: 0.8001\n",
      "Epoch 4/20\n",
      "326/326 - 1s - loss: 0.4578 - accuracy: 0.7891 - val_loss: 0.4364 - val_accuracy: 0.8028\n",
      "Epoch 5/20\n",
      "326/326 - 1s - loss: 0.4465 - accuracy: 0.7913 - val_loss: 0.4270 - val_accuracy: 0.8097\n",
      "Epoch 6/20\n",
      "326/326 - 1s - loss: 0.4472 - accuracy: 0.7909 - val_loss: 0.4208 - val_accuracy: 0.8058\n",
      "Epoch 7/20\n",
      "326/326 - 1s - loss: 0.4436 - accuracy: 0.7923 - val_loss: 0.4471 - val_accuracy: 0.7974\n",
      "Epoch 8/20\n",
      "326/326 - 1s - loss: 0.4424 - accuracy: 0.7959 - val_loss: 0.4197 - val_accuracy: 0.8120\n",
      "Epoch 9/20\n",
      "326/326 - 1s - loss: 0.4366 - accuracy: 0.7974 - val_loss: 0.4156 - val_accuracy: 0.8158\n",
      "Epoch 10/20\n",
      "326/326 - 1s - loss: 0.4367 - accuracy: 0.8023 - val_loss: 0.4096 - val_accuracy: 0.8108\n",
      "Epoch 11/20\n",
      "326/326 - 1s - loss: 0.4248 - accuracy: 0.8027 - val_loss: 0.4209 - val_accuracy: 0.8066\n",
      "Epoch 12/20\n",
      "326/326 - 1s - loss: 0.4267 - accuracy: 0.8021 - val_loss: 0.4063 - val_accuracy: 0.8093\n",
      "Epoch 13/20\n",
      "326/326 - 1s - loss: 0.4313 - accuracy: 0.7990 - val_loss: 0.4285 - val_accuracy: 0.8024\n",
      "Epoch 14/20\n",
      "326/326 - 1s - loss: 0.4245 - accuracy: 0.8050 - val_loss: 0.4093 - val_accuracy: 0.8166\n",
      "Epoch 15/20\n",
      "326/326 - 1s - loss: 0.4151 - accuracy: 0.8068 - val_loss: 0.4108 - val_accuracy: 0.8104\n",
      "Epoch 16/20\n",
      "326/326 - 1s - loss: 0.4126 - accuracy: 0.8147 - val_loss: 0.4098 - val_accuracy: 0.8097\n",
      "Epoch 17/20\n",
      "326/326 - 1s - loss: 0.4128 - accuracy: 0.8127 - val_loss: 0.4054 - val_accuracy: 0.8177\n",
      "Epoch 18/20\n",
      "326/326 - 1s - loss: 0.4034 - accuracy: 0.8161 - val_loss: 0.4096 - val_accuracy: 0.8235\n",
      "Epoch 19/20\n",
      "326/326 - 1s - loss: 0.4058 - accuracy: 0.8142 - val_loss: 0.4043 - val_accuracy: 0.8154\n",
      "Epoch 20/20\n",
      "326/326 - 1s - loss: 0.4031 - accuracy: 0.8160 - val_loss: 0.4222 - val_accuracy: 0.8143\n"
     ]
    },
    {
     "data": {
      "text/html": [
       "<span style=\"color:#4527A0\"><h1 style=\"font-size:18px\">Trial complete</h1></span>"
      ],
      "text/plain": [
       "<IPython.core.display.HTML object>"
      ]
     },
     "metadata": {},
     "output_type": "display_data"
    },
    {
     "data": {
      "text/html": [
       "<span style=\"color:#4527A0\"><h1 style=\"font-size:18px\">Trial summary</h1></span>"
      ],
      "text/plain": [
       "<IPython.core.display.HTML object>"
      ]
     },
     "metadata": {},
     "output_type": "display_data"
    },
    {
     "data": {
      "text/html": [
       "<span style=\"color:cyan\"> |-Trial ID: 7998c2e5d9aa9e0aba14dc9dd0f2d602</span>"
      ],
      "text/plain": [
       "<IPython.core.display.HTML object>"
      ]
     },
     "metadata": {},
     "output_type": "display_data"
    },
    {
     "data": {
      "text/html": [
       "<span style=\"color:cyan\"> |-Score: 0.4043233394622803</span>"
      ],
      "text/plain": [
       "<IPython.core.display.HTML object>"
      ]
     },
     "metadata": {},
     "output_type": "display_data"
    },
    {
     "data": {
      "text/html": [
       "<span style=\"color:cyan\"> |-Best step: 0</span>"
      ],
      "text/plain": [
       "<IPython.core.display.HTML object>"
      ]
     },
     "metadata": {},
     "output_type": "display_data"
    },
    {
     "data": {
      "text/html": [
       "<span style=\"color:#7E57C2\"><h2 style=\"font-size:16px\">Hyperparameters:</h2></span>"
      ],
      "text/plain": [
       "<IPython.core.display.HTML object>"
      ]
     },
     "metadata": {},
     "output_type": "display_data"
    },
    {
     "data": {
      "text/html": [
       "<span style=\"color:cyan\"> |-layers: 2</span>"
      ],
      "text/plain": [
       "<IPython.core.display.HTML object>"
      ]
     },
     "metadata": {},
     "output_type": "display_data"
    },
    {
     "data": {
      "text/html": [
       "<span style=\"color:blue\"> |-units_0: 320</span>"
      ],
      "text/plain": [
       "<IPython.core.display.HTML object>"
      ]
     },
     "metadata": {},
     "output_type": "display_data"
    },
    {
     "data": {
      "text/html": [
       "<span style=\"color:cyan\"> |-units_1: 288</span>"
      ],
      "text/plain": [
       "<IPython.core.display.HTML object>"
      ]
     },
     "metadata": {},
     "output_type": "display_data"
    },
    {
     "name": "stdout",
     "output_type": "stream",
     "text": [
      "Epoch 1/20\n",
      "326/326 - 1s - loss: 0.5195 - accuracy: 0.7471 - val_loss: 0.4421 - val_accuracy: 0.7874\n",
      "Epoch 2/20\n",
      "326/326 - 1s - loss: 0.4828 - accuracy: 0.7681 - val_loss: 0.4310 - val_accuracy: 0.7989\n",
      "Epoch 3/20\n",
      "326/326 - 1s - loss: 0.4689 - accuracy: 0.7787 - val_loss: 0.4321 - val_accuracy: 0.7966\n",
      "Epoch 4/20\n",
      "326/326 - 1s - loss: 0.4633 - accuracy: 0.7829 - val_loss: 0.4226 - val_accuracy: 0.8035\n",
      "Epoch 5/20\n",
      "326/326 - 1s - loss: 0.4572 - accuracy: 0.7880 - val_loss: 0.4350 - val_accuracy: 0.8035\n",
      "Epoch 6/20\n",
      "326/326 - 1s - loss: 0.4586 - accuracy: 0.7830 - val_loss: 0.4239 - val_accuracy: 0.8097\n",
      "Epoch 7/20\n",
      "326/326 - 1s - loss: 0.4497 - accuracy: 0.7950 - val_loss: 0.4201 - val_accuracy: 0.8028\n",
      "Epoch 8/20\n",
      "326/326 - 1s - loss: 0.4526 - accuracy: 0.7940 - val_loss: 0.4223 - val_accuracy: 0.8089\n",
      "Epoch 9/20\n",
      "326/326 - 1s - loss: 0.4515 - accuracy: 0.7952 - val_loss: 0.4260 - val_accuracy: 0.8112\n",
      "Epoch 10/20\n",
      "326/326 - 1s - loss: 0.4502 - accuracy: 0.7896 - val_loss: 0.4248 - val_accuracy: 0.8089\n",
      "Epoch 11/20\n",
      "326/326 - 1s - loss: 0.4391 - accuracy: 0.7955 - val_loss: 0.4148 - val_accuracy: 0.8112\n",
      "Epoch 12/20\n",
      "326/326 - 1s - loss: 0.4474 - accuracy: 0.7939 - val_loss: 0.4142 - val_accuracy: 0.8189\n",
      "Epoch 13/20\n",
      "326/326 - 1s - loss: 0.4371 - accuracy: 0.8027 - val_loss: 0.4115 - val_accuracy: 0.8131\n",
      "Epoch 14/20\n",
      "326/326 - 1s - loss: 0.4433 - accuracy: 0.7998 - val_loss: 0.4219 - val_accuracy: 0.8062\n",
      "Epoch 15/20\n",
      "326/326 - 1s - loss: 0.4395 - accuracy: 0.8002 - val_loss: 0.4107 - val_accuracy: 0.8070\n",
      "Epoch 16/20\n",
      "326/326 - 1s - loss: 0.4351 - accuracy: 0.8044 - val_loss: 0.4202 - val_accuracy: 0.8124\n",
      "Epoch 17/20\n",
      "326/326 - 1s - loss: 0.4342 - accuracy: 0.7995 - val_loss: 0.4163 - val_accuracy: 0.8116\n",
      "Epoch 18/20\n",
      "326/326 - 1s - loss: 0.4394 - accuracy: 0.7983 - val_loss: 0.4117 - val_accuracy: 0.8124\n",
      "Epoch 19/20\n",
      "326/326 - 1s - loss: 0.4388 - accuracy: 0.8012 - val_loss: 0.4295 - val_accuracy: 0.8024\n",
      "Epoch 20/20\n",
      "326/326 - 1s - loss: 0.4281 - accuracy: 0.8036 - val_loss: 0.4116 - val_accuracy: 0.8104\n"
     ]
    },
    {
     "data": {
      "text/html": [
       "<span style=\"color:#4527A0\"><h1 style=\"font-size:18px\">Trial complete</h1></span>"
      ],
      "text/plain": [
       "<IPython.core.display.HTML object>"
      ]
     },
     "metadata": {},
     "output_type": "display_data"
    },
    {
     "data": {
      "text/html": [
       "<span style=\"color:#4527A0\"><h1 style=\"font-size:18px\">Trial summary</h1></span>"
      ],
      "text/plain": [
       "<IPython.core.display.HTML object>"
      ]
     },
     "metadata": {},
     "output_type": "display_data"
    },
    {
     "data": {
      "text/html": [
       "<span style=\"color:cyan\"> |-Trial ID: 71a71d047c48741b1de4269edc5575d7</span>"
      ],
      "text/plain": [
       "<IPython.core.display.HTML object>"
      ]
     },
     "metadata": {},
     "output_type": "display_data"
    },
    {
     "data": {
      "text/html": [
       "<span style=\"color:cyan\"> |-Score: 0.41070401668548584</span>"
      ],
      "text/plain": [
       "<IPython.core.display.HTML object>"
      ]
     },
     "metadata": {},
     "output_type": "display_data"
    },
    {
     "data": {
      "text/html": [
       "<span style=\"color:cyan\"> |-Best step: 0</span>"
      ],
      "text/plain": [
       "<IPython.core.display.HTML object>"
      ]
     },
     "metadata": {},
     "output_type": "display_data"
    },
    {
     "data": {
      "text/html": [
       "<span style=\"color:#7E57C2\"><h2 style=\"font-size:16px\">Hyperparameters:</h2></span>"
      ],
      "text/plain": [
       "<IPython.core.display.HTML object>"
      ]
     },
     "metadata": {},
     "output_type": "display_data"
    },
    {
     "data": {
      "text/html": [
       "<span style=\"color:cyan\"> |-layers: 1</span>"
      ],
      "text/plain": [
       "<IPython.core.display.HTML object>"
      ]
     },
     "metadata": {},
     "output_type": "display_data"
    },
    {
     "data": {
      "text/html": [
       "<span style=\"color:blue\"> |-units_0: 256</span>"
      ],
      "text/plain": [
       "<IPython.core.display.HTML object>"
      ]
     },
     "metadata": {},
     "output_type": "display_data"
    },
    {
     "data": {
      "text/html": [
       "<span style=\"color:cyan\"> |-units_1: 256</span>"
      ],
      "text/plain": [
       "<IPython.core.display.HTML object>"
      ]
     },
     "metadata": {},
     "output_type": "display_data"
    },
    {
     "name": "stdout",
     "output_type": "stream",
     "text": [
      "Epoch 1/20\n",
      "326/326 - 1s - loss: 0.5095 - accuracy: 0.7531 - val_loss: 0.4435 - val_accuracy: 0.7939\n",
      "Epoch 2/20\n",
      "326/326 - 1s - loss: 0.4753 - accuracy: 0.7769 - val_loss: 0.4437 - val_accuracy: 0.8001\n",
      "Epoch 3/20\n",
      "326/326 - 1s - loss: 0.4686 - accuracy: 0.7794 - val_loss: 0.4354 - val_accuracy: 0.8047\n",
      "Epoch 4/20\n",
      "326/326 - 1s - loss: 0.4577 - accuracy: 0.7839 - val_loss: 0.4230 - val_accuracy: 0.8024\n",
      "Epoch 5/20\n",
      "326/326 - 1s - loss: 0.4516 - accuracy: 0.7894 - val_loss: 0.4253 - val_accuracy: 0.8043\n",
      "Epoch 6/20\n",
      "326/326 - 1s - loss: 0.4443 - accuracy: 0.7921 - val_loss: 0.4221 - val_accuracy: 0.8116\n",
      "Epoch 7/20\n",
      "326/326 - 1s - loss: 0.4377 - accuracy: 0.7986 - val_loss: 0.4227 - val_accuracy: 0.8089\n",
      "Epoch 8/20\n",
      "326/326 - 1s - loss: 0.4374 - accuracy: 0.7963 - val_loss: 0.4186 - val_accuracy: 0.8108\n",
      "Epoch 9/20\n",
      "326/326 - 1s - loss: 0.4362 - accuracy: 0.8007 - val_loss: 0.4114 - val_accuracy: 0.8124\n",
      "Epoch 10/20\n",
      "326/326 - 1s - loss: 0.4334 - accuracy: 0.8035 - val_loss: 0.4089 - val_accuracy: 0.8181\n",
      "Epoch 11/20\n",
      "326/326 - 1s - loss: 0.4279 - accuracy: 0.8012 - val_loss: 0.4136 - val_accuracy: 0.8143\n",
      "Epoch 12/20\n",
      "326/326 - 1s - loss: 0.4252 - accuracy: 0.8047 - val_loss: 0.4075 - val_accuracy: 0.8135\n",
      "Epoch 13/20\n",
      "326/326 - 1s - loss: 0.4235 - accuracy: 0.8038 - val_loss: 0.4124 - val_accuracy: 0.8147\n",
      "Epoch 14/20\n",
      "326/326 - 1s - loss: 0.4195 - accuracy: 0.8060 - val_loss: 0.4030 - val_accuracy: 0.8147\n",
      "Epoch 15/20\n",
      "326/326 - 1s - loss: 0.4103 - accuracy: 0.8117 - val_loss: 0.4177 - val_accuracy: 0.8116\n",
      "Epoch 16/20\n",
      "326/326 - 1s - loss: 0.4102 - accuracy: 0.8076 - val_loss: 0.4030 - val_accuracy: 0.8196\n",
      "Epoch 17/20\n",
      "326/326 - 1s - loss: 0.4101 - accuracy: 0.8110 - val_loss: 0.4127 - val_accuracy: 0.8150\n",
      "Epoch 18/20\n",
      "326/326 - 1s - loss: 0.4114 - accuracy: 0.8133 - val_loss: 0.4065 - val_accuracy: 0.8227\n",
      "Epoch 19/20\n",
      "326/326 - 1s - loss: 0.4026 - accuracy: 0.8135 - val_loss: 0.3959 - val_accuracy: 0.8200\n",
      "Epoch 20/20\n",
      "326/326 - 1s - loss: 0.4053 - accuracy: 0.8147 - val_loss: 0.3933 - val_accuracy: 0.8277\n"
     ]
    },
    {
     "data": {
      "text/html": [
       "<span style=\"color:#4527A0\"><h1 style=\"font-size:18px\">Trial complete</h1></span>"
      ],
      "text/plain": [
       "<IPython.core.display.HTML object>"
      ]
     },
     "metadata": {},
     "output_type": "display_data"
    },
    {
     "data": {
      "text/html": [
       "<span style=\"color:#4527A0\"><h1 style=\"font-size:18px\">Trial summary</h1></span>"
      ],
      "text/plain": [
       "<IPython.core.display.HTML object>"
      ]
     },
     "metadata": {},
     "output_type": "display_data"
    },
    {
     "data": {
      "text/html": [
       "<span style=\"color:cyan\"> |-Trial ID: 54cc0633a88dad55587f9b53b302f212</span>"
      ],
      "text/plain": [
       "<IPython.core.display.HTML object>"
      ]
     },
     "metadata": {},
     "output_type": "display_data"
    },
    {
     "data": {
      "text/html": [
       "<span style=\"color:cyan\"> |-Score: 0.39334243535995483</span>"
      ],
      "text/plain": [
       "<IPython.core.display.HTML object>"
      ]
     },
     "metadata": {},
     "output_type": "display_data"
    },
    {
     "data": {
      "text/html": [
       "<span style=\"color:cyan\"> |-Best step: 0</span>"
      ],
      "text/plain": [
       "<IPython.core.display.HTML object>"
      ]
     },
     "metadata": {},
     "output_type": "display_data"
    },
    {
     "data": {
      "text/html": [
       "<span style=\"color:#7E57C2\"><h2 style=\"font-size:16px\">Hyperparameters:</h2></span>"
      ],
      "text/plain": [
       "<IPython.core.display.HTML object>"
      ]
     },
     "metadata": {},
     "output_type": "display_data"
    },
    {
     "data": {
      "text/html": [
       "<span style=\"color:cyan\"> |-layers: 2</span>"
      ],
      "text/plain": [
       "<IPython.core.display.HTML object>"
      ]
     },
     "metadata": {},
     "output_type": "display_data"
    },
    {
     "data": {
      "text/html": [
       "<span style=\"color:blue\"> |-units_0: 288</span>"
      ],
      "text/plain": [
       "<IPython.core.display.HTML object>"
      ]
     },
     "metadata": {},
     "output_type": "display_data"
    },
    {
     "data": {
      "text/html": [
       "<span style=\"color:cyan\"> |-units_1: 256</span>"
      ],
      "text/plain": [
       "<IPython.core.display.HTML object>"
      ]
     },
     "metadata": {},
     "output_type": "display_data"
    },
    {
     "name": "stdout",
     "output_type": "stream",
     "text": [
      "Epoch 1/20\n",
      "326/326 - 2s - loss: 0.5065 - accuracy: 0.7599 - val_loss: 0.4493 - val_accuracy: 0.7985\n",
      "Epoch 2/20\n",
      "326/326 - 1s - loss: 0.4767 - accuracy: 0.7792 - val_loss: 0.4380 - val_accuracy: 0.8012\n",
      "Epoch 3/20\n",
      "326/326 - 1s - loss: 0.4691 - accuracy: 0.7825 - val_loss: 0.4266 - val_accuracy: 0.8054\n",
      "Epoch 4/20\n",
      "326/326 - 1s - loss: 0.4672 - accuracy: 0.7825 - val_loss: 0.4295 - val_accuracy: 0.8024\n",
      "Epoch 5/20\n",
      "326/326 - 1s - loss: 0.4545 - accuracy: 0.7878 - val_loss: 0.4262 - val_accuracy: 0.8051\n",
      "Epoch 6/20\n",
      "326/326 - 1s - loss: 0.4465 - accuracy: 0.7912 - val_loss: 0.4290 - val_accuracy: 0.8051\n",
      "Epoch 7/20\n",
      "326/326 - 1s - loss: 0.4428 - accuracy: 0.7981 - val_loss: 0.4139 - val_accuracy: 0.8085\n",
      "Epoch 8/20\n",
      "326/326 - 1s - loss: 0.4434 - accuracy: 0.7918 - val_loss: 0.4230 - val_accuracy: 0.8089\n",
      "Epoch 9/20\n",
      "326/326 - 1s - loss: 0.4380 - accuracy: 0.7973 - val_loss: 0.4200 - val_accuracy: 0.8089\n",
      "Epoch 10/20\n",
      "326/326 - 1s - loss: 0.4297 - accuracy: 0.8038 - val_loss: 0.4178 - val_accuracy: 0.8150\n",
      "Epoch 11/20\n",
      "326/326 - 1s - loss: 0.4330 - accuracy: 0.7985 - val_loss: 0.4176 - val_accuracy: 0.8212\n",
      "Epoch 12/20\n",
      "326/326 - 1s - loss: 0.4266 - accuracy: 0.8019 - val_loss: 0.4114 - val_accuracy: 0.8135\n",
      "Epoch 13/20\n",
      "326/326 - 1s - loss: 0.4269 - accuracy: 0.8034 - val_loss: 0.4128 - val_accuracy: 0.8154\n",
      "Epoch 14/20\n",
      "326/326 - 1s - loss: 0.4234 - accuracy: 0.8036 - val_loss: 0.4081 - val_accuracy: 0.8166\n",
      "Epoch 15/20\n",
      "326/326 - 1s - loss: 0.4228 - accuracy: 0.8052 - val_loss: 0.4075 - val_accuracy: 0.8131\n",
      "Epoch 16/20\n",
      "326/326 - 1s - loss: 0.4132 - accuracy: 0.8119 - val_loss: 0.4089 - val_accuracy: 0.8154\n",
      "Epoch 17/20\n",
      "326/326 - 1s - loss: 0.4161 - accuracy: 0.8058 - val_loss: 0.4158 - val_accuracy: 0.8223\n",
      "Epoch 18/20\n",
      "326/326 - 1s - loss: 0.4073 - accuracy: 0.8119 - val_loss: 0.4017 - val_accuracy: 0.8189\n",
      "Epoch 19/20\n",
      "326/326 - 1s - loss: 0.4049 - accuracy: 0.8168 - val_loss: 0.3997 - val_accuracy: 0.8223\n",
      "Epoch 20/20\n",
      "326/326 - 1s - loss: 0.4036 - accuracy: 0.8138 - val_loss: 0.3968 - val_accuracy: 0.8250\n"
     ]
    },
    {
     "data": {
      "text/html": [
       "<span style=\"color:#4527A0\"><h1 style=\"font-size:18px\">Trial complete</h1></span>"
      ],
      "text/plain": [
       "<IPython.core.display.HTML object>"
      ]
     },
     "metadata": {},
     "output_type": "display_data"
    },
    {
     "data": {
      "text/html": [
       "<span style=\"color:#4527A0\"><h1 style=\"font-size:18px\">Trial summary</h1></span>"
      ],
      "text/plain": [
       "<IPython.core.display.HTML object>"
      ]
     },
     "metadata": {},
     "output_type": "display_data"
    },
    {
     "data": {
      "text/html": [
       "<span style=\"color:cyan\"> |-Trial ID: 2d741e502e4f33fb35549f7d03a36d95</span>"
      ],
      "text/plain": [
       "<IPython.core.display.HTML object>"
      ]
     },
     "metadata": {},
     "output_type": "display_data"
    },
    {
     "data": {
      "text/html": [
       "<span style=\"color:cyan\"> |-Score: 0.39680153131484985</span>"
      ],
      "text/plain": [
       "<IPython.core.display.HTML object>"
      ]
     },
     "metadata": {},
     "output_type": "display_data"
    },
    {
     "data": {
      "text/html": [
       "<span style=\"color:cyan\"> |-Best step: 0</span>"
      ],
      "text/plain": [
       "<IPython.core.display.HTML object>"
      ]
     },
     "metadata": {},
     "output_type": "display_data"
    },
    {
     "data": {
      "text/html": [
       "<span style=\"color:#7E57C2\"><h2 style=\"font-size:16px\">Hyperparameters:</h2></span>"
      ],
      "text/plain": [
       "<IPython.core.display.HTML object>"
      ]
     },
     "metadata": {},
     "output_type": "display_data"
    },
    {
     "data": {
      "text/html": [
       "<span style=\"color:cyan\"> |-layers: 3</span>"
      ],
      "text/plain": [
       "<IPython.core.display.HTML object>"
      ]
     },
     "metadata": {},
     "output_type": "display_data"
    },
    {
     "data": {
      "text/html": [
       "<span style=\"color:blue\"> |-units_0: 416</span>"
      ],
      "text/plain": [
       "<IPython.core.display.HTML object>"
      ]
     },
     "metadata": {},
     "output_type": "display_data"
    },
    {
     "data": {
      "text/html": [
       "<span style=\"color:cyan\"> |-units_1: 288</span>"
      ],
      "text/plain": [
       "<IPython.core.display.HTML object>"
      ]
     },
     "metadata": {},
     "output_type": "display_data"
    },
    {
     "data": {
      "text/html": [
       "<span style=\"color:blue\"> |-units_2: 256</span>"
      ],
      "text/plain": [
       "<IPython.core.display.HTML object>"
      ]
     },
     "metadata": {},
     "output_type": "display_data"
    },
    {
     "name": "stdout",
     "output_type": "stream",
     "text": [
      "Epoch 1/20\n",
      "326/326 - 1s - loss: 0.5123 - accuracy: 0.7572 - val_loss: 0.4607 - val_accuracy: 0.7909\n",
      "Epoch 2/20\n",
      "326/326 - 1s - loss: 0.4767 - accuracy: 0.7771 - val_loss: 0.4376 - val_accuracy: 0.7932\n",
      "Epoch 3/20\n",
      "326/326 - 1s - loss: 0.4758 - accuracy: 0.7800 - val_loss: 0.4344 - val_accuracy: 0.8047\n",
      "Epoch 4/20\n",
      "326/326 - 1s - loss: 0.4591 - accuracy: 0.7853 - val_loss: 0.4213 - val_accuracy: 0.8062\n",
      "Epoch 5/20\n",
      "326/326 - 1s - loss: 0.4528 - accuracy: 0.7913 - val_loss: 0.4266 - val_accuracy: 0.8104\n",
      "Epoch 6/20\n",
      "326/326 - 1s - loss: 0.4539 - accuracy: 0.7899 - val_loss: 0.4213 - val_accuracy: 0.8085\n",
      "Epoch 7/20\n",
      "326/326 - 1s - loss: 0.4447 - accuracy: 0.7925 - val_loss: 0.4171 - val_accuracy: 0.8108\n",
      "Epoch 8/20\n",
      "326/326 - 1s - loss: 0.4375 - accuracy: 0.7944 - val_loss: 0.4131 - val_accuracy: 0.8127\n",
      "Epoch 9/20\n",
      "326/326 - 1s - loss: 0.4370 - accuracy: 0.7994 - val_loss: 0.4129 - val_accuracy: 0.8101\n",
      "Epoch 10/20\n",
      "326/326 - 1s - loss: 0.4358 - accuracy: 0.7994 - val_loss: 0.4186 - val_accuracy: 0.8127\n",
      "Epoch 11/20\n",
      "326/326 - 1s - loss: 0.4257 - accuracy: 0.8001 - val_loss: 0.4167 - val_accuracy: 0.8135\n",
      "Epoch 12/20\n",
      "326/326 - 1s - loss: 0.4262 - accuracy: 0.8033 - val_loss: 0.4155 - val_accuracy: 0.8154\n",
      "Epoch 13/20\n",
      "326/326 - 1s - loss: 0.4211 - accuracy: 0.8084 - val_loss: 0.4130 - val_accuracy: 0.8127\n",
      "Epoch 14/20\n",
      "326/326 - 1s - loss: 0.4239 - accuracy: 0.8050 - val_loss: 0.4118 - val_accuracy: 0.8200\n",
      "Epoch 15/20\n",
      "326/326 - 1s - loss: 0.4208 - accuracy: 0.8094 - val_loss: 0.4130 - val_accuracy: 0.8078\n",
      "Epoch 16/20\n",
      "326/326 - 1s - loss: 0.4132 - accuracy: 0.8121 - val_loss: 0.4021 - val_accuracy: 0.8162\n",
      "Epoch 17/20\n",
      "326/326 - 1s - loss: 0.4106 - accuracy: 0.8110 - val_loss: 0.4113 - val_accuracy: 0.8131\n",
      "Epoch 18/20\n",
      "326/326 - 1s - loss: 0.4099 - accuracy: 0.8135 - val_loss: 0.4030 - val_accuracy: 0.8250\n",
      "Epoch 19/20\n",
      "326/326 - 1s - loss: 0.4045 - accuracy: 0.8117 - val_loss: 0.4071 - val_accuracy: 0.8235\n",
      "Epoch 20/20\n",
      "326/326 - 1s - loss: 0.4103 - accuracy: 0.8107 - val_loss: 0.4112 - val_accuracy: 0.8189\n"
     ]
    },
    {
     "data": {
      "text/html": [
       "<span style=\"color:#4527A0\"><h1 style=\"font-size:18px\">Trial complete</h1></span>"
      ],
      "text/plain": [
       "<IPython.core.display.HTML object>"
      ]
     },
     "metadata": {},
     "output_type": "display_data"
    },
    {
     "data": {
      "text/html": [
       "<span style=\"color:#4527A0\"><h1 style=\"font-size:18px\">Trial summary</h1></span>"
      ],
      "text/plain": [
       "<IPython.core.display.HTML object>"
      ]
     },
     "metadata": {},
     "output_type": "display_data"
    },
    {
     "data": {
      "text/html": [
       "<span style=\"color:cyan\"> |-Trial ID: 611e35e30c337af72e795d465bda5698</span>"
      ],
      "text/plain": [
       "<IPython.core.display.HTML object>"
      ]
     },
     "metadata": {},
     "output_type": "display_data"
    },
    {
     "data": {
      "text/html": [
       "<span style=\"color:cyan\"> |-Score: 0.4020698666572571</span>"
      ],
      "text/plain": [
       "<IPython.core.display.HTML object>"
      ]
     },
     "metadata": {},
     "output_type": "display_data"
    },
    {
     "data": {
      "text/html": [
       "<span style=\"color:cyan\"> |-Best step: 0</span>"
      ],
      "text/plain": [
       "<IPython.core.display.HTML object>"
      ]
     },
     "metadata": {},
     "output_type": "display_data"
    },
    {
     "data": {
      "text/html": [
       "<span style=\"color:#7E57C2\"><h2 style=\"font-size:16px\">Hyperparameters:</h2></span>"
      ],
      "text/plain": [
       "<IPython.core.display.HTML object>"
      ]
     },
     "metadata": {},
     "output_type": "display_data"
    },
    {
     "data": {
      "text/html": [
       "<span style=\"color:cyan\"> |-layers: 2</span>"
      ],
      "text/plain": [
       "<IPython.core.display.HTML object>"
      ]
     },
     "metadata": {},
     "output_type": "display_data"
    },
    {
     "data": {
      "text/html": [
       "<span style=\"color:blue\"> |-units_0: 288</span>"
      ],
      "text/plain": [
       "<IPython.core.display.HTML object>"
      ]
     },
     "metadata": {},
     "output_type": "display_data"
    },
    {
     "data": {
      "text/html": [
       "<span style=\"color:cyan\"> |-units_1: 384</span>"
      ],
      "text/plain": [
       "<IPython.core.display.HTML object>"
      ]
     },
     "metadata": {},
     "output_type": "display_data"
    },
    {
     "data": {
      "text/html": [
       "<span style=\"color:blue\"> |-units_2: 352</span>"
      ],
      "text/plain": [
       "<IPython.core.display.HTML object>"
      ]
     },
     "metadata": {},
     "output_type": "display_data"
    },
    {
     "name": "stdout",
     "output_type": "stream",
     "text": [
      "Epoch 1/20\n",
      "326/326 - 2s - loss: 0.5184 - accuracy: 0.7552 - val_loss: 0.4519 - val_accuracy: 0.7966\n",
      "Epoch 2/20\n",
      "326/326 - 2s - loss: 0.4831 - accuracy: 0.7741 - val_loss: 0.4289 - val_accuracy: 0.8005\n",
      "Epoch 3/20\n",
      "326/326 - 2s - loss: 0.4719 - accuracy: 0.7792 - val_loss: 0.4376 - val_accuracy: 0.8051\n",
      "Epoch 4/20\n",
      "326/326 - 2s - loss: 0.4591 - accuracy: 0.7852 - val_loss: 0.4393 - val_accuracy: 0.8012\n",
      "Epoch 5/20\n",
      "326/326 - 2s - loss: 0.4574 - accuracy: 0.7851 - val_loss: 0.4295 - val_accuracy: 0.8066\n",
      "Epoch 6/20\n",
      "326/326 - 2s - loss: 0.4545 - accuracy: 0.7873 - val_loss: 0.4242 - val_accuracy: 0.8039\n",
      "Epoch 7/20\n",
      "326/326 - 2s - loss: 0.4428 - accuracy: 0.7938 - val_loss: 0.4153 - val_accuracy: 0.8051\n",
      "Epoch 8/20\n",
      "326/326 - 2s - loss: 0.4378 - accuracy: 0.7950 - val_loss: 0.4186 - val_accuracy: 0.8120\n",
      "Epoch 9/20\n",
      "326/326 - 2s - loss: 0.4393 - accuracy: 0.7979 - val_loss: 0.4214 - val_accuracy: 0.8116\n",
      "Epoch 10/20\n",
      "326/326 - 2s - loss: 0.4382 - accuracy: 0.7972 - val_loss: 0.4171 - val_accuracy: 0.8131\n",
      "Epoch 11/20\n",
      "326/326 - 2s - loss: 0.4335 - accuracy: 0.8015 - val_loss: 0.4116 - val_accuracy: 0.8127\n",
      "Epoch 12/20\n",
      "326/326 - 2s - loss: 0.4243 - accuracy: 0.8029 - val_loss: 0.4150 - val_accuracy: 0.8124\n",
      "Epoch 13/20\n",
      "326/326 - 2s - loss: 0.4233 - accuracy: 0.8018 - val_loss: 0.4128 - val_accuracy: 0.8154\n",
      "Epoch 14/20\n",
      "326/326 - 2s - loss: 0.4261 - accuracy: 0.8051 - val_loss: 0.4079 - val_accuracy: 0.8143\n",
      "Epoch 15/20\n",
      "326/326 - 2s - loss: 0.4193 - accuracy: 0.8062 - val_loss: 0.4090 - val_accuracy: 0.8235\n",
      "Epoch 16/20\n",
      "326/326 - 2s - loss: 0.4198 - accuracy: 0.8058 - val_loss: 0.4146 - val_accuracy: 0.8181\n",
      "Epoch 17/20\n",
      "326/326 - 2s - loss: 0.4082 - accuracy: 0.8110 - val_loss: 0.4065 - val_accuracy: 0.8200\n",
      "Epoch 18/20\n",
      "326/326 - 2s - loss: 0.4053 - accuracy: 0.8156 - val_loss: 0.4088 - val_accuracy: 0.8227\n",
      "Epoch 19/20\n",
      "326/326 - 2s - loss: 0.4056 - accuracy: 0.8178 - val_loss: 0.4091 - val_accuracy: 0.8212\n",
      "Epoch 20/20\n",
      "326/326 - 2s - loss: 0.4028 - accuracy: 0.8164 - val_loss: 0.4123 - val_accuracy: 0.8204\n"
     ]
    },
    {
     "data": {
      "text/html": [
       "<span style=\"color:#4527A0\"><h1 style=\"font-size:18px\">Trial complete</h1></span>"
      ],
      "text/plain": [
       "<IPython.core.display.HTML object>"
      ]
     },
     "metadata": {},
     "output_type": "display_data"
    },
    {
     "data": {
      "text/html": [
       "<span style=\"color:#4527A0\"><h1 style=\"font-size:18px\">Trial summary</h1></span>"
      ],
      "text/plain": [
       "<IPython.core.display.HTML object>"
      ]
     },
     "metadata": {},
     "output_type": "display_data"
    },
    {
     "data": {
      "text/html": [
       "<span style=\"color:cyan\"> |-Trial ID: d0d9d373fdb2cf4ef3ab57bf625a2061</span>"
      ],
      "text/plain": [
       "<IPython.core.display.HTML object>"
      ]
     },
     "metadata": {},
     "output_type": "display_data"
    },
    {
     "data": {
      "text/html": [
       "<span style=\"color:cyan\"> |-Score: 0.40653443336486816</span>"
      ],
      "text/plain": [
       "<IPython.core.display.HTML object>"
      ]
     },
     "metadata": {},
     "output_type": "display_data"
    },
    {
     "data": {
      "text/html": [
       "<span style=\"color:cyan\"> |-Best step: 0</span>"
      ],
      "text/plain": [
       "<IPython.core.display.HTML object>"
      ]
     },
     "metadata": {},
     "output_type": "display_data"
    },
    {
     "data": {
      "text/html": [
       "<span style=\"color:#7E57C2\"><h2 style=\"font-size:16px\">Hyperparameters:</h2></span>"
      ],
      "text/plain": [
       "<IPython.core.display.HTML object>"
      ]
     },
     "metadata": {},
     "output_type": "display_data"
    },
    {
     "data": {
      "text/html": [
       "<span style=\"color:cyan\"> |-layers: 2</span>"
      ],
      "text/plain": [
       "<IPython.core.display.HTML object>"
      ]
     },
     "metadata": {},
     "output_type": "display_data"
    },
    {
     "data": {
      "text/html": [
       "<span style=\"color:blue\"> |-units_0: 480</span>"
      ],
      "text/plain": [
       "<IPython.core.display.HTML object>"
      ]
     },
     "metadata": {},
     "output_type": "display_data"
    },
    {
     "data": {
      "text/html": [
       "<span style=\"color:cyan\"> |-units_1: 480</span>"
      ],
      "text/plain": [
       "<IPython.core.display.HTML object>"
      ]
     },
     "metadata": {},
     "output_type": "display_data"
    },
    {
     "data": {
      "text/html": [
       "<span style=\"color:blue\"> |-units_2: 416</span>"
      ],
      "text/plain": [
       "<IPython.core.display.HTML object>"
      ]
     },
     "metadata": {},
     "output_type": "display_data"
    },
    {
     "name": "stdout",
     "output_type": "stream",
     "text": [
      "Epoch 1/20\n",
      "326/326 - 1s - loss: 0.5177 - accuracy: 0.7523 - val_loss: 0.4470 - val_accuracy: 0.8016\n",
      "Epoch 2/20\n",
      "326/326 - 1s - loss: 0.4761 - accuracy: 0.7788 - val_loss: 0.4279 - val_accuracy: 0.7970\n",
      "Epoch 3/20\n",
      "326/326 - 1s - loss: 0.4649 - accuracy: 0.7840 - val_loss: 0.4250 - val_accuracy: 0.8024\n",
      "Epoch 4/20\n",
      "326/326 - 1s - loss: 0.4608 - accuracy: 0.7865 - val_loss: 0.4215 - val_accuracy: 0.8039\n",
      "Epoch 5/20\n",
      "326/326 - 1s - loss: 0.4488 - accuracy: 0.7891 - val_loss: 0.4210 - val_accuracy: 0.8081\n",
      "Epoch 6/20\n",
      "326/326 - 1s - loss: 0.4479 - accuracy: 0.7908 - val_loss: 0.4182 - val_accuracy: 0.8062\n",
      "Epoch 7/20\n",
      "326/326 - 1s - loss: 0.4450 - accuracy: 0.7911 - val_loss: 0.4227 - val_accuracy: 0.8108\n",
      "Epoch 8/20\n",
      "326/326 - 1s - loss: 0.4461 - accuracy: 0.7915 - val_loss: 0.4351 - val_accuracy: 0.8008\n",
      "Epoch 9/20\n",
      "326/326 - 1s - loss: 0.4348 - accuracy: 0.7976 - val_loss: 0.4268 - val_accuracy: 0.8051\n",
      "Epoch 10/20\n",
      "326/326 - 1s - loss: 0.4307 - accuracy: 0.8006 - val_loss: 0.4235 - val_accuracy: 0.8054\n",
      "Epoch 11/20\n",
      "326/326 - 1s - loss: 0.4308 - accuracy: 0.8007 - val_loss: 0.4215 - val_accuracy: 0.8047\n",
      "Epoch 12/20\n",
      "326/326 - 1s - loss: 0.4273 - accuracy: 0.8025 - val_loss: 0.4132 - val_accuracy: 0.8081\n",
      "Epoch 13/20\n",
      "326/326 - 1s - loss: 0.4223 - accuracy: 0.8050 - val_loss: 0.4123 - val_accuracy: 0.8097\n",
      "Epoch 14/20\n",
      "326/326 - 1s - loss: 0.4212 - accuracy: 0.8030 - val_loss: 0.4082 - val_accuracy: 0.8208\n",
      "Epoch 15/20\n",
      "326/326 - 1s - loss: 0.4159 - accuracy: 0.8110 - val_loss: 0.4050 - val_accuracy: 0.8131\n",
      "Epoch 16/20\n",
      "326/326 - 1s - loss: 0.4110 - accuracy: 0.8146 - val_loss: 0.4141 - val_accuracy: 0.8162\n",
      "Epoch 17/20\n",
      "326/326 - 1s - loss: 0.4085 - accuracy: 0.8112 - val_loss: 0.4069 - val_accuracy: 0.8120\n",
      "Epoch 18/20\n",
      "326/326 - 1s - loss: 0.4033 - accuracy: 0.8109 - val_loss: 0.4111 - val_accuracy: 0.8120\n",
      "Epoch 19/20\n",
      "326/326 - 1s - loss: 0.4037 - accuracy: 0.8201 - val_loss: 0.4144 - val_accuracy: 0.8170\n",
      "Epoch 20/20\n",
      "326/326 - 1s - loss: 0.4057 - accuracy: 0.8149 - val_loss: 0.4136 - val_accuracy: 0.8143\n"
     ]
    },
    {
     "data": {
      "text/html": [
       "<span style=\"color:#4527A0\"><h1 style=\"font-size:18px\">Trial complete</h1></span>"
      ],
      "text/plain": [
       "<IPython.core.display.HTML object>"
      ]
     },
     "metadata": {},
     "output_type": "display_data"
    },
    {
     "data": {
      "text/html": [
       "<span style=\"color:#4527A0\"><h1 style=\"font-size:18px\">Trial summary</h1></span>"
      ],
      "text/plain": [
       "<IPython.core.display.HTML object>"
      ]
     },
     "metadata": {},
     "output_type": "display_data"
    },
    {
     "data": {
      "text/html": [
       "<span style=\"color:cyan\"> |-Trial ID: c1a730d493b7027935d39784227f1580</span>"
      ],
      "text/plain": [
       "<IPython.core.display.HTML object>"
      ]
     },
     "metadata": {},
     "output_type": "display_data"
    },
    {
     "data": {
      "text/html": [
       "<span style=\"color:cyan\"> |-Score: 0.4049685299396515</span>"
      ],
      "text/plain": [
       "<IPython.core.display.HTML object>"
      ]
     },
     "metadata": {},
     "output_type": "display_data"
    },
    {
     "data": {
      "text/html": [
       "<span style=\"color:cyan\"> |-Best step: 0</span>"
      ],
      "text/plain": [
       "<IPython.core.display.HTML object>"
      ]
     },
     "metadata": {},
     "output_type": "display_data"
    },
    {
     "data": {
      "text/html": [
       "<span style=\"color:#7E57C2\"><h2 style=\"font-size:16px\">Hyperparameters:</h2></span>"
      ],
      "text/plain": [
       "<IPython.core.display.HTML object>"
      ]
     },
     "metadata": {},
     "output_type": "display_data"
    },
    {
     "data": {
      "text/html": [
       "<span style=\"color:cyan\"> |-layers: 2</span>"
      ],
      "text/plain": [
       "<IPython.core.display.HTML object>"
      ]
     },
     "metadata": {},
     "output_type": "display_data"
    },
    {
     "data": {
      "text/html": [
       "<span style=\"color:blue\"> |-units_0: 288</span>"
      ],
      "text/plain": [
       "<IPython.core.display.HTML object>"
      ]
     },
     "metadata": {},
     "output_type": "display_data"
    },
    {
     "data": {
      "text/html": [
       "<span style=\"color:cyan\"> |-units_1: 352</span>"
      ],
      "text/plain": [
       "<IPython.core.display.HTML object>"
      ]
     },
     "metadata": {},
     "output_type": "display_data"
    },
    {
     "data": {
      "text/html": [
       "<span style=\"color:blue\"> |-units_2: 352</span>"
      ],
      "text/plain": [
       "<IPython.core.display.HTML object>"
      ]
     },
     "metadata": {},
     "output_type": "display_data"
    },
    {
     "name": "stdout",
     "output_type": "stream",
     "text": [
      "Epoch 1/20\n",
      "326/326 - 2s - loss: 0.5091 - accuracy: 0.7552 - val_loss: 0.4519 - val_accuracy: 0.7959\n",
      "Epoch 2/20\n",
      "326/326 - 2s - loss: 0.4808 - accuracy: 0.7747 - val_loss: 0.4404 - val_accuracy: 0.7947\n",
      "Epoch 3/20\n",
      "326/326 - 2s - loss: 0.4699 - accuracy: 0.7776 - val_loss: 0.4360 - val_accuracy: 0.8028\n",
      "Epoch 4/20\n",
      "326/326 - 2s - loss: 0.4609 - accuracy: 0.7829 - val_loss: 0.4323 - val_accuracy: 0.8039\n",
      "Epoch 5/20\n",
      "326/326 - 2s - loss: 0.4631 - accuracy: 0.7838 - val_loss: 0.4243 - val_accuracy: 0.8097\n",
      "Epoch 6/20\n",
      "326/326 - 2s - loss: 0.4581 - accuracy: 0.7811 - val_loss: 0.4212 - val_accuracy: 0.8097\n",
      "Epoch 7/20\n",
      "326/326 - 2s - loss: 0.4459 - accuracy: 0.7970 - val_loss: 0.4214 - val_accuracy: 0.8016\n",
      "Epoch 8/20\n",
      "326/326 - 2s - loss: 0.4389 - accuracy: 0.7964 - val_loss: 0.4242 - val_accuracy: 0.7978\n",
      "Epoch 9/20\n",
      "326/326 - 2s - loss: 0.4391 - accuracy: 0.7972 - val_loss: 0.4199 - val_accuracy: 0.8031\n",
      "Epoch 10/20\n",
      "326/326 - 2s - loss: 0.4317 - accuracy: 0.8052 - val_loss: 0.4142 - val_accuracy: 0.8139\n",
      "Epoch 11/20\n",
      "326/326 - 2s - loss: 0.4324 - accuracy: 0.7984 - val_loss: 0.4180 - val_accuracy: 0.8097\n",
      "Epoch 12/20\n",
      "326/326 - 2s - loss: 0.4298 - accuracy: 0.8038 - val_loss: 0.4300 - val_accuracy: 0.8112\n",
      "Epoch 13/20\n",
      "326/326 - 2s - loss: 0.4264 - accuracy: 0.8101 - val_loss: 0.4168 - val_accuracy: 0.8147\n",
      "Epoch 14/20\n",
      "326/326 - 2s - loss: 0.4235 - accuracy: 0.8007 - val_loss: 0.4240 - val_accuracy: 0.8139\n",
      "Epoch 15/20\n",
      "326/326 - 2s - loss: 0.4218 - accuracy: 0.8073 - val_loss: 0.4156 - val_accuracy: 0.8150\n",
      "Epoch 16/20\n",
      "326/326 - 2s - loss: 0.4172 - accuracy: 0.8093 - val_loss: 0.4113 - val_accuracy: 0.8185\n",
      "Epoch 17/20\n",
      "326/326 - 2s - loss: 0.4144 - accuracy: 0.8088 - val_loss: 0.4109 - val_accuracy: 0.8158\n",
      "Epoch 18/20\n",
      "326/326 - 2s - loss: 0.4106 - accuracy: 0.8091 - val_loss: 0.4104 - val_accuracy: 0.8158\n",
      "Epoch 19/20\n",
      "326/326 - 2s - loss: 0.4092 - accuracy: 0.8172 - val_loss: 0.4238 - val_accuracy: 0.8200\n",
      "Epoch 20/20\n",
      "326/326 - 2s - loss: 0.4031 - accuracy: 0.8145 - val_loss: 0.4004 - val_accuracy: 0.8185\n"
     ]
    },
    {
     "data": {
      "text/html": [
       "<span style=\"color:#4527A0\"><h1 style=\"font-size:18px\">Trial complete</h1></span>"
      ],
      "text/plain": [
       "<IPython.core.display.HTML object>"
      ]
     },
     "metadata": {},
     "output_type": "display_data"
    },
    {
     "data": {
      "text/html": [
       "<span style=\"color:#4527A0\"><h1 style=\"font-size:18px\">Trial summary</h1></span>"
      ],
      "text/plain": [
       "<IPython.core.display.HTML object>"
      ]
     },
     "metadata": {},
     "output_type": "display_data"
    },
    {
     "data": {
      "text/html": [
       "<span style=\"color:cyan\"> |-Trial ID: 0c35b1cf7acca51cb457152300096ada</span>"
      ],
      "text/plain": [
       "<IPython.core.display.HTML object>"
      ]
     },
     "metadata": {},
     "output_type": "display_data"
    },
    {
     "data": {
      "text/html": [
       "<span style=\"color:cyan\"> |-Score: 0.4003612697124481</span>"
      ],
      "text/plain": [
       "<IPython.core.display.HTML object>"
      ]
     },
     "metadata": {},
     "output_type": "display_data"
    },
    {
     "data": {
      "text/html": [
       "<span style=\"color:cyan\"> |-Best step: 0</span>"
      ],
      "text/plain": [
       "<IPython.core.display.HTML object>"
      ]
     },
     "metadata": {},
     "output_type": "display_data"
    },
    {
     "data": {
      "text/html": [
       "<span style=\"color:#7E57C2\"><h2 style=\"font-size:16px\">Hyperparameters:</h2></span>"
      ],
      "text/plain": [
       "<IPython.core.display.HTML object>"
      ]
     },
     "metadata": {},
     "output_type": "display_data"
    },
    {
     "data": {
      "text/html": [
       "<span style=\"color:cyan\"> |-layers: 3</span>"
      ],
      "text/plain": [
       "<IPython.core.display.HTML object>"
      ]
     },
     "metadata": {},
     "output_type": "display_data"
    },
    {
     "data": {
      "text/html": [
       "<span style=\"color:blue\"> |-units_0: 320</span>"
      ],
      "text/plain": [
       "<IPython.core.display.HTML object>"
      ]
     },
     "metadata": {},
     "output_type": "display_data"
    },
    {
     "data": {
      "text/html": [
       "<span style=\"color:cyan\"> |-units_1: 384</span>"
      ],
      "text/plain": [
       "<IPython.core.display.HTML object>"
      ]
     },
     "metadata": {},
     "output_type": "display_data"
    },
    {
     "data": {
      "text/html": [
       "<span style=\"color:blue\"> |-units_2: 448</span>"
      ],
      "text/plain": [
       "<IPython.core.display.HTML object>"
      ]
     },
     "metadata": {},
     "output_type": "display_data"
    },
    {
     "name": "stdout",
     "output_type": "stream",
     "text": [
      "Epoch 1/20\n",
      "326/326 - 1s - loss: 0.5250 - accuracy: 0.7538 - val_loss: 0.4435 - val_accuracy: 0.7982\n",
      "Epoch 2/20\n",
      "326/326 - 1s - loss: 0.4793 - accuracy: 0.7745 - val_loss: 0.4323 - val_accuracy: 0.7974\n",
      "Epoch 3/20\n",
      "326/326 - 1s - loss: 0.4737 - accuracy: 0.7811 - val_loss: 0.4320 - val_accuracy: 0.7936\n",
      "Epoch 4/20\n",
      "326/326 - 1s - loss: 0.4685 - accuracy: 0.7819 - val_loss: 0.4269 - val_accuracy: 0.8062\n",
      "Epoch 5/20\n",
      "326/326 - 1s - loss: 0.4620 - accuracy: 0.7845 - val_loss: 0.4263 - val_accuracy: 0.8104\n",
      "Epoch 6/20\n",
      "326/326 - 1s - loss: 0.4573 - accuracy: 0.7907 - val_loss: 0.4239 - val_accuracy: 0.8089\n",
      "Epoch 7/20\n",
      "326/326 - 1s - loss: 0.4527 - accuracy: 0.7873 - val_loss: 0.4244 - val_accuracy: 0.8058\n",
      "Epoch 8/20\n",
      "326/326 - 1s - loss: 0.4504 - accuracy: 0.7892 - val_loss: 0.4199 - val_accuracy: 0.8005\n",
      "Epoch 9/20\n",
      "326/326 - 1s - loss: 0.4559 - accuracy: 0.7897 - val_loss: 0.4216 - val_accuracy: 0.8104\n",
      "Epoch 10/20\n",
      "326/326 - 1s - loss: 0.4484 - accuracy: 0.7943 - val_loss: 0.4185 - val_accuracy: 0.8131\n",
      "Epoch 11/20\n",
      "326/326 - 1s - loss: 0.4494 - accuracy: 0.7896 - val_loss: 0.4215 - val_accuracy: 0.8051\n",
      "Epoch 12/20\n",
      "326/326 - 1s - loss: 0.4446 - accuracy: 0.7944 - val_loss: 0.4242 - val_accuracy: 0.8051\n",
      "Epoch 13/20\n",
      "326/326 - 1s - loss: 0.4462 - accuracy: 0.7964 - val_loss: 0.4144 - val_accuracy: 0.8104\n",
      "Epoch 14/20\n",
      "326/326 - 1s - loss: 0.4437 - accuracy: 0.7974 - val_loss: 0.4230 - val_accuracy: 0.8020\n",
      "Epoch 15/20\n",
      "326/326 - 1s - loss: 0.4354 - accuracy: 0.8017 - val_loss: 0.4148 - val_accuracy: 0.8039\n",
      "Epoch 16/20\n",
      "326/326 - 1s - loss: 0.4408 - accuracy: 0.8014 - val_loss: 0.4083 - val_accuracy: 0.8154\n",
      "Epoch 17/20\n",
      "326/326 - 1s - loss: 0.4332 - accuracy: 0.8029 - val_loss: 0.4112 - val_accuracy: 0.8135\n",
      "Epoch 18/20\n",
      "326/326 - 1s - loss: 0.4387 - accuracy: 0.7994 - val_loss: 0.4100 - val_accuracy: 0.8154\n",
      "Epoch 19/20\n",
      "326/326 - 1s - loss: 0.4358 - accuracy: 0.7984 - val_loss: 0.4130 - val_accuracy: 0.8131\n",
      "Epoch 20/20\n",
      "326/326 - 1s - loss: 0.4300 - accuracy: 0.8019 - val_loss: 0.4049 - val_accuracy: 0.8139\n"
     ]
    },
    {
     "data": {
      "text/html": [
       "<span style=\"color:#4527A0\"><h1 style=\"font-size:18px\">Trial complete</h1></span>"
      ],
      "text/plain": [
       "<IPython.core.display.HTML object>"
      ]
     },
     "metadata": {},
     "output_type": "display_data"
    },
    {
     "data": {
      "text/html": [
       "<span style=\"color:#4527A0\"><h1 style=\"font-size:18px\">Trial summary</h1></span>"
      ],
      "text/plain": [
       "<IPython.core.display.HTML object>"
      ]
     },
     "metadata": {},
     "output_type": "display_data"
    },
    {
     "data": {
      "text/html": [
       "<span style=\"color:cyan\"> |-Trial ID: 87dacfae522bd7a6a2b5faf7ed6cadd3</span>"
      ],
      "text/plain": [
       "<IPython.core.display.HTML object>"
      ]
     },
     "metadata": {},
     "output_type": "display_data"
    },
    {
     "data": {
      "text/html": [
       "<span style=\"color:cyan\"> |-Score: 0.4048879146575928</span>"
      ],
      "text/plain": [
       "<IPython.core.display.HTML object>"
      ]
     },
     "metadata": {},
     "output_type": "display_data"
    },
    {
     "data": {
      "text/html": [
       "<span style=\"color:cyan\"> |-Best step: 0</span>"
      ],
      "text/plain": [
       "<IPython.core.display.HTML object>"
      ]
     },
     "metadata": {},
     "output_type": "display_data"
    },
    {
     "data": {
      "text/html": [
       "<span style=\"color:#7E57C2\"><h2 style=\"font-size:16px\">Hyperparameters:</h2></span>"
      ],
      "text/plain": [
       "<IPython.core.display.HTML object>"
      ]
     },
     "metadata": {},
     "output_type": "display_data"
    },
    {
     "data": {
      "text/html": [
       "<span style=\"color:cyan\"> |-layers: 1</span>"
      ],
      "text/plain": [
       "<IPython.core.display.HTML object>"
      ]
     },
     "metadata": {},
     "output_type": "display_data"
    },
    {
     "data": {
      "text/html": [
       "<span style=\"color:blue\"> |-units_0: 320</span>"
      ],
      "text/plain": [
       "<IPython.core.display.HTML object>"
      ]
     },
     "metadata": {},
     "output_type": "display_data"
    },
    {
     "data": {
      "text/html": [
       "<span style=\"color:cyan\"> |-units_1: 512</span>"
      ],
      "text/plain": [
       "<IPython.core.display.HTML object>"
      ]
     },
     "metadata": {},
     "output_type": "display_data"
    },
    {
     "data": {
      "text/html": [
       "<span style=\"color:blue\"> |-units_2: 416</span>"
      ],
      "text/plain": [
       "<IPython.core.display.HTML object>"
      ]
     },
     "metadata": {},
     "output_type": "display_data"
    },
    {
     "name": "stdout",
     "output_type": "stream",
     "text": [
      "Epoch 1/20\n",
      "326/326 - 1s - loss: 0.5082 - accuracy: 0.7602 - val_loss: 0.4443 - val_accuracy: 0.7889\n",
      "Epoch 2/20\n",
      "326/326 - 1s - loss: 0.4785 - accuracy: 0.7759 - val_loss: 0.4382 - val_accuracy: 0.8039\n",
      "Epoch 3/20\n",
      "326/326 - 1s - loss: 0.4690 - accuracy: 0.7825 - val_loss: 0.4252 - val_accuracy: 0.7997\n",
      "Epoch 4/20\n",
      "326/326 - 1s - loss: 0.4594 - accuracy: 0.7857 - val_loss: 0.4244 - val_accuracy: 0.8081\n",
      "Epoch 5/20\n",
      "326/326 - 1s - loss: 0.4519 - accuracy: 0.7887 - val_loss: 0.4220 - val_accuracy: 0.8124\n",
      "Epoch 6/20\n",
      "326/326 - 1s - loss: 0.4450 - accuracy: 0.7875 - val_loss: 0.4164 - val_accuracy: 0.8104\n",
      "Epoch 7/20\n",
      "326/326 - 1s - loss: 0.4403 - accuracy: 0.7996 - val_loss: 0.4138 - val_accuracy: 0.8093\n",
      "Epoch 8/20\n",
      "326/326 - 1s - loss: 0.4398 - accuracy: 0.8007 - val_loss: 0.4190 - val_accuracy: 0.8085\n",
      "Epoch 9/20\n",
      "326/326 - 1s - loss: 0.4343 - accuracy: 0.7955 - val_loss: 0.4137 - val_accuracy: 0.8089\n",
      "Epoch 10/20\n",
      "326/326 - 1s - loss: 0.4309 - accuracy: 0.8017 - val_loss: 0.4117 - val_accuracy: 0.8112\n",
      "Epoch 11/20\n",
      "326/326 - 1s - loss: 0.4284 - accuracy: 0.8004 - val_loss: 0.4116 - val_accuracy: 0.8150\n",
      "Epoch 12/20\n",
      "326/326 - 1s - loss: 0.4267 - accuracy: 0.8079 - val_loss: 0.4136 - val_accuracy: 0.8093\n",
      "Epoch 13/20\n",
      "326/326 - 1s - loss: 0.4273 - accuracy: 0.8064 - val_loss: 0.4112 - val_accuracy: 0.8127\n",
      "Epoch 14/20\n",
      "326/326 - 1s - loss: 0.4181 - accuracy: 0.8078 - val_loss: 0.4123 - val_accuracy: 0.8116\n",
      "Epoch 15/20\n",
      "326/326 - 1s - loss: 0.4190 - accuracy: 0.8082 - val_loss: 0.4134 - val_accuracy: 0.8131\n",
      "Epoch 16/20\n",
      "326/326 - 1s - loss: 0.4154 - accuracy: 0.8111 - val_loss: 0.4080 - val_accuracy: 0.8154\n",
      "Epoch 17/20\n",
      "326/326 - 1s - loss: 0.4095 - accuracy: 0.8118 - val_loss: 0.4137 - val_accuracy: 0.8235\n",
      "Epoch 18/20\n",
      "326/326 - 1s - loss: 0.4019 - accuracy: 0.8170 - val_loss: 0.4059 - val_accuracy: 0.8158\n",
      "Epoch 19/20\n",
      "326/326 - 1s - loss: 0.4018 - accuracy: 0.8148 - val_loss: 0.4053 - val_accuracy: 0.8208\n",
      "Epoch 20/20\n",
      "326/326 - 1s - loss: 0.4055 - accuracy: 0.8136 - val_loss: 0.4010 - val_accuracy: 0.8173\n"
     ]
    },
    {
     "data": {
      "text/html": [
       "<span style=\"color:#4527A0\"><h1 style=\"font-size:18px\">Trial complete</h1></span>"
      ],
      "text/plain": [
       "<IPython.core.display.HTML object>"
      ]
     },
     "metadata": {},
     "output_type": "display_data"
    },
    {
     "data": {
      "text/html": [
       "<span style=\"color:#4527A0\"><h1 style=\"font-size:18px\">Trial summary</h1></span>"
      ],
      "text/plain": [
       "<IPython.core.display.HTML object>"
      ]
     },
     "metadata": {},
     "output_type": "display_data"
    },
    {
     "data": {
      "text/html": [
       "<span style=\"color:cyan\"> |-Trial ID: ac38eefa3458e2a76c6e445a5940b1ec</span>"
      ],
      "text/plain": [
       "<IPython.core.display.HTML object>"
      ]
     },
     "metadata": {},
     "output_type": "display_data"
    },
    {
     "data": {
      "text/html": [
       "<span style=\"color:cyan\"> |-Score: 0.4009609818458557</span>"
      ],
      "text/plain": [
       "<IPython.core.display.HTML object>"
      ]
     },
     "metadata": {},
     "output_type": "display_data"
    },
    {
     "data": {
      "text/html": [
       "<span style=\"color:cyan\"> |-Best step: 0</span>"
      ],
      "text/plain": [
       "<IPython.core.display.HTML object>"
      ]
     },
     "metadata": {},
     "output_type": "display_data"
    },
    {
     "data": {
      "text/html": [
       "<span style=\"color:#7E57C2\"><h2 style=\"font-size:16px\">Hyperparameters:</h2></span>"
      ],
      "text/plain": [
       "<IPython.core.display.HTML object>"
      ]
     },
     "metadata": {},
     "output_type": "display_data"
    },
    {
     "data": {
      "text/html": [
       "<span style=\"color:cyan\"> |-layers: 2</span>"
      ],
      "text/plain": [
       "<IPython.core.display.HTML object>"
      ]
     },
     "metadata": {},
     "output_type": "display_data"
    },
    {
     "data": {
      "text/html": [
       "<span style=\"color:blue\"> |-units_0: 384</span>"
      ],
      "text/plain": [
       "<IPython.core.display.HTML object>"
      ]
     },
     "metadata": {},
     "output_type": "display_data"
    },
    {
     "data": {
      "text/html": [
       "<span style=\"color:cyan\"> |-units_1: 288</span>"
      ],
      "text/plain": [
       "<IPython.core.display.HTML object>"
      ]
     },
     "metadata": {},
     "output_type": "display_data"
    },
    {
     "data": {
      "text/html": [
       "<span style=\"color:blue\"> |-units_2: 480</span>"
      ],
      "text/plain": [
       "<IPython.core.display.HTML object>"
      ]
     },
     "metadata": {},
     "output_type": "display_data"
    },
    {
     "name": "stdout",
     "output_type": "stream",
     "text": [
      "Epoch 1/20\n",
      "326/326 - 1s - loss: 0.5138 - accuracy: 0.7540 - val_loss: 0.4344 - val_accuracy: 0.7924\n",
      "Epoch 2/20\n",
      "326/326 - 1s - loss: 0.4770 - accuracy: 0.7769 - val_loss: 0.4364 - val_accuracy: 0.8089\n",
      "Epoch 3/20\n",
      "326/326 - 2s - loss: 0.4649 - accuracy: 0.7852 - val_loss: 0.4312 - val_accuracy: 0.8016\n",
      "Epoch 4/20\n",
      "326/326 - 1s - loss: 0.4573 - accuracy: 0.7879 - val_loss: 0.4212 - val_accuracy: 0.8058\n",
      "Epoch 5/20\n",
      "326/326 - 1s - loss: 0.4553 - accuracy: 0.7861 - val_loss: 0.4201 - val_accuracy: 0.8081\n",
      "Epoch 6/20\n",
      "326/326 - 1s - loss: 0.4480 - accuracy: 0.7956 - val_loss: 0.4292 - val_accuracy: 0.8054\n",
      "Epoch 7/20\n",
      "326/326 - 1s - loss: 0.4458 - accuracy: 0.7925 - val_loss: 0.4163 - val_accuracy: 0.8085\n",
      "Epoch 8/20\n",
      "326/326 - 1s - loss: 0.4379 - accuracy: 0.7965 - val_loss: 0.4192 - val_accuracy: 0.8097\n",
      "Epoch 9/20\n",
      "326/326 - 1s - loss: 0.4359 - accuracy: 0.8005 - val_loss: 0.4154 - val_accuracy: 0.8104\n",
      "Epoch 10/20\n",
      "326/326 - 1s - loss: 0.4391 - accuracy: 0.7946 - val_loss: 0.4124 - val_accuracy: 0.8085\n",
      "Epoch 11/20\n",
      "326/326 - 1s - loss: 0.4286 - accuracy: 0.7996 - val_loss: 0.4184 - val_accuracy: 0.8085\n",
      "Epoch 12/20\n",
      "326/326 - 1s - loss: 0.4240 - accuracy: 0.8058 - val_loss: 0.4063 - val_accuracy: 0.8139\n",
      "Epoch 13/20\n",
      "326/326 - 1s - loss: 0.4263 - accuracy: 0.8051 - val_loss: 0.4093 - val_accuracy: 0.8170\n",
      "Epoch 14/20\n",
      "326/326 - 1s - loss: 0.4237 - accuracy: 0.8088 - val_loss: 0.4147 - val_accuracy: 0.8173\n",
      "Epoch 15/20\n",
      "326/326 - 1s - loss: 0.4118 - accuracy: 0.8088 - val_loss: 0.4102 - val_accuracy: 0.8158\n",
      "Epoch 16/20\n",
      "326/326 - 1s - loss: 0.4208 - accuracy: 0.8054 - val_loss: 0.4153 - val_accuracy: 0.8216\n",
      "Epoch 17/20\n",
      "326/326 - 1s - loss: 0.4144 - accuracy: 0.8073 - val_loss: 0.4118 - val_accuracy: 0.8189\n",
      "Epoch 18/20\n",
      "326/326 - 1s - loss: 0.4083 - accuracy: 0.8148 - val_loss: 0.4035 - val_accuracy: 0.8173\n",
      "Epoch 19/20\n",
      "326/326 - 1s - loss: 0.4074 - accuracy: 0.8114 - val_loss: 0.4039 - val_accuracy: 0.8219\n",
      "Epoch 20/20\n",
      "326/326 - 1s - loss: 0.3981 - accuracy: 0.8156 - val_loss: 0.4207 - val_accuracy: 0.8135\n"
     ]
    },
    {
     "data": {
      "text/html": [
       "<span style=\"color:#4527A0\"><h1 style=\"font-size:18px\">Trial complete</h1></span>"
      ],
      "text/plain": [
       "<IPython.core.display.HTML object>"
      ]
     },
     "metadata": {},
     "output_type": "display_data"
    },
    {
     "data": {
      "text/html": [
       "<span style=\"color:#4527A0\"><h1 style=\"font-size:18px\">Trial summary</h1></span>"
      ],
      "text/plain": [
       "<IPython.core.display.HTML object>"
      ]
     },
     "metadata": {},
     "output_type": "display_data"
    },
    {
     "data": {
      "text/html": [
       "<span style=\"color:cyan\"> |-Trial ID: 3bc9576aaae492a68fc4fd8b8f3ce5f1</span>"
      ],
      "text/plain": [
       "<IPython.core.display.HTML object>"
      ]
     },
     "metadata": {},
     "output_type": "display_data"
    },
    {
     "data": {
      "text/html": [
       "<span style=\"color:cyan\"> |-Score: 0.4035337567329407</span>"
      ],
      "text/plain": [
       "<IPython.core.display.HTML object>"
      ]
     },
     "metadata": {},
     "output_type": "display_data"
    },
    {
     "data": {
      "text/html": [
       "<span style=\"color:cyan\"> |-Best step: 0</span>"
      ],
      "text/plain": [
       "<IPython.core.display.HTML object>"
      ]
     },
     "metadata": {},
     "output_type": "display_data"
    },
    {
     "data": {
      "text/html": [
       "<span style=\"color:#7E57C2\"><h2 style=\"font-size:16px\">Hyperparameters:</h2></span>"
      ],
      "text/plain": [
       "<IPython.core.display.HTML object>"
      ]
     },
     "metadata": {},
     "output_type": "display_data"
    },
    {
     "data": {
      "text/html": [
       "<span style=\"color:cyan\"> |-layers: 2</span>"
      ],
      "text/plain": [
       "<IPython.core.display.HTML object>"
      ]
     },
     "metadata": {},
     "output_type": "display_data"
    },
    {
     "data": {
      "text/html": [
       "<span style=\"color:blue\"> |-units_0: 320</span>"
      ],
      "text/plain": [
       "<IPython.core.display.HTML object>"
      ]
     },
     "metadata": {},
     "output_type": "display_data"
    },
    {
     "data": {
      "text/html": [
       "<span style=\"color:cyan\"> |-units_1: 480</span>"
      ],
      "text/plain": [
       "<IPython.core.display.HTML object>"
      ]
     },
     "metadata": {},
     "output_type": "display_data"
    },
    {
     "data": {
      "text/html": [
       "<span style=\"color:blue\"> |-units_2: 384</span>"
      ],
      "text/plain": [
       "<IPython.core.display.HTML object>"
      ]
     },
     "metadata": {},
     "output_type": "display_data"
    },
    {
     "name": "stdout",
     "output_type": "stream",
     "text": [
      "Epoch 1/20\n",
      "326/326 - 1s - loss: 0.5208 - accuracy: 0.7521 - val_loss: 0.4428 - val_accuracy: 0.7962\n",
      "Epoch 2/20\n",
      "326/326 - 1s - loss: 0.4803 - accuracy: 0.7761 - val_loss: 0.4340 - val_accuracy: 0.8031\n",
      "Epoch 3/20\n",
      "326/326 - 1s - loss: 0.4690 - accuracy: 0.7787 - val_loss: 0.4242 - val_accuracy: 0.8031\n",
      "Epoch 4/20\n",
      "326/326 - 1s - loss: 0.4664 - accuracy: 0.7839 - val_loss: 0.4302 - val_accuracy: 0.7947\n",
      "Epoch 5/20\n",
      "326/326 - 1s - loss: 0.4642 - accuracy: 0.7812 - val_loss: 0.4217 - val_accuracy: 0.8047\n",
      "Epoch 6/20\n",
      "326/326 - 1s - loss: 0.4549 - accuracy: 0.7897 - val_loss: 0.4252 - val_accuracy: 0.8054\n",
      "Epoch 7/20\n",
      "326/326 - 1s - loss: 0.4543 - accuracy: 0.7907 - val_loss: 0.4130 - val_accuracy: 0.8127\n",
      "Epoch 8/20\n",
      "326/326 - 1s - loss: 0.4492 - accuracy: 0.7956 - val_loss: 0.4157 - val_accuracy: 0.8062\n",
      "Epoch 9/20\n",
      "326/326 - 1s - loss: 0.4508 - accuracy: 0.7915 - val_loss: 0.4220 - val_accuracy: 0.8051\n",
      "Epoch 10/20\n",
      "326/326 - 1s - loss: 0.4471 - accuracy: 0.7944 - val_loss: 0.4268 - val_accuracy: 0.8005\n",
      "Epoch 11/20\n",
      "326/326 - 1s - loss: 0.4513 - accuracy: 0.7928 - val_loss: 0.4230 - val_accuracy: 0.8051\n",
      "Epoch 12/20\n",
      "326/326 - 1s - loss: 0.4424 - accuracy: 0.7997 - val_loss: 0.4097 - val_accuracy: 0.8185\n",
      "Epoch 13/20\n",
      "326/326 - 1s - loss: 0.4420 - accuracy: 0.7966 - val_loss: 0.4159 - val_accuracy: 0.8127\n",
      "Epoch 14/20\n",
      "326/326 - 1s - loss: 0.4475 - accuracy: 0.7934 - val_loss: 0.4234 - val_accuracy: 0.8089\n",
      "Epoch 15/20\n",
      "326/326 - 1s - loss: 0.4349 - accuracy: 0.8017 - val_loss: 0.4146 - val_accuracy: 0.8101\n",
      "Epoch 16/20\n",
      "326/326 - 1s - loss: 0.4408 - accuracy: 0.7988 - val_loss: 0.4076 - val_accuracy: 0.8139\n",
      "Epoch 17/20\n",
      "326/326 - 1s - loss: 0.4341 - accuracy: 0.7996 - val_loss: 0.4265 - val_accuracy: 0.8035\n",
      "Epoch 18/20\n",
      "326/326 - 1s - loss: 0.4345 - accuracy: 0.8033 - val_loss: 0.4095 - val_accuracy: 0.8196\n",
      "Epoch 19/20\n",
      "326/326 - 1s - loss: 0.4391 - accuracy: 0.8012 - val_loss: 0.4070 - val_accuracy: 0.8139\n",
      "Epoch 20/20\n",
      "326/326 - 1s - loss: 0.4364 - accuracy: 0.7995 - val_loss: 0.4144 - val_accuracy: 0.8181\n"
     ]
    },
    {
     "data": {
      "text/html": [
       "<span style=\"color:#4527A0\"><h1 style=\"font-size:18px\">Trial complete</h1></span>"
      ],
      "text/plain": [
       "<IPython.core.display.HTML object>"
      ]
     },
     "metadata": {},
     "output_type": "display_data"
    },
    {
     "data": {
      "text/html": [
       "<span style=\"color:#4527A0\"><h1 style=\"font-size:18px\">Trial summary</h1></span>"
      ],
      "text/plain": [
       "<IPython.core.display.HTML object>"
      ]
     },
     "metadata": {},
     "output_type": "display_data"
    },
    {
     "data": {
      "text/html": [
       "<span style=\"color:cyan\"> |-Trial ID: eaa4bdd168f60d278aec1a0d77e2caaa</span>"
      ],
      "text/plain": [
       "<IPython.core.display.HTML object>"
      ]
     },
     "metadata": {},
     "output_type": "display_data"
    },
    {
     "data": {
      "text/html": [
       "<span style=\"color:cyan\"> |-Score: 0.4069717526435852</span>"
      ],
      "text/plain": [
       "<IPython.core.display.HTML object>"
      ]
     },
     "metadata": {},
     "output_type": "display_data"
    },
    {
     "data": {
      "text/html": [
       "<span style=\"color:cyan\"> |-Best step: 0</span>"
      ],
      "text/plain": [
       "<IPython.core.display.HTML object>"
      ]
     },
     "metadata": {},
     "output_type": "display_data"
    },
    {
     "data": {
      "text/html": [
       "<span style=\"color:#7E57C2\"><h2 style=\"font-size:16px\">Hyperparameters:</h2></span>"
      ],
      "text/plain": [
       "<IPython.core.display.HTML object>"
      ]
     },
     "metadata": {},
     "output_type": "display_data"
    },
    {
     "data": {
      "text/html": [
       "<span style=\"color:cyan\"> |-layers: 1</span>"
      ],
      "text/plain": [
       "<IPython.core.display.HTML object>"
      ]
     },
     "metadata": {},
     "output_type": "display_data"
    },
    {
     "data": {
      "text/html": [
       "<span style=\"color:blue\"> |-units_0: 352</span>"
      ],
      "text/plain": [
       "<IPython.core.display.HTML object>"
      ]
     },
     "metadata": {},
     "output_type": "display_data"
    },
    {
     "data": {
      "text/html": [
       "<span style=\"color:cyan\"> |-units_1: 288</span>"
      ],
      "text/plain": [
       "<IPython.core.display.HTML object>"
      ]
     },
     "metadata": {},
     "output_type": "display_data"
    },
    {
     "data": {
      "text/html": [
       "<span style=\"color:blue\"> |-units_2: 448</span>"
      ],
      "text/plain": [
       "<IPython.core.display.HTML object>"
      ]
     },
     "metadata": {},
     "output_type": "display_data"
    },
    {
     "name": "stdout",
     "output_type": "stream",
     "text": [
      "Epoch 1/20\n",
      "326/326 - 1s - loss: 0.5253 - accuracy: 0.7485 - val_loss: 0.4421 - val_accuracy: 0.8012\n",
      "Epoch 2/20\n",
      "326/326 - 1s - loss: 0.4818 - accuracy: 0.7701 - val_loss: 0.4325 - val_accuracy: 0.7974\n",
      "Epoch 3/20\n",
      "326/326 - 1s - loss: 0.4762 - accuracy: 0.7791 - val_loss: 0.4291 - val_accuracy: 0.8051\n",
      "Epoch 4/20\n",
      "326/326 - 1s - loss: 0.4627 - accuracy: 0.7838 - val_loss: 0.4253 - val_accuracy: 0.8051\n",
      "Epoch 5/20\n",
      "326/326 - 1s - loss: 0.4651 - accuracy: 0.7846 - val_loss: 0.4236 - val_accuracy: 0.8051\n",
      "Epoch 6/20\n",
      "326/326 - 1s - loss: 0.4628 - accuracy: 0.7869 - val_loss: 0.4151 - val_accuracy: 0.8108\n",
      "Epoch 7/20\n",
      "326/326 - 1s - loss: 0.4528 - accuracy: 0.7955 - val_loss: 0.4209 - val_accuracy: 0.8078\n",
      "Epoch 8/20\n",
      "326/326 - 1s - loss: 0.4572 - accuracy: 0.7881 - val_loss: 0.4177 - val_accuracy: 0.8135\n",
      "Epoch 9/20\n",
      "326/326 - 1s - loss: 0.4512 - accuracy: 0.7902 - val_loss: 0.4194 - val_accuracy: 0.8062\n",
      "Epoch 10/20\n",
      "326/326 - 1s - loss: 0.4505 - accuracy: 0.7896 - val_loss: 0.4187 - val_accuracy: 0.8166\n",
      "Epoch 11/20\n",
      "326/326 - 1s - loss: 0.4453 - accuracy: 0.7963 - val_loss: 0.4186 - val_accuracy: 0.8074\n",
      "Epoch 12/20\n",
      "326/326 - 1s - loss: 0.4417 - accuracy: 0.7957 - val_loss: 0.4257 - val_accuracy: 0.8005\n",
      "Epoch 13/20\n",
      "326/326 - 1s - loss: 0.4509 - accuracy: 0.7918 - val_loss: 0.4299 - val_accuracy: 0.8054\n",
      "Epoch 14/20\n",
      "326/326 - 1s - loss: 0.4394 - accuracy: 0.7992 - val_loss: 0.4221 - val_accuracy: 0.8043\n",
      "Epoch 15/20\n",
      "326/326 - 1s - loss: 0.4451 - accuracy: 0.7948 - val_loss: 0.4186 - val_accuracy: 0.8093\n",
      "Epoch 16/20\n",
      "326/326 - 1s - loss: 0.4438 - accuracy: 0.7918 - val_loss: 0.4114 - val_accuracy: 0.8212\n",
      "Epoch 17/20\n",
      "326/326 - 1s - loss: 0.4417 - accuracy: 0.8008 - val_loss: 0.4107 - val_accuracy: 0.8058\n",
      "Epoch 18/20\n",
      "326/326 - 1s - loss: 0.4367 - accuracy: 0.8000 - val_loss: 0.4213 - val_accuracy: 0.8093\n",
      "Epoch 19/20\n",
      "326/326 - 1s - loss: 0.4338 - accuracy: 0.7997 - val_loss: 0.4142 - val_accuracy: 0.8054\n",
      "Epoch 20/20\n",
      "326/326 - 1s - loss: 0.4344 - accuracy: 0.8047 - val_loss: 0.4117 - val_accuracy: 0.8124\n"
     ]
    },
    {
     "data": {
      "text/html": [
       "<span style=\"color:#4527A0\"><h1 style=\"font-size:18px\">Trial complete</h1></span>"
      ],
      "text/plain": [
       "<IPython.core.display.HTML object>"
      ]
     },
     "metadata": {},
     "output_type": "display_data"
    },
    {
     "data": {
      "text/html": [
       "<span style=\"color:#4527A0\"><h1 style=\"font-size:18px\">Trial summary</h1></span>"
      ],
      "text/plain": [
       "<IPython.core.display.HTML object>"
      ]
     },
     "metadata": {},
     "output_type": "display_data"
    },
    {
     "data": {
      "text/html": [
       "<span style=\"color:cyan\"> |-Trial ID: 7787276850a4857816b7b11b5b5d5f31</span>"
      ],
      "text/plain": [
       "<IPython.core.display.HTML object>"
      ]
     },
     "metadata": {},
     "output_type": "display_data"
    },
    {
     "data": {
      "text/html": [
       "<span style=\"color:cyan\"> |-Score: 0.41065868735313416</span>"
      ],
      "text/plain": [
       "<IPython.core.display.HTML object>"
      ]
     },
     "metadata": {},
     "output_type": "display_data"
    },
    {
     "data": {
      "text/html": [
       "<span style=\"color:cyan\"> |-Best step: 0</span>"
      ],
      "text/plain": [
       "<IPython.core.display.HTML object>"
      ]
     },
     "metadata": {},
     "output_type": "display_data"
    },
    {
     "data": {
      "text/html": [
       "<span style=\"color:#7E57C2\"><h2 style=\"font-size:16px\">Hyperparameters:</h2></span>"
      ],
      "text/plain": [
       "<IPython.core.display.HTML object>"
      ]
     },
     "metadata": {},
     "output_type": "display_data"
    },
    {
     "data": {
      "text/html": [
       "<span style=\"color:cyan\"> |-layers: 1</span>"
      ],
      "text/plain": [
       "<IPython.core.display.HTML object>"
      ]
     },
     "metadata": {},
     "output_type": "display_data"
    },
    {
     "data": {
      "text/html": [
       "<span style=\"color:blue\"> |-units_0: 448</span>"
      ],
      "text/plain": [
       "<IPython.core.display.HTML object>"
      ]
     },
     "metadata": {},
     "output_type": "display_data"
    },
    {
     "data": {
      "text/html": [
       "<span style=\"color:cyan\"> |-units_1: 480</span>"
      ],
      "text/plain": [
       "<IPython.core.display.HTML object>"
      ]
     },
     "metadata": {},
     "output_type": "display_data"
    },
    {
     "data": {
      "text/html": [
       "<span style=\"color:blue\"> |-units_2: 448</span>"
      ],
      "text/plain": [
       "<IPython.core.display.HTML object>"
      ]
     },
     "metadata": {},
     "output_type": "display_data"
    },
    {
     "name": "stdout",
     "output_type": "stream",
     "text": [
      "Epoch 1/20\n",
      "326/326 - 1s - loss: 0.5212 - accuracy: 0.7555 - val_loss: 0.4451 - val_accuracy: 0.7916\n",
      "Epoch 2/20\n",
      "326/326 - 1s - loss: 0.4763 - accuracy: 0.7736 - val_loss: 0.4305 - val_accuracy: 0.8047\n",
      "Epoch 3/20\n",
      "326/326 - 1s - loss: 0.4723 - accuracy: 0.7792 - val_loss: 0.4314 - val_accuracy: 0.7993\n",
      "Epoch 4/20\n",
      "326/326 - 1s - loss: 0.4670 - accuracy: 0.7831 - val_loss: 0.4270 - val_accuracy: 0.7966\n",
      "Epoch 5/20\n",
      "326/326 - 1s - loss: 0.4632 - accuracy: 0.7823 - val_loss: 0.4220 - val_accuracy: 0.8028\n",
      "Epoch 6/20\n",
      "326/326 - 1s - loss: 0.4583 - accuracy: 0.7889 - val_loss: 0.4224 - val_accuracy: 0.8054\n",
      "Epoch 7/20\n",
      "326/326 - 1s - loss: 0.4597 - accuracy: 0.7922 - val_loss: 0.4191 - val_accuracy: 0.8143\n",
      "Epoch 8/20\n",
      "326/326 - 1s - loss: 0.4581 - accuracy: 0.7872 - val_loss: 0.4435 - val_accuracy: 0.7924\n",
      "Epoch 9/20\n",
      "326/326 - 1s - loss: 0.4499 - accuracy: 0.7902 - val_loss: 0.4269 - val_accuracy: 0.8058\n",
      "Epoch 10/20\n",
      "326/326 - 1s - loss: 0.4575 - accuracy: 0.7895 - val_loss: 0.4181 - val_accuracy: 0.8108\n",
      "Epoch 11/20\n",
      "326/326 - 1s - loss: 0.4509 - accuracy: 0.7935 - val_loss: 0.4198 - val_accuracy: 0.8078\n",
      "Epoch 12/20\n",
      "326/326 - 1s - loss: 0.4394 - accuracy: 0.7981 - val_loss: 0.4207 - val_accuracy: 0.8108\n",
      "Epoch 13/20\n",
      "326/326 - 1s - loss: 0.4451 - accuracy: 0.7966 - val_loss: 0.4169 - val_accuracy: 0.8147\n",
      "Epoch 14/20\n",
      "326/326 - 1s - loss: 0.4424 - accuracy: 0.7971 - val_loss: 0.4225 - val_accuracy: 0.8089\n",
      "Epoch 15/20\n",
      "326/326 - 1s - loss: 0.4432 - accuracy: 0.7939 - val_loss: 0.4096 - val_accuracy: 0.8154\n",
      "Epoch 16/20\n",
      "326/326 - 1s - loss: 0.4407 - accuracy: 0.7988 - val_loss: 0.4174 - val_accuracy: 0.8020\n",
      "Epoch 17/20\n",
      "326/326 - 1s - loss: 0.4364 - accuracy: 0.8001 - val_loss: 0.4062 - val_accuracy: 0.8189\n",
      "Epoch 18/20\n",
      "326/326 - 1s - loss: 0.4414 - accuracy: 0.8012 - val_loss: 0.4092 - val_accuracy: 0.8147\n",
      "Epoch 19/20\n",
      "326/326 - 1s - loss: 0.4379 - accuracy: 0.8039 - val_loss: 0.4075 - val_accuracy: 0.8173\n",
      "Epoch 20/20\n",
      "326/326 - 1s - loss: 0.4354 - accuracy: 0.7982 - val_loss: 0.4076 - val_accuracy: 0.8158\n"
     ]
    },
    {
     "data": {
      "text/html": [
       "<span style=\"color:#4527A0\"><h1 style=\"font-size:18px\">Trial complete</h1></span>"
      ],
      "text/plain": [
       "<IPython.core.display.HTML object>"
      ]
     },
     "metadata": {},
     "output_type": "display_data"
    },
    {
     "data": {
      "text/html": [
       "<span style=\"color:#4527A0\"><h1 style=\"font-size:18px\">Trial summary</h1></span>"
      ],
      "text/plain": [
       "<IPython.core.display.HTML object>"
      ]
     },
     "metadata": {},
     "output_type": "display_data"
    },
    {
     "data": {
      "text/html": [
       "<span style=\"color:cyan\"> |-Trial ID: 89a8235c56eb6a56431a2f4e603aaa71</span>"
      ],
      "text/plain": [
       "<IPython.core.display.HTML object>"
      ]
     },
     "metadata": {},
     "output_type": "display_data"
    },
    {
     "data": {
      "text/html": [
       "<span style=\"color:cyan\"> |-Score: 0.4062381088733673</span>"
      ],
      "text/plain": [
       "<IPython.core.display.HTML object>"
      ]
     },
     "metadata": {},
     "output_type": "display_data"
    },
    {
     "data": {
      "text/html": [
       "<span style=\"color:cyan\"> |-Best step: 0</span>"
      ],
      "text/plain": [
       "<IPython.core.display.HTML object>"
      ]
     },
     "metadata": {},
     "output_type": "display_data"
    },
    {
     "data": {
      "text/html": [
       "<span style=\"color:#7E57C2\"><h2 style=\"font-size:16px\">Hyperparameters:</h2></span>"
      ],
      "text/plain": [
       "<IPython.core.display.HTML object>"
      ]
     },
     "metadata": {},
     "output_type": "display_data"
    },
    {
     "data": {
      "text/html": [
       "<span style=\"color:cyan\"> |-layers: 1</span>"
      ],
      "text/plain": [
       "<IPython.core.display.HTML object>"
      ]
     },
     "metadata": {},
     "output_type": "display_data"
    },
    {
     "data": {
      "text/html": [
       "<span style=\"color:blue\"> |-units_0: 448</span>"
      ],
      "text/plain": [
       "<IPython.core.display.HTML object>"
      ]
     },
     "metadata": {},
     "output_type": "display_data"
    },
    {
     "data": {
      "text/html": [
       "<span style=\"color:cyan\"> |-units_1: 384</span>"
      ],
      "text/plain": [
       "<IPython.core.display.HTML object>"
      ]
     },
     "metadata": {},
     "output_type": "display_data"
    },
    {
     "data": {
      "text/html": [
       "<span style=\"color:blue\"> |-units_2: 320</span>"
      ],
      "text/plain": [
       "<IPython.core.display.HTML object>"
      ]
     },
     "metadata": {},
     "output_type": "display_data"
    },
    {
     "name": "stdout",
     "output_type": "stream",
     "text": [
      "Epoch 1/20\n",
      "326/326 - 1s - loss: 0.5186 - accuracy: 0.7542 - val_loss: 0.4423 - val_accuracy: 0.7939\n",
      "Epoch 2/20\n",
      "326/326 - 1s - loss: 0.4837 - accuracy: 0.7729 - val_loss: 0.4350 - val_accuracy: 0.7989\n",
      "Epoch 3/20\n",
      "326/326 - 1s - loss: 0.4671 - accuracy: 0.7845 - val_loss: 0.4279 - val_accuracy: 0.8070\n",
      "Epoch 4/20\n",
      "326/326 - 1s - loss: 0.4684 - accuracy: 0.7825 - val_loss: 0.4218 - val_accuracy: 0.8051\n",
      "Epoch 5/20\n",
      "326/326 - 1s - loss: 0.4643 - accuracy: 0.7848 - val_loss: 0.4234 - val_accuracy: 0.8101\n",
      "Epoch 6/20\n",
      "326/326 - 1s - loss: 0.4617 - accuracy: 0.7872 - val_loss: 0.4219 - val_accuracy: 0.7993\n",
      "Epoch 7/20\n",
      "326/326 - 1s - loss: 0.4523 - accuracy: 0.7901 - val_loss: 0.4206 - val_accuracy: 0.8093\n",
      "Epoch 8/20\n",
      "326/326 - 1s - loss: 0.4543 - accuracy: 0.7937 - val_loss: 0.4197 - val_accuracy: 0.8078\n",
      "Epoch 9/20\n",
      "326/326 - 1s - loss: 0.4470 - accuracy: 0.7902 - val_loss: 0.4142 - val_accuracy: 0.8139\n",
      "Epoch 10/20\n",
      "326/326 - 1s - loss: 0.4432 - accuracy: 0.7969 - val_loss: 0.4199 - val_accuracy: 0.8104\n",
      "Epoch 11/20\n",
      "326/326 - 1s - loss: 0.4473 - accuracy: 0.7964 - val_loss: 0.4122 - val_accuracy: 0.8147\n",
      "Epoch 12/20\n",
      "326/326 - 1s - loss: 0.4360 - accuracy: 0.7971 - val_loss: 0.4074 - val_accuracy: 0.8154\n",
      "Epoch 13/20\n",
      "326/326 - 1s - loss: 0.4401 - accuracy: 0.7990 - val_loss: 0.4163 - val_accuracy: 0.8104\n",
      "Epoch 14/20\n",
      "326/326 - 1s - loss: 0.4410 - accuracy: 0.7998 - val_loss: 0.4138 - val_accuracy: 0.8081\n",
      "Epoch 15/20\n",
      "326/326 - 1s - loss: 0.4397 - accuracy: 0.8014 - val_loss: 0.4104 - val_accuracy: 0.8170\n",
      "Epoch 16/20\n",
      "326/326 - 1s - loss: 0.4348 - accuracy: 0.8036 - val_loss: 0.4182 - val_accuracy: 0.8104\n",
      "Epoch 17/20\n",
      "326/326 - 1s - loss: 0.4292 - accuracy: 0.8031 - val_loss: 0.4131 - val_accuracy: 0.8085\n",
      "Epoch 18/20\n",
      "326/326 - 1s - loss: 0.4328 - accuracy: 0.8040 - val_loss: 0.4107 - val_accuracy: 0.8078\n",
      "Epoch 19/20\n",
      "326/326 - 1s - loss: 0.4386 - accuracy: 0.7972 - val_loss: 0.4122 - val_accuracy: 0.8085\n",
      "Epoch 20/20\n",
      "326/326 - 1s - loss: 0.4315 - accuracy: 0.8032 - val_loss: 0.4108 - val_accuracy: 0.8108\n"
     ]
    },
    {
     "data": {
      "text/html": [
       "<span style=\"color:#4527A0\"><h1 style=\"font-size:18px\">Trial complete</h1></span>"
      ],
      "text/plain": [
       "<IPython.core.display.HTML object>"
      ]
     },
     "metadata": {},
     "output_type": "display_data"
    },
    {
     "data": {
      "text/html": [
       "<span style=\"color:#4527A0\"><h1 style=\"font-size:18px\">Trial summary</h1></span>"
      ],
      "text/plain": [
       "<IPython.core.display.HTML object>"
      ]
     },
     "metadata": {},
     "output_type": "display_data"
    },
    {
     "data": {
      "text/html": [
       "<span style=\"color:cyan\"> |-Trial ID: 2bb875eaca09027084e7112688fa0b4a</span>"
      ],
      "text/plain": [
       "<IPython.core.display.HTML object>"
      ]
     },
     "metadata": {},
     "output_type": "display_data"
    },
    {
     "data": {
      "text/html": [
       "<span style=\"color:cyan\"> |-Score: 0.4074324369430542</span>"
      ],
      "text/plain": [
       "<IPython.core.display.HTML object>"
      ]
     },
     "metadata": {},
     "output_type": "display_data"
    },
    {
     "data": {
      "text/html": [
       "<span style=\"color:cyan\"> |-Best step: 0</span>"
      ],
      "text/plain": [
       "<IPython.core.display.HTML object>"
      ]
     },
     "metadata": {},
     "output_type": "display_data"
    },
    {
     "data": {
      "text/html": [
       "<span style=\"color:#7E57C2\"><h2 style=\"font-size:16px\">Hyperparameters:</h2></span>"
      ],
      "text/plain": [
       "<IPython.core.display.HTML object>"
      ]
     },
     "metadata": {},
     "output_type": "display_data"
    },
    {
     "data": {
      "text/html": [
       "<span style=\"color:cyan\"> |-layers: 1</span>"
      ],
      "text/plain": [
       "<IPython.core.display.HTML object>"
      ]
     },
     "metadata": {},
     "output_type": "display_data"
    },
    {
     "data": {
      "text/html": [
       "<span style=\"color:blue\"> |-units_0: 288</span>"
      ],
      "text/plain": [
       "<IPython.core.display.HTML object>"
      ]
     },
     "metadata": {},
     "output_type": "display_data"
    },
    {
     "data": {
      "text/html": [
       "<span style=\"color:cyan\"> |-units_1: 480</span>"
      ],
      "text/plain": [
       "<IPython.core.display.HTML object>"
      ]
     },
     "metadata": {},
     "output_type": "display_data"
    },
    {
     "data": {
      "text/html": [
       "<span style=\"color:blue\"> |-units_2: 320</span>"
      ],
      "text/plain": [
       "<IPython.core.display.HTML object>"
      ]
     },
     "metadata": {},
     "output_type": "display_data"
    },
    {
     "name": "stdout",
     "output_type": "stream",
     "text": [
      "Epoch 1/20\n",
      "326/326 - 1s - loss: 0.5245 - accuracy: 0.7491 - val_loss: 0.4474 - val_accuracy: 0.7936\n",
      "Epoch 2/20\n",
      "326/326 - 1s - loss: 0.4861 - accuracy: 0.7702 - val_loss: 0.4340 - val_accuracy: 0.8005\n",
      "Epoch 3/20\n",
      "326/326 - 1s - loss: 0.4706 - accuracy: 0.7765 - val_loss: 0.4261 - val_accuracy: 0.8020\n",
      "Epoch 4/20\n",
      "326/326 - 1s - loss: 0.4690 - accuracy: 0.7798 - val_loss: 0.4362 - val_accuracy: 0.7997\n",
      "Epoch 5/20\n",
      "326/326 - 1s - loss: 0.4613 - accuracy: 0.7856 - val_loss: 0.4204 - val_accuracy: 0.8070\n",
      "Epoch 6/20\n",
      "326/326 - 1s - loss: 0.4597 - accuracy: 0.7894 - val_loss: 0.4264 - val_accuracy: 0.8047\n",
      "Epoch 7/20\n",
      "326/326 - 1s - loss: 0.4629 - accuracy: 0.7824 - val_loss: 0.4262 - val_accuracy: 0.8035\n",
      "Epoch 8/20\n",
      "326/326 - 1s - loss: 0.4572 - accuracy: 0.7880 - val_loss: 0.4248 - val_accuracy: 0.8093\n",
      "Epoch 9/20\n",
      "326/326 - 1s - loss: 0.4550 - accuracy: 0.7863 - val_loss: 0.4208 - val_accuracy: 0.8066\n",
      "Epoch 10/20\n",
      "326/326 - 1s - loss: 0.4604 - accuracy: 0.7899 - val_loss: 0.4358 - val_accuracy: 0.7974\n",
      "Epoch 11/20\n",
      "326/326 - 1s - loss: 0.4512 - accuracy: 0.7917 - val_loss: 0.4215 - val_accuracy: 0.7993\n",
      "Epoch 12/20\n",
      "326/326 - 1s - loss: 0.4485 - accuracy: 0.7925 - val_loss: 0.4112 - val_accuracy: 0.8208\n",
      "Epoch 13/20\n",
      "326/326 - 1s - loss: 0.4406 - accuracy: 0.7964 - val_loss: 0.4213 - val_accuracy: 0.8028\n",
      "Epoch 14/20\n",
      "326/326 - 1s - loss: 0.4416 - accuracy: 0.7964 - val_loss: 0.4202 - val_accuracy: 0.8089\n",
      "Epoch 15/20\n",
      "326/326 - 1s - loss: 0.4445 - accuracy: 0.7954 - val_loss: 0.4246 - val_accuracy: 0.8047\n",
      "Epoch 16/20\n",
      "326/326 - 1s - loss: 0.4423 - accuracy: 0.7938 - val_loss: 0.4243 - val_accuracy: 0.8135\n",
      "Epoch 17/20\n",
      "326/326 - 1s - loss: 0.4396 - accuracy: 0.7982 - val_loss: 0.4168 - val_accuracy: 0.8177\n",
      "Epoch 18/20\n",
      "326/326 - 1s - loss: 0.4446 - accuracy: 0.7942 - val_loss: 0.4093 - val_accuracy: 0.8143\n",
      "Epoch 19/20\n",
      "326/326 - 1s - loss: 0.4399 - accuracy: 0.7968 - val_loss: 0.4145 - val_accuracy: 0.8139\n",
      "Epoch 20/20\n",
      "326/326 - 1s - loss: 0.4329 - accuracy: 0.8006 - val_loss: 0.4067 - val_accuracy: 0.8116\n"
     ]
    },
    {
     "data": {
      "text/html": [
       "<span style=\"color:#4527A0\"><h1 style=\"font-size:18px\">Trial complete</h1></span>"
      ],
      "text/plain": [
       "<IPython.core.display.HTML object>"
      ]
     },
     "metadata": {},
     "output_type": "display_data"
    },
    {
     "data": {
      "text/html": [
       "<span style=\"color:#4527A0\"><h1 style=\"font-size:18px\">Trial summary</h1></span>"
      ],
      "text/plain": [
       "<IPython.core.display.HTML object>"
      ]
     },
     "metadata": {},
     "output_type": "display_data"
    },
    {
     "data": {
      "text/html": [
       "<span style=\"color:cyan\"> |-Trial ID: 7f2d7a3515a72f2f775dfdc502930942</span>"
      ],
      "text/plain": [
       "<IPython.core.display.HTML object>"
      ]
     },
     "metadata": {},
     "output_type": "display_data"
    },
    {
     "data": {
      "text/html": [
       "<span style=\"color:cyan\"> |-Score: 0.4067472815513611</span>"
      ],
      "text/plain": [
       "<IPython.core.display.HTML object>"
      ]
     },
     "metadata": {},
     "output_type": "display_data"
    },
    {
     "data": {
      "text/html": [
       "<span style=\"color:cyan\"> |-Best step: 0</span>"
      ],
      "text/plain": [
       "<IPython.core.display.HTML object>"
      ]
     },
     "metadata": {},
     "output_type": "display_data"
    },
    {
     "data": {
      "text/html": [
       "<span style=\"color:#7E57C2\"><h2 style=\"font-size:16px\">Hyperparameters:</h2></span>"
      ],
      "text/plain": [
       "<IPython.core.display.HTML object>"
      ]
     },
     "metadata": {},
     "output_type": "display_data"
    },
    {
     "data": {
      "text/html": [
       "<span style=\"color:cyan\"> |-layers: 1</span>"
      ],
      "text/plain": [
       "<IPython.core.display.HTML object>"
      ]
     },
     "metadata": {},
     "output_type": "display_data"
    },
    {
     "data": {
      "text/html": [
       "<span style=\"color:blue\"> |-units_0: 480</span>"
      ],
      "text/plain": [
       "<IPython.core.display.HTML object>"
      ]
     },
     "metadata": {},
     "output_type": "display_data"
    },
    {
     "data": {
      "text/html": [
       "<span style=\"color:cyan\"> |-units_1: 384</span>"
      ],
      "text/plain": [
       "<IPython.core.display.HTML object>"
      ]
     },
     "metadata": {},
     "output_type": "display_data"
    },
    {
     "data": {
      "text/html": [
       "<span style=\"color:blue\"> |-units_2: 416</span>"
      ],
      "text/plain": [
       "<IPython.core.display.HTML object>"
      ]
     },
     "metadata": {},
     "output_type": "display_data"
    },
    {
     "name": "stdout",
     "output_type": "stream",
     "text": [
      "Epoch 1/20\n",
      "326/326 - 2s - loss: 0.5069 - accuracy: 0.7590 - val_loss: 0.4487 - val_accuracy: 0.7920\n",
      "Epoch 2/20\n",
      "326/326 - 2s - loss: 0.4823 - accuracy: 0.7770 - val_loss: 0.4440 - val_accuracy: 0.8035\n",
      "Epoch 3/20\n",
      "326/326 - 2s - loss: 0.4677 - accuracy: 0.7783 - val_loss: 0.4241 - val_accuracy: 0.8035\n",
      "Epoch 4/20\n",
      "326/326 - 2s - loss: 0.4630 - accuracy: 0.7808 - val_loss: 0.4272 - val_accuracy: 0.8066\n",
      "Epoch 5/20\n",
      "326/326 - 2s - loss: 0.4578 - accuracy: 0.7906 - val_loss: 0.4233 - val_accuracy: 0.8093\n",
      "Epoch 6/20\n",
      "326/326 - 2s - loss: 0.4540 - accuracy: 0.7909 - val_loss: 0.4243 - val_accuracy: 0.8039\n",
      "Epoch 7/20\n",
      "326/326 - 2s - loss: 0.4481 - accuracy: 0.7913 - val_loss: 0.4214 - val_accuracy: 0.8108\n",
      "Epoch 8/20\n",
      "326/326 - 2s - loss: 0.4398 - accuracy: 0.7957 - val_loss: 0.4201 - val_accuracy: 0.8170\n",
      "Epoch 9/20\n",
      "326/326 - 2s - loss: 0.4385 - accuracy: 0.7981 - val_loss: 0.4162 - val_accuracy: 0.8139\n",
      "Epoch 10/20\n",
      "326/326 - 2s - loss: 0.4332 - accuracy: 0.7970 - val_loss: 0.4115 - val_accuracy: 0.8170\n",
      "Epoch 11/20\n",
      "326/326 - 2s - loss: 0.4313 - accuracy: 0.8031 - val_loss: 0.4218 - val_accuracy: 0.8028\n",
      "Epoch 12/20\n",
      "326/326 - 1s - loss: 0.4314 - accuracy: 0.8038 - val_loss: 0.4253 - val_accuracy: 0.8101\n",
      "Epoch 13/20\n",
      "326/326 - 2s - loss: 0.4272 - accuracy: 0.8065 - val_loss: 0.4155 - val_accuracy: 0.8120\n",
      "Epoch 14/20\n",
      "326/326 - 2s - loss: 0.4240 - accuracy: 0.8041 - val_loss: 0.4074 - val_accuracy: 0.8181\n",
      "Epoch 15/20\n",
      "326/326 - 1s - loss: 0.4264 - accuracy: 0.8062 - val_loss: 0.4170 - val_accuracy: 0.8189\n",
      "Epoch 16/20\n",
      "326/326 - 1s - loss: 0.4180 - accuracy: 0.8119 - val_loss: 0.4080 - val_accuracy: 0.8173\n",
      "Epoch 17/20\n",
      "326/326 - 2s - loss: 0.4151 - accuracy: 0.8117 - val_loss: 0.4147 - val_accuracy: 0.8112\n",
      "Epoch 18/20\n",
      "326/326 - 2s - loss: 0.4143 - accuracy: 0.8115 - val_loss: 0.4042 - val_accuracy: 0.8231\n",
      "Epoch 19/20\n",
      "326/326 - 2s - loss: 0.4085 - accuracy: 0.8111 - val_loss: 0.4220 - val_accuracy: 0.8193\n",
      "Epoch 20/20\n",
      "326/326 - 2s - loss: 0.4007 - accuracy: 0.8193 - val_loss: 0.4011 - val_accuracy: 0.8254\n"
     ]
    },
    {
     "data": {
      "text/html": [
       "<span style=\"color:#4527A0\"><h1 style=\"font-size:18px\">Trial complete</h1></span>"
      ],
      "text/plain": [
       "<IPython.core.display.HTML object>"
      ]
     },
     "metadata": {},
     "output_type": "display_data"
    },
    {
     "data": {
      "text/html": [
       "<span style=\"color:#4527A0\"><h1 style=\"font-size:18px\">Trial summary</h1></span>"
      ],
      "text/plain": [
       "<IPython.core.display.HTML object>"
      ]
     },
     "metadata": {},
     "output_type": "display_data"
    },
    {
     "data": {
      "text/html": [
       "<span style=\"color:cyan\"> |-Trial ID: 95afc378df4ce746f162e48f1d93a73f</span>"
      ],
      "text/plain": [
       "<IPython.core.display.HTML object>"
      ]
     },
     "metadata": {},
     "output_type": "display_data"
    },
    {
     "data": {
      "text/html": [
       "<span style=\"color:cyan\"> |-Score: 0.4010794460773468</span>"
      ],
      "text/plain": [
       "<IPython.core.display.HTML object>"
      ]
     },
     "metadata": {},
     "output_type": "display_data"
    },
    {
     "data": {
      "text/html": [
       "<span style=\"color:cyan\"> |-Best step: 0</span>"
      ],
      "text/plain": [
       "<IPython.core.display.HTML object>"
      ]
     },
     "metadata": {},
     "output_type": "display_data"
    },
    {
     "data": {
      "text/html": [
       "<span style=\"color:#7E57C2\"><h2 style=\"font-size:16px\">Hyperparameters:</h2></span>"
      ],
      "text/plain": [
       "<IPython.core.display.HTML object>"
      ]
     },
     "metadata": {},
     "output_type": "display_data"
    },
    {
     "data": {
      "text/html": [
       "<span style=\"color:cyan\"> |-layers: 3</span>"
      ],
      "text/plain": [
       "<IPython.core.display.HTML object>"
      ]
     },
     "metadata": {},
     "output_type": "display_data"
    },
    {
     "data": {
      "text/html": [
       "<span style=\"color:blue\"> |-units_0: 352</span>"
      ],
      "text/plain": [
       "<IPython.core.display.HTML object>"
      ]
     },
     "metadata": {},
     "output_type": "display_data"
    },
    {
     "data": {
      "text/html": [
       "<span style=\"color:cyan\"> |-units_1: 256</span>"
      ],
      "text/plain": [
       "<IPython.core.display.HTML object>"
      ]
     },
     "metadata": {},
     "output_type": "display_data"
    },
    {
     "data": {
      "text/html": [
       "<span style=\"color:blue\"> |-units_2: 480</span>"
      ],
      "text/plain": [
       "<IPython.core.display.HTML object>"
      ]
     },
     "metadata": {},
     "output_type": "display_data"
    },
    {
     "name": "stdout",
     "output_type": "stream",
     "text": [
      "Epoch 1/20\n",
      "326/326 - 1s - loss: 0.5100 - accuracy: 0.7512 - val_loss: 0.4381 - val_accuracy: 0.7928\n",
      "Epoch 2/20\n",
      "326/326 - 1s - loss: 0.4797 - accuracy: 0.7766 - val_loss: 0.4457 - val_accuracy: 0.7989\n",
      "Epoch 3/20\n",
      "326/326 - 1s - loss: 0.4675 - accuracy: 0.7799 - val_loss: 0.4280 - val_accuracy: 0.8043\n",
      "Epoch 4/20\n",
      "326/326 - 1s - loss: 0.4577 - accuracy: 0.7861 - val_loss: 0.4314 - val_accuracy: 0.8039\n",
      "Epoch 5/20\n",
      "326/326 - 1s - loss: 0.4532 - accuracy: 0.7918 - val_loss: 0.4277 - val_accuracy: 0.8035\n",
      "Epoch 6/20\n",
      "326/326 - 1s - loss: 0.4522 - accuracy: 0.7908 - val_loss: 0.4250 - val_accuracy: 0.8054\n",
      "Epoch 7/20\n",
      "326/326 - 1s - loss: 0.4473 - accuracy: 0.7909 - val_loss: 0.4205 - val_accuracy: 0.8058\n",
      "Epoch 8/20\n",
      "326/326 - 1s - loss: 0.4382 - accuracy: 0.7964 - val_loss: 0.4148 - val_accuracy: 0.8112\n",
      "Epoch 9/20\n",
      "326/326 - 1s - loss: 0.4385 - accuracy: 0.7971 - val_loss: 0.4250 - val_accuracy: 0.8058\n",
      "Epoch 10/20\n",
      "326/326 - 1s - loss: 0.4341 - accuracy: 0.8001 - val_loss: 0.4123 - val_accuracy: 0.8108\n",
      "Epoch 11/20\n",
      "326/326 - 1s - loss: 0.4330 - accuracy: 0.7972 - val_loss: 0.4081 - val_accuracy: 0.8112\n",
      "Epoch 12/20\n",
      "326/326 - 1s - loss: 0.4250 - accuracy: 0.8062 - val_loss: 0.4132 - val_accuracy: 0.8135\n",
      "Epoch 13/20\n",
      "326/326 - 1s - loss: 0.4291 - accuracy: 0.8066 - val_loss: 0.4166 - val_accuracy: 0.8104\n",
      "Epoch 14/20\n",
      "326/326 - 1s - loss: 0.4210 - accuracy: 0.8024 - val_loss: 0.4092 - val_accuracy: 0.8162\n",
      "Epoch 15/20\n",
      "326/326 - 1s - loss: 0.4193 - accuracy: 0.8097 - val_loss: 0.4090 - val_accuracy: 0.8208\n",
      "Epoch 16/20\n",
      "326/326 - 1s - loss: 0.4121 - accuracy: 0.8106 - val_loss: 0.4105 - val_accuracy: 0.8170\n",
      "Epoch 17/20\n",
      "326/326 - 1s - loss: 0.4113 - accuracy: 0.8099 - val_loss: 0.4071 - val_accuracy: 0.8158\n",
      "Epoch 18/20\n",
      "326/326 - 1s - loss: 0.4064 - accuracy: 0.8176 - val_loss: 0.4031 - val_accuracy: 0.8166\n",
      "Epoch 19/20\n",
      "326/326 - 1s - loss: 0.4091 - accuracy: 0.8156 - val_loss: 0.4197 - val_accuracy: 0.8189\n",
      "Epoch 20/20\n",
      "326/326 - 1s - loss: 0.4031 - accuracy: 0.8154 - val_loss: 0.4158 - val_accuracy: 0.8189\n"
     ]
    },
    {
     "data": {
      "text/html": [
       "<span style=\"color:#4527A0\"><h1 style=\"font-size:18px\">Trial complete</h1></span>"
      ],
      "text/plain": [
       "<IPython.core.display.HTML object>"
      ]
     },
     "metadata": {},
     "output_type": "display_data"
    },
    {
     "data": {
      "text/html": [
       "<span style=\"color:#4527A0\"><h1 style=\"font-size:18px\">Trial summary</h1></span>"
      ],
      "text/plain": [
       "<IPython.core.display.HTML object>"
      ]
     },
     "metadata": {},
     "output_type": "display_data"
    },
    {
     "data": {
      "text/html": [
       "<span style=\"color:cyan\"> |-Trial ID: 4dc680679d6d62caab35dc35762815c3</span>"
      ],
      "text/plain": [
       "<IPython.core.display.HTML object>"
      ]
     },
     "metadata": {},
     "output_type": "display_data"
    },
    {
     "data": {
      "text/html": [
       "<span style=\"color:cyan\"> |-Score: 0.4030523896217346</span>"
      ],
      "text/plain": [
       "<IPython.core.display.HTML object>"
      ]
     },
     "metadata": {},
     "output_type": "display_data"
    },
    {
     "data": {
      "text/html": [
       "<span style=\"color:cyan\"> |-Best step: 0</span>"
      ],
      "text/plain": [
       "<IPython.core.display.HTML object>"
      ]
     },
     "metadata": {},
     "output_type": "display_data"
    },
    {
     "data": {
      "text/html": [
       "<span style=\"color:#7E57C2\"><h2 style=\"font-size:16px\">Hyperparameters:</h2></span>"
      ],
      "text/plain": [
       "<IPython.core.display.HTML object>"
      ]
     },
     "metadata": {},
     "output_type": "display_data"
    },
    {
     "data": {
      "text/html": [
       "<span style=\"color:cyan\"> |-layers: 2</span>"
      ],
      "text/plain": [
       "<IPython.core.display.HTML object>"
      ]
     },
     "metadata": {},
     "output_type": "display_data"
    },
    {
     "data": {
      "text/html": [
       "<span style=\"color:blue\"> |-units_0: 384</span>"
      ],
      "text/plain": [
       "<IPython.core.display.HTML object>"
      ]
     },
     "metadata": {},
     "output_type": "display_data"
    },
    {
     "data": {
      "text/html": [
       "<span style=\"color:cyan\"> |-units_1: 384</span>"
      ],
      "text/plain": [
       "<IPython.core.display.HTML object>"
      ]
     },
     "metadata": {},
     "output_type": "display_data"
    },
    {
     "data": {
      "text/html": [
       "<span style=\"color:blue\"> |-units_2: 416</span>"
      ],
      "text/plain": [
       "<IPython.core.display.HTML object>"
      ]
     },
     "metadata": {},
     "output_type": "display_data"
    },
    {
     "name": "stdout",
     "output_type": "stream",
     "text": [
      "Epoch 1/20\n",
      "326/326 - 1s - loss: 0.5047 - accuracy: 0.7619 - val_loss: 0.4391 - val_accuracy: 0.8016\n",
      "Epoch 2/20\n",
      "326/326 - 1s - loss: 0.4791 - accuracy: 0.7751 - val_loss: 0.4276 - val_accuracy: 0.8035\n",
      "Epoch 3/20\n",
      "326/326 - 1s - loss: 0.4636 - accuracy: 0.7835 - val_loss: 0.4309 - val_accuracy: 0.7959\n",
      "Epoch 4/20\n",
      "326/326 - 1s - loss: 0.4584 - accuracy: 0.7842 - val_loss: 0.4258 - val_accuracy: 0.8035\n",
      "Epoch 5/20\n",
      "326/326 - 1s - loss: 0.4525 - accuracy: 0.7881 - val_loss: 0.4290 - val_accuracy: 0.8001\n",
      "Epoch 6/20\n",
      "326/326 - 1s - loss: 0.4520 - accuracy: 0.7931 - val_loss: 0.4307 - val_accuracy: 0.8051\n",
      "Epoch 7/20\n",
      "326/326 - 1s - loss: 0.4453 - accuracy: 0.7931 - val_loss: 0.4173 - val_accuracy: 0.8074\n",
      "Epoch 8/20\n",
      "326/326 - 1s - loss: 0.4382 - accuracy: 0.7978 - val_loss: 0.4185 - val_accuracy: 0.8085\n",
      "Epoch 9/20\n",
      "326/326 - 1s - loss: 0.4342 - accuracy: 0.8023 - val_loss: 0.4083 - val_accuracy: 0.8185\n",
      "Epoch 10/20\n",
      "326/326 - 1s - loss: 0.4351 - accuracy: 0.7963 - val_loss: 0.4115 - val_accuracy: 0.8120\n",
      "Epoch 11/20\n",
      "326/326 - 1s - loss: 0.4306 - accuracy: 0.8033 - val_loss: 0.4082 - val_accuracy: 0.8181\n",
      "Epoch 12/20\n",
      "326/326 - 1s - loss: 0.4294 - accuracy: 0.8016 - val_loss: 0.4166 - val_accuracy: 0.8204\n",
      "Epoch 13/20\n",
      "326/326 - 1s - loss: 0.4232 - accuracy: 0.8029 - val_loss: 0.4057 - val_accuracy: 0.8177\n",
      "Epoch 14/20\n",
      "326/326 - 1s - loss: 0.4231 - accuracy: 0.8048 - val_loss: 0.4119 - val_accuracy: 0.8200\n",
      "Epoch 15/20\n",
      "326/326 - 1s - loss: 0.4174 - accuracy: 0.8058 - val_loss: 0.4066 - val_accuracy: 0.8196\n",
      "Epoch 16/20\n",
      "326/326 - 1s - loss: 0.4124 - accuracy: 0.8117 - val_loss: 0.4019 - val_accuracy: 0.8273\n",
      "Epoch 17/20\n",
      "326/326 - 1s - loss: 0.4079 - accuracy: 0.8146 - val_loss: 0.4137 - val_accuracy: 0.8204\n",
      "Epoch 18/20\n",
      "326/326 - 1s - loss: 0.4037 - accuracy: 0.8180 - val_loss: 0.4066 - val_accuracy: 0.8189\n",
      "Epoch 19/20\n",
      "326/326 - 1s - loss: 0.4054 - accuracy: 0.8176 - val_loss: 0.4013 - val_accuracy: 0.8235\n",
      "Epoch 20/20\n",
      "326/326 - 1s - loss: 0.4062 - accuracy: 0.8164 - val_loss: 0.4033 - val_accuracy: 0.8158\n"
     ]
    },
    {
     "data": {
      "text/html": [
       "<span style=\"color:#4527A0\"><h1 style=\"font-size:18px\">Trial complete</h1></span>"
      ],
      "text/plain": [
       "<IPython.core.display.HTML object>"
      ]
     },
     "metadata": {},
     "output_type": "display_data"
    },
    {
     "data": {
      "text/html": [
       "<span style=\"color:#4527A0\"><h1 style=\"font-size:18px\">Trial summary</h1></span>"
      ],
      "text/plain": [
       "<IPython.core.display.HTML object>"
      ]
     },
     "metadata": {},
     "output_type": "display_data"
    },
    {
     "data": {
      "text/html": [
       "<span style=\"color:cyan\"> |-Trial ID: 957063c4fbfbf6e8185d9648fab3e2e4</span>"
      ],
      "text/plain": [
       "<IPython.core.display.HTML object>"
      ]
     },
     "metadata": {},
     "output_type": "display_data"
    },
    {
     "data": {
      "text/html": [
       "<span style=\"color:cyan\"> |-Score: 0.4013317823410034</span>"
      ],
      "text/plain": [
       "<IPython.core.display.HTML object>"
      ]
     },
     "metadata": {},
     "output_type": "display_data"
    },
    {
     "data": {
      "text/html": [
       "<span style=\"color:cyan\"> |-Best step: 0</span>"
      ],
      "text/plain": [
       "<IPython.core.display.HTML object>"
      ]
     },
     "metadata": {},
     "output_type": "display_data"
    },
    {
     "data": {
      "text/html": [
       "<span style=\"color:#7E57C2\"><h2 style=\"font-size:16px\">Hyperparameters:</h2></span>"
      ],
      "text/plain": [
       "<IPython.core.display.HTML object>"
      ]
     },
     "metadata": {},
     "output_type": "display_data"
    },
    {
     "data": {
      "text/html": [
       "<span style=\"color:cyan\"> |-layers: 2</span>"
      ],
      "text/plain": [
       "<IPython.core.display.HTML object>"
      ]
     },
     "metadata": {},
     "output_type": "display_data"
    },
    {
     "data": {
      "text/html": [
       "<span style=\"color:blue\"> |-units_0: 384</span>"
      ],
      "text/plain": [
       "<IPython.core.display.HTML object>"
      ]
     },
     "metadata": {},
     "output_type": "display_data"
    },
    {
     "data": {
      "text/html": [
       "<span style=\"color:cyan\"> |-units_1: 448</span>"
      ],
      "text/plain": [
       "<IPython.core.display.HTML object>"
      ]
     },
     "metadata": {},
     "output_type": "display_data"
    },
    {
     "data": {
      "text/html": [
       "<span style=\"color:blue\"> |-units_2: 320</span>"
      ],
      "text/plain": [
       "<IPython.core.display.HTML object>"
      ]
     },
     "metadata": {},
     "output_type": "display_data"
    },
    {
     "name": "stdout",
     "output_type": "stream",
     "text": [
      "Epoch 1/20\n",
      "326/326 - 2s - loss: 0.5114 - accuracy: 0.7582 - val_loss: 0.4422 - val_accuracy: 0.7943\n",
      "Epoch 2/20\n",
      "326/326 - 2s - loss: 0.4805 - accuracy: 0.7759 - val_loss: 0.4332 - val_accuracy: 0.8028\n",
      "Epoch 3/20\n",
      "326/326 - 2s - loss: 0.4692 - accuracy: 0.7800 - val_loss: 0.4409 - val_accuracy: 0.7920\n",
      "Epoch 4/20\n",
      "326/326 - 2s - loss: 0.4616 - accuracy: 0.7832 - val_loss: 0.4265 - val_accuracy: 0.8097\n",
      "Epoch 5/20\n",
      "326/326 - 2s - loss: 0.4603 - accuracy: 0.7864 - val_loss: 0.4192 - val_accuracy: 0.8078\n",
      "Epoch 6/20\n",
      "326/326 - 2s - loss: 0.4550 - accuracy: 0.7864 - val_loss: 0.4221 - val_accuracy: 0.8047\n",
      "Epoch 7/20\n",
      "326/326 - 2s - loss: 0.4462 - accuracy: 0.7920 - val_loss: 0.4236 - val_accuracy: 0.8085\n",
      "Epoch 8/20\n",
      "326/326 - 2s - loss: 0.4394 - accuracy: 0.7988 - val_loss: 0.4190 - val_accuracy: 0.8078\n",
      "Epoch 9/20\n",
      "326/326 - 2s - loss: 0.4377 - accuracy: 0.8007 - val_loss: 0.4301 - val_accuracy: 0.8089\n",
      "Epoch 10/20\n",
      "326/326 - 2s - loss: 0.4350 - accuracy: 0.7952 - val_loss: 0.4248 - val_accuracy: 0.8108\n",
      "Epoch 11/20\n",
      "326/326 - 2s - loss: 0.4317 - accuracy: 0.8029 - val_loss: 0.4072 - val_accuracy: 0.8166\n",
      "Epoch 12/20\n",
      "326/326 - 2s - loss: 0.4330 - accuracy: 0.7995 - val_loss: 0.4189 - val_accuracy: 0.8143\n",
      "Epoch 13/20\n",
      "326/326 - 2s - loss: 0.4270 - accuracy: 0.8078 - val_loss: 0.4106 - val_accuracy: 0.8162\n",
      "Epoch 14/20\n",
      "326/326 - 2s - loss: 0.4241 - accuracy: 0.8018 - val_loss: 0.4090 - val_accuracy: 0.8193\n",
      "Epoch 15/20\n",
      "326/326 - 2s - loss: 0.4194 - accuracy: 0.8094 - val_loss: 0.4124 - val_accuracy: 0.8189\n",
      "Epoch 16/20\n",
      "326/326 - 2s - loss: 0.4216 - accuracy: 0.8043 - val_loss: 0.4166 - val_accuracy: 0.8204\n",
      "Epoch 17/20\n",
      "326/326 - 2s - loss: 0.4122 - accuracy: 0.8075 - val_loss: 0.4169 - val_accuracy: 0.8166\n",
      "Epoch 18/20\n",
      "326/326 - 2s - loss: 0.4099 - accuracy: 0.8112 - val_loss: 0.4099 - val_accuracy: 0.8227\n",
      "Epoch 19/20\n",
      "326/326 - 2s - loss: 0.4115 - accuracy: 0.8131 - val_loss: 0.4138 - val_accuracy: 0.8162\n",
      "Epoch 20/20\n",
      "326/326 - 2s - loss: 0.4040 - accuracy: 0.8207 - val_loss: 0.4035 - val_accuracy: 0.8250\n"
     ]
    },
    {
     "data": {
      "text/html": [
       "<span style=\"color:#4527A0\"><h1 style=\"font-size:18px\">Trial complete</h1></span>"
      ],
      "text/plain": [
       "<IPython.core.display.HTML object>"
      ]
     },
     "metadata": {},
     "output_type": "display_data"
    },
    {
     "data": {
      "text/html": [
       "<span style=\"color:#4527A0\"><h1 style=\"font-size:18px\">Trial summary</h1></span>"
      ],
      "text/plain": [
       "<IPython.core.display.HTML object>"
      ]
     },
     "metadata": {},
     "output_type": "display_data"
    },
    {
     "data": {
      "text/html": [
       "<span style=\"color:cyan\"> |-Trial ID: f11c7d38da941ff8ebb445b122793450</span>"
      ],
      "text/plain": [
       "<IPython.core.display.HTML object>"
      ]
     },
     "metadata": {},
     "output_type": "display_data"
    },
    {
     "data": {
      "text/html": [
       "<span style=\"color:cyan\"> |-Score: 0.403543084859848</span>"
      ],
      "text/plain": [
       "<IPython.core.display.HTML object>"
      ]
     },
     "metadata": {},
     "output_type": "display_data"
    },
    {
     "data": {
      "text/html": [
       "<span style=\"color:cyan\"> |-Best step: 0</span>"
      ],
      "text/plain": [
       "<IPython.core.display.HTML object>"
      ]
     },
     "metadata": {},
     "output_type": "display_data"
    },
    {
     "data": {
      "text/html": [
       "<span style=\"color:#7E57C2\"><h2 style=\"font-size:16px\">Hyperparameters:</h2></span>"
      ],
      "text/plain": [
       "<IPython.core.display.HTML object>"
      ]
     },
     "metadata": {},
     "output_type": "display_data"
    },
    {
     "data": {
      "text/html": [
       "<span style=\"color:cyan\"> |-layers: 3</span>"
      ],
      "text/plain": [
       "<IPython.core.display.HTML object>"
      ]
     },
     "metadata": {},
     "output_type": "display_data"
    },
    {
     "data": {
      "text/html": [
       "<span style=\"color:blue\"> |-units_0: 320</span>"
      ],
      "text/plain": [
       "<IPython.core.display.HTML object>"
      ]
     },
     "metadata": {},
     "output_type": "display_data"
    },
    {
     "data": {
      "text/html": [
       "<span style=\"color:cyan\"> |-units_1: 512</span>"
      ],
      "text/plain": [
       "<IPython.core.display.HTML object>"
      ]
     },
     "metadata": {},
     "output_type": "display_data"
    },
    {
     "data": {
      "text/html": [
       "<span style=\"color:blue\"> |-units_2: 448</span>"
      ],
      "text/plain": [
       "<IPython.core.display.HTML object>"
      ]
     },
     "metadata": {},
     "output_type": "display_data"
    },
    {
     "name": "stdout",
     "output_type": "stream",
     "text": [
      "Epoch 1/20\n",
      "326/326 - 1s - loss: 0.5069 - accuracy: 0.7586 - val_loss: 0.4453 - val_accuracy: 0.7905\n",
      "Epoch 2/20\n",
      "326/326 - 1s - loss: 0.4790 - accuracy: 0.7783 - val_loss: 0.4384 - val_accuracy: 0.8031\n",
      "Epoch 3/20\n",
      "326/326 - 1s - loss: 0.4689 - accuracy: 0.7823 - val_loss: 0.4220 - val_accuracy: 0.8074\n",
      "Epoch 4/20\n",
      "326/326 - 1s - loss: 0.4622 - accuracy: 0.7860 - val_loss: 0.4203 - val_accuracy: 0.8081\n",
      "Epoch 5/20\n",
      "326/326 - 1s - loss: 0.4557 - accuracy: 0.7859 - val_loss: 0.4172 - val_accuracy: 0.8074\n",
      "Epoch 6/20\n",
      "326/326 - 1s - loss: 0.4453 - accuracy: 0.7931 - val_loss: 0.4143 - val_accuracy: 0.8124\n",
      "Epoch 7/20\n",
      "326/326 - 1s - loss: 0.4429 - accuracy: 0.7919 - val_loss: 0.4215 - val_accuracy: 0.8124\n",
      "Epoch 8/20\n",
      "326/326 - 1s - loss: 0.4411 - accuracy: 0.7953 - val_loss: 0.4097 - val_accuracy: 0.8116\n",
      "Epoch 9/20\n",
      "326/326 - 1s - loss: 0.4408 - accuracy: 0.7935 - val_loss: 0.4164 - val_accuracy: 0.8058\n",
      "Epoch 10/20\n",
      "326/326 - 1s - loss: 0.4369 - accuracy: 0.8008 - val_loss: 0.4142 - val_accuracy: 0.8173\n",
      "Epoch 11/20\n",
      "326/326 - 1s - loss: 0.4269 - accuracy: 0.8061 - val_loss: 0.4103 - val_accuracy: 0.8154\n",
      "Epoch 12/20\n",
      "326/326 - 1s - loss: 0.4231 - accuracy: 0.8064 - val_loss: 0.4123 - val_accuracy: 0.8131\n",
      "Epoch 13/20\n",
      "326/326 - 1s - loss: 0.4220 - accuracy: 0.8072 - val_loss: 0.4103 - val_accuracy: 0.8131\n",
      "Epoch 14/20\n",
      "326/326 - 1s - loss: 0.4208 - accuracy: 0.8057 - val_loss: 0.4116 - val_accuracy: 0.8112\n",
      "Epoch 15/20\n",
      "326/326 - 1s - loss: 0.4162 - accuracy: 0.8084 - val_loss: 0.4232 - val_accuracy: 0.8162\n",
      "Epoch 16/20\n",
      "326/326 - 1s - loss: 0.4158 - accuracy: 0.8116 - val_loss: 0.4174 - val_accuracy: 0.8047\n",
      "Epoch 17/20\n",
      "326/326 - 1s - loss: 0.4080 - accuracy: 0.8153 - val_loss: 0.4047 - val_accuracy: 0.8170\n",
      "Epoch 18/20\n",
      "326/326 - 1s - loss: 0.4089 - accuracy: 0.8187 - val_loss: 0.4045 - val_accuracy: 0.8124\n",
      "Epoch 19/20\n",
      "326/326 - 1s - loss: 0.4020 - accuracy: 0.8148 - val_loss: 0.4109 - val_accuracy: 0.8212\n",
      "Epoch 20/20\n",
      "326/326 - 1s - loss: 0.4039 - accuracy: 0.8123 - val_loss: 0.4117 - val_accuracy: 0.8154\n"
     ]
    },
    {
     "data": {
      "text/html": [
       "<span style=\"color:#4527A0\"><h1 style=\"font-size:18px\">Trial complete</h1></span>"
      ],
      "text/plain": [
       "<IPython.core.display.HTML object>"
      ]
     },
     "metadata": {},
     "output_type": "display_data"
    },
    {
     "data": {
      "text/html": [
       "<span style=\"color:#4527A0\"><h1 style=\"font-size:18px\">Trial summary</h1></span>"
      ],
      "text/plain": [
       "<IPython.core.display.HTML object>"
      ]
     },
     "metadata": {},
     "output_type": "display_data"
    },
    {
     "data": {
      "text/html": [
       "<span style=\"color:cyan\"> |-Trial ID: 8223a75fb469b4f059df4e19543983f1</span>"
      ],
      "text/plain": [
       "<IPython.core.display.HTML object>"
      ]
     },
     "metadata": {},
     "output_type": "display_data"
    },
    {
     "data": {
      "text/html": [
       "<span style=\"color:cyan\"> |-Score: 0.404549777507782</span>"
      ],
      "text/plain": [
       "<IPython.core.display.HTML object>"
      ]
     },
     "metadata": {},
     "output_type": "display_data"
    },
    {
     "data": {
      "text/html": [
       "<span style=\"color:cyan\"> |-Best step: 0</span>"
      ],
      "text/plain": [
       "<IPython.core.display.HTML object>"
      ]
     },
     "metadata": {},
     "output_type": "display_data"
    },
    {
     "data": {
      "text/html": [
       "<span style=\"color:#7E57C2\"><h2 style=\"font-size:16px\">Hyperparameters:</h2></span>"
      ],
      "text/plain": [
       "<IPython.core.display.HTML object>"
      ]
     },
     "metadata": {},
     "output_type": "display_data"
    },
    {
     "data": {
      "text/html": [
       "<span style=\"color:cyan\"> |-layers: 2</span>"
      ],
      "text/plain": [
       "<IPython.core.display.HTML object>"
      ]
     },
     "metadata": {},
     "output_type": "display_data"
    },
    {
     "data": {
      "text/html": [
       "<span style=\"color:blue\"> |-units_0: 384</span>"
      ],
      "text/plain": [
       "<IPython.core.display.HTML object>"
      ]
     },
     "metadata": {},
     "output_type": "display_data"
    },
    {
     "data": {
      "text/html": [
       "<span style=\"color:cyan\"> |-units_1: 416</span>"
      ],
      "text/plain": [
       "<IPython.core.display.HTML object>"
      ]
     },
     "metadata": {},
     "output_type": "display_data"
    },
    {
     "data": {
      "text/html": [
       "<span style=\"color:blue\"> |-units_2: 512</span>"
      ],
      "text/plain": [
       "<IPython.core.display.HTML object>"
      ]
     },
     "metadata": {},
     "output_type": "display_data"
    },
    {
     "name": "stdout",
     "output_type": "stream",
     "text": [
      "Epoch 1/20\n",
      "326/326 - 1s - loss: 0.5268 - accuracy: 0.7550 - val_loss: 0.4430 - val_accuracy: 0.7920\n",
      "Epoch 2/20\n",
      "326/326 - 1s - loss: 0.4848 - accuracy: 0.7750 - val_loss: 0.4330 - val_accuracy: 0.7978\n",
      "Epoch 3/20\n",
      "326/326 - 1s - loss: 0.4668 - accuracy: 0.7827 - val_loss: 0.4309 - val_accuracy: 0.8012\n",
      "Epoch 4/20\n",
      "326/326 - 1s - loss: 0.4649 - accuracy: 0.7813 - val_loss: 0.4364 - val_accuracy: 0.8043\n",
      "Epoch 5/20\n",
      "326/326 - 1s - loss: 0.4589 - accuracy: 0.7848 - val_loss: 0.4261 - val_accuracy: 0.8016\n",
      "Epoch 6/20\n",
      "326/326 - 1s - loss: 0.4578 - accuracy: 0.7847 - val_loss: 0.4234 - val_accuracy: 0.8058\n",
      "Epoch 7/20\n",
      "326/326 - 1s - loss: 0.4555 - accuracy: 0.7870 - val_loss: 0.4273 - val_accuracy: 0.8020\n",
      "Epoch 8/20\n",
      "326/326 - 1s - loss: 0.4565 - accuracy: 0.7901 - val_loss: 0.4237 - val_accuracy: 0.8066\n",
      "Epoch 9/20\n",
      "326/326 - 1s - loss: 0.4478 - accuracy: 0.7928 - val_loss: 0.4154 - val_accuracy: 0.8101\n",
      "Epoch 10/20\n",
      "326/326 - 1s - loss: 0.4470 - accuracy: 0.7887 - val_loss: 0.4107 - val_accuracy: 0.8127\n",
      "Epoch 11/20\n",
      "326/326 - 1s - loss: 0.4467 - accuracy: 0.7919 - val_loss: 0.4202 - val_accuracy: 0.8078\n",
      "Epoch 12/20\n",
      "326/326 - 1s - loss: 0.4421 - accuracy: 0.7971 - val_loss: 0.4160 - val_accuracy: 0.8135\n",
      "Epoch 13/20\n",
      "326/326 - 1s - loss: 0.4412 - accuracy: 0.7974 - val_loss: 0.4182 - val_accuracy: 0.8093\n",
      "Epoch 14/20\n",
      "326/326 - 1s - loss: 0.4445 - accuracy: 0.7930 - val_loss: 0.4209 - val_accuracy: 0.8066\n",
      "Epoch 15/20\n",
      "326/326 - 1s - loss: 0.4354 - accuracy: 0.8003 - val_loss: 0.4133 - val_accuracy: 0.8101\n",
      "Epoch 16/20\n",
      "326/326 - 1s - loss: 0.4378 - accuracy: 0.7957 - val_loss: 0.4224 - val_accuracy: 0.8051\n",
      "Epoch 17/20\n",
      "326/326 - 1s - loss: 0.4406 - accuracy: 0.8007 - val_loss: 0.4167 - val_accuracy: 0.8104\n",
      "Epoch 18/20\n",
      "326/326 - 1s - loss: 0.4319 - accuracy: 0.8067 - val_loss: 0.4199 - val_accuracy: 0.8093\n",
      "Epoch 19/20\n",
      "326/326 - 1s - loss: 0.4347 - accuracy: 0.8014 - val_loss: 0.4082 - val_accuracy: 0.8173\n",
      "Epoch 20/20\n",
      "326/326 - 1s - loss: 0.4306 - accuracy: 0.8021 - val_loss: 0.4089 - val_accuracy: 0.8127\n"
     ]
    },
    {
     "data": {
      "text/html": [
       "<span style=\"color:#4527A0\"><h1 style=\"font-size:18px\">Trial complete</h1></span>"
      ],
      "text/plain": [
       "<IPython.core.display.HTML object>"
      ]
     },
     "metadata": {},
     "output_type": "display_data"
    },
    {
     "data": {
      "text/html": [
       "<span style=\"color:#4527A0\"><h1 style=\"font-size:18px\">Trial summary</h1></span>"
      ],
      "text/plain": [
       "<IPython.core.display.HTML object>"
      ]
     },
     "metadata": {},
     "output_type": "display_data"
    },
    {
     "data": {
      "text/html": [
       "<span style=\"color:cyan\"> |-Trial ID: 659c345db2d4df2580a3297823a72fea</span>"
      ],
      "text/plain": [
       "<IPython.core.display.HTML object>"
      ]
     },
     "metadata": {},
     "output_type": "display_data"
    },
    {
     "data": {
      "text/html": [
       "<span style=\"color:cyan\"> |-Score: 0.4082305133342743</span>"
      ],
      "text/plain": [
       "<IPython.core.display.HTML object>"
      ]
     },
     "metadata": {},
     "output_type": "display_data"
    },
    {
     "data": {
      "text/html": [
       "<span style=\"color:cyan\"> |-Best step: 0</span>"
      ],
      "text/plain": [
       "<IPython.core.display.HTML object>"
      ]
     },
     "metadata": {},
     "output_type": "display_data"
    },
    {
     "data": {
      "text/html": [
       "<span style=\"color:#7E57C2\"><h2 style=\"font-size:16px\">Hyperparameters:</h2></span>"
      ],
      "text/plain": [
       "<IPython.core.display.HTML object>"
      ]
     },
     "metadata": {},
     "output_type": "display_data"
    },
    {
     "data": {
      "text/html": [
       "<span style=\"color:cyan\"> |-layers: 1</span>"
      ],
      "text/plain": [
       "<IPython.core.display.HTML object>"
      ]
     },
     "metadata": {},
     "output_type": "display_data"
    },
    {
     "data": {
      "text/html": [
       "<span style=\"color:blue\"> |-units_0: 320</span>"
      ],
      "text/plain": [
       "<IPython.core.display.HTML object>"
      ]
     },
     "metadata": {},
     "output_type": "display_data"
    },
    {
     "data": {
      "text/html": [
       "<span style=\"color:cyan\"> |-units_1: 352</span>"
      ],
      "text/plain": [
       "<IPython.core.display.HTML object>"
      ]
     },
     "metadata": {},
     "output_type": "display_data"
    },
    {
     "data": {
      "text/html": [
       "<span style=\"color:blue\"> |-units_2: 480</span>"
      ],
      "text/plain": [
       "<IPython.core.display.HTML object>"
      ]
     },
     "metadata": {},
     "output_type": "display_data"
    },
    {
     "name": "stdout",
     "output_type": "stream",
     "text": [
      "INFO:tensorflow:Oracle triggered exit\n"
     ]
    }
   ],
   "source": [
    "mlp_tuning_history = mlp_tuner.search([X_train_text, X_train_nf], y_train, \n",
    "                                      validation_data = ([X_val_text, X_val_nf], y_val), \n",
    "                                      batch_size = batch_size, epochs = no_epochs, verbose = 2)"
   ]
  },
  {
   "cell_type": "markdown",
   "metadata": {},
   "source": [
    " "
   ]
  },
  {
   "cell_type": "markdown",
   "metadata": {},
   "source": [
    "## MLP - Cross Validation"
   ]
  },
  {
   "cell_type": "code",
   "execution_count": 20,
   "metadata": {},
   "outputs": [],
   "source": [
    "# Parámetros\n",
    "n_folds = 5\n",
    "batch_size = 32\n",
    "no_epochs = 25"
   ]
  },
  {
   "cell_type": "code",
   "execution_count": 21,
   "metadata": {},
   "outputs": [],
   "source": [
    "def load_data_cv(TrainDF, TestDF, encode_keyword = False):\n",
    "    # Numeric Features: Encoding de 'keyword' + Resultado de feature engineering\n",
    "    print('Preparando las Numeric Features...')\n",
    "    TrainDF_subset = TrainDF.drop(columns = ['id', 'keyword', 'location', 'text', 'target'])\n",
    "    TestDF_subset = TestDF.drop(columns = ['id', 'keyword', 'location', 'text'])\n",
    "    if encode_keyword == True:\n",
    "        ohe = OneHotEncoder(handle_unknown = 'ignore')\n",
    "        ohe.fit(np.array(TrainDF.loc[TrainDF['keyword'].isna() == False, 'keyword']).reshape((-1,1)))\n",
    "        TrainDF['keyword'].fillna('NoKeyword', inplace = True)\n",
    "        TrainDF_keyword_enc = ohe.transform(np.array(TrainDF['keyword']).reshape((-1,1)))\n",
    "        TestDF['keyword'].fillna('NoKeyword', inplace = True)\n",
    "        TestDF_keyword_enc = ohe.transform(np.array(TestDF['keyword']).reshape((-1,1)))\n",
    "        print('El encoding genera {} nuevos features adicionales'.format(TrainDF_keyword_enc.shape[1]))\n",
    "        X_train_nf = sparse.hstack((TrainDF_keyword_enc, sparse.csr_matrix(TrainDF_subset.values))).toarray()\n",
    "        X_test_nf = sparse.hstack((TestDF_keyword_enc, sparse.csr_matrix(TestDF_subset.values))).toarray()\n",
    "    else:\n",
    "        X_train_nf = TrainDF_subset.to_numpy()\n",
    "        X_test_nf = TestDF_subset.to_numpy()\n",
    "    nf_norm_layer = layers.experimental.preprocessing.Normalization()\n",
    "    nf_norm_layer.adapt(X_train_nf)\n",
    "    X_train_nf = nf_norm_layer(X_train_nf)\n",
    "    X_test_nf = nf_norm_layer(X_test_nf) \n",
    "    \n",
    "    # Text: Formateo para embedding layer\n",
    "    print('Preparando el texto... \\n')\n",
    "    X_train_text = np.stack(TrainDF['text'].map(lambda x: embed(x)))\n",
    "    X_test_text = np.stack(TestDF['text'].map(lambda x: embed(x)))\n",
    "    nf_norm_layer_text = layers.experimental.preprocessing.Normalization()\n",
    "    nf_norm_layer_text.adapt(X_train_text)\n",
    "    X_train_text = nf_norm_layer_text(X_train_text)\n",
    "    X_test_text = nf_norm_layer_text(X_test_text)\n",
    "    \n",
    "    # Target\n",
    "    y_train = np.array(TrainDF['target'])\n",
    "    \n",
    "    print('''Las dimensiones de los sets de datos son:\n",
    "        Set de entrenamiento, features numéricos: {}\n",
    "        Set de entrenamiento, texto: {}\n",
    "        Set de test, features numéricos: {}\n",
    "        Set de test, texto: {}'''.format(X_train_nf.shape, X_train_text.shape, X_test_nf.shape, X_test_text.shape))\n",
    "    \n",
    "    return X_train_text, X_train_nf, X_test_text, X_test_nf, y_train"
   ]
  },
  {
   "cell_type": "code",
   "execution_count": 22,
   "metadata": {},
   "outputs": [
    {
     "name": "stdout",
     "output_type": "stream",
     "text": [
      "Preparando las Numeric Features...\n",
      "Preparando el texto... \n",
      "\n",
      "Las dimensiones de los sets de datos son:\n",
      "        Set de entrenamiento, features numéricos: (13026, 24)\n",
      "        Set de entrenamiento, texto: (13026, 100)\n",
      "        Set de test, features numéricos: (3263, 24)\n",
      "        Set de test, texto: (3263, 100)\n"
     ]
    }
   ],
   "source": [
    "# Sets de datos\n",
    "X_train_text, X_train_nf, X_test_text, X_test_nf, y_train = load_data_cv(tw_train_noisy_balanced, tw_test)\n",
    "\n",
    "# Almacenamiento de la información de entrenamiento\n",
    "acc_per_fold = []\n",
    "loss_per_fold = []\n",
    "\n",
    "# Índices para separación\n",
    "skf = StratifiedKFold(n_splits=n_folds, random_state = 123, shuffle = True)"
   ]
  },
  {
   "cell_type": "code",
   "execution_count": 23,
   "metadata": {},
   "outputs": [],
   "source": [
    "# Creación del modelo iterable\n",
    "def get_compiled_model():\n",
    "    inputs1 = keras.Input(batch_size = None, shape = (X_train_text.shape[1],))  # Entrada del texto vectorizado según myVocabulary\n",
    "    inputs2 = keras.Input(batch_size = None, shape = (X_train_nf.shape[1],))  # Entrada de los features numéricos completamente pre-procesados\n",
    "\n",
    "    x = layers.Concatenate(axis = 1)([inputs1, inputs2])  # Combinación de las salidas de ambas ramas\n",
    "    \n",
    "    x = layers.Dropout(0.5)(x)\n",
    "    x = layers.Dense(320, activation=\"relu\")(x)\n",
    "    x = layers.BatchNormalization(trainable = False)(x)\n",
    "    x = layers.Dense(416, activation=\"relu\")(x)\n",
    "    x = layers.BatchNormalization(trainable = False)(x)\n",
    "    outputs = layers.Dense(1, activation=\"sigmoid\")(x)\n",
    "\n",
    "    model = keras.Model(inputs=[inputs1, inputs2], outputs=outputs)\n",
    "    model.compile(loss=\"binary_crossentropy\", optimizer=keras.optimizers.Adam(learning_rate=0.002), metrics=[\"accuracy\"])\n",
    "    return model"
   ]
  },
  {
   "cell_type": "code",
   "execution_count": 24,
   "metadata": {
    "collapsed": true,
    "jupyter": {
     "outputs_hidden": true
    }
   },
   "outputs": [
    {
     "name": "stdout",
     "output_type": "stream",
     "text": [
      "------------------------------------------------------------------------\n",
      "Training for fold 1 ...\n",
      "Epoch 1/25\n",
      "326/326 - 1s - loss: 0.5116 - accuracy: 0.7563\n",
      "Epoch 2/25\n",
      "326/326 - 1s - loss: 0.4811 - accuracy: 0.7739\n",
      "Epoch 3/25\n",
      "326/326 - 1s - loss: 0.4670 - accuracy: 0.7796\n",
      "Epoch 4/25\n",
      "326/326 - 1s - loss: 0.4585 - accuracy: 0.7839\n",
      "Epoch 5/25\n",
      "326/326 - 1s - loss: 0.4604 - accuracy: 0.7857\n",
      "Epoch 6/25\n",
      "326/326 - 1s - loss: 0.4496 - accuracy: 0.7907\n",
      "Epoch 7/25\n",
      "326/326 - 1s - loss: 0.4445 - accuracy: 0.7946\n",
      "Epoch 8/25\n",
      "326/326 - 1s - loss: 0.4421 - accuracy: 0.7959\n",
      "Epoch 9/25\n",
      "326/326 - 1s - loss: 0.4447 - accuracy: 0.7971\n",
      "Epoch 10/25\n",
      "326/326 - 1s - loss: 0.4353 - accuracy: 0.7976\n",
      "Epoch 11/25\n",
      "326/326 - 1s - loss: 0.4337 - accuracy: 0.8029\n",
      "Epoch 12/25\n",
      "326/326 - 1s - loss: 0.4268 - accuracy: 0.8060\n",
      "Epoch 13/25\n",
      "326/326 - 1s - loss: 0.4219 - accuracy: 0.8060\n",
      "Epoch 14/25\n",
      "326/326 - 1s - loss: 0.4172 - accuracy: 0.8062\n",
      "Epoch 15/25\n",
      "326/326 - 1s - loss: 0.4144 - accuracy: 0.8113\n",
      "Epoch 16/25\n",
      "326/326 - 1s - loss: 0.4154 - accuracy: 0.8126\n",
      "Epoch 17/25\n",
      "326/326 - 1s - loss: 0.4158 - accuracy: 0.8084\n",
      "Epoch 18/25\n",
      "326/326 - 1s - loss: 0.4091 - accuracy: 0.8118\n",
      "Epoch 19/25\n",
      "326/326 - 1s - loss: 0.4060 - accuracy: 0.8138\n",
      "Epoch 20/25\n",
      "326/326 - 1s - loss: 0.4035 - accuracy: 0.8162\n",
      "Epoch 21/25\n",
      "326/326 - 1s - loss: 0.3947 - accuracy: 0.8204\n",
      "Epoch 22/25\n",
      "326/326 - 1s - loss: 0.3946 - accuracy: 0.8202\n",
      "Epoch 23/25\n",
      "326/326 - 1s - loss: 0.3993 - accuracy: 0.8137\n",
      "Epoch 24/25\n",
      "326/326 - 1s - loss: 0.3959 - accuracy: 0.8165\n",
      "Epoch 25/25\n",
      "326/326 - 1s - loss: 0.3956 - accuracy: 0.8187\n",
      "82/82 - 0s - loss: 0.3937 - accuracy: 0.8285\n",
      "\n",
      "Score for fold 1: loss of 0.39367058873176575; accuracy of 82.84727334976196% \n",
      "\n",
      "------------------------------------------------------------------------\n",
      "Training for fold 2 ...\n",
      "Epoch 1/25\n",
      "326/326 - 1s - loss: 0.5063 - accuracy: 0.7598\n",
      "Epoch 2/25\n",
      "326/326 - 1s - loss: 0.4700 - accuracy: 0.7784\n",
      "Epoch 3/25\n",
      "326/326 - 1s - loss: 0.4646 - accuracy: 0.7840\n",
      "Epoch 4/25\n",
      "326/326 - 1s - loss: 0.4568 - accuracy: 0.7853\n",
      "Epoch 5/25\n",
      "326/326 - 1s - loss: 0.4504 - accuracy: 0.7907\n",
      "Epoch 6/25\n",
      "326/326 - 1s - loss: 0.4496 - accuracy: 0.7925\n",
      "Epoch 7/25\n",
      "326/326 - 1s - loss: 0.4417 - accuracy: 0.7986\n",
      "Epoch 8/25\n",
      "326/326 - 1s - loss: 0.4352 - accuracy: 0.8024\n",
      "Epoch 9/25\n",
      "326/326 - 1s - loss: 0.4343 - accuracy: 0.7961\n",
      "Epoch 10/25\n",
      "326/326 - 1s - loss: 0.4327 - accuracy: 0.8033\n",
      "Epoch 11/25\n",
      "326/326 - 1s - loss: 0.4235 - accuracy: 0.8052\n",
      "Epoch 12/25\n",
      "326/326 - 1s - loss: 0.4263 - accuracy: 0.8028\n",
      "Epoch 13/25\n",
      "326/326 - 1s - loss: 0.4265 - accuracy: 0.8048\n",
      "Epoch 14/25\n",
      "326/326 - 1s - loss: 0.4169 - accuracy: 0.8087\n",
      "Epoch 15/25\n",
      "326/326 - 1s - loss: 0.4062 - accuracy: 0.8106\n",
      "Epoch 16/25\n",
      "326/326 - 1s - loss: 0.4078 - accuracy: 0.8148\n",
      "Epoch 17/25\n",
      "326/326 - 1s - loss: 0.4054 - accuracy: 0.8133\n",
      "Epoch 18/25\n",
      "326/326 - 1s - loss: 0.4034 - accuracy: 0.8143\n",
      "Epoch 19/25\n",
      "326/326 - 1s - loss: 0.4040 - accuracy: 0.8159\n",
      "Epoch 20/25\n",
      "326/326 - 1s - loss: 0.4002 - accuracy: 0.8159\n",
      "Epoch 21/25\n",
      "326/326 - 1s - loss: 0.3884 - accuracy: 0.8253\n",
      "Epoch 22/25\n",
      "326/326 - 1s - loss: 0.3985 - accuracy: 0.8161\n",
      "Epoch 23/25\n",
      "326/326 - 1s - loss: 0.3904 - accuracy: 0.8225\n",
      "Epoch 24/25\n",
      "326/326 - 1s - loss: 0.3892 - accuracy: 0.8249\n",
      "Epoch 25/25\n",
      "326/326 - 1s - loss: 0.3866 - accuracy: 0.8242\n",
      "82/82 - 0s - loss: 0.4248 - accuracy: 0.8096\n",
      "\n",
      "Score for fold 2: loss of 0.4247688055038452; accuracy of 80.95969557762146% \n",
      "\n",
      "------------------------------------------------------------------------\n",
      "Training for fold 3 ...\n",
      "Epoch 1/25\n",
      "326/326 - 1s - loss: 0.5116 - accuracy: 0.7562\n",
      "Epoch 2/25\n",
      "326/326 - 1s - loss: 0.4762 - accuracy: 0.7779\n",
      "Epoch 3/25\n",
      "326/326 - 1s - loss: 0.4672 - accuracy: 0.7803\n",
      "Epoch 4/25\n",
      "326/326 - 1s - loss: 0.4598 - accuracy: 0.7861\n",
      "Epoch 5/25\n",
      "326/326 - 1s - loss: 0.4480 - accuracy: 0.7935\n",
      "Epoch 6/25\n",
      "326/326 - 1s - loss: 0.4525 - accuracy: 0.7890\n",
      "Epoch 7/25\n",
      "326/326 - 1s - loss: 0.4451 - accuracy: 0.7905\n",
      "Epoch 8/25\n",
      "326/326 - 1s - loss: 0.4416 - accuracy: 0.7945\n",
      "Epoch 9/25\n",
      "326/326 - 1s - loss: 0.4361 - accuracy: 0.7947\n",
      "Epoch 10/25\n",
      "326/326 - 1s - loss: 0.4302 - accuracy: 0.8043\n",
      "Epoch 11/25\n",
      "326/326 - 1s - loss: 0.4311 - accuracy: 0.8023\n",
      "Epoch 12/25\n",
      "326/326 - 1s - loss: 0.4240 - accuracy: 0.8036\n",
      "Epoch 13/25\n",
      "326/326 - 1s - loss: 0.4219 - accuracy: 0.8056\n",
      "Epoch 14/25\n",
      "326/326 - 1s - loss: 0.4227 - accuracy: 0.8079\n",
      "Epoch 15/25\n",
      "326/326 - 1s - loss: 0.4181 - accuracy: 0.8096\n",
      "Epoch 16/25\n",
      "326/326 - 1s - loss: 0.4116 - accuracy: 0.8162\n",
      "Epoch 17/25\n",
      "326/326 - 1s - loss: 0.4111 - accuracy: 0.8109\n",
      "Epoch 18/25\n",
      "326/326 - 1s - loss: 0.4027 - accuracy: 0.8124\n",
      "Epoch 19/25\n",
      "326/326 - 1s - loss: 0.3997 - accuracy: 0.8180\n",
      "Epoch 20/25\n",
      "326/326 - 1s - loss: 0.3960 - accuracy: 0.8187\n",
      "Epoch 21/25\n",
      "326/326 - 1s - loss: 0.3973 - accuracy: 0.8205\n",
      "Epoch 22/25\n",
      "326/326 - 1s - loss: 0.3939 - accuracy: 0.8231\n",
      "Epoch 23/25\n",
      "326/326 - 1s - loss: 0.3928 - accuracy: 0.8240\n",
      "Epoch 24/25\n",
      "326/326 - 1s - loss: 0.3926 - accuracy: 0.8223\n",
      "Epoch 25/25\n",
      "326/326 - 1s - loss: 0.3839 - accuracy: 0.8244\n",
      "82/82 - 0s - loss: 0.4173 - accuracy: 0.8138\n",
      "\n",
      "Score for fold 3: loss of 0.41726672649383545; accuracy of 81.38195872306824% \n",
      "\n",
      "------------------------------------------------------------------------\n",
      "Training for fold 4 ...\n",
      "Epoch 1/25\n",
      "326/326 - 1s - loss: 0.5051 - accuracy: 0.7616\n",
      "Epoch 2/25\n",
      "326/326 - 1s - loss: 0.4747 - accuracy: 0.7764\n",
      "Epoch 3/25\n",
      "326/326 - 1s - loss: 0.4639 - accuracy: 0.7820\n",
      "Epoch 4/25\n",
      "326/326 - 1s - loss: 0.4613 - accuracy: 0.7836\n",
      "Epoch 5/25\n",
      "326/326 - 1s - loss: 0.4587 - accuracy: 0.7872\n",
      "Epoch 6/25\n",
      "326/326 - 1s - loss: 0.4510 - accuracy: 0.7862\n",
      "Epoch 7/25\n",
      "326/326 - 1s - loss: 0.4435 - accuracy: 0.7934\n",
      "Epoch 8/25\n",
      "326/326 - 1s - loss: 0.4412 - accuracy: 0.7937\n",
      "Epoch 9/25\n",
      "326/326 - 1s - loss: 0.4356 - accuracy: 0.7979\n",
      "Epoch 10/25\n",
      "326/326 - 1s - loss: 0.4338 - accuracy: 0.7998\n",
      "Epoch 11/25\n",
      "326/326 - 1s - loss: 0.4275 - accuracy: 0.7958\n",
      "Epoch 12/25\n",
      "326/326 - 1s - loss: 0.4271 - accuracy: 0.8055\n",
      "Epoch 13/25\n",
      "326/326 - 1s - loss: 0.4199 - accuracy: 0.8057\n",
      "Epoch 14/25\n",
      "326/326 - 1s - loss: 0.4198 - accuracy: 0.8067\n",
      "Epoch 15/25\n",
      "326/326 - 1s - loss: 0.4197 - accuracy: 0.8061\n",
      "Epoch 16/25\n",
      "326/326 - 1s - loss: 0.4143 - accuracy: 0.8084\n",
      "Epoch 17/25\n",
      "326/326 - 1s - loss: 0.4091 - accuracy: 0.8126\n",
      "Epoch 18/25\n",
      "326/326 - 1s - loss: 0.4091 - accuracy: 0.8109\n",
      "Epoch 19/25\n",
      "326/326 - 1s - loss: 0.4072 - accuracy: 0.8150\n",
      "Epoch 20/25\n",
      "326/326 - 1s - loss: 0.4055 - accuracy: 0.8125\n",
      "Epoch 21/25\n",
      "326/326 - 1s - loss: 0.4044 - accuracy: 0.8129\n",
      "Epoch 22/25\n",
      "326/326 - 1s - loss: 0.3953 - accuracy: 0.8203\n",
      "Epoch 23/25\n",
      "326/326 - 1s - loss: 0.3940 - accuracy: 0.8230\n",
      "Epoch 24/25\n",
      "326/326 - 1s - loss: 0.3895 - accuracy: 0.8241\n",
      "Epoch 25/25\n",
      "326/326 - 1s - loss: 0.3883 - accuracy: 0.8215\n",
      "82/82 - 0s - loss: 0.4063 - accuracy: 0.8265\n",
      "\n",
      "Score for fold 4: loss of 0.4062742590904236; accuracy of 82.64875411987305% \n",
      "\n",
      "------------------------------------------------------------------------\n",
      "Training for fold 5 ...\n",
      "Epoch 1/25\n",
      "326/326 - 1s - loss: 0.5138 - accuracy: 0.7555\n",
      "Epoch 2/25\n",
      "326/326 - 1s - loss: 0.4793 - accuracy: 0.7776\n",
      "Epoch 3/25\n",
      "326/326 - 1s - loss: 0.4676 - accuracy: 0.7842\n",
      "Epoch 4/25\n",
      "326/326 - 1s - loss: 0.4608 - accuracy: 0.7842\n",
      "Epoch 5/25\n",
      "326/326 - 1s - loss: 0.4533 - accuracy: 0.7923\n",
      "Epoch 6/25\n",
      "326/326 - 1s - loss: 0.4518 - accuracy: 0.7935\n",
      "Epoch 7/25\n",
      "326/326 - 1s - loss: 0.4507 - accuracy: 0.7899\n",
      "Epoch 8/25\n",
      "326/326 - 1s - loss: 0.4412 - accuracy: 0.7990\n",
      "Epoch 9/25\n",
      "326/326 - 1s - loss: 0.4423 - accuracy: 0.7951\n",
      "Epoch 10/25\n",
      "326/326 - 1s - loss: 0.4400 - accuracy: 0.7985\n",
      "Epoch 11/25\n",
      "326/326 - 1s - loss: 0.4315 - accuracy: 0.8023\n",
      "Epoch 12/25\n",
      "326/326 - 1s - loss: 0.4341 - accuracy: 0.7992\n",
      "Epoch 13/25\n",
      "326/326 - 1s - loss: 0.4302 - accuracy: 0.8063\n",
      "Epoch 14/25\n",
      "326/326 - 1s - loss: 0.4285 - accuracy: 0.8016\n",
      "Epoch 15/25\n",
      "326/326 - 1s - loss: 0.4217 - accuracy: 0.8067\n",
      "Epoch 16/25\n",
      "326/326 - 1s - loss: 0.4164 - accuracy: 0.8084\n",
      "Epoch 17/25\n",
      "326/326 - 1s - loss: 0.4201 - accuracy: 0.8067\n",
      "Epoch 18/25\n",
      "326/326 - 1s - loss: 0.4117 - accuracy: 0.8104\n",
      "Epoch 19/25\n",
      "326/326 - 1s - loss: 0.4091 - accuracy: 0.8165\n",
      "Epoch 20/25\n",
      "326/326 - 1s - loss: 0.4086 - accuracy: 0.8135\n",
      "Epoch 21/25\n",
      "326/326 - 1s - loss: 0.3997 - accuracy: 0.8183\n",
      "Epoch 22/25\n",
      "326/326 - 1s - loss: 0.3971 - accuracy: 0.8180\n",
      "Epoch 23/25\n",
      "326/326 - 1s - loss: 0.4046 - accuracy: 0.8150\n",
      "Epoch 24/25\n",
      "326/326 - 1s - loss: 0.3923 - accuracy: 0.8231\n",
      "Epoch 25/25\n",
      "326/326 - 1s - loss: 0.3873 - accuracy: 0.8259\n",
      "82/82 - 0s - loss: 0.3877 - accuracy: 0.8330\n",
      "\n",
      "Score for fold 5: loss of 0.38773515820503235; accuracy of 83.30134153366089% \n",
      "\n",
      "------------------------------------------------------------------------\n",
      "Score per fold\n",
      "------------------------------------------------------------------------\n",
      "> Fold 1 - Loss: 0.39367058873176575 - Accuracy: 82.84727334976196%\n",
      "------------------------------------------------------------------------\n",
      "------------------------------------------------------------------------\n",
      "> Fold 2 - Loss: 0.4247688055038452 - Accuracy: 80.95969557762146%\n",
      "------------------------------------------------------------------------\n",
      "------------------------------------------------------------------------\n",
      "> Fold 3 - Loss: 0.41726672649383545 - Accuracy: 81.38195872306824%\n",
      "------------------------------------------------------------------------\n",
      "------------------------------------------------------------------------\n",
      "> Fold 4 - Loss: 0.4062742590904236 - Accuracy: 82.64875411987305%\n",
      "------------------------------------------------------------------------\n",
      "------------------------------------------------------------------------\n",
      "> Fold 5 - Loss: 0.38773515820503235 - Accuracy: 83.30134153366089%\n",
      "------------------------------------------------------------------------\n",
      "\n",
      "Average scores for all folds:\n",
      "> Accuracy: 82.22780466079712 (+- 0.8985518703232799)\n",
      "> Loss: 0.4059431076049805\n",
      "------------------------------------------------------------------------\n"
     ]
    }
   ],
   "source": [
    "# K-fold Cross Validation\n",
    "fold_no = 1\n",
    "for train, validation in skf.split(X_train_text, y_train):\n",
    "    fold_model = get_compiled_model()\n",
    "    \n",
    "    print('------------------------------------------------------------------------')\n",
    "    print(f'Training for fold {fold_no} ...')\n",
    "    \n",
    "    # Fit data to model\n",
    "    history = fold_model.fit([tf.gather(X_train_text, train), tf.gather(X_train_nf, train)], y_train[train], \n",
    "                             batch_size = batch_size, epochs = no_epochs, verbose = 2)\n",
    "\n",
    "    # Generate generalization metrics\n",
    "    scores = fold_model.evaluate([tf.gather(X_train_text, validation), tf.gather(X_train_nf, validation)], y_train[validation], verbose = 2)\n",
    "    print(f'\\nScore for fold {fold_no}: {fold_model.metrics_names[0]} of {scores[0]}; {fold_model.metrics_names[1]} of {scores[1]*100}% \\n')\n",
    "    acc_per_fold.append(scores[1] * 100)\n",
    "    loss_per_fold.append(scores[0])\n",
    "\n",
    "    # Increase fold number\n",
    "    fold_no = fold_no + 1\n",
    "    \n",
    "    \n",
    "# Average scores\n",
    "print('------------------------------------------------------------------------')\n",
    "print('Score per fold')\n",
    "for i in range(0, len(acc_per_fold)):\n",
    "    print('------------------------------------------------------------------------')\n",
    "    print(f'> Fold {i+1} - Loss: {loss_per_fold[i]} - Accuracy: {acc_per_fold[i]}%')\n",
    "    print('------------------------------------------------------------------------')\n",
    "print('\\nAverage scores for all folds:')\n",
    "print(f'> Accuracy: {np.mean(acc_per_fold)} (+- {np.std(acc_per_fold)})')\n",
    "print(f'> Loss: {np.mean(loss_per_fold)}')\n",
    "print('------------------------------------------------------------------------')"
   ]
  },
  {
   "cell_type": "markdown",
   "metadata": {},
   "source": [
    " "
   ]
  },
  {
   "cell_type": "markdown",
   "metadata": {},
   "source": [
    "## MLP - Reentrenamiento con nuevos parámetros y set completo"
   ]
  },
  {
   "cell_type": "code",
   "execution_count": 25,
   "metadata": {},
   "outputs": [
    {
     "name": "stdout",
     "output_type": "stream",
     "text": [
      "Preparando las Numeric Features...\n",
      "Preparando el texto... \n",
      "\n",
      "Las dimensiones de los sets de datos son:\n",
      "        Set de entrenamiento, features numéricos: (13026, 24)\n",
      "        Set de entrenamiento, texto: (13026, 100)\n",
      "        Set de test, features numéricos: (3263, 24)\n",
      "        Set de test, texto: (3263, 100)\n"
     ]
    }
   ],
   "source": [
    "# Sets de datos\n",
    "X_train_text, X_train_nf, X_test_text, X_test_nf, y_train = load_data_cv(tw_train_noisy_balanced, tw_test)"
   ]
  },
  {
   "cell_type": "code",
   "execution_count": 35,
   "metadata": {},
   "outputs": [],
   "source": [
    "\n",
    "inputs1 = keras.Input(batch_size = None, shape = (X_train_text.shape[1],))  # Entrada del texto vectorizado según myVocabulary\n",
    "inputs2 = keras.Input(batch_size = None, shape = (X_train_nf.shape[1],))  # Entrada de los features numéricos completamente pre-procesados\n",
    "\n",
    "x = layers.Concatenate(axis = 1)([inputs1, inputs2])  # Combinación de las salidas de ambas ramas\n",
    "\n",
    "x = layers.Dropout(0.5)(x)\n",
    "x = layers.Dense(288, activation=\"relu\")(x)\n",
    "x = layers.BatchNormalization(trainable = False)(x)\n",
    "x = layers.Dense(256, activation=\"relu\")(x)\n",
    "x = layers.BatchNormalization(trainable = False)(x)\n",
    "outputs = layers.Dense(1, activation=\"sigmoid\")(x)\n",
    "\n",
    "mlp_model = keras.Model(inputs=[inputs1, inputs2], outputs=outputs)"
   ]
  },
  {
   "cell_type": "code",
   "execution_count": 36,
   "metadata": {},
   "outputs": [],
   "source": [
    "mlp_model.compile(loss=\"binary_crossentropy\", optimizer=keras.optimizers.Adam(learning_rate=0.002), metrics=[\"accuracy\"])"
   ]
  },
  {
   "cell_type": "code",
   "execution_count": 37,
   "metadata": {},
   "outputs": [
    {
     "name": "stdout",
     "output_type": "stream",
     "text": [
      "Epoch 1/25\n",
      "408/408 - 1s - loss: 0.5040 - accuracy: 0.7578\n",
      "Epoch 2/25\n",
      "408/408 - 1s - loss: 0.4694 - accuracy: 0.7797\n",
      "Epoch 3/25\n",
      "408/408 - 1s - loss: 0.4593 - accuracy: 0.7864\n",
      "Epoch 4/25\n",
      "408/408 - 1s - loss: 0.4580 - accuracy: 0.7853\n",
      "Epoch 5/25\n",
      "408/408 - 1s - loss: 0.4525 - accuracy: 0.7944\n",
      "Epoch 6/25\n",
      "408/408 - 1s - loss: 0.4415 - accuracy: 0.7928\n",
      "Epoch 7/25\n",
      "408/408 - 1s - loss: 0.4429 - accuracy: 0.7937\n",
      "Epoch 8/25\n",
      "408/408 - 1s - loss: 0.4408 - accuracy: 0.7966\n",
      "Epoch 9/25\n",
      "408/408 - 1s - loss: 0.4339 - accuracy: 0.7969\n",
      "Epoch 10/25\n",
      "408/408 - 1s - loss: 0.4345 - accuracy: 0.7994\n",
      "Epoch 11/25\n",
      "408/408 - 1s - loss: 0.4314 - accuracy: 0.7969\n",
      "Epoch 12/25\n",
      "408/408 - 1s - loss: 0.4222 - accuracy: 0.8048\n",
      "Epoch 13/25\n",
      "408/408 - 1s - loss: 0.4225 - accuracy: 0.8054\n",
      "Epoch 14/25\n",
      "408/408 - 1s - loss: 0.4227 - accuracy: 0.8049\n",
      "Epoch 15/25\n",
      "408/408 - 1s - loss: 0.4216 - accuracy: 0.8047\n",
      "Epoch 16/25\n",
      "408/408 - 1s - loss: 0.4129 - accuracy: 0.8129\n",
      "Epoch 17/25\n",
      "408/408 - 1s - loss: 0.4119 - accuracy: 0.8100\n",
      "Epoch 18/25\n",
      "408/408 - 1s - loss: 0.4165 - accuracy: 0.8058\n",
      "Epoch 19/25\n",
      "408/408 - 1s - loss: 0.4106 - accuracy: 0.8131\n",
      "Epoch 20/25\n",
      "408/408 - 1s - loss: 0.4077 - accuracy: 0.8148\n",
      "Epoch 21/25\n",
      "408/408 - 1s - loss: 0.3981 - accuracy: 0.8189\n",
      "Epoch 22/25\n",
      "408/408 - 1s - loss: 0.4019 - accuracy: 0.8166\n",
      "Epoch 23/25\n",
      "408/408 - 1s - loss: 0.3945 - accuracy: 0.8181\n",
      "Epoch 24/25\n",
      "408/408 - 1s - loss: 0.3921 - accuracy: 0.8228\n",
      "Epoch 25/25\n",
      "408/408 - 1s - loss: 0.3943 - accuracy: 0.8201\n"
     ]
    }
   ],
   "source": [
    "mlp_model_history = mlp_model.fit([X_train_text, X_train_nf], y_train, \n",
    "                    batch_size = 32, epochs = 25, verbose = 2)"
   ]
  },
  {
   "cell_type": "code",
   "execution_count": 38,
   "metadata": {},
   "outputs": [],
   "source": [
    "# Predicciones\n",
    "mlp_model_prediction = toCategory(mlp_model.predict([X_test_text, X_test_nf]))"
   ]
  },
  {
   "cell_type": "code",
   "execution_count": 40,
   "metadata": {},
   "outputs": [],
   "source": [
    "submission = pd.read_csv('./test.csv')"
   ]
  },
  {
   "cell_type": "code",
   "execution_count": 41,
   "metadata": {},
   "outputs": [],
   "source": [
    "submission = submission.merge(pd.DataFrame(mlp_model_prediction), how = 'inner', on = submission.index)"
   ]
  },
  {
   "cell_type": "code",
   "execution_count": 42,
   "metadata": {},
   "outputs": [],
   "source": [
    "submission = submission[['id', 0]]"
   ]
  },
  {
   "cell_type": "code",
   "execution_count": 43,
   "metadata": {},
   "outputs": [],
   "source": [
    "submission.rename(columns = {0: 'target'}, inplace = True)"
   ]
  },
  {
   "cell_type": "code",
   "execution_count": 44,
   "metadata": {},
   "outputs": [],
   "source": [
    "submission.to_csv('submission10082020.csv', index = False)"
   ]
  },
  {
   "cell_type": "markdown",
   "metadata": {},
   "source": [
    " "
   ]
  }
 ],
 "metadata": {
  "kernelspec": {
   "display_name": "venvTP2",
   "language": "python",
   "name": "venvtp2"
  },
  "language_info": {
   "codemirror_mode": {
    "name": "ipython",
    "version": 3
   },
   "file_extension": ".py",
   "mimetype": "text/x-python",
   "name": "python",
   "nbconvert_exporter": "python",
   "pygments_lexer": "ipython3",
   "version": "3.6.9"
  }
 },
 "nbformat": 4,
 "nbformat_minor": 4
}

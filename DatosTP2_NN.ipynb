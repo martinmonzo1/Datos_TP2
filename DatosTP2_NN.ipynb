{
 "cells": [
  {
   "cell_type": "markdown",
   "metadata": {},
   "source": [
    "## <center>Inicio"
   ]
  },
  {
   "cell_type": "code",
   "execution_count": 2,
   "metadata": {},
   "outputs": [],
   "source": [
    "# Importación de librerías\n",
    "\n",
    "import pickle\n",
    "import numpy as np\n",
    "import pandas as pd\n",
    "import matplotlib.pyplot as plt\n",
    "import seaborn as sns\n",
    "from scipy import sparse\n",
    "import random"
   ]
  },
  {
   "cell_type": "code",
   "execution_count": 3,
   "metadata": {},
   "outputs": [],
   "source": [
    "import re\n",
    "from string import punctuation\n",
    "import nltk\n",
    "from nltk.corpus import stopwords\n",
    "from nltk.stem import PorterStemmer\n",
    "from nltk.tokenize import word_tokenize, sent_tokenize\n",
    "from textblob import TextBlob"
   ]
  },
  {
   "cell_type": "code",
   "execution_count": 4,
   "metadata": {},
   "outputs": [],
   "source": [
    "from sklearn.model_selection import train_test_split, GridSearchCV, KFold, StratifiedKFold, cross_val_score\n",
    "from sklearn.feature_extraction.text import CountVectorizer, TfidfTransformer, HashingVectorizer\n",
    "from sklearn.pipeline import Pipeline\n",
    "from sklearn.ensemble import RandomForestClassifier\n",
    "from sklearn.decomposition import TruncatedSVD\n",
    "from sklearn.metrics import f1_score, confusion_matrix, classification_report, accuracy_score\n",
    "from sklearn.preprocessing import OneHotEncoder, LabelBinarizer"
   ]
  },
  {
   "cell_type": "code",
   "execution_count": 5,
   "metadata": {},
   "outputs": [],
   "source": [
    "from sklearn.utils import shuffle"
   ]
  },
  {
   "cell_type": "code",
   "execution_count": 6,
   "metadata": {},
   "outputs": [],
   "source": [
    "import xgboost as xgb"
   ]
  },
  {
   "cell_type": "code",
   "execution_count": 7,
   "metadata": {},
   "outputs": [],
   "source": [
    "import tensorflow as tf\n",
    "from tensorflow import keras\n",
    "from tensorflow.keras import layers\n",
    "import kerastuner as kt\n",
    "from kerastuner.tuners import BayesianOptimization"
   ]
  },
  {
   "cell_type": "code",
   "execution_count": null,
   "metadata": {},
   "outputs": [],
   "source": [
    "# Importación de los documentos\n",
    "\n",
    "tw_train = pd.read_csv('./train.csv')\n",
    "tw_test = pd.read_csv('./test.csv')\n",
    "pd.set_option('display.max_columns', None)\n",
    "pd.options.display.max_colwidth = 150"
   ]
  },
  {
   "cell_type": "markdown",
   "metadata": {},
   "source": [
    " "
   ]
  },
  {
   "cell_type": "markdown",
   "metadata": {},
   "source": [
    "## <center>Preprocesamiento y Feature Extraction a partir de 'text'"
   ]
  },
  {
   "cell_type": "code",
   "execution_count": 6,
   "metadata": {},
   "outputs": [],
   "source": [
    "contraction_mapping = {\"ain't\": \"is not\", \"aren't\": \"are not\",\"can't\": \"cannot\", \"'cause\": \"because\", \"could've\": \"could have\", \"couldn't\": \"could not\", \"didn't\": \"did not\",  \"doesn't\": \"does not\", \"don't\": \"do not\", \"hadn't\": \"had not\", \"hasn't\": \"has not\", \"haven't\": \"have not\", \"he'd\": \"he would\",\"he'll\": \"he will\", \"he's\": \"he is\", \"how'd\": \"how did\", \"how'd'y\": \"how do you\", \"how'll\": \"how will\", \"how's\": \"how is\",  \"I'd\": \"I would\", \"I'd've\": \"I would have\", \"I'll\": \"I will\", \"I'll've\": \"I will have\",\"I'm\": \"I am\", \"I've\": \"I have\", \"i'd\": \"i would\", \"i'd've\": \"i would have\", \"i'll\": \"i will\",  \"i'll've\": \"i will have\",\"i'm\": \"i am\", \"i've\": \"i have\", \"isn't\": \"is not\", \"it'd\": \"it would\", \"it'd've\": \"it would have\", \"it'll\": \"it will\", \"it'll've\": \"it will have\",\"it's\": \"it is\", \"let's\": \"let us\", \"ma'am\": \"madam\", \"mayn't\": \"may not\", \"might've\": \"might have\",\"mightn't\": \"might not\",\"mightn't've\": \"might not have\", \"must've\": \"must have\", \"mustn't\": \"must not\", \"mustn't've\": \"must not have\", \"needn't\": \"need not\", \"needn't've\": \"need not have\",\"o'clock\": \"of the clock\", \"oughtn't\": \"ought not\", \"oughtn't've\": \"ought not have\", \"shan't\": \"shall not\", \"sha'n't\": \"shall not\", \"shan't've\": \"shall not have\", \"she'd\": \"she would\", \"she'd've\": \"she would have\", \"she'll\": \"she will\", \"she'll've\": \"she will have\", \"she's\": \"she is\", \"should've\": \"should have\", \"shouldn't\": \"should not\", \"shouldn't've\": \"should not have\", \"so've\": \"so have\",\"so's\": \"so as\", \"this's\": \"this is\",\"that'd\": \"that would\", \"that'd've\": \"that would have\", \"that's\": \"that is\", \"there'd\": \"there would\", \"there'd've\": \"there would have\", \"there's\": \"there is\", \"here's\": \"here is\",\"they'd\": \"they would\", \"they'd've\": \"they would have\", \"they'll\": \"they will\", \"they'll've\": \"they will have\", \"they're\": \"they are\", \"they've\": \"they have\", \"to've\": \"to have\", \"wasn't\": \"was not\", \"we'd\": \"we would\", \"we'd've\": \"we would have\", \"we'll\": \"we will\", \"we'll've\": \"we will have\", \"we're\": \"we are\", \"we've\": \"we have\", \"weren't\": \"were not\", \"what'll\": \"what will\", \"what'll've\": \"what will have\", \"what're\": \"what are\",  \"what's\": \"what is\", \"what've\": \"what have\", \"when's\": \"when is\", \"when've\": \"when have\", \"where'd\": \"where did\", \"where's\": \"where is\", \"where've\": \"where have\", \"who'll\": \"who will\", \"who'll've\": \"who will have\", \"who's\": \"who is\", \"who've\": \"who have\", \"why's\": \"why is\", \"why've\": \"why have\", \"will've\": \"will have\", \"won't\": \"will not\", \"won't've\": \"will not have\", \"would've\": \"would have\", \"wouldn't\": \"would not\", \"wouldn't've\": \"would not have\", \"y'all\": \"you all\", \"y'all'd\": \"you all would\",\"y'all'd've\": \"you all would have\",\"y'all're\": \"you all are\",\"y'all've\": \"you all have\",\"you'd\": \"you would\", \"you'd've\": \"you would have\", \"you'll\": \"you will\", \"you'll've\": \"you will have\", \"you're\": \"you are\", \"you've\": \"you have\" }\n",
    "\n",
    "regexes = {'hashtags':r'(#)+', 'mentions':r'(@)\\w*', 'URLs':r'(http://)[a-zA-Z0-9./]*'}\n",
    "\n",
    "referenceDF = pd.read_csv('./headlines_reference_values.csv').drop(columns = 'Unnamed: 0')\n",
    "ref = referenceDF.loc[0]\n",
    "\n",
    "basicStopwords = stopwords.words('english')\n",
    "myStopwords = set(basicStopwords + list(punctuation))"
   ]
  },
  {
   "cell_type": "code",
   "execution_count": 7,
   "metadata": {},
   "outputs": [],
   "source": [
    "def isInText(DF, feature):\n",
    "    DF[feature[0]+'_in_t'] = 0   # Inicialización de la nueva columna\n",
    "    for i in range(len(DF)):\n",
    "        try:\n",
    "            if (DF.loc[i, feature]).lower() in (DF.loc[i, 'text']).lower(): DF.loc[i, feature[0]+'_in_t'] = 1\n",
    "        except:\n",
    "            continue\n",
    "        \n",
    "def replace_contractions(text, mapping):\n",
    "    noContText = []\n",
    "    counter = 0\n",
    "    for t in text.split(\" \"):\n",
    "        if t.lower() in mapping:\n",
    "            noContText.append(mapping[t.lower()])\n",
    "            counter += 1\n",
    "        else:\n",
    "            noContText.append(t) \n",
    "    return [' '.join(noContText), counter]\n",
    "\n",
    "def Qy(regex, text):   \n",
    "    try:\n",
    "        return len(re.compile(regex).findall(text))\n",
    "    except:\n",
    "        return 0\n",
    "\n",
    "def newFeatures(DF, regexDict):\n",
    "    for k, v in regexDict.items():\n",
    "        DF[['text', k]] = pd.DataFrame(DF['text'].map(lambda x: [re.compile(v).sub(r' ', x), Qy(v, x)]).tolist())\n",
    "\n",
    "def wilsonScore(num, den):\n",
    "    if num == 0:\n",
    "        return round(0, 2)\n",
    "    phat = num/den\n",
    "    z = 1.96\n",
    "    return round(((phat + z*z/(2*den) - z * np.sqrt((phat*(1-phat)+z*z/(4*den))/den))/(1+z*z/den)), 2)\n",
    "\n",
    "def tagging(text):\n",
    "    tagsCount = {'ADJ':0, 'ADP':0, 'ADV':0, 'CONJ':0, 'DET':0, 'NOUN':0, 'NUM':0, 'PRT':0, 'PRON':0, 'VERB':0, '.':0, 'X':0}\n",
    "    tags = []\n",
    "    sentences = sent_tokenize(text)\n",
    "    for sentence in sentences:\n",
    "        tags += nltk.pos_tag(word_tokenize(sentence), tagset = 'universal')\n",
    "    for word, tag in tags:\n",
    "        tagsCount[tag] += 1    \n",
    "    POS_ratio = [round((12 - list(tagsCount.values()).count(0))/12, 2)]\n",
    "#     mostCommonPOS_ratio = [round(list(tagsCount.values()).count(max(tagsCount.values()))/(12-list(tagsCount.values()).count(0)), 2)]\n",
    "    mostCommonPOS_ratio = [wilsonScore(list(tagsCount.values()).count(max(tagsCount.values())), 12-list(tagsCount.values()).count(0))]\n",
    "    noun_ratio =  [wilsonScore(tagsCount['NOUN'], sum(tagsCount.values()))]\n",
    "    return list(tagsCount.values()) + POS_ratio + mostCommonPOS_ratio + noun_ratio\n",
    "\n",
    "def headlinesDistance(DF, ref):\n",
    "    DF['dist'] = 0\n",
    "    for i in range(len(DF)):\n",
    "        x = DF.loc[i, ['textLenght','ADJ','ADP','ADV','CONJ','DET','NOUN','NUM','PRT','PRON','VERB','.','X','POS_ratio','topPOS_ratio','NOUN/TOT', 'polarity', 'subjectivity']]\n",
    "        DF.loc[i, 'dist'] =  np.dot(x, ref)/(np.linalg.norm(x)*np.linalg.norm(ref))\n",
    "\n",
    "def sentimentAnalysis(text):\n",
    "    blob = TextBlob(text)\n",
    "    return blob.sentiment\n",
    "\n",
    "def stemmizer(text, stopwords):\n",
    "    words = word_tokenize(text)\n",
    "    return ' '.join([PorterStemmer().stem(word) for word in words if word not in stopwords])\n",
    "\n",
    "def SWRemoval(text, stopwords):\n",
    "    words = word_tokenize(text)\n",
    "    return ' '.join([word for word in words if word not in stopwords])\n",
    "    \n",
    "def preprocessing(DF, contraction_mapping, regexes, ref, myStopwords):\n",
    "#     originalTextLength = tw_train['text'].map(lambda x: len(x))\n",
    "    isInText(DF, 'keyword')\n",
    "    isInText(DF, 'location')\n",
    "    DF[['text', 'conts']] = pd.DataFrame(DF['text'].map(lambda x: replace_contractions(x, contraction_mapping)).tolist())\n",
    "    originalTextLength = DF['text'].map(lambda x: len(x))\n",
    "    newFeatures(DF, regexes) \n",
    "    DF['textLenght'] = DF['text'].map(lambda x: len(x))\n",
    "#     DF['textTrash'] = originalTextLength - DF['textLenght']\n",
    "    DF[['ADJ','ADP','ADV','CONJ','DET','NOUN','NUM','PRT','PRON','VERB','.','X','POS_ratio','topPOS_ratio','NOUN/TOT']] = pd.DataFrame(DF['text'].map(lambda x: tagging(x)).tolist())\n",
    "    DF[['polarity', 'subjectivity']] = pd.DataFrame(DF['text'].map(lambda x: sentimentAnalysis(x)).tolist())\n",
    "    headlinesDistance(DF, ref)\n",
    "    DF['K'] = DF['textLenght']*DF['NOUN/TOT']*DF['polarity']\n",
    "    DF['text'] = DF['text'].map(lambda x: x.lower())\n",
    "    DF['text'] = DF['text'].map(lambda x: re.compile(r'\\d').sub(r' ', x))\n",
    "#     DF['text'] = DF['text'].map(lambda x: stemmizer(x, myStopwords))\n",
    "    DF['text'] = DF['text'].map(lambda x: SWRemoval(x, myStopwords))\n",
    "    DF['textTrash'] = originalTextLength - DF['textLenght']    "
   ]
  },
  {
   "cell_type": "code",
   "execution_count": 10,
   "metadata": {
    "jupyter": {
     "source_hidden": true
    }
   },
   "outputs": [],
   "source": [
    "# Preprocesamiento y feature extraction del text\n",
    "\n",
    "preprocessing(tw_train, contraction_mapping, regexes, ref, myStopwords)\n",
    "preprocessing(tw_test, contraction_mapping, regexes, ref, myStopwords)"
   ]
  },
  {
   "cell_type": "markdown",
   "metadata": {},
   "source": [
    " "
   ]
  },
  {
   "cell_type": "markdown",
   "metadata": {},
   "source": [
    "## <center>Vocabulario - Embeddings"
   ]
  },
  {
   "cell_type": "code",
   "execution_count": 11,
   "metadata": {
    "collapsed": true,
    "jupyter": {
     "outputs_hidden": true,
     "source_hidden": true
    }
   },
   "outputs": [
    {
     "name": "stdout",
     "output_type": "stream",
     "text": [
      "El vocabulario consta de 2173 palabras\n"
     ]
    }
   ],
   "source": [
    "# Vocabulary\n",
    "# las Stopwords ya quedaron afuera en el paso anterior\n",
    "\n",
    "textList = tw_train['text'].tolist()\n",
    "text = ' '.join(textList)\n",
    "tokens = word_tokenize(text)\n",
    "tokensFreq = nltk.FreqDist(tokens)\n",
    "tokensFreq = {k:v for k,v in tokensFreq.items() if (v>5) & (v<150)}\n",
    "myVocabulary = list(tokensFreq.keys())\n",
    "print('El vocabulario consta de {} palabras'.format(len(myVocabulary)))"
   ]
  },
  {
   "cell_type": "code",
   "execution_count": 27,
   "metadata": {},
   "outputs": [],
   "source": [
    "# Embeddings\n",
    "\n",
    "embeddingsFilePath = './glove.twitter.27B.100d.txt'\n",
    "embeddingsFile = open(embeddingsFilePath)\n",
    "embeddingsIndex = {}\n",
    "for line in embeddingsFile:\n",
    "    lineList = line.split()\n",
    "    word = lineList[0]\n",
    "    vector = np.array(lineList[1:])\n",
    "    embeddingsIndex[word] = vector\n",
    "embeddingsFile.close()"
   ]
  },
  {
   "cell_type": "code",
   "execution_count": 13,
   "metadata": {
    "collapsed": true,
    "jupyter": {
     "outputs_hidden": true,
     "source_hidden": true
    }
   },
   "outputs": [
    {
     "name": "stdout",
     "output_type": "stream",
     "text": [
      "96.82% de los tokens tienen embedding\n"
     ]
    }
   ],
   "source": [
    "def embeddingsInVoc(voc):\n",
    "    noEmbeddingTokens = []\n",
    "    for token in voc:\n",
    "        if token.lower() not in embeddingsIndex:\n",
    "            noEmbeddingTokens.append(token)\n",
    "    print('{}% de los tokens tienen embedding'.format( 100 - round((len(noEmbeddingTokens)/len(voc))*100, 2) ))\n",
    "    return noEmbeddingTokens\n",
    "\n",
    "noEmbeddingTokens = embeddingsInVoc(myVocabulary)"
   ]
  },
  {
   "cell_type": "code",
   "execution_count": 14,
   "metadata": {
    "jupyter": {
     "source_hidden": true
    }
   },
   "outputs": [],
   "source": [
    "tokensReplacement = {'icemoon':'ice moon','bioterror':'bio terror','bioterrorism':'bio terrorism','microlight':'micro light',\n",
    "                     'w/heavenly':'heavenly','typhoon-devastated':'typhoon devastated',\"'save\":'save','animalrescue':'animal rescue',\n",
    "                     'mediterran':'mediterranean','meat-loving':'meat loving',\"'suicide\":'suicide'}\n",
    "tokensDeletion = set(tokensReplacement.keys()) ^ set(noEmbeddingTokens)"
   ]
  },
  {
   "cell_type": "code",
   "execution_count": 15,
   "metadata": {
    "jupyter": {
     "source_hidden": true
    }
   },
   "outputs": [],
   "source": [
    "# Últimos detalles sobre la limpieza del texto\n",
    "def replace_noEmbeddingTokens(text, replacement_mapping, deletion_list):\n",
    "    newText = []\n",
    "    for word in word_tokenize(text):\n",
    "        if word.lower() in replacement_mapping:\n",
    "            newText.append(replacement_mapping[word.lower()])\n",
    "        elif word.lower() not in deletion_list:\n",
    "            newText.append(word) \n",
    "    return ' '.join(newText)\n",
    "\n",
    "tw_train['text'] = tw_train['text'].map(lambda x: replace_noEmbeddingTokens(x, tokensReplacement, tokensDeletion))\n",
    "tw_test['text'] = tw_test['text'].map(lambda x: replace_noEmbeddingTokens(x, tokensReplacement, tokensDeletion))"
   ]
  },
  {
   "cell_type": "code",
   "execution_count": 16,
   "metadata": {
    "collapsed": true,
    "jupyter": {
     "outputs_hidden": true,
     "source_hidden": true
    }
   },
   "outputs": [
    {
     "name": "stdout",
     "output_type": "stream",
     "text": [
      "El nuevo vocabulario consta de 2112 palabras\n"
     ]
    }
   ],
   "source": [
    "# Redefino vocabulario\n",
    "myVocabulary = [w for w in myVocabulary if w not in tokensDeletion]\n",
    "myVocabulary = [tokensReplacement[w] if (w in tokensReplacement) else w for w in myVocabulary]\n",
    "myVocabulary = list(set(myVocabulary))\n",
    "print('El nuevo vocabulario consta de {} palabras'.format(len(myVocabulary)))"
   ]
  },
  {
   "cell_type": "code",
   "execution_count": 17,
   "metadata": {
    "collapsed": true,
    "jupyter": {
     "outputs_hidden": true,
     "source_hidden": true
    }
   },
   "outputs": [
    {
     "name": "stdout",
     "output_type": "stream",
     "text": [
      "99.67% de los tokens tienen embedding\n"
     ]
    }
   ],
   "source": [
    "noEmbeddingTokens = embeddingsInVoc(myVocabulary)"
   ]
  },
  {
   "cell_type": "markdown",
   "metadata": {
    "jupyter": {
     "source_hidden": true
    }
   },
   "source": [
    "### Resultados"
   ]
  },
  {
   "cell_type": "code",
   "execution_count": 18,
   "metadata": {
    "jupyter": {
     "source_hidden": true
    }
   },
   "outputs": [],
   "source": [
    "tw_train.to_csv('tw_train.csv', index = False)\n",
    "tw_test.to_csv('tw_test.csv', index = False)\n",
    "\n",
    "with open('myVocabulary.pickle', 'wb') as f:\n",
    "    pickle.dump(myVocabulary, f)"
   ]
  },
  {
   "cell_type": "markdown",
   "metadata": {},
   "source": [
    "### Carga de los resultados"
   ]
  },
  {
   "cell_type": "raw",
   "metadata": {},
   "source": [
    "tw_train = pd.read_csv('tw_train.csv')\n",
    "tw_train['text'] = tw_train['text'].astype('str')\n",
    "tw_test = pd.read_csv('tw_test.csv')\n",
    "tw_test['text'] = tw_test['text'].astype('str')"
   ]
  },
  {
   "cell_type": "code",
   "execution_count": 8,
   "metadata": {},
   "outputs": [],
   "source": [
    "with open('myVocabulary.pickle', 'rb') as f:\n",
    "    myVocabulary = pickle.load(f)"
   ]
  },
  {
   "cell_type": "markdown",
   "metadata": {},
   "source": [
    "### Más de embeddings"
   ]
  },
  {
   "cell_type": "code",
   "execution_count": 9,
   "metadata": {},
   "outputs": [
    {
     "name": "stdout",
     "output_type": "stream",
     "text": [
      "La embeddingsMatrix resultante tiene las dimensiones (2114, 100)\n"
     ]
    }
   ],
   "source": [
    "# Creación de un Vocabulary Index\n",
    "# El índice cero y el índice 1 se reservan para padding y \"out of index\", respectivamente.\n",
    "\n",
    "vocabularyIndex = {}\n",
    "for i in range(2, len(myVocabulary)+2):  # myVocabulary es una lista ya creada anteriormente\n",
    "    vocabularyIndex[myVocabulary[i-2]] = i\n",
    "    \n",
    "# Construcción de la embedding matrix\n",
    "\n",
    "num_tokens = len(vocabularyIndex) + 2\n",
    "embeddings_dim = 100\n",
    "embeddingsMatrix = np.zeros((num_tokens, embeddings_dim))\n",
    "for word, i in vocabularyIndex.items():\n",
    "    embedding_vector = embeddingsIndex.get(word)\n",
    "    if embedding_vector is not None:\n",
    "        embeddingsMatrix[i] = embedding_vector\n",
    "    else:\n",
    "        continue\n",
    "print('La embeddingsMatrix resultante tiene las dimensiones {}'.format(embeddingsMatrix.shape))\n",
    "\n",
    "# Construcción de los vectores de entrada\n",
    "\n",
    "def vocMapping(text):\n",
    "    vector = []\n",
    "    for word in word_tokenize(text):\n",
    "        try:\n",
    "            vector.append(vocabularyIndex[word])\n",
    "        except:\n",
    "            vector.append(1)  # Embeddings desconocidos\n",
    "    vector = vector + [0]*(num_tokens - len(vector))  # Padding\n",
    "    return np.array(vector).astype(np.float)"
   ]
  },
  {
   "cell_type": "markdown",
   "metadata": {},
   "source": [
    " "
   ]
  },
  {
   "cell_type": "markdown",
   "metadata": {},
   "source": [
    "## <center>Data Augmentation: Creación de un nuevo set de train basado en ruido"
   ]
  },
  {
   "cell_type": "code",
   "execution_count": 20,
   "metadata": {
    "jupyter": {
     "source_hidden": true
    }
   },
   "outputs": [],
   "source": [
    "# Data a utilizar: embeddingsIndex, que es el diccionario tal que (k, v) = (word, embedding)\n",
    "# Lo reduzco a una forma que contenga solo las claves que también se encuentran en myVocabulary\n",
    "\n",
    "myEmbeddingsIndex = {k:v.astype(np.float) for k,v in embeddingsIndex.items() if k in myVocabulary}"
   ]
  },
  {
   "cell_type": "raw",
   "metadata": {
    "jupyter": {
     "source_hidden": true
    }
   },
   "source": [
    "# El nuevo texto tendrá el 50% de sus palabras reemplazadas\n",
    "# Se reemplazan las palabras de acuerdo al vector más cercano que exista en el vocabulario\n",
    "\n",
    "def text_adulteration(text, stopwords, embDict):\n",
    "    words = word_tokenize(text)\n",
    "    for i in range(len(words)):\n",
    "        if words[i].lower() in stopwords:\n",
    "            continue\n",
    "        elif words[i].lower() in embDict:\n",
    "            minDistance = -1\n",
    "            for k, v in embDict.items():\n",
    "                if k != words[i].lower():\n",
    "                    distance = np.dot(embDict[words[i].lower()], v)/(np.linalg.norm(embDict[words[i].lower()])*np.linalg.norm(v))\n",
    "                    if (1 - distance) < (1 - minDistance):\n",
    "                        minDistance = distance\n",
    "                        newWord = k\n",
    "        else:\n",
    "            choice = random.randint(0, 1)\n",
    "            if choice == 1:\n",
    "                newWord = list(embDict.keys())[random.randint(0, len(embDict)-1)]\n",
    "            else:\n",
    "                newWord = words[i]\n",
    "        words[i] = newWord\n",
    "    choice = random.randint(0, 1)\n",
    "    if choice == 0:\n",
    "        words.append(list(embDict.keys())[random.randint(0, len(embDict)-1)])\n",
    "    elif (choice == 1) and (len(words) > 1):\n",
    "        words.pop()\n",
    "    return ' '.join(words)\n",
    "\n",
    "def noisy_preprocessing(DF, contraction_mapping, regexes, ref, myStopwords, embDict):\n",
    "#     originalTextLength = tw_train['text'].map(lambda x: len(x))\n",
    "    DF[['text', 'conts']] = pd.DataFrame(DF['text'].map(lambda x: replace_contractions(x, contraction_mapping)).tolist())\n",
    "    originalTextLength = DF['text'].map(lambda x: len(x))\n",
    "    newFeatures(DF, regexes)\n",
    "    DF['text'] = DF['text'].map(lambda x: text_adulteration(x, myStopwords, embDict))\n",
    "    isInText(DF, 'keyword')\n",
    "    isInText(DF, 'location')\n",
    "    DF['textLenght'] = DF['text'].map(lambda x: len(x))\n",
    "#     DF['textTrash'] = originalTextLength - DF['textLenght']\n",
    "    DF[['ADJ','ADP','ADV','CONJ','DET','NOUN','NUM','PRT','PRON','VERB','.','X','POS_ratio','topPOS_ratio','NOUN/TOT']] = pd.DataFrame(DF['text'].map(lambda x: tagging(x)).tolist())\n",
    "    DF[['polarity', 'subjectivity']] = pd.DataFrame(DF['text'].map(lambda x: sentimentAnalysis(x)).tolist())\n",
    "    headlinesDistance(DF, ref)\n",
    "    DF['K'] = DF['textLenght']*DF['NOUN/TOT']*DF['polarity']\n",
    "    DF['text'] = DF['text'].map(lambda x: x.lower())\n",
    "    DF['text'] = DF['text'].map(lambda x: re.compile(r'\\d').sub(r' ', x))\n",
    "#     DF['text'] = DF['text'].map(lambda x: stemmizer(x, myStopwords))\n",
    "    DF['text'] = DF['text'].map(lambda x: SWRemoval(x, myStopwords))\n",
    "    DF['textTrash'] = originalTextLength - DF['textLenght']  "
   ]
  },
  {
   "cell_type": "code",
   "execution_count": 21,
   "metadata": {
    "jupyter": {
     "source_hidden": true
    }
   },
   "outputs": [],
   "source": [
    "def text_mutation(text, embDict):\n",
    "    words = text.split()\n",
    "    for i in range(len(words)):\n",
    "        if words[i].lower() in embDict:\n",
    "            minDistance = -1\n",
    "            newWord = words[i]\n",
    "            for k, v in embDict.items():\n",
    "                if k != words[i].lower():\n",
    "                    distance = np.dot(embDict[words[i].lower()], v)/(np.linalg.norm(embDict[words[i].lower()])*np.linalg.norm(v))\n",
    "                    if (1 - distance) < (1 - minDistance):\n",
    "                        minDistance = distance\n",
    "                        newWord = k\n",
    "            words[i] = newWord\n",
    "    words.insert(random.randint(0, len(words)-1) ,list(embDict.keys())[random.randint(0, len(embDict)-1)])\n",
    "    return ' '.join(words)"
   ]
  },
  {
   "cell_type": "code",
   "execution_count": 22,
   "metadata": {
    "jupyter": {
     "source_hidden": true
    }
   },
   "outputs": [],
   "source": [
    "def noisy_preprocessing(DF, contraction_mapping, regexes, ref, myStopwords, myEmbeddingsIndex):\n",
    "    isInText(DF, 'keyword')\n",
    "    isInText(DF, 'location')\n",
    "    DF[['text', 'conts']] = pd.DataFrame(DF['text'].map(lambda x: replace_contractions(x, contraction_mapping)).tolist())\n",
    "    newFeatures(DF, {'hashtags':r'(#)+'})\n",
    "    DF['text'] = DF['text'].map(lambda x: text_mutation(x, myEmbeddingsIndex))\n",
    "    originalTextLength = DF['text'].map(lambda x: len(x))\n",
    "    newFeatures(DF, {'mentions':r'(@)\\w*', 'URLs':r'(http://)[a-zA-Z0-9./]*'})\n",
    "    DF['textLenght'] = DF['text'].map(lambda x: len(x))\n",
    "    DF[['ADJ','ADP','ADV','CONJ','DET','NOUN','NUM','PRT','PRON','VERB','.','X','POS_ratio','topPOS_ratio','NOUN/TOT']] = pd.DataFrame(DF['text'].map(lambda x: tagging(x)).tolist())\n",
    "    DF[['polarity', 'subjectivity']] = pd.DataFrame(DF['text'].map(lambda x: sentimentAnalysis(x)).tolist())\n",
    "    headlinesDistance(DF, ref)\n",
    "    DF['K'] = DF['textLenght']*DF['NOUN/TOT']*DF['polarity']\n",
    "    DF['text'] = DF['text'].map(lambda x: x.lower())\n",
    "    DF['text'] = DF['text'].map(lambda x: re.compile(r'\\d').sub(r' ', x))\n",
    "    DF['text'] = DF['text'].map(lambda x: SWRemoval(x, myStopwords))\n",
    "    DF['textTrash'] = originalTextLength - DF['textLenght']\n",
    "    DF['text'] = DF['text'].map(lambda x: replace_noEmbeddingTokens(x, tokensReplacement, tokensDeletion))"
   ]
  },
  {
   "cell_type": "code",
   "execution_count": 23,
   "metadata": {
    "jupyter": {
     "source_hidden": true
    }
   },
   "outputs": [],
   "source": [
    "tw_train_noise = pd.read_csv('./train.csv')"
   ]
  },
  {
   "cell_type": "code",
   "execution_count": 24,
   "metadata": {
    "jupyter": {
     "source_hidden": true
    }
   },
   "outputs": [],
   "source": [
    "noisy_preprocessing(tw_train_noise, contraction_mapping, regexes, ref, myStopwords, myEmbeddingsIndex)"
   ]
  },
  {
   "cell_type": "code",
   "execution_count": 36,
   "metadata": {
    "collapsed": true,
    "jupyter": {
     "outputs_hidden": true,
     "source_hidden": true
    }
   },
   "outputs": [
    {
     "name": "stdout",
     "output_type": "stream",
     "text": [
      "Para ilustrar la diferencia:\n",
      "Original: might killed airplane accident night car wreck politics best\n",
      "Mutado: could murdered plane crash tonight truck wreck politics inch best\n"
     ]
    }
   ],
   "source": [
    "print(f'''Para ilustrar la diferencia:\n",
    "Original: {tw_train.loc[150,'text']}\n",
    "Mutado: {tw_train_noise.loc[150,'text']}''')"
   ]
  },
  {
   "cell_type": "code",
   "execution_count": 42,
   "metadata": {
    "collapsed": true,
    "jupyter": {
     "outputs_hidden": true,
     "source_hidden": true
    }
   },
   "outputs": [
    {
     "name": "stdout",
     "output_type": "stream",
     "text": [
      "Para ilustrar la diferencia:\n",
      "Original: deeds reason earthquake may allah forgive us\n",
      "Mutado: deeds wrong officers tornado close islam forgive bring\n"
     ]
    }
   ],
   "source": [
    "print(f'''Para ilustrar la diferencia:\n",
    "Original: {tw_train.loc[0,'text']}\n",
    "Mutado: {tw_train_noise.loc[0,'text']}''')"
   ]
  },
  {
   "cell_type": "code",
   "execution_count": 26,
   "metadata": {
    "jupyter": {
     "source_hidden": true
    }
   },
   "outputs": [],
   "source": [
    "tw_train_noise = tw_train_noise[list(tw_train.columns)]"
   ]
  },
  {
   "cell_type": "markdown",
   "metadata": {},
   "source": [
    "### Resultados:"
   ]
  },
  {
   "cell_type": "raw",
   "metadata": {},
   "source": [
    "tw_train_noise.to_csv('tw_train_noise.csv', index = False)"
   ]
  },
  {
   "cell_type": "markdown",
   "metadata": {},
   "source": [
    "### Uso: Para balancear el Train Set original"
   ]
  },
  {
   "cell_type": "code",
   "execution_count": 9,
   "metadata": {},
   "outputs": [],
   "source": [
    "def balance(clean, noise):\n",
    "    delta = clean['target'].value_counts().loc[0] - clean['target'].value_counts().loc[1]\n",
    "    if delta > 0:\n",
    "        add_balance = noise.loc[noise['target'] == 1, :].sample(n = abs(delta), replace = False, random_state = 60)\n",
    "    elif delta < 0:\n",
    "        add_balance = noise.loc[noise['target'] == 0, :].sample(n = abs(delta), replace = False, random_state = 60)\n",
    "    balanced = pd.concat([clean, add_balance], axis=0, join = 'outer', ignore_index = True)    \n",
    "    return shuffle(balanced)"
   ]
  },
  {
   "cell_type": "markdown",
   "metadata": {},
   "source": [
    "### Uso: Para agragar ruido"
   ]
  },
  {
   "cell_type": "code",
   "execution_count": 10,
   "metadata": {},
   "outputs": [],
   "source": [
    "def add_noise(clean, noise, noise_level,keep_proportion = True, return_residual_noise = False):\n",
    "    \n",
    "    if keep_proportion == True:\n",
    "        stratify = noise['target']\n",
    "    else:\n",
    "        stratify = None\n",
    "        \n",
    "    residual_noise, noise_required = train_test_split(noise, stratify = stratify, test_size = noise_level)\n",
    "    noisyDF = pd.concat([clean, noise_required], axis=0, join = 'outer', ignore_index = True)\n",
    "    \n",
    "    if return_residual_noise == False:\n",
    "        return shuffle(noisyDF)\n",
    "    else:\n",
    "        return shuffle(noisyDF), shuffle(residual_noise)"
   ]
  },
  {
   "cell_type": "markdown",
   "metadata": {},
   "source": [
    " "
   ]
  },
  {
   "cell_type": "markdown",
   "metadata": {},
   "source": [
    "## <center>Deep learning"
   ]
  },
  {
   "cell_type": "markdown",
   "metadata": {},
   "source": [
    "## Deep Learning: MLP y Holdout Set Validation"
   ]
  },
  {
   "cell_type": "code",
   "execution_count": null,
   "metadata": {
    "jupyter": {
     "source_hidden": true
    }
   },
   "outputs": [],
   "source": [
    "# SET DE DATOS OPCIÓN 1: USANDO EL TRAIN SET Y NADA MAS\n",
    "tw_train = pd.read_csv('./tw_train.csv')\n",
    "tw_train['text'] = tw_train['text'].astype('str')\n",
    "tw_test = pd.read_csv('./tw_test.csv')\n",
    "tw_test['text'] = tw_test['text'].astype('str')\n",
    "X_train_text, X_train_nf, X_val_text, X_val_nf, X_test_text, X_test_nf, y_train, y_val = load_data_holdout(tw_train, tw_test, 0.2, 123)"
   ]
  },
  {
   "cell_type": "code",
   "execution_count": null,
   "metadata": {
    "jupyter": {
     "source_hidden": true
    }
   },
   "outputs": [],
   "source": [
    "# SET DE DATOS: OPCION 2: AGREGANDO RUIDO AL TRAIN SET PARA BALANCEAR\n",
    "tw_train = pd.read_csv('./tw_train.csv')\n",
    "tw_train['text'] = tw_train['text'].astype('str')\n",
    "tw_train_noise = pd.read_csv('./tw_train_noise.csv')\n",
    "tw_train_noise['text'] = tw_train_noise['text'].astype('str')\n",
    "tw_train_balanced = balance(tw_train, tw_train_noise)\n",
    "tw_test = pd.read_csv('./tw_test.csv')\n",
    "tw_test['text'] = tw_test['text'].astype('str')\n",
    "X_train_text, X_train_nf, X_val_text, X_val_nf, X_test_text, X_test_nf, y_train, y_val = load_data_holdout(tw_train_balanced, tw_test, 0.2, 22)"
   ]
  },
  {
   "cell_type": "code",
   "execution_count": null,
   "metadata": {
    "jupyter": {
     "source_hidden": true
    }
   },
   "outputs": [],
   "source": [
    "# SET DE DATOS OPCIÓN 3: AGREGANDO RUIDO AL TRAIN SET MANTENIENDO DESBALANCE\n",
    "tw_train = pd.read_csv('./tw_train.csv')\n",
    "tw_train['text'] = tw_train['text'].astype('str')\n",
    "tw_train_noise = pd.read_csv('./tw_train_noise.csv')\n",
    "tw_train_noise['text'] = tw_train_noise['text'].astype('str')\n",
    "tw_train_noisy = add_noise(tw_train, tw_train_noise, 0.6, keep_proportion = True, return_residual_noise = False)\n",
    "tw_test = pd.read_csv('./tw_test.csv')\n",
    "tw_test['text'] = tw_test['text'].astype('str')\n",
    "X_train_text, X_train_nf, X_val_text, X_val_nf, X_test_text, X_test_nf, y_train, y_val = load_data_holdout(tw_train_noisy, tw_test, 0.2, 111)"
   ]
  },
  {
   "cell_type": "code",
   "execution_count": null,
   "metadata": {
    "jupyter": {
     "source_hidden": true
    }
   },
   "outputs": [],
   "source": [
    "# SET DE DATOS OPCIÓN 4: USAR TODO EL TRAIN PARA ENTRENAR Y RUIDO PARA VALIDAR\n",
    "tw_train_noise = pd.read_csv('./tw_train_noise.csv')\n",
    "tw_train_noise['text'] = tw_train_noise['text'].astype('str')\n",
    "tw_test = pd.read_csv('./tw_test.csv')\n",
    "tw_test['text'] = tw_test['text'].astype('str')\n",
    "_, _, X_val_text, X_val_nf, _, _, _, y_val = load_data_holdout(tw_train_noise, tw_test, 0.4, 123)\n",
    "tw_train = pd.read_csv('./tw_train.csv')\n",
    "tw_train['text'] = tw_train['text'].astype('str')\n",
    "tw_test = pd.read_csv('./tw_test.csv')\n",
    "tw_test['text'] = tw_test['text'].astype('str')\n",
    "X_train_text, X_train_nf, X_test_text, X_test_nf, y_train = load_data_cv(tw_train, tw_test)"
   ]
  },
  {
   "cell_type": "code",
   "execution_count": 232,
   "metadata": {},
   "outputs": [],
   "source": [
    "# SET DE DATOS: CON UN SET DE DATOS EXTENDIDO Y BALANCEADO\n",
    "tw_train = pd.read_csv('./tw_train.csv')\n",
    "tw_train['text'] = tw_train['text'].astype('str')\n",
    "tw_train = tw_train.drop(columns = ['l_in_t', 'k_in_t', 'X'])\n",
    "tw_train_noise = pd.read_csv('./tw_train_noise.csv')\n",
    "tw_train_noise['text'] = tw_train_noise['text'].astype('str')\n",
    "tw_train_noise = tw_train_noise.drop(columns = ['l_in_t', 'k_in_t', 'X'])\n",
    "tw_train_noisy, residual_noise = add_noise(tw_train, tw_train_noise, 0.50, keep_proportion = True, return_residual_noise = True)\n",
    "tw_train_noisy_balanced = balance(tw_train_noisy, residual_noise)\n",
    "tw_test = pd.read_csv('./tw_test.csv')\n",
    "tw_test['text'] = tw_test['text'].astype('str')\n",
    "tw_test = tw_test.drop(columns = ['l_in_t', 'k_in_t', 'X'])"
   ]
  },
  {
   "cell_type": "code",
   "execution_count": 233,
   "metadata": {},
   "outputs": [
    {
     "name": "stdout",
     "output_type": "stream",
     "text": [
      "Preparando las Numeric Features...\n",
      "Preparando el texto... \n",
      "\n",
      "Las dimensiones de los sets de datos son:\n",
      "        Set de entrenamiento, features numéricos: (10420, 24)\n",
      "        Set de entrenamiento, texto: (10420, 2114)\n",
      "        Set de validación, features numéricos: (2606, 24)\n",
      "        Set de validación, texto: (2606, 2114)\n",
      "        Set de test, features numéricos: (3263, 24)\n",
      "        Set de test, texto: (3263, 2114)\n"
     ]
    }
   ],
   "source": [
    "X_train_text, X_train_nf, X_val_text, X_val_nf, X_test_text, X_test_nf, y_train, y_val = load_data_holdout(tw_train_noisy_balanced, tw_test, 0.20)"
   ]
  },
  {
   "cell_type": "code",
   "execution_count": 254,
   "metadata": {},
   "outputs": [],
   "source": [
    "# Creación del modelo\n",
    "\n",
    "embedding_layer = layers.Embedding(num_tokens, embeddings_dim, embeddings_initializer=keras.initializers.Constant(embeddingsMatrix), trainable=False)\n",
    "\n",
    "inputs1 = keras.Input(batch_size = None, shape = (X_train_text.shape[1],))  # Entrada del texto vectorizado según myVocabulary\n",
    "x1 = embedding_layer(inputs1)\n",
    "x1 = layers.BatchNormalization(axis=-1, trainable=False)(x1)\n",
    "outputs1 = layers.GlobalAveragePooling1D()(x1)\n",
    "# x = layers.GlobalAveragePooling1D()(x1)\n",
    "\n",
    "inputs2 = keras.Input(batch_size = None, shape = (X_train_nf.shape[1],))  # Entrada de los features numéricos completamente pre-procesados\n",
    "outputs2 = inputs2\n",
    "\n",
    "x = layers.Concatenate(axis = 1)([outputs2, outputs1])  # Combinación de las salidas de ambas ramas\n",
    "x = layers.BatchNormalization(axis=-1, trainable=False)(x)\n",
    "\n",
    "x = layers.Dropout(0.5)(x)\n",
    "x = layers.Dense(512, activation=\"relu\")(x)\n",
    "x = layers.BatchNormalization(axis=-1, trainable=False)(x)\n",
    "x = layers.Dense(256, activation=\"relu\")(x)  # Antes 128\n",
    "x = layers.BatchNormalization(axis=-1, trainable=False)(x)\n",
    "x = layers.Dropout(0.5)(x)  # Antes no estaba\n",
    "x = layers.Dense(32, activation=\"relu\")(x)  # Antes 64\n",
    "x = layers.BatchNormalization(axis=-1, trainable=False)(x)\n",
    "outputs = layers.Dense(1, activation=\"sigmoid\")(x)\n",
    "\n",
    "mlp_model = keras.Model(inputs=[inputs1, inputs2], outputs=outputs, name = 'mlp_model')"
   ]
  },
  {
   "cell_type": "code",
   "execution_count": 255,
   "metadata": {},
   "outputs": [],
   "source": [
    "# Compilación del modelo\n",
    "\n",
    "optimizer = keras.optimizers.Adam(learning_rate = 0.005)\n",
    "mlp_model.compile(loss = \"binary_crossentropy\", optimizer = optimizer, metrics = [\"accuracy\"])"
   ]
  },
  {
   "cell_type": "code",
   "execution_count": 256,
   "metadata": {},
   "outputs": [
    {
     "name": "stdout",
     "output_type": "stream",
     "text": [
      "Epoch 1/25\n",
      "326/326 - 8s - loss: 0.6573 - accuracy: 0.6252 - val_loss: 0.6170 - val_accuracy: 0.6769\n",
      "Epoch 2/25\n",
      "326/326 - 8s - loss: 0.6274 - accuracy: 0.6585 - val_loss: 0.5917 - val_accuracy: 0.6880\n",
      "Epoch 3/25\n",
      "326/326 - 8s - loss: 0.6266 - accuracy: 0.6674 - val_loss: 0.5990 - val_accuracy: 0.6865\n",
      "Epoch 4/25\n",
      "326/326 - 8s - loss: 0.6196 - accuracy: 0.6674 - val_loss: 0.5884 - val_accuracy: 0.6957\n",
      "Epoch 5/25\n",
      "326/326 - 8s - loss: 0.6144 - accuracy: 0.6726 - val_loss: 0.5765 - val_accuracy: 0.7053\n",
      "Epoch 6/25\n",
      "326/326 - 8s - loss: 0.6074 - accuracy: 0.6720 - val_loss: 0.5673 - val_accuracy: 0.7068\n",
      "Epoch 7/25\n",
      "326/326 - 8s - loss: 0.6044 - accuracy: 0.6802 - val_loss: 0.5691 - val_accuracy: 0.6980\n",
      "Epoch 8/25\n",
      "326/326 - 8s - loss: 0.5893 - accuracy: 0.6884 - val_loss: 0.5552 - val_accuracy: 0.7164\n",
      "Epoch 9/25\n",
      "326/326 - 8s - loss: 0.5849 - accuracy: 0.6925 - val_loss: 0.5442 - val_accuracy: 0.7310\n",
      "Epoch 10/25\n",
      "326/326 - 7s - loss: 0.5740 - accuracy: 0.7085 - val_loss: 0.5367 - val_accuracy: 0.7295\n",
      "Epoch 11/25\n",
      "326/326 - 7s - loss: 0.5714 - accuracy: 0.7027 - val_loss: 0.5225 - val_accuracy: 0.7471\n",
      "Epoch 12/25\n",
      "326/326 - 7s - loss: 0.5566 - accuracy: 0.7164 - val_loss: 0.5081 - val_accuracy: 0.7536\n",
      "Epoch 13/25\n",
      "326/326 - 7s - loss: 0.5564 - accuracy: 0.7171 - val_loss: 0.5351 - val_accuracy: 0.7356\n",
      "Epoch 14/25\n",
      "326/326 - 7s - loss: 0.5487 - accuracy: 0.7246 - val_loss: 0.5236 - val_accuracy: 0.7433\n",
      "Epoch 15/25\n",
      "326/326 - 7s - loss: 0.5489 - accuracy: 0.7265 - val_loss: 0.5162 - val_accuracy: 0.7464\n",
      "Epoch 16/25\n",
      "326/326 - 7s - loss: 0.5430 - accuracy: 0.7288 - val_loss: 0.5037 - val_accuracy: 0.7510\n",
      "Epoch 17/25\n",
      "326/326 - 7s - loss: 0.5460 - accuracy: 0.7277 - val_loss: 0.5181 - val_accuracy: 0.7579\n",
      "Epoch 18/25\n",
      "326/326 - 7s - loss: 0.5403 - accuracy: 0.7315 - val_loss: 0.5115 - val_accuracy: 0.7479\n",
      "Epoch 19/25\n",
      "326/326 - 7s - loss: 0.5421 - accuracy: 0.7339 - val_loss: 0.5059 - val_accuracy: 0.7494\n",
      "Epoch 20/25\n",
      "326/326 - 8s - loss: 0.5434 - accuracy: 0.7290 - val_loss: 0.5153 - val_accuracy: 0.7444\n",
      "Epoch 21/25\n",
      "326/326 - 7s - loss: 0.5336 - accuracy: 0.7395 - val_loss: 0.5060 - val_accuracy: 0.7510\n",
      "Epoch 22/25\n",
      "326/326 - 7s - loss: 0.5322 - accuracy: 0.7398 - val_loss: 0.5136 - val_accuracy: 0.7483\n",
      "Epoch 23/25\n",
      "326/326 - 7s - loss: 0.5342 - accuracy: 0.7378 - val_loss: 0.4910 - val_accuracy: 0.7636\n",
      "Epoch 24/25\n",
      "326/326 - 7s - loss: 0.5349 - accuracy: 0.7348 - val_loss: 0.5149 - val_accuracy: 0.7563\n",
      "Epoch 25/25\n",
      "326/326 - 7s - loss: 0.5322 - accuracy: 0.7415 - val_loss: 0.4954 - val_accuracy: 0.7606\n"
     ]
    }
   ],
   "source": [
    "mlp_model_history = mlp_model.fit([X_train_text, X_train_nf], y_train, validation_data = ([X_val_text, X_val_nf], y_val), \n",
    "                    batch_size = 32, epochs = 25, verbose = 2)"
   ]
  },
  {
   "cell_type": "code",
   "execution_count": 257,
   "metadata": {},
   "outputs": [
    {
     "data": {
      "image/png": "[encoded data removed]",
      "text/plain": [
       "<Figure size 864x360 with 2 Axes>"
      ]
     },
     "metadata": {},
     "output_type": "display_data"
    }
   ],
   "source": [
    "plot_history(mlp_model_history)"
   ]
  },
  {
   "cell_type": "code",
   "execution_count": 258,
   "metadata": {},
   "outputs": [],
   "source": [
    "# Predicciones\n",
    "mlp_model_prediction = toCategory(mlp_model.predict([X_test_text, X_test_nf]))"
   ]
  },
  {
   "cell_type": "raw",
   "metadata": {},
   "source": [
    "results = pd.read_csv('./results.csv')"
   ]
  },
  {
   "cell_type": "code",
   "execution_count": 259,
   "metadata": {},
   "outputs": [
    {
     "name": "stdout",
     "output_type": "stream",
     "text": [
      "ERROR DE SUBMIT:\n",
      "\n",
      "El F1-Score es: 0.7067437379576108 \n",
      "\n",
      "La confusion matrix es: \n",
      "[[1585  276]\n",
      " [ 485  917]] \n",
      "\n",
      "El classification report es: \n",
      "              precision    recall  f1-score   support\n",
      "\n",
      "           0       0.77      0.85      0.81      1861\n",
      "           1       0.77      0.65      0.71      1402\n",
      "\n",
      "    accuracy                           0.77      3263\n",
      "   macro avg       0.77      0.75      0.76      3263\n",
      "weighted avg       0.77      0.77      0.76      3263\n",
      " \n",
      "\n"
     ]
    }
   ],
   "source": [
    "# Más evaluación\n",
    "print('ERROR DE SUBMIT:\\n')\n",
    "print('El F1-Score es: {} \\n'.format(f1_score(results['target'], mlp_model_prediction)))\n",
    "print('La confusion matrix es: \\n{} \\n'.format(confusion_matrix(results['target'], mlp_model_prediction)))\n",
    "print('El classification report es: \\n{} \\n'.format(classification_report(results['target'], mlp_model_prediction)))"
   ]
  },
  {
   "cell_type": "markdown",
   "metadata": {},
   "source": [
    "## Conv1D - Holdout Validation"
   ]
  },
  {
   "cell_type": "code",
   "execution_count": 12,
   "metadata": {},
   "outputs": [],
   "source": [
    "# SET DE DATOS: CON UN SET DE DATOS EXTENDIDO Y BALANCEADO\n",
    "tw_train = pd.read_csv('./tw_train.csv')\n",
    "tw_train['text'] = tw_train['text'].astype('str')\n",
    "tw_train = tw_train.drop(columns = ['l_in_t', 'k_in_t', 'X'])\n",
    "tw_train_noise = pd.read_csv('./tw_train_noise.csv')\n",
    "tw_train_noise['text'] = tw_train_noise['text'].astype('str')\n",
    "tw_train_noise = tw_train_noise.drop(columns = ['l_in_t', 'k_in_t', 'X'])\n",
    "tw_train_noisy, residual_noise = add_noise(tw_train, tw_train_noise, 0.50, keep_proportion = True, return_residual_noise = True)\n",
    "tw_train_noisy_balanced = balance(tw_train_noisy, residual_noise)\n",
    "tw_test = pd.read_csv('./tw_test.csv')\n",
    "tw_test['text'] = tw_test['text'].astype('str')\n",
    "tw_test = tw_test.drop(columns = ['l_in_t', 'k_in_t', 'X'])"
   ]
  },
  {
   "cell_type": "code",
   "execution_count": 18,
   "metadata": {},
   "outputs": [
    {
     "name": "stdout",
     "output_type": "stream",
     "text": [
      "Preparando las Numeric Features...\n",
      "Preparando el texto... \n",
      "\n",
      "Las dimensiones de los sets de datos son:\n",
      "        Set de entrenamiento, features numéricos: (10420, 24)\n",
      "        Set de entrenamiento, texto: (10420, 2114)\n",
      "        Set de validación, features numéricos: (2606, 24)\n",
      "        Set de validación, texto: (2606, 2114)\n",
      "        Set de test, features numéricos: (3263, 24)\n",
      "        Set de test, texto: (3263, 2114)\n"
     ]
    }
   ],
   "source": [
    "X_train_text, X_train_nf, X_val_text, X_val_nf, X_test_text, X_test_nf, y_train, y_val = load_data_holdout(tw_train_noisy_balanced, tw_test, 0.20)"
   ]
  },
  {
   "cell_type": "raw",
   "metadata": {},
   "source": [
    "embedding_layer = layers.Embedding(num_tokens, embeddings_dim, embeddings_initializer=keras.initializers.Constant(embeddingsMatrix), trainable=False)\n",
    "\n",
    "inputs1 = keras.Input(batch_size = None, shape = (X_train_text.shape[1],))  # Entrada del texto vectorizado según myVocabulary\n",
    "x1 = embedding_layer(inputs1)\n",
    "x1 = layers.BatchNormalization(trainable = False)(x1)\n",
    "x1 = layers.Dropout(0.4)(x1)\n",
    "x1 = layers.Conv1D(100, 3, padding=\"same\", activation = \"relu\")(x1)\n",
    "x1 = layers.Conv1D(100, 5, padding=\"same\", activation = \"relu\")(x1)\n",
    "x1 = layers.BatchNormalization(trainable = False)(x1)\n",
    "x1 = layers.MaxPooling1D(pool_size=4, strides=4, padding='same')(x1)\n",
    "x1 = layers.Conv1D(100, 7, padding=\"same\", activation = \"relu\")(x1)\n",
    "x1 = layers.BatchNormalization(trainable = False)(x1)\n",
    "outputs1 = layers.GlobalAveragePooling1D()(x1)\n",
    "\n",
    "inputs2 = keras.Input(batch_size = None, shape = (X_train_nf.shape[1],))  # Entrada de los features numéricos completamente pre-procesados\n",
    "outputs2 = inputs2\n",
    "\n",
    "x = layers.Concatenate(axis = 1)([outputs1, outputs2])  # Combinación de las salidas de ambas ramas\n",
    "\n",
    "x = layers.BatchNormalization(trainable = False)(x)\n",
    "x = layers.Dropout(0.4)(x)\n",
    "x = layers.Dense(160, activation=\"relu\")(x)\n",
    "x = layers.BatchNormalization(trainable = False)(x)\n",
    "x = layers.Dense(12, activation=\"relu\")(x)\n",
    "x = layers.BatchNormalization(trainable = False)(x)\n",
    "# x = layers.Dense(32, activation=\"relu\")(x)\n",
    "x = layers.Dropout(0.2)(x)\n",
    "outputs = layers.Dense(1, activation=\"sigmoid\")(x)\n",
    "\n",
    "conv1d_model = keras.Model(inputs=[inputs1, inputs2], outputs=outputs)"
   ]
  },
  {
   "cell_type": "code",
   "execution_count": 44,
   "metadata": {},
   "outputs": [
    {
     "ename": "NameError",
     "evalue": "name 'outputs1' is not defined",
     "output_type": "error",
     "traceback": [
      "\u001b[0;31m---------------------------------------------------------------------------\u001b[0m",
      "\u001b[0;31mNameError\u001b[0m                                 Traceback (most recent call last)",
      "\u001b[0;32m<ipython-input-44-61fed8d6ba5d>\u001b[0m in \u001b[0;36m<module>\u001b[0;34m\u001b[0m\n\u001b[1;32m     16\u001b[0m \u001b[0moutputs2\u001b[0m \u001b[0;34m=\u001b[0m \u001b[0minputs2\u001b[0m\u001b[0;34m\u001b[0m\u001b[0;34m\u001b[0m\u001b[0m\n\u001b[1;32m     17\u001b[0m \u001b[0;34m\u001b[0m\u001b[0m\n\u001b[0;32m---> 18\u001b[0;31m \u001b[0mx\u001b[0m \u001b[0;34m=\u001b[0m \u001b[0mlayers\u001b[0m\u001b[0;34m.\u001b[0m\u001b[0mConcatenate\u001b[0m\u001b[0;34m(\u001b[0m\u001b[0maxis\u001b[0m \u001b[0;34m=\u001b[0m \u001b[0;36m1\u001b[0m\u001b[0;34m)\u001b[0m\u001b[0;34m(\u001b[0m\u001b[0;34m[\u001b[0m\u001b[0moutputs1\u001b[0m\u001b[0;34m,\u001b[0m \u001b[0moutputs2\u001b[0m\u001b[0;34m]\u001b[0m\u001b[0;34m)\u001b[0m  \u001b[0;31m# Combinación de las salidas de ambas ramas\u001b[0m\u001b[0;34m\u001b[0m\u001b[0;34m\u001b[0m\u001b[0m\n\u001b[0m\u001b[1;32m     19\u001b[0m \u001b[0mx\u001b[0m \u001b[0;34m=\u001b[0m \u001b[0mlayers\u001b[0m\u001b[0;34m.\u001b[0m\u001b[0mBatchNormalization\u001b[0m\u001b[0;34m(\u001b[0m\u001b[0maxis\u001b[0m\u001b[0;34m=\u001b[0m\u001b[0;34m-\u001b[0m\u001b[0;36m1\u001b[0m\u001b[0;34m,\u001b[0m \u001b[0mtrainable\u001b[0m\u001b[0;34m=\u001b[0m\u001b[0;32mFalse\u001b[0m\u001b[0;34m)\u001b[0m\u001b[0;34m(\u001b[0m\u001b[0mx\u001b[0m\u001b[0;34m)\u001b[0m\u001b[0;34m\u001b[0m\u001b[0;34m\u001b[0m\u001b[0m\n\u001b[1;32m     20\u001b[0m \u001b[0;34m\u001b[0m\u001b[0m\n",
      "\u001b[0;31mNameError\u001b[0m: name 'outputs1' is not defined"
     ]
    }
   ],
   "source": [
    "# Creación del modelo\n",
    "\n",
    "embedding_layer = layers.Embedding(num_tokens, embeddings_dim, embeddings_initializer=keras.initializers.Constant(embeddingsMatrix), trainable=False)\n",
    "\n",
    "inputs1 = keras.Input(batch_size = None, shape = (X_train_text.shape[1],))  # Entrada del texto vectorizado según myVocabulary\n",
    "x1 = embedding_layer(inputs1)\n",
    "x1 = layers.BatchNormalization(axis=-1, trainable=False)(x1)\n",
    "# x1 = layers.Conv1D(100, 5, padding=\"same\", activation = \"relu\")(x1)\n",
    "# x1 = layers.MaxPooling1D(pool_size=4, strides=4, padding='same')(x1)\n",
    "x1 = layers.Conv1D(100, 7, padding=\"same\", activation = \"relu\")(x1)\n",
    "outputs11 = layers.GlobalAveragePooling1D()(x1)\n",
    "# outputs12 = layers.GlobalMaxPooling1D()(x1)\n",
    "# x = layers.GlobalAveragePooling1D()(x1)\n",
    "\n",
    "inputs2 = keras.Input(batch_size = None, shape = (X_train_nf.shape[1],))  # Entrada de los features numéricos completamente pre-procesados\n",
    "outputs2 = inputs2\n",
    "\n",
    "x = layers.Concatenate(axis = 1)([outputs1, outputs2])  # Combinación de las salidas de ambas ramas\n",
    "x = layers.BatchNormalization(axis=-1, trainable=False)(x)\n",
    "\n",
    "x = layers.Dropout(0.5)(x)\n",
    "x = layers.Dense(512, activation=\"relu\")(x)\n",
    "x = layers.BatchNormalization(axis=-1, trainable=False)(x)\n",
    "x = layers.Dense(256, activation=\"relu\")(x)  # Antes 128\n",
    "x = layers.BatchNormalization(axis=-1, trainable=False)(x)\n",
    "x = layers.Dropout(0.5)(x)  # Antes no estaba\n",
    "x = layers.Dense(32, activation=\"relu\")(x)  # Antes 64\n",
    "x = layers.BatchNormalization(axis=-1, trainable=False)(x)\n",
    "outputs = layers.Dense(1, activation=\"sigmoid\")(x)\n",
    "\n",
    "conv1d_model = keras.Model(inputs=[inputs1, inputs2], outputs=outputs, name = 'conv1d_model')\n",
    "\n",
    "# este andaba por los 0.78"
   ]
  },
  {
   "cell_type": "raw",
   "metadata": {},
   "source": [
    "embedding_layer = layers.Embedding(num_tokens, embeddings_dim, embeddings_initializer=keras.initializers.Constant(embeddingsMatrix), trainable=False)\n",
    "\n",
    "inputs1 = keras.Input(batch_size = None, shape = (X_train_text.shape[1],))  # Entrada del texto vectorizado según myVocabulary\n",
    "x1 = embedding_layer(inputs1)\n",
    "x1 = layers.BatchNormalization(trainable = False)(x1)\n",
    "x1 = layers.Dropout(0.4)(x1)\n",
    "x1 = layers.Conv1D(100, 3, padding=\"same\", activation = \"relu\")(x1)\n",
    "x1 = layers.Conv1D(100, 5, padding=\"same\", activation = \"relu\")(x1)\n",
    "x1 = layers.BatchNormalization(trainable = False)(x1)\n",
    "x1 = layers.MaxPooling1D(pool_size=4, strides=4, padding='same')(x1)\n",
    "x1 = layers.Conv1D(100, 7, padding=\"same\", activation = \"relu\")(x1)\n",
    "x1 = layers.BatchNormalization(trainable = False)(x1)\n",
    "outputs11 = layers.GlobalAveragePooling1D()(x1)\n",
    "outputs12 = layers.GlobalMaxPooling1D()(x1)\n",
    "\n",
    "inputs2 = keras.Input(batch_size = None, shape = (X_train_nf.shape[1],))  # Entrada de los features numéricos completamente pre-procesados\n",
    "outputs2 = inputs2\n",
    "\n",
    "x = layers.Concatenate(axis = 1)([outputs11, outputs12, outputs2])  # Combinación de las salidas de ambas ramas\n",
    "\n",
    "x = layers.BatchNormalization(trainable = False)(x)\n",
    "x = layers.Dropout(0.4)(x)\n",
    "x = layers.Dense(64, activation=\"relu\")(x)  # Antes 128\n",
    "x = layers.BatchNormalization(trainable = False)(x)\n",
    "x = layers.Dense(32, activation=\"relu\")(x)\n",
    "x = layers.BatchNormalization(trainable = False)(x)\n",
    "x = layers.Dropout(0.2)(x)\n",
    "outputs = layers.Dense(1, activation=\"sigmoid\")(x)\n",
    "\n",
    "conv1d_model = keras.Model(inputs=[inputs1, inputs2], outputs=outputs)"
   ]
  },
  {
   "cell_type": "code",
   "execution_count": 46,
   "metadata": {},
   "outputs": [],
   "source": [
    "conv1d_model.compile(loss=\"binary_crossentropy\", optimizer=keras.optimizers.Adam(learning_rate=0.004), metrics=[\"accuracy\"])\n",
    "# El learning rate estaba en 0.003"
   ]
  },
  {
   "cell_type": "code",
   "execution_count": 47,
   "metadata": {},
   "outputs": [
    {
     "name": "stdout",
     "output_type": "stream",
     "text": [
      "Epoch 1/5\n",
      "326/326 - 219s - loss: 0.5321 - accuracy: 0.7400 - val_loss: 0.4933 - val_accuracy: 0.7671\n",
      "Epoch 2/5\n",
      "326/326 - 224s - loss: 0.4935 - accuracy: 0.7726 - val_loss: 0.4774 - val_accuracy: 0.7701\n",
      "Epoch 3/5\n",
      "326/326 - 224s - loss: 0.4742 - accuracy: 0.7816 - val_loss: 0.4759 - val_accuracy: 0.7694\n",
      "Epoch 4/5\n",
      "326/326 - 225s - loss: 0.4630 - accuracy: 0.7856 - val_loss: 0.4689 - val_accuracy: 0.7767\n",
      "Epoch 5/5\n",
      "326/326 - 225s - loss: 0.4506 - accuracy: 0.7988 - val_loss: 0.4760 - val_accuracy: 0.7751\n"
     ]
    }
   ],
   "source": [
    "conv1d_model_history = conv1d_model.fit([X_train_text, X_train_nf], y_train, \n",
    "                                         validation_data = ([X_val_text, X_val_nf], y_val), \n",
    "                                         batch_size = 32, epochs = 5, verbose = 2)"
   ]
  },
  {
   "cell_type": "code",
   "execution_count": 48,
   "metadata": {},
   "outputs": [
    {
     "data": {
      "image/png": "[encoded data removed]",
      "text/plain": [
       "<Figure size 864x360 with 2 Axes>"
      ]
     },
     "metadata": {},
     "output_type": "display_data"
    }
   ],
   "source": [
    "plot_history(conv1d_model_history)"
   ]
  },
  {
   "cell_type": "code",
   "execution_count": 270,
   "metadata": {},
   "outputs": [],
   "source": [
    "conv1d_model_prediction = toCategory(conv1d_model.predict([X_test_text, X_test_nf]))"
   ]
  },
  {
   "cell_type": "code",
   "execution_count": 271,
   "metadata": {},
   "outputs": [
    {
     "name": "stdout",
     "output_type": "stream",
     "text": [
      "ERROR DE SUBMIT:\n",
      "\n",
      "El F1-Score es: 0.737593984962406 \n",
      "\n",
      "La confusion matrix es: \n",
      "[[1584  277]\n",
      " [ 421  981]] \n",
      "\n",
      "El classification report es: \n",
      "              precision    recall  f1-score   support\n",
      "\n",
      "           0       0.79      0.85      0.82      1861\n",
      "           1       0.78      0.70      0.74      1402\n",
      "\n",
      "    accuracy                           0.79      3263\n",
      "   macro avg       0.78      0.78      0.78      3263\n",
      "weighted avg       0.79      0.79      0.78      3263\n",
      " \n",
      "\n"
     ]
    }
   ],
   "source": [
    "print('ERROR DE SUBMIT:\\n')\n",
    "print('El F1-Score es: {} \\n'.format(f1_score(results['target'], conv1d_model_prediction)))\n",
    "print('La confusion matrix es: \\n{} \\n'.format(confusion_matrix(results['target'], conv1d_model_prediction)))\n",
    "print('El classification report es: \\n{} \\n'.format(classification_report(results['target'], conv1d_model_prediction)))"
   ]
  },
  {
   "cell_type": "markdown",
   "metadata": {},
   "source": [
    " "
   ]
  },
  {
   "cell_type": "markdown",
   "metadata": {},
   "source": [
    "## Deep Learning: Conv1D + LSTM y Holdout Set Validation"
   ]
  },
  {
   "cell_type": "code",
   "execution_count": 195,
   "metadata": {},
   "outputs": [],
   "source": [
    "# MISMO SET DE DATOS QUE EN EL MODELO ANTERIOR"
   ]
  },
  {
   "cell_type": "code",
   "execution_count": 54,
   "metadata": {},
   "outputs": [],
   "source": [
    "# Creación del modelo\n",
    "\n",
    "embedding_layer = layers.Embedding(num_tokens, embeddings_dim, embeddings_initializer=keras.initializers.Constant(embeddingsMatrix), trainable=False)\n",
    "\n",
    "inputs1 = keras.Input(batch_size = None, shape = (X_train_text.shape[1],))  # Entrada del texto vectorizado según myVocabulary\n",
    "x1 = embedding_layer(inputs1)\n",
    "x1 = layers.BatchNormalization(axis=-1, trainable=False)(x1)\n",
    "x1 = layers.Dropout(0.5)(x1)\n",
    "x1 = layers.Conv1D(100, 3, padding=\"same\", activation=\"relu\")(x1)\n",
    "x1 = layers.MaxPooling1D(pool_size=4, strides=4, padding='same')(x1)\n",
    "x1 = layers.BatchNormalization(axis=-1, trainable=False)(x1)\n",
    "x1 = layers.LSTM(50, activation='relu', return_sequences = True)(x1)  # Antes 90\n",
    "outputs1 = layers.GlobalAveragePooling1D()(x1)\n",
    "\n",
    "inputs2 = keras.Input(batch_size = None, shape = (X_train_nf.shape[1],))  # Entrada de los features numéricos completamente pre-procesados\n",
    "outputs2 = inputs2\n",
    "\n",
    "x = layers.Concatenate(axis = 1)([outputs1, outputs2])  # Combinación de las salidas de ambas ramas\n",
    "\n",
    "x = layers.BatchNormalization(trainable = False)(x)\n",
    "x = layers.Dropout(0.5)(x)\n",
    "x = layers.Dense(64, activation=\"relu\")(x)\n",
    "x = layers.BatchNormalization(axis=-1, trainable=False)(x)\n",
    "outputs = layers.Dense(1, activation=\"sigmoid\", name=\"predictions\")(x)\n",
    "\n",
    "conv_lstm_model = keras.Model(inputs=[inputs1, inputs2], outputs=outputs, name = 'conv_lstm_model')"
   ]
  },
  {
   "cell_type": "code",
   "execution_count": 55,
   "metadata": {},
   "outputs": [
    {
     "name": "stdout",
     "output_type": "stream",
     "text": [
      "Model: \"conv_lstm_model\"\n",
      "__________________________________________________________________________________________________\n",
      "Layer (type)                    Output Shape         Param #     Connected to                     \n",
      "==================================================================================================\n",
      "input_14 (InputLayer)           [(None, 2114)]       0                                            \n",
      "__________________________________________________________________________________________________\n",
      "embedding_7 (Embedding)         (None, 2114, 100)    211400      input_14[0][0]                   \n",
      "__________________________________________________________________________________________________\n",
      "batch_normalization_25 (BatchNo (None, 2114, 100)    400         embedding_7[0][0]                \n",
      "__________________________________________________________________________________________________\n",
      "dropout_11 (Dropout)            (None, 2114, 100)    0           batch_normalization_25[0][0]     \n",
      "__________________________________________________________________________________________________\n",
      "conv1d_11 (Conv1D)              (None, 2114, 100)    30100       dropout_11[0][0]                 \n",
      "__________________________________________________________________________________________________\n",
      "max_pooling1d_4 (MaxPooling1D)  (None, 529, 100)     0           conv1d_11[0][0]                  \n",
      "__________________________________________________________________________________________________\n",
      "batch_normalization_26 (BatchNo (None, 529, 100)     400         max_pooling1d_4[0][0]            \n",
      "__________________________________________________________________________________________________\n",
      "lstm_2 (LSTM)                   (None, 529, 50)      30200       batch_normalization_26[0][0]     \n",
      "__________________________________________________________________________________________________\n",
      "global_average_pooling1d_7 (Glo (None, 50)           0           lstm_2[0][0]                     \n",
      "__________________________________________________________________________________________________\n",
      "input_15 (InputLayer)           [(None, 24)]         0                                            \n",
      "__________________________________________________________________________________________________\n",
      "concatenate_7 (Concatenate)     (None, 74)           0           global_average_pooling1d_7[0][0] \n",
      "                                                                 input_15[0][0]                   \n",
      "__________________________________________________________________________________________________\n",
      "batch_normalization_27 (BatchNo (None, 74)           296         concatenate_7[0][0]              \n",
      "__________________________________________________________________________________________________\n",
      "dropout_12 (Dropout)            (None, 74)           0           batch_normalization_27[0][0]     \n",
      "__________________________________________________________________________________________________\n",
      "dense_11 (Dense)                (None, 64)           4800        dropout_12[0][0]                 \n",
      "__________________________________________________________________________________________________\n",
      "batch_normalization_28 (BatchNo (None, 64)           256         dense_11[0][0]                   \n",
      "__________________________________________________________________________________________________\n",
      "predictions (Dense)             (None, 1)            65          batch_normalization_28[0][0]     \n",
      "==================================================================================================\n",
      "Total params: 277,917\n",
      "Trainable params: 65,165\n",
      "Non-trainable params: 212,752\n",
      "__________________________________________________________________________________________________\n"
     ]
    }
   ],
   "source": [
    "conv_lstm_model.summary()"
   ]
  },
  {
   "cell_type": "code",
   "execution_count": 56,
   "metadata": {},
   "outputs": [],
   "source": [
    "# Compilación del modelo\n",
    "\n",
    "# optimizer = keras.optimizers.Adam(learning_rate = 0.002)\n",
    "conv_lstm_model.compile(loss = \"binary_crossentropy\", optimizer = \"adam\", metrics = [\"accuracy\"])"
   ]
  },
  {
   "cell_type": "code",
   "execution_count": 57,
   "metadata": {},
   "outputs": [
    {
     "name": "stdout",
     "output_type": "stream",
     "text": [
      "Epoch 1/5\n",
      "326/326 - 153s - loss: nan - accuracy: 0.5038 - val_loss: nan - val_accuracy: 0.5000\n",
      "Epoch 2/5\n",
      "326/326 - 155s - loss: nan - accuracy: 0.5000 - val_loss: nan - val_accuracy: 0.5000\n",
      "Epoch 3/5\n"
     ]
    },
    {
     "ename": "KeyboardInterrupt",
     "evalue": "",
     "output_type": "error",
     "traceback": [
      "\u001b[0;31m---------------------------------------------------------------------------\u001b[0m",
      "\u001b[0;31mKeyboardInterrupt\u001b[0m                         Traceback (most recent call last)",
      "\u001b[0;32m<ipython-input-57-0fc80e7a6753>\u001b[0m in \u001b[0;36m<module>\u001b[0;34m\u001b[0m\n\u001b[1;32m      1\u001b[0m conv_lstm_model_history = conv_lstm_model.fit([X_train_text, X_train_nf], y_train, validation_data = ([X_val_text, X_val_nf], y_val), \n\u001b[0;32m----> 2\u001b[0;31m                     batch_size = 32, epochs = 5, verbose = 2)\n\u001b[0m",
      "\u001b[0;32m~/Datos/TP2/venvTP2/lib/python3.6/site-packages/tensorflow/python/keras/engine/training.py\u001b[0m in \u001b[0;36m_method_wrapper\u001b[0;34m(self, *args, **kwargs)\u001b[0m\n\u001b[1;32m     64\u001b[0m   \u001b[0;32mdef\u001b[0m \u001b[0m_method_wrapper\u001b[0m\u001b[0;34m(\u001b[0m\u001b[0mself\u001b[0m\u001b[0;34m,\u001b[0m \u001b[0;34m*\u001b[0m\u001b[0margs\u001b[0m\u001b[0;34m,\u001b[0m \u001b[0;34m**\u001b[0m\u001b[0mkwargs\u001b[0m\u001b[0;34m)\u001b[0m\u001b[0;34m:\u001b[0m\u001b[0;34m\u001b[0m\u001b[0;34m\u001b[0m\u001b[0m\n\u001b[1;32m     65\u001b[0m     \u001b[0;32mif\u001b[0m \u001b[0;32mnot\u001b[0m \u001b[0mself\u001b[0m\u001b[0;34m.\u001b[0m\u001b[0m_in_multi_worker_mode\u001b[0m\u001b[0;34m(\u001b[0m\u001b[0;34m)\u001b[0m\u001b[0;34m:\u001b[0m  \u001b[0;31m# pylint: disable=protected-access\u001b[0m\u001b[0;34m\u001b[0m\u001b[0;34m\u001b[0m\u001b[0m\n\u001b[0;32m---> 66\u001b[0;31m       \u001b[0;32mreturn\u001b[0m \u001b[0mmethod\u001b[0m\u001b[0;34m(\u001b[0m\u001b[0mself\u001b[0m\u001b[0;34m,\u001b[0m \u001b[0;34m*\u001b[0m\u001b[0margs\u001b[0m\u001b[0;34m,\u001b[0m \u001b[0;34m**\u001b[0m\u001b[0mkwargs\u001b[0m\u001b[0;34m)\u001b[0m\u001b[0;34m\u001b[0m\u001b[0;34m\u001b[0m\u001b[0m\n\u001b[0m\u001b[1;32m     67\u001b[0m \u001b[0;34m\u001b[0m\u001b[0m\n\u001b[1;32m     68\u001b[0m     \u001b[0;31m# Running inside `run_distribute_coordinator` already.\u001b[0m\u001b[0;34m\u001b[0m\u001b[0;34m\u001b[0m\u001b[0;34m\u001b[0m\u001b[0m\n",
      "\u001b[0;32m~/Datos/TP2/venvTP2/lib/python3.6/site-packages/tensorflow/python/keras/engine/training.py\u001b[0m in \u001b[0;36mfit\u001b[0;34m(self, x, y, batch_size, epochs, verbose, callbacks, validation_split, validation_data, shuffle, class_weight, sample_weight, initial_epoch, steps_per_epoch, validation_steps, validation_batch_size, validation_freq, max_queue_size, workers, use_multiprocessing)\u001b[0m\n\u001b[1;32m    846\u001b[0m                 batch_size=batch_size):\n\u001b[1;32m    847\u001b[0m               \u001b[0mcallbacks\u001b[0m\u001b[0;34m.\u001b[0m\u001b[0mon_train_batch_begin\u001b[0m\u001b[0;34m(\u001b[0m\u001b[0mstep\u001b[0m\u001b[0;34m)\u001b[0m\u001b[0;34m\u001b[0m\u001b[0;34m\u001b[0m\u001b[0m\n\u001b[0;32m--> 848\u001b[0;31m               \u001b[0mtmp_logs\u001b[0m \u001b[0;34m=\u001b[0m \u001b[0mtrain_function\u001b[0m\u001b[0;34m(\u001b[0m\u001b[0miterator\u001b[0m\u001b[0;34m)\u001b[0m\u001b[0;34m\u001b[0m\u001b[0;34m\u001b[0m\u001b[0m\n\u001b[0m\u001b[1;32m    849\u001b[0m               \u001b[0;31m# Catch OutOfRangeError for Datasets of unknown size.\u001b[0m\u001b[0;34m\u001b[0m\u001b[0;34m\u001b[0m\u001b[0;34m\u001b[0m\u001b[0m\n\u001b[1;32m    850\u001b[0m               \u001b[0;31m# This blocks until the batch has finished executing.\u001b[0m\u001b[0;34m\u001b[0m\u001b[0;34m\u001b[0m\u001b[0;34m\u001b[0m\u001b[0m\n",
      "\u001b[0;32m~/Datos/TP2/venvTP2/lib/python3.6/site-packages/tensorflow/python/eager/def_function.py\u001b[0m in \u001b[0;36m__call__\u001b[0;34m(self, *args, **kwds)\u001b[0m\n\u001b[1;32m    578\u001b[0m         \u001b[0mxla_context\u001b[0m\u001b[0;34m.\u001b[0m\u001b[0mExit\u001b[0m\u001b[0;34m(\u001b[0m\u001b[0;34m)\u001b[0m\u001b[0;34m\u001b[0m\u001b[0;34m\u001b[0m\u001b[0m\n\u001b[1;32m    579\u001b[0m     \u001b[0;32melse\u001b[0m\u001b[0;34m:\u001b[0m\u001b[0;34m\u001b[0m\u001b[0;34m\u001b[0m\u001b[0m\n\u001b[0;32m--> 580\u001b[0;31m       \u001b[0mresult\u001b[0m \u001b[0;34m=\u001b[0m \u001b[0mself\u001b[0m\u001b[0;34m.\u001b[0m\u001b[0m_call\u001b[0m\u001b[0;34m(\u001b[0m\u001b[0;34m*\u001b[0m\u001b[0margs\u001b[0m\u001b[0;34m,\u001b[0m \u001b[0;34m**\u001b[0m\u001b[0mkwds\u001b[0m\u001b[0;34m)\u001b[0m\u001b[0;34m\u001b[0m\u001b[0;34m\u001b[0m\u001b[0m\n\u001b[0m\u001b[1;32m    581\u001b[0m \u001b[0;34m\u001b[0m\u001b[0m\n\u001b[1;32m    582\u001b[0m     \u001b[0;32mif\u001b[0m \u001b[0mtracing_count\u001b[0m \u001b[0;34m==\u001b[0m \u001b[0mself\u001b[0m\u001b[0;34m.\u001b[0m\u001b[0m_get_tracing_count\u001b[0m\u001b[0;34m(\u001b[0m\u001b[0;34m)\u001b[0m\u001b[0;34m:\u001b[0m\u001b[0;34m\u001b[0m\u001b[0;34m\u001b[0m\u001b[0m\n",
      "\u001b[0;32m~/Datos/TP2/venvTP2/lib/python3.6/site-packages/tensorflow/python/eager/def_function.py\u001b[0m in \u001b[0;36m_call\u001b[0;34m(self, *args, **kwds)\u001b[0m\n\u001b[1;32m    609\u001b[0m       \u001b[0;31m# In this case we have created variables on the first call, so we run the\u001b[0m\u001b[0;34m\u001b[0m\u001b[0;34m\u001b[0m\u001b[0;34m\u001b[0m\u001b[0m\n\u001b[1;32m    610\u001b[0m       \u001b[0;31m# defunned version which is guaranteed to never create variables.\u001b[0m\u001b[0;34m\u001b[0m\u001b[0;34m\u001b[0m\u001b[0;34m\u001b[0m\u001b[0m\n\u001b[0;32m--> 611\u001b[0;31m       \u001b[0;32mreturn\u001b[0m \u001b[0mself\u001b[0m\u001b[0;34m.\u001b[0m\u001b[0m_stateless_fn\u001b[0m\u001b[0;34m(\u001b[0m\u001b[0;34m*\u001b[0m\u001b[0margs\u001b[0m\u001b[0;34m,\u001b[0m \u001b[0;34m**\u001b[0m\u001b[0mkwds\u001b[0m\u001b[0;34m)\u001b[0m  \u001b[0;31m# pylint: disable=not-callable\u001b[0m\u001b[0;34m\u001b[0m\u001b[0;34m\u001b[0m\u001b[0m\n\u001b[0m\u001b[1;32m    612\u001b[0m     \u001b[0;32melif\u001b[0m \u001b[0mself\u001b[0m\u001b[0;34m.\u001b[0m\u001b[0m_stateful_fn\u001b[0m \u001b[0;32mis\u001b[0m \u001b[0;32mnot\u001b[0m \u001b[0;32mNone\u001b[0m\u001b[0;34m:\u001b[0m\u001b[0;34m\u001b[0m\u001b[0;34m\u001b[0m\u001b[0m\n\u001b[1;32m    613\u001b[0m       \u001b[0;31m# Release the lock early so that multiple threads can perform the call\u001b[0m\u001b[0;34m\u001b[0m\u001b[0;34m\u001b[0m\u001b[0;34m\u001b[0m\u001b[0m\n",
      "\u001b[0;32m~/Datos/TP2/venvTP2/lib/python3.6/site-packages/tensorflow/python/eager/function.py\u001b[0m in \u001b[0;36m__call__\u001b[0;34m(self, *args, **kwargs)\u001b[0m\n\u001b[1;32m   2418\u001b[0m     \u001b[0;32mwith\u001b[0m \u001b[0mself\u001b[0m\u001b[0;34m.\u001b[0m\u001b[0m_lock\u001b[0m\u001b[0;34m:\u001b[0m\u001b[0;34m\u001b[0m\u001b[0;34m\u001b[0m\u001b[0m\n\u001b[1;32m   2419\u001b[0m       \u001b[0mgraph_function\u001b[0m\u001b[0;34m,\u001b[0m \u001b[0margs\u001b[0m\u001b[0;34m,\u001b[0m \u001b[0mkwargs\u001b[0m \u001b[0;34m=\u001b[0m \u001b[0mself\u001b[0m\u001b[0;34m.\u001b[0m\u001b[0m_maybe_define_function\u001b[0m\u001b[0;34m(\u001b[0m\u001b[0margs\u001b[0m\u001b[0;34m,\u001b[0m \u001b[0mkwargs\u001b[0m\u001b[0;34m)\u001b[0m\u001b[0;34m\u001b[0m\u001b[0;34m\u001b[0m\u001b[0m\n\u001b[0;32m-> 2420\u001b[0;31m     \u001b[0;32mreturn\u001b[0m \u001b[0mgraph_function\u001b[0m\u001b[0;34m.\u001b[0m\u001b[0m_filtered_call\u001b[0m\u001b[0;34m(\u001b[0m\u001b[0margs\u001b[0m\u001b[0;34m,\u001b[0m \u001b[0mkwargs\u001b[0m\u001b[0;34m)\u001b[0m  \u001b[0;31m# pylint: disable=protected-access\u001b[0m\u001b[0;34m\u001b[0m\u001b[0;34m\u001b[0m\u001b[0m\n\u001b[0m\u001b[1;32m   2421\u001b[0m \u001b[0;34m\u001b[0m\u001b[0m\n\u001b[1;32m   2422\u001b[0m   \u001b[0;34m@\u001b[0m\u001b[0mproperty\u001b[0m\u001b[0;34m\u001b[0m\u001b[0;34m\u001b[0m\u001b[0m\n",
      "\u001b[0;32m~/Datos/TP2/venvTP2/lib/python3.6/site-packages/tensorflow/python/eager/function.py\u001b[0m in \u001b[0;36m_filtered_call\u001b[0;34m(self, args, kwargs)\u001b[0m\n\u001b[1;32m   1663\u001b[0m          if isinstance(t, (ops.Tensor,\n\u001b[1;32m   1664\u001b[0m                            resource_variable_ops.BaseResourceVariable))),\n\u001b[0;32m-> 1665\u001b[0;31m         self.captured_inputs)\n\u001b[0m\u001b[1;32m   1666\u001b[0m \u001b[0;34m\u001b[0m\u001b[0m\n\u001b[1;32m   1667\u001b[0m   \u001b[0;32mdef\u001b[0m \u001b[0m_call_flat\u001b[0m\u001b[0;34m(\u001b[0m\u001b[0mself\u001b[0m\u001b[0;34m,\u001b[0m \u001b[0margs\u001b[0m\u001b[0;34m,\u001b[0m \u001b[0mcaptured_inputs\u001b[0m\u001b[0;34m,\u001b[0m \u001b[0mcancellation_manager\u001b[0m\u001b[0;34m=\u001b[0m\u001b[0;32mNone\u001b[0m\u001b[0;34m)\u001b[0m\u001b[0;34m:\u001b[0m\u001b[0;34m\u001b[0m\u001b[0;34m\u001b[0m\u001b[0m\n",
      "\u001b[0;32m~/Datos/TP2/venvTP2/lib/python3.6/site-packages/tensorflow/python/eager/function.py\u001b[0m in \u001b[0;36m_call_flat\u001b[0;34m(self, args, captured_inputs, cancellation_manager)\u001b[0m\n\u001b[1;32m   1744\u001b[0m       \u001b[0;31m# No tape is watching; skip to running the function.\u001b[0m\u001b[0;34m\u001b[0m\u001b[0;34m\u001b[0m\u001b[0;34m\u001b[0m\u001b[0m\n\u001b[1;32m   1745\u001b[0m       return self._build_call_outputs(self._inference_function.call(\n\u001b[0;32m-> 1746\u001b[0;31m           ctx, args, cancellation_manager=cancellation_manager))\n\u001b[0m\u001b[1;32m   1747\u001b[0m     forward_backward = self._select_forward_and_backward_functions(\n\u001b[1;32m   1748\u001b[0m         \u001b[0margs\u001b[0m\u001b[0;34m,\u001b[0m\u001b[0;34m\u001b[0m\u001b[0;34m\u001b[0m\u001b[0m\n",
      "\u001b[0;32m~/Datos/TP2/venvTP2/lib/python3.6/site-packages/tensorflow/python/eager/function.py\u001b[0m in \u001b[0;36mcall\u001b[0;34m(self, ctx, args, cancellation_manager)\u001b[0m\n\u001b[1;32m    596\u001b[0m               \u001b[0minputs\u001b[0m\u001b[0;34m=\u001b[0m\u001b[0margs\u001b[0m\u001b[0;34m,\u001b[0m\u001b[0;34m\u001b[0m\u001b[0;34m\u001b[0m\u001b[0m\n\u001b[1;32m    597\u001b[0m               \u001b[0mattrs\u001b[0m\u001b[0;34m=\u001b[0m\u001b[0mattrs\u001b[0m\u001b[0;34m,\u001b[0m\u001b[0;34m\u001b[0m\u001b[0;34m\u001b[0m\u001b[0m\n\u001b[0;32m--> 598\u001b[0;31m               ctx=ctx)\n\u001b[0m\u001b[1;32m    599\u001b[0m         \u001b[0;32melse\u001b[0m\u001b[0;34m:\u001b[0m\u001b[0;34m\u001b[0m\u001b[0;34m\u001b[0m\u001b[0m\n\u001b[1;32m    600\u001b[0m           outputs = execute.execute_with_cancellation(\n",
      "\u001b[0;32m~/Datos/TP2/venvTP2/lib/python3.6/site-packages/tensorflow/python/eager/execute.py\u001b[0m in \u001b[0;36mquick_execute\u001b[0;34m(op_name, num_outputs, inputs, attrs, ctx, name)\u001b[0m\n\u001b[1;32m     58\u001b[0m     \u001b[0mctx\u001b[0m\u001b[0;34m.\u001b[0m\u001b[0mensure_initialized\u001b[0m\u001b[0;34m(\u001b[0m\u001b[0;34m)\u001b[0m\u001b[0;34m\u001b[0m\u001b[0;34m\u001b[0m\u001b[0m\n\u001b[1;32m     59\u001b[0m     tensors = pywrap_tfe.TFE_Py_Execute(ctx._handle, device_name, op_name,\n\u001b[0;32m---> 60\u001b[0;31m                                         inputs, attrs, num_outputs)\n\u001b[0m\u001b[1;32m     61\u001b[0m   \u001b[0;32mexcept\u001b[0m \u001b[0mcore\u001b[0m\u001b[0;34m.\u001b[0m\u001b[0m_NotOkStatusException\u001b[0m \u001b[0;32mas\u001b[0m \u001b[0me\u001b[0m\u001b[0;34m:\u001b[0m\u001b[0;34m\u001b[0m\u001b[0;34m\u001b[0m\u001b[0m\n\u001b[1;32m     62\u001b[0m     \u001b[0;32mif\u001b[0m \u001b[0mname\u001b[0m \u001b[0;32mis\u001b[0m \u001b[0;32mnot\u001b[0m \u001b[0;32mNone\u001b[0m\u001b[0;34m:\u001b[0m\u001b[0;34m\u001b[0m\u001b[0;34m\u001b[0m\u001b[0m\n",
      "\u001b[0;31mKeyboardInterrupt\u001b[0m: "
     ]
    }
   ],
   "source": [
    "conv_lstm_model_history = conv_lstm_model.fit([X_train_text, X_train_nf], y_train, validation_data = ([X_val_text, X_val_nf], y_val), \n",
    "                    batch_size = 32, epochs = 5, verbose = 2)"
   ]
  },
  {
   "cell_type": "code",
   "execution_count": null,
   "metadata": {},
   "outputs": [],
   "source": [
    "plot_history(conv_lstm_model_history)"
   ]
  },
  {
   "cell_type": "code",
   "execution_count": null,
   "metadata": {},
   "outputs": [],
   "source": [
    "conv_lstm_model_prediction = conv_lstm_model.predict([X_test_text, X_test_nf])"
   ]
  },
  {
   "cell_type": "code",
   "execution_count": null,
   "metadata": {},
   "outputs": [],
   "source": [
    "def toCategory(arr):\n",
    "    return [1 if arr[i][0]>=0.5 else 0 for i in range(len(arr))]"
   ]
  },
  {
   "cell_type": "code",
   "execution_count": null,
   "metadata": {},
   "outputs": [],
   "source": [
    "# Más evaluación\n",
    "print('ERROR DE VALIDACIÓN:\\n')\n",
    "print('El F1-Score es: {} \\n'.format(f1_score(results['target'], toCategory(conv_lstm_model_prediction))))\n",
    "print('La confusion matrix es: \\n{} \\n'.format(confusion_matrix(results['target'], toCategory(conv_lstm_model_prediction))))\n",
    "print('El classification report es: \\n{} \\n'.format(classification_report(results['target'], toCategory(conv_lstm_model_prediction))))"
   ]
  },
  {
   "cell_type": "markdown",
   "metadata": {},
   "source": [
    " "
   ]
  },
  {
   "cell_type": "markdown",
   "metadata": {},
   "source": [
    "## Bi-LSTM y Holdout Set Validation"
   ]
  },
  {
   "cell_type": "code",
   "execution_count": 195,
   "metadata": {},
   "outputs": [],
   "source": [
    "# MISMO SET DE DATOS QUE EN EL MODELO ANTERIOR"
   ]
  },
  {
   "cell_type": "code",
   "execution_count": 272,
   "metadata": {},
   "outputs": [],
   "source": [
    "# Creación del modelo\n",
    "\n",
    "embedding_layer = layers.Embedding(num_tokens, embeddings_dim, embeddings_initializer=keras.initializers.Constant(embeddingsMatrix), trainable=False)\n",
    "\n",
    "inputs1 = keras.Input(batch_size = None, shape = (X_train_text.shape[1],))  # Entrada del texto vectorizado según myVocabulary\n",
    "x1 = embedding_layer(inputs1)\n",
    "x1 = layers.BatchNormalization(axis=-1, trainable=False)(x1)\n",
    "x1 = layers.Dropout(0.5)(x1)\n",
    "outputs1 = layers.Bidirectional(layers.LSTM(64))(x1)\n",
    "\n",
    "inputs2 = keras.Input(batch_size = None, shape = (X_train_nf.shape[1],))  # Entrada de los features numéricos completamente pre-procesados\n",
    "outputs2 = inputs2\n",
    "\n",
    "x = layers.Concatenate(axis = 1)([outputs1, outputs2])\n",
    "\n",
    "x = layers.BatchNormalization(trainable = False)(x)\n",
    "x = layers.Dropout(0.5)(x)\n",
    "x = layers.Dense(64, activation=\"relu\")(x)\n",
    "x = layers.BatchNormalization(axis=-1, trainable=False)(x)\n",
    "outputs = layers.Dense(1, activation=\"sigmoid\", name=\"predictions\")(x)\n",
    "\n",
    "bilstm_model = keras.Model(inputs=[inputs1, inputs2], outputs=outputs, name = 'bilstm_model')"
   ]
  },
  {
   "cell_type": "code",
   "execution_count": 273,
   "metadata": {},
   "outputs": [
    {
     "name": "stdout",
     "output_type": "stream",
     "text": [
      "Model: \"bilstm_model\"\n",
      "__________________________________________________________________________________________________\n",
      "Layer (type)                    Output Shape         Param #     Connected to                     \n",
      "==================================================================================================\n",
      "input_48 (InputLayer)           [(None, 2114)]       0                                            \n",
      "__________________________________________________________________________________________________\n",
      "embedding_24 (Embedding)        (None, 2114, 100)    211400      input_48[0][0]                   \n",
      "__________________________________________________________________________________________________\n",
      "batch_normalization_108 (BatchN (None, 2114, 100)    400         embedding_24[0][0]               \n",
      "__________________________________________________________________________________________________\n",
      "dropout_58 (Dropout)            (None, 2114, 100)    0           batch_normalization_108[0][0]    \n",
      "__________________________________________________________________________________________________\n",
      "bidirectional_2 (Bidirectional) (None, 128)          84480       dropout_58[0][0]                 \n",
      "__________________________________________________________________________________________________\n",
      "input_49 (InputLayer)           [(None, 24)]         0                                            \n",
      "__________________________________________________________________________________________________\n",
      "concatenate_23 (Concatenate)    (None, 152)          0           bidirectional_2[0][0]            \n",
      "                                                                 input_49[0][0]                   \n",
      "__________________________________________________________________________________________________\n",
      "batch_normalization_109 (BatchN (None, 152)          608         concatenate_23[0][0]             \n",
      "__________________________________________________________________________________________________\n",
      "dropout_59 (Dropout)            (None, 152)          0           batch_normalization_109[0][0]    \n",
      "__________________________________________________________________________________________________\n",
      "dense_64 (Dense)                (None, 64)           9792        dropout_59[0][0]                 \n",
      "__________________________________________________________________________________________________\n",
      "batch_normalization_110 (BatchN (None, 64)           256         dense_64[0][0]                   \n",
      "__________________________________________________________________________________________________\n",
      "predictions (Dense)             (None, 1)            65          batch_normalization_110[0][0]    \n",
      "==================================================================================================\n",
      "Total params: 307,001\n",
      "Trainable params: 94,337\n",
      "Non-trainable params: 212,664\n",
      "__________________________________________________________________________________________________\n"
     ]
    }
   ],
   "source": [
    "bilstm_model.summary()"
   ]
  },
  {
   "cell_type": "code",
   "execution_count": 274,
   "metadata": {},
   "outputs": [],
   "source": [
    "# Compilación del modelo\n",
    "\n",
    "optimizer = keras.optimizers.Adam(learning_rate = 0.003)\n",
    "bilstm_model.compile(loss = \"binary_crossentropy\", optimizer = optimizer, metrics = [\"accuracy\"])"
   ]
  },
  {
   "cell_type": "code",
   "execution_count": 275,
   "metadata": {},
   "outputs": [
    {
     "name": "stdout",
     "output_type": "stream",
     "text": [
      "Epoch 1/6\n",
      "326/326 - 638s - loss: 0.5273 - accuracy: 0.7399 - val_loss: 0.4691 - val_accuracy: 0.7748\n",
      "Epoch 2/6\n",
      "326/326 - 611s - loss: 0.4885 - accuracy: 0.7679 - val_loss: 0.4524 - val_accuracy: 0.7897\n",
      "Epoch 3/6\n",
      "326/326 - 651s - loss: 0.4800 - accuracy: 0.7722 - val_loss: 0.4537 - val_accuracy: 0.7843\n",
      "Epoch 4/6\n",
      "326/326 - 561s - loss: 0.4689 - accuracy: 0.7765 - val_loss: 0.4479 - val_accuracy: 0.7939\n",
      "Epoch 5/6\n",
      "326/326 - 586s - loss: 0.4744 - accuracy: 0.7758 - val_loss: 0.4441 - val_accuracy: 0.7886\n",
      "Epoch 6/6\n",
      "326/326 - 582s - loss: 0.4560 - accuracy: 0.7877 - val_loss: 0.4411 - val_accuracy: 0.7901\n"
     ]
    }
   ],
   "source": [
    "bilstm_model_history = bilstm_model.fit([X_train_text, X_train_nf], y_train, validation_data = ([X_val_text, X_val_nf], y_val), \n",
    "                    batch_size = 32, epochs = 6, verbose = 2)"
   ]
  },
  {
   "cell_type": "code",
   "execution_count": 276,
   "metadata": {},
   "outputs": [
    {
     "data": {
      "image/png": "[encoded data removed]",
      "text/plain": [
       "<Figure size 864x360 with 2 Axes>"
      ]
     },
     "metadata": {},
     "output_type": "display_data"
    }
   ],
   "source": [
    "plot_history(bilstm_model_history)"
   ]
  },
  {
   "cell_type": "code",
   "execution_count": 277,
   "metadata": {},
   "outputs": [],
   "source": [
    "bilstm_model_prediction = bilstm_model.predict([X_test_text, X_test_nf])"
   ]
  },
  {
   "cell_type": "code",
   "execution_count": 14,
   "metadata": {},
   "outputs": [],
   "source": [
    "def toCategory(arr):\n",
    "    return [1 if arr[i][0]>=0.5 else 0 for i in range(len(arr))]"
   ]
  },
  {
   "cell_type": "code",
   "execution_count": 278,
   "metadata": {},
   "outputs": [
    {
     "name": "stdout",
     "output_type": "stream",
     "text": [
      "ERROR DE VALIDACIÓN:\n",
      "\n",
      "El F1-Score es: 0.7453551912568306 \n",
      "\n",
      "La confusion matrix es: \n",
      "[[1541  320]\n",
      " [ 379 1023]] \n",
      "\n",
      "El classification report es: \n",
      "              precision    recall  f1-score   support\n",
      "\n",
      "           0       0.80      0.83      0.82      1861\n",
      "           1       0.76      0.73      0.75      1402\n",
      "\n",
      "    accuracy                           0.79      3263\n",
      "   macro avg       0.78      0.78      0.78      3263\n",
      "weighted avg       0.79      0.79      0.79      3263\n",
      " \n",
      "\n"
     ]
    }
   ],
   "source": [
    "# Más evaluación\n",
    "print('ERROR DE VALIDACIÓN:\\n')\n",
    "print('El F1-Score es: {} \\n'.format(f1_score(results['target'], toCategory(bilstm_model_prediction))))\n",
    "print('La confusion matrix es: \\n{} \\n'.format(confusion_matrix(results['target'], toCategory(bilstm_model_prediction))))\n",
    "print('El classification report es: \\n{} \\n'.format(classification_report(results['target'], toCategory(bilstm_model_prediction))))"
   ]
  },
  {
   "cell_type": "markdown",
   "metadata": {},
   "source": [
    " "
   ]
  },
  {
   "cell_type": "markdown",
   "metadata": {},
   "source": [
    "## Bi-LSTM y Conv1D - Holdout Set Validation"
   ]
  },
  {
   "cell_type": "code",
   "execution_count": 195,
   "metadata": {},
   "outputs": [],
   "source": [
    "# MISMO SET DE DATOS QUE EN EL MODELO ANTERIOR"
   ]
  },
  {
   "cell_type": "code",
   "execution_count": 279,
   "metadata": {},
   "outputs": [],
   "source": [
    "# Creación del modelo\n",
    "\n",
    "embedding_layer = layers.Embedding(num_tokens, embeddings_dim, embeddings_initializer=keras.initializers.Constant(embeddingsMatrix), trainable=False)\n",
    "\n",
    "inputs1 = keras.Input(batch_size = None, shape = (X_train_text.shape[1],))  # Entrada del texto vectorizado según myVocabulary\n",
    "x1 = embedding_layer(inputs1)\n",
    "x1 = layers.BatchNormalization(axis=-1, trainable=False)(x1)\n",
    "x1 = layers.Dropout(0.5)(x1)\n",
    "x1 = layers.Conv1D(100, 3, padding=\"same\", activation=\"relu\")(x1)\n",
    "x1 = layers.MaxPooling1D(pool_size=4, strides=4, padding='same')(x1)\n",
    "x1 = layers.BatchNormalization(axis=-1, trainable=False)(x1)\n",
    "outputs1 = layers.Bidirectional(layers.LSTM(64))(x1)\n",
    "\n",
    "inputs2 = keras.Input(batch_size = None, shape = (X_train_nf.shape[1],))  # Entrada de los features numéricos completamente pre-procesados\n",
    "outputs2 = inputs2\n",
    "\n",
    "x = layers.Concatenate(axis = 1)([outputs1, outputs2])\n",
    "\n",
    "x = layers.BatchNormalization(trainable = False)(x)\n",
    "x = layers.Dropout(0.5)(x)\n",
    "x = layers.Dense(64, activation=\"relu\")(x)\n",
    "x = layers.BatchNormalization(axis=-1, trainable=False)(x)\n",
    "outputs = layers.Dense(1, activation=\"sigmoid\", name=\"predictions\")(x)\n",
    "\n",
    "conv1d_bilstm_model = keras.Model(inputs=[inputs1, inputs2], outputs=outputs, name = 'conv1d_bilstm_model')"
   ]
  },
  {
   "cell_type": "code",
   "execution_count": 280,
   "metadata": {},
   "outputs": [
    {
     "name": "stdout",
     "output_type": "stream",
     "text": [
      "Model: \"conv1d_bilstm_model\"\n",
      "__________________________________________________________________________________________________\n",
      "Layer (type)                    Output Shape         Param #     Connected to                     \n",
      "==================================================================================================\n",
      "input_50 (InputLayer)           [(None, 2114)]       0                                            \n",
      "__________________________________________________________________________________________________\n",
      "embedding_25 (Embedding)        (None, 2114, 100)    211400      input_50[0][0]                   \n",
      "__________________________________________________________________________________________________\n",
      "batch_normalization_111 (BatchN (None, 2114, 100)    400         embedding_25[0][0]               \n",
      "__________________________________________________________________________________________________\n",
      "dropout_60 (Dropout)            (None, 2114, 100)    0           batch_normalization_111[0][0]    \n",
      "__________________________________________________________________________________________________\n",
      "conv1d_37 (Conv1D)              (None, 2114, 100)    30100       dropout_60[0][0]                 \n",
      "__________________________________________________________________________________________________\n",
      "max_pooling1d_15 (MaxPooling1D) (None, 529, 100)     0           conv1d_37[0][0]                  \n",
      "__________________________________________________________________________________________________\n",
      "batch_normalization_112 (BatchN (None, 529, 100)     400         max_pooling1d_15[0][0]           \n",
      "__________________________________________________________________________________________________\n",
      "bidirectional_3 (Bidirectional) (None, 128)          84480       batch_normalization_112[0][0]    \n",
      "__________________________________________________________________________________________________\n",
      "input_51 (InputLayer)           [(None, 24)]         0                                            \n",
      "__________________________________________________________________________________________________\n",
      "concatenate_24 (Concatenate)    (None, 152)          0           bidirectional_3[0][0]            \n",
      "                                                                 input_51[0][0]                   \n",
      "__________________________________________________________________________________________________\n",
      "batch_normalization_113 (BatchN (None, 152)          608         concatenate_24[0][0]             \n",
      "__________________________________________________________________________________________________\n",
      "dropout_61 (Dropout)            (None, 152)          0           batch_normalization_113[0][0]    \n",
      "__________________________________________________________________________________________________\n",
      "dense_65 (Dense)                (None, 64)           9792        dropout_61[0][0]                 \n",
      "__________________________________________________________________________________________________\n",
      "batch_normalization_114 (BatchN (None, 64)           256         dense_65[0][0]                   \n",
      "__________________________________________________________________________________________________\n",
      "predictions (Dense)             (None, 1)            65          batch_normalization_114[0][0]    \n",
      "==================================================================================================\n",
      "Total params: 337,501\n",
      "Trainable params: 124,437\n",
      "Non-trainable params: 213,064\n",
      "__________________________________________________________________________________________________\n"
     ]
    }
   ],
   "source": [
    "conv1d_bilstm_model.summary()"
   ]
  },
  {
   "cell_type": "code",
   "execution_count": 281,
   "metadata": {},
   "outputs": [],
   "source": [
    "# Compilación del modelo\n",
    "\n",
    "optimizer = keras.optimizers.Adam(learning_rate = 0.002)\n",
    "conv1d_bilstm_model.compile(loss = \"binary_crossentropy\", optimizer = optimizer, metrics = [\"accuracy\"])"
   ]
  },
  {
   "cell_type": "code",
   "execution_count": 282,
   "metadata": {},
   "outputs": [
    {
     "name": "stdout",
     "output_type": "stream",
     "text": [
      "Epoch 1/6\n",
      "326/326 - 224s - loss: 0.5325 - accuracy: 0.7356 - val_loss: 0.4676 - val_accuracy: 0.7794\n",
      "Epoch 2/6\n",
      "326/326 - 227s - loss: 0.4966 - accuracy: 0.7631 - val_loss: 0.4751 - val_accuracy: 0.7843\n",
      "Epoch 3/6\n",
      "326/326 - 228s - loss: 0.4787 - accuracy: 0.7762 - val_loss: 0.4582 - val_accuracy: 0.7916\n",
      "Epoch 4/6\n",
      "326/326 - 233s - loss: 0.4703 - accuracy: 0.7783 - val_loss: 0.4467 - val_accuracy: 0.7932\n",
      "Epoch 5/6\n",
      "326/326 - 234s - loss: 0.4660 - accuracy: 0.7806 - val_loss: 0.4434 - val_accuracy: 0.7955\n",
      "Epoch 6/6\n",
      "326/326 - 227s - loss: 0.4545 - accuracy: 0.7865 - val_loss: 0.4436 - val_accuracy: 0.7943\n"
     ]
    }
   ],
   "source": [
    "conv1d_bilstm_model_history = conv1d_bilstm_model.fit([X_train_text, X_train_nf], y_train, validation_data = ([X_val_text, X_val_nf], y_val), \n",
    "                    batch_size = 32, epochs = 6, verbose = 2)"
   ]
  },
  {
   "cell_type": "code",
   "execution_count": 283,
   "metadata": {},
   "outputs": [
    {
     "data": {
      "image/png": "[encoded data removed]",
      "text/plain": [
       "<Figure size 864x360 with 2 Axes>"
      ]
     },
     "metadata": {},
     "output_type": "display_data"
    }
   ],
   "source": [
    "plot_history(conv1d_bilstm_model_history)"
   ]
  },
  {
   "cell_type": "code",
   "execution_count": 284,
   "metadata": {},
   "outputs": [],
   "source": [
    "conv1d_bilstm_model_prediction = conv1d_bilstm_model.predict([X_test_text, X_test_nf])"
   ]
  },
  {
   "cell_type": "code",
   "execution_count": null,
   "metadata": {},
   "outputs": [],
   "source": [
    "def toCategory(arr):\n",
    "    return [1 if arr[i][0]>=0.5 else 0 for i in range(len(arr))]"
   ]
  },
  {
   "cell_type": "code",
   "execution_count": 285,
   "metadata": {},
   "outputs": [
    {
     "name": "stdout",
     "output_type": "stream",
     "text": [
      "ERROR DE VALIDACIÓN:\n",
      "\n",
      "El F1-Score es: 0.7484618168657258 \n",
      "\n",
      "La confusion matrix es: \n",
      "[[1534  327]\n",
      " [ 368 1034]] \n",
      "\n",
      "El classification report es: \n",
      "              precision    recall  f1-score   support\n",
      "\n",
      "           0       0.81      0.82      0.82      1861\n",
      "           1       0.76      0.74      0.75      1402\n",
      "\n",
      "    accuracy                           0.79      3263\n",
      "   macro avg       0.78      0.78      0.78      3263\n",
      "weighted avg       0.79      0.79      0.79      3263\n",
      " \n",
      "\n"
     ]
    }
   ],
   "source": [
    "# Más evaluación\n",
    "print('ERROR DE VALIDACIÓN:\\n')\n",
    "print('El F1-Score es: {} \\n'.format(f1_score(results['target'], toCategory(conv1d_bilstm_model_prediction))))\n",
    "print('La confusion matrix es: \\n{} \\n'.format(confusion_matrix(results['target'], toCategory(conv1d_bilstm_model_prediction))))\n",
    "print('El classification report es: \\n{} \\n'.format(classification_report(results['target'], toCategory(conv1d_bilstm_model_prediction))))"
   ]
  },
  {
   "cell_type": "markdown",
   "metadata": {},
   "source": [
    " "
   ]
  },
  {
   "cell_type": "markdown",
   "metadata": {},
   "source": [
    " "
   ]
  },
  {
   "cell_type": "markdown",
   "metadata": {},
   "source": [
    "## Conv1D y Cross - Validation"
   ]
  },
  {
   "cell_type": "code",
   "execution_count": null,
   "metadata": {
    "collapsed": true,
    "jupyter": {
     "outputs_hidden": true
    }
   },
   "outputs": [],
   "source": [
    "##################################  CROSS-VALIDATION  ##################################\n",
    "\n",
    "# Parámetros\n",
    "n_folds = 5\n",
    "batch_size = 32\n",
    "no_epochs = 5"
   ]
  },
  {
   "cell_type": "code",
   "execution_count": 15,
   "metadata": {},
   "outputs": [],
   "source": [
    "def load_data_cv(TrainDF, TestDF, encode_keyword = False):\n",
    "    # Numeric Features: Encoding de 'keyword' + Resultado de feature engineering\n",
    "    print('Preparando las Numeric Features...')\n",
    "    TrainDF_subset = TrainDF.drop(columns = ['id', 'keyword', 'location', 'text', 'target'])\n",
    "    TestDF_subset = TestDF.drop(columns = ['id', 'keyword', 'location', 'text'])\n",
    "    if encode_keyword == True:\n",
    "        ohe = OneHotEncoder(handle_unknown = 'ignore')\n",
    "        ohe.fit(np.array(TrainDF.loc[TrainDF['keyword'].isna() == False, 'keyword']).reshape((-1,1)))\n",
    "        TrainDF['keyword'].fillna('NoKeyword', inplace = True)\n",
    "        TrainDF_keyword_enc = ohe.transform(np.array(TrainDF['keyword']).reshape((-1,1)))\n",
    "        TestDF['keyword'].fillna('NoKeyword', inplace = True)\n",
    "        TestDF_keyword_enc = ohe.transform(np.array(TestDF['keyword']).reshape((-1,1)))\n",
    "        print('El encoding genera {} nuevos features adicionales'.format(TrainDF_keyword_enc.shape[1]))\n",
    "        X_train_nf = sparse.hstack((TrainDF_keyword_enc, sparse.csr_matrix(TrainDF_subset.values))).toarray()\n",
    "        X_test_nf = sparse.hstack((TestDF_keyword_enc, sparse.csr_matrix(TestDF_subset.values))).toarray()\n",
    "    else:\n",
    "        X_train_nf = TrainDF_subset.to_numpy()\n",
    "        X_test_nf = TestDF_subset.to_numpy()\n",
    "    nf_norm_layer = layers.experimental.preprocessing.Normalization()\n",
    "    nf_norm_layer.adapt(X_train_nf)\n",
    "    X_train_nf = nf_norm_layer(X_train_nf)\n",
    "    X_test_nf = nf_norm_layer(X_test_nf) \n",
    "    \n",
    "    # Text: Formateo para embedding layer\n",
    "    print('Preparando el texto... \\n')\n",
    "    X_train_text = np.stack(TrainDF['text'].map(lambda x: vocMapping(x)))\n",
    "    X_test_text = np.stack(TestDF['text'].map(lambda x: vocMapping(x)))\n",
    "    \n",
    "    # Target\n",
    "    y_train = np.array(TrainDF['target'])\n",
    "    \n",
    "    print('''Las dimensiones de los sets de datos son:\n",
    "        Set de entrenamiento, features numéricos: {}\n",
    "        Set de entrenamiento, texto: {}\n",
    "        Set de test, features numéricos: {}\n",
    "        Set de test, texto: {}'''.format(X_train_nf.shape, X_train_text.shape, X_test_nf.shape, X_test_text.shape))\n",
    "    \n",
    "    return X_train_text, X_train_nf, X_test_text, X_test_nf, y_train"
   ]
  },
  {
   "cell_type": "code",
   "execution_count": null,
   "metadata": {},
   "outputs": [],
   "source": [
    "# Sets de datos\n",
    "X_train_text, X_train_nf, X_test_text, X_test_nf, y_train = load_data_cv(tw_train, tw_test)\n",
    "\n",
    "# Almacenamiento de la información de entrenamiento\n",
    "acc_per_fold = []\n",
    "loss_per_fold = []\n",
    "\n",
    "# Índices para separación\n",
    "skf = StratifiedKFold(n_splits=n_folds, random_state = 123, shuffle = True)"
   ]
  },
  {
   "cell_type": "code",
   "execution_count": 141,
   "metadata": {},
   "outputs": [],
   "source": [
    "# Creación del modelo iterable\n",
    "def get_compiled_model():\n",
    "    embedding_layer = layers.Embedding(num_tokens, embeddings_dim, embeddings_initializer=keras.initializers.Constant(embeddingsMatrix), trainable=False)\n",
    "\n",
    "    inputs1 = keras.Input(batch_size = None, shape = (X_train_text.shape[1],))  # Entrada del texto vectorizado según myVocabulary\n",
    "    x1 = embedding_layer(inputs1)\n",
    "    x1 = layers.BatchNormalization(trainable = False)(x1)\n",
    "    x1 = layers.Dropout(0.4)(x1)\n",
    "    x1 = layers.Conv1D(100, 3, padding=\"same\", activation = \"relu\")(x1)\n",
    "    x1 = layers.Conv1D(100, 3, padding=\"same\", activation = \"relu\")(x1)\n",
    "    x1 = layers.BatchNormalization(trainable = False)(x1)\n",
    "    x1 = layers.MaxPooling1D(pool_size=4, strides=4, padding='same')(x1)\n",
    "    x1 = layers.Conv1D(100, 8, padding=\"same\", activation = \"relu\")(x1)\n",
    "    x1 = layers.BatchNormalization(trainable = False)(x1)\n",
    "    outputs1 = layers.GlobalAveragePooling1D()(x1)\n",
    "\n",
    "    inputs2 = keras.Input(batch_size = None, shape = (X_train_nf.shape[1],))  # Entrada de los features numéricos completamente pre-procesados\n",
    "    outputs2 = layers.Dense(128, activation=\"relu\")(inputs2)\n",
    "\n",
    "    merged_outputs = layers.Concatenate(axis = 1)([outputs1, outputs2])  # Combinación de las salidas de ambas ramas\n",
    "    merged_outputs = layers.BatchNormalization(trainable = False)(merged_outputs)\n",
    "    \n",
    "    x = layers.Dropout(0.5)(merged_outputs)\n",
    "    x = layers.Dense(64, activation=\"relu\")(x)\n",
    "    x = layers.BatchNormalization(trainable = False)(x)\n",
    "    x = layers.Dropout(0.2)(x)\n",
    "    outputs = layers.Dense(1, activation=\"sigmoid\")(x)\n",
    "\n",
    "    model = keras.Model(inputs=[inputs1, inputs2], outputs=outputs)\n",
    "    model.compile(loss=\"binary_crossentropy\", optimizer=keras.optimizers.Adam(learning_rate=0.005), metrics=[\"accuracy\"])\n",
    "    return model"
   ]
  },
  {
   "cell_type": "code",
   "execution_count": null,
   "metadata": {},
   "outputs": [],
   "source": [
    "# K-fold Cross Validation\n",
    "fold_no = 1\n",
    "for train, validation in skf.split(X_train_text, y_train):\n",
    "    fold_model = get_compiled_model()\n",
    "    \n",
    "    print('------------------------------------------------------------------------')\n",
    "    print(f'Training for fold {fold_no} ...')\n",
    "    \n",
    "    # Fit data to model\n",
    "    history = fold_model.fit([X_train_text[train], tf.gather(X_train_nf, train)], y_train[train], batch_size = batch_size, epochs = no_epochs)\n",
    "\n",
    "    # Generate generalization metrics\n",
    "    scores = fold_model.evaluate([X_train_text[validation], tf.gather(X_train_nf, validation)], y_train[validation])\n",
    "    print(f'\\nScore for fold {fold_no}: {fold_model.metrics_names[0]} of {scores[0]}; {fold_model.metrics_names[1]} of {scores[1]*100}% \\n')\n",
    "    acc_per_fold.append(scores[1] * 100)\n",
    "    loss_per_fold.append(scores[0])\n",
    "\n",
    "    # Increase fold number\n",
    "    fold_no = fold_no + 1\n",
    "    \n",
    "    \n",
    "# Average scores\n",
    "print('------------------------------------------------------------------------')\n",
    "print('Score per fold')\n",
    "for i in range(0, len(acc_per_fold)):\n",
    "    print('------------------------------------------------------------------------')\n",
    "    print(f'> Fold {i+1} - Loss: {loss_per_fold[i]} - Accuracy: {acc_per_fold[i]}%')\n",
    "    print('------------------------------------------------------------------------')\n",
    "print('\\nAverage scores for all folds:')\n",
    "print(f'> Accuracy: {np.mean(acc_per_fold)} (+- {np.std(acc_per_fold)})')\n",
    "print(f'> Loss: {np.mean(loss_per_fold)}')\n",
    "print('------------------------------------------------------------------------')"
   ]
  },
  {
   "cell_type": "code",
   "execution_count": 16,
   "metadata": {},
   "outputs": [],
   "source": [
    "## PLOTEO DE LOS RESULTADOS\n",
    "\n",
    "plt.style.use('ggplot')  # Ploteo de Loss y Accuracy\n",
    "def plot_history(history):\n",
    "    acc = history.history['accuracy']\n",
    "    val_acc = history.history['val_accuracy']\n",
    "    loss = history.history['loss']\n",
    "    val_loss = history.history['val_loss']\n",
    "    x = range(1, len(acc) + 1)\n",
    "    plt.figure(figsize=(12, 5))\n",
    "    plt.subplot(1, 2, 1)\n",
    "    plt.plot(x, acc, 'b', label='Training acc')\n",
    "    plt.plot(x, val_acc, 'r', label='Validation acc')\n",
    "    plt.title('Training and validation accuracy')\n",
    "    plt.legend()\n",
    "    plt.subplot(1, 2, 2)\n",
    "    plt.plot(x, loss, 'b', label='Training loss')\n",
    "    plt.plot(x, val_loss, 'r', label='Validation loss')\n",
    "    plt.title('Training and validation loss')\n",
    "    plt.legend()"
   ]
  },
  {
   "cell_type": "code",
   "execution_count": null,
   "metadata": {},
   "outputs": [],
   "source": [
    "plot_history(history)"
   ]
  },
  {
   "cell_type": "code",
   "execution_count": 13,
   "metadata": {},
   "outputs": [],
   "source": [
    "def toCategory(arr):  # Para pasar del vector de probabilidades al de predicciones del target\n",
    "    return [1 if arr[i][0]>=0.5 else 0 for i in range(len(arr))]"
   ]
  },
  {
   "cell_type": "code",
   "execution_count": 181,
   "metadata": {},
   "outputs": [
    {
     "name": "stdout",
     "output_type": "stream",
     "text": [
      "ERROR DE VALIDACIÓN:\n",
      "\n",
      "El F1-Score es: 0.7406551059730251 \n",
      "\n",
      "La confusion matrix es: \n",
      "[[1629  232]\n",
      " [ 441  961]] \n",
      "\n",
      "El classification report es: \n",
      "              precision    recall  f1-score   support\n",
      "\n",
      "           0       0.79      0.88      0.83      1861\n",
      "           1       0.81      0.69      0.74      1402\n",
      "\n",
      "    accuracy                           0.79      3263\n",
      "   macro avg       0.80      0.78      0.78      3263\n",
      "weighted avg       0.79      0.79      0.79      3263\n",
      " \n",
      "\n"
     ]
    }
   ],
   "source": [
    "# Más evaluación\n",
    "print('ERROR DE VALIDACIÓN:\\n')\n",
    "print('El F1-Score es: {} \\n'.format(f1_score(results['target'], submit_best_fold_model_prediction)))\n",
    "print('La confusion matrix es: \\n{} \\n'.format(confusion_matrix(results['target'], submit_best_fold_model_prediction)))\n",
    "print('El classification report es: \\n{} \\n'.format(classification_report(results['target'], submit_best_fold_model_prediction)))"
   ]
  },
  {
   "cell_type": "markdown",
   "metadata": {},
   "source": [
    "### Entrenamiento para submit"
   ]
  },
  {
   "cell_type": "code",
   "execution_count": 28,
   "metadata": {
    "collapsed": true,
    "jupyter": {
     "outputs_hidden": true,
     "source_hidden": true
    }
   },
   "outputs": [
    {
     "name": "stdout",
     "output_type": "stream",
     "text": [
      "Preparando las Numeric Features...\n",
      "El encoding genera 221 nuevos features adicionales\n",
      "Preparando el texto... \n",
      "\n",
      "Las dimensiones de los sets de datos son:\n",
      "        Set de entrenamiento, features numéricos: (8684, 248)\n",
      "        Set de entrenamiento, texto: (8684, 2114)\n",
      "        Set de test, features numéricos: (3263, 248)\n",
      "        Set de test, texto: (3263, 2114)\n"
     ]
    }
   ],
   "source": [
    "# SET DE DATOS: CON UN SET DE DATOS EXTENDIDO Y BALANCEADO\n",
    "tw_train = pd.read_csv('./tw_train.csv')\n",
    "tw_train['text'] = tw_train['text'].astype('str')\n",
    "tw_train_noise = pd.read_csv('./tw_train_noise.csv')\n",
    "tw_train_noise['text'] = tw_train_noise['text'].astype('str')\n",
    "tw_test = pd.read_csv('./tw_test.csv')\n",
    "tw_test['text'] = tw_test['text'].astype('str')\n",
    "# tw_train_noisy, residual_noise = add_noise(tw_train, tw_train_noise, 0.50, keep_proportion = True, return_residual_noise = True)\n",
    "# tw_train_noisy_balanced = balance(tw_train_noisy, residual_noise)\n",
    "# X_train_text, X_train_nf, X_val_text, X_val_nf, X_test_text, X_test_nf, y_train, y_val = load_data_holdout(tw_train_noisy_balanced, tw_test, 0.2, 88)\n",
    "tw_train_balanced = balance(tw_train, tw_train_noise)\n",
    "X_train_text, X_train_nf, X_test_text, X_test_nf, y_train = load_data_cv(tw_train_balanced, tw_test)"
   ]
  },
  {
   "cell_type": "code",
   "execution_count": 29,
   "metadata": {
    "collapsed": true,
    "jupyter": {
     "outputs_hidden": true,
     "source_hidden": true
    }
   },
   "outputs": [
    {
     "name": "stdout",
     "output_type": "stream",
     "text": [
      "Epoch 1/5\n",
      "272/272 - 161s - loss: 0.5288 - accuracy: 0.7448 - val_loss: 0.4443 - val_accuracy: 0.8016\n",
      "Epoch 2/5\n",
      "272/272 - 165s - loss: 0.4590 - accuracy: 0.7897 - val_loss: 0.3977 - val_accuracy: 0.8170\n",
      "Epoch 3/5\n",
      "272/272 - 163s - loss: 0.4393 - accuracy: 0.8012 - val_loss: 0.3979 - val_accuracy: 0.8196\n",
      "Epoch 4/5\n",
      "272/272 - 162s - loss: 0.4317 - accuracy: 0.8035 - val_loss: 0.3934 - val_accuracy: 0.8246\n",
      "Epoch 5/5\n",
      "272/272 - 165s - loss: 0.4151 - accuracy: 0.8144 - val_loss: 0.4053 - val_accuracy: 0.8204\n"
     ]
    }
   ],
   "source": [
    "submit_model = get_compiled_model()\n",
    "submit_model_bs = 32\n",
    "submit_model_ep = 5\n",
    "submit_model_history = submit_model.fit([X_train_text, X_train_nf], y_train, validation_data = ([X_val_text, X_val_nf], y_val),\n",
    "                                        batch_size = submit_model_bs, epochs = submit_model_ep, verbose = 2)"
   ]
  },
  {
   "cell_type": "code",
   "execution_count": 30,
   "metadata": {
    "collapsed": true,
    "jupyter": {
     "outputs_hidden": true,
     "source_hidden": true
    }
   },
   "outputs": [
    {
     "data": {
      "image/png": "[encoded data removed]",
      "text/plain": [
       "<Figure size 864x360 with 2 Axes>"
      ]
     },
     "metadata": {},
     "output_type": "display_data"
    }
   ],
   "source": [
    "plot_history(submit_model_history)"
   ]
  },
  {
   "cell_type": "code",
   "execution_count": 31,
   "metadata": {
    "collapsed": true,
    "jupyter": {
     "outputs_hidden": true,
     "source_hidden": true
    }
   },
   "outputs": [],
   "source": [
    "# Predicción sobre el test set\n",
    "submit_model_prediction = toCategory(submit_model.predict([X_test_text, X_test_nf]))"
   ]
  },
  {
   "cell_type": "code",
   "execution_count": 24,
   "metadata": {
    "collapsed": true,
    "jupyter": {
     "outputs_hidden": true,
     "source_hidden": true
    }
   },
   "outputs": [],
   "source": [
    "results = pd.read_csv('./results.csv')"
   ]
  },
  {
   "cell_type": "code",
   "execution_count": 32,
   "metadata": {
    "collapsed": true,
    "jupyter": {
     "outputs_hidden": true,
     "source_hidden": true
    }
   },
   "outputs": [
    {
     "name": "stdout",
     "output_type": "stream",
     "text": [
      "ERROR DE VALIDACIÓN:\n",
      "\n",
      "El F1-Score es: 0.7291970802919708 \n",
      "\n",
      "La confusion matrix es: \n",
      "[[1522  339]\n",
      " [ 403  999]] \n",
      "\n",
      "El classification report es: \n",
      "              precision    recall  f1-score   support\n",
      "\n",
      "           0       0.79      0.82      0.80      1861\n",
      "           1       0.75      0.71      0.73      1402\n",
      "\n",
      "    accuracy                           0.77      3263\n",
      "   macro avg       0.77      0.77      0.77      3263\n",
      "weighted avg       0.77      0.77      0.77      3263\n",
      " \n",
      "\n"
     ]
    }
   ],
   "source": [
    "# Más evaluación\n",
    "print('ERROR DE VALIDACIÓN:\\n')\n",
    "print('El F1-Score es: {} \\n'.format(f1_score(results['target'], submit_model_prediction)))\n",
    "print('La confusion matrix es: \\n{} \\n'.format(confusion_matrix(results['target'], submit_model_prediction)))\n",
    "print('El classification report es: \\n{} \\n'.format(classification_report(results['target'], submit_model_prediction)))"
   ]
  },
  {
   "cell_type": "code",
   "execution_count": null,
   "metadata": {
    "collapsed": true,
    "jupyter": {
     "outputs_hidden": true,
     "source_hidden": true
    }
   },
   "outputs": [],
   "source": [
    "submission = tw_test.merge(pd.DataFrame(prediction), how = 'inner', on = tw_test.index)"
   ]
  },
  {
   "cell_type": "code",
   "execution_count": null,
   "metadata": {
    "collapsed": true,
    "jupyter": {
     "outputs_hidden": true,
     "source_hidden": true
    }
   },
   "outputs": [],
   "source": [
    "submission = submission[['id', 0]]"
   ]
  },
  {
   "cell_type": "code",
   "execution_count": null,
   "metadata": {
    "collapsed": true,
    "jupyter": {
     "outputs_hidden": true,
     "source_hidden": true
    }
   },
   "outputs": [],
   "source": [
    "submission.rename(columns = {0: 'target'}, inplace = True)"
   ]
  },
  {
   "cell_type": "code",
   "execution_count": null,
   "metadata": {
    "collapsed": true,
    "jupyter": {
     "outputs_hidden": true,
     "source_hidden": true
    }
   },
   "outputs": [],
   "source": [
    "submission['target'].value_counts()"
   ]
  },
  {
   "cell_type": "code",
   "execution_count": null,
   "metadata": {
    "collapsed": true,
    "jupyter": {
     "outputs_hidden": true,
     "source_hidden": true
    }
   },
   "outputs": [],
   "source": [
    "submission.to_csv('submission23072020.csv', index = False)"
   ]
  },
  {
   "cell_type": "markdown",
   "metadata": {},
   "source": [
    " "
   ]
  },
  {
   "cell_type": "markdown",
   "metadata": {},
   "source": [
    "## Deep Learning: Conv1D, Holdout Validation y HP Tuning"
   ]
  },
  {
   "cell_type": "code",
   "execution_count": 117,
   "metadata": {},
   "outputs": [],
   "source": [
    "# Parámetros\n",
    "n_folds = 5\n",
    "batch_size = 32\n",
    "no_epochs = 5"
   ]
  },
  {
   "cell_type": "code",
   "execution_count": 17,
   "metadata": {},
   "outputs": [],
   "source": [
    "# Separación del set de validación\n",
    "\n",
    "def load_data_holdout(TrainDF, TestDF, validation_fraction, encode_keyword = False):\n",
    "    # Numeric Features: Encoding de 'keyword' + Resultado de feature engineering\n",
    "    print('Preparando las Numeric Features...')\n",
    "    TrainDF_subset = TrainDF.drop(columns = ['id', 'keyword', 'location', 'text', 'target'])\n",
    "    TestDF_subset = TestDF.drop(columns = ['id', 'keyword', 'location', 'text'])\n",
    "    if encode_keyword == True:\n",
    "        ohe = OneHotEncoder(handle_unknown = 'ignore')\n",
    "        ohe.fit(np.array(TrainDF.loc[TrainDF['keyword'].isna() == False, 'keyword']).reshape((-1,1)))\n",
    "        TrainDF['keyword'].fillna('NoKeyword', inplace = True)\n",
    "        TrainDF_keyword_enc = ohe.transform(np.array(TrainDF['keyword']).reshape((-1,1)))\n",
    "        TestDF['keyword'].fillna('NoKeyword', inplace = True)\n",
    "        TestDF_keyword_enc = ohe.transform(np.array(TestDF['keyword']).reshape((-1,1)))\n",
    "        print('El encoding genera {} nuevos features adicionales'.format(TrainDF_keyword_enc.shape[1])) \n",
    "        TrainDF_nf = sparse.hstack((TrainDF_keyword_enc, sparse.csr_matrix(TrainDF_subset.values))).toarray()\n",
    "        X_test_nf = sparse.hstack((TestDF_keyword_enc, sparse.csr_matrix(TestDF_subset.values))).toarray()\n",
    "    else:\n",
    "        TrainDF_nf = TrainDF_subset.to_numpy()\n",
    "        X_test_nf = TestDF_subset.to_numpy()\n",
    "    X_train_nf, X_val_nf, y_train, y_val = train_test_split(TrainDF_nf, TrainDF['target'], stratify=TrainDF['target'], test_size=validation_fraction, random_state=1)\n",
    "    nf_norm_layer = layers.experimental.preprocessing.Normalization()\n",
    "    nf_norm_layer.adapt(X_train_nf)\n",
    "    X_train_nf = nf_norm_layer(X_train_nf)\n",
    "    X_val_nf = nf_norm_layer(X_val_nf)\n",
    "    X_test_nf = nf_norm_layer(X_test_nf)\n",
    "    \n",
    "    # Formateo del texto\n",
    "    print('Preparando el texto... \\n')\n",
    "    X_train_text, X_val_text, y_train_text, y_val_text = train_test_split(TrainDF['text'], TrainDF['target'], stratify=TrainDF['target'], test_size=validation_fraction, random_state=1)\n",
    "    X_train_text = np.stack(X_train_text.map(lambda x: vocMapping(x)))\n",
    "    X_val_text = np.stack(X_val_text.map(lambda x: vocMapping(x)))\n",
    "    X_test_text = np.stack(TestDF['text'].map(lambda x: vocMapping(x)))\n",
    "    \n",
    "    # Formateo del target\n",
    "    y_train = np.array(y_train)\n",
    "    y_val = np.array(y_val)\n",
    "\n",
    "    print('''Las dimensiones de los sets de datos son:\n",
    "        Set de entrenamiento, features numéricos: {}\n",
    "        Set de entrenamiento, texto: {}\n",
    "        Set de validación, features numéricos: {}\n",
    "        Set de validación, texto: {}\n",
    "        Set de test, features numéricos: {}\n",
    "        Set de test, texto: {}'''.format(X_train_nf.shape, X_train_text.shape, X_val_nf.shape, X_val_text.shape, X_test_nf.shape, X_test_text.shape))\n",
    "\n",
    "    return X_train_text, X_train_nf, X_val_text, X_val_nf, X_test_text, X_test_nf, y_train, y_val"
   ]
  },
  {
   "cell_type": "code",
   "execution_count": 123,
   "metadata": {},
   "outputs": [],
   "source": [
    "# SET DE DATOS: CON UN SET DE DATOS EXTENDIDO Y BALANCEADO\n",
    "tw_train = pd.read_csv('./tw_train.csv')\n",
    "tw_train['text'] = tw_train['text'].astype('str')\n",
    "tw_train = tw_train.drop(columns = ['l_in_t', 'k_in_t', 'X'])\n",
    "tw_train_noise = pd.read_csv('./tw_train_noise.csv')\n",
    "tw_train_noise['text'] = tw_train_noise['text'].astype('str')\n",
    "tw_train_noise = tw_train_noise.drop(columns = ['l_in_t', 'k_in_t', 'X'])\n",
    "tw_train_noisy, residual_noise = add_noise(tw_train, tw_train_noise, 0.50, keep_proportion = True, return_residual_noise = True)\n",
    "tw_train_noisy_balanced = balance(tw_train_noisy, residual_noise)\n",
    "tw_test = pd.read_csv('./tw_test.csv')\n",
    "tw_test['text'] = tw_test['text'].astype('str')\n",
    "tw_test = tw_test.drop(columns = ['l_in_t', 'k_in_t', 'X'])"
   ]
  },
  {
   "cell_type": "code",
   "execution_count": 124,
   "metadata": {},
   "outputs": [
    {
     "name": "stdout",
     "output_type": "stream",
     "text": [
      "Preparando las Numeric Features...\n",
      "Preparando el texto... \n",
      "\n",
      "Las dimensiones de los sets de datos son:\n",
      "        Set de entrenamiento, features numéricos: (10420, 24)\n",
      "        Set de entrenamiento, texto: (10420, 2114)\n",
      "        Set de validación, features numéricos: (2606, 24)\n",
      "        Set de validación, texto: (2606, 2114)\n",
      "        Set de test, features numéricos: (3263, 24)\n",
      "        Set de test, texto: (3263, 2114)\n"
     ]
    }
   ],
   "source": [
    "X_train_text, X_train_nf, X_val_text, X_val_nf, X_test_text, X_test_nf, y_train, y_val = load_data_holdout(tw_train_noisy_balanced, tw_test, 0.20)"
   ]
  },
  {
   "cell_type": "code",
   "execution_count": 152,
   "metadata": {},
   "outputs": [],
   "source": [
    "lalala_model = get_compiled_model()"
   ]
  },
  {
   "cell_type": "code",
   "execution_count": 154,
   "metadata": {},
   "outputs": [
    {
     "name": "stdout",
     "output_type": "stream",
     "text": [
      "Epoch 1/5\n",
      "326/326 - 189s - loss: 0.7481 - accuracy: 0.7001 - val_loss: 0.5206 - val_accuracy: 0.7322\n",
      "Epoch 2/5\n",
      "326/326 - 188s - loss: 0.6943 - accuracy: 0.7401 - val_loss: 0.5213 - val_accuracy: 0.7337\n",
      "Epoch 3/5\n",
      "326/326 - 190s - loss: 0.6772 - accuracy: 0.7441 - val_loss: 0.4934 - val_accuracy: 0.7341\n",
      "Epoch 4/5\n",
      "326/326 - 189s - loss: 0.6544 - accuracy: 0.7607 - val_loss: 0.5077 - val_accuracy: 0.7513\n",
      "Epoch 5/5\n",
      "326/326 - 188s - loss: 0.6539 - accuracy: 0.7607 - val_loss: 0.5213 - val_accuracy: 0.7375\n"
     ]
    }
   ],
   "source": [
    "lalala_model_history = lalala_model.fit([X_train_text, X_train_nf], y_train, \n",
    "                                                            validation_data = ([X_val_text, X_val_nf], y_val), \n",
    "                                                            batch_size = 32, epochs = 5, class_weight = {0:1, 1:2}, verbose = 2)"
   ]
  },
  {
   "cell_type": "code",
   "execution_count": 155,
   "metadata": {},
   "outputs": [],
   "source": [
    "lalala_model_test_prediction = toCategory(lalala_model.predict([X_test_text, X_test_nf]))"
   ]
  },
  {
   "cell_type": "code",
   "execution_count": 156,
   "metadata": {},
   "outputs": [
    {
     "name": "stdout",
     "output_type": "stream",
     "text": [
      "ERROR DE SUBMIT:\n",
      "\n",
      "El F1-Score es: 0.727764423076923 \n",
      "\n",
      "La confusion matrix es: \n",
      "[[1146  715]\n",
      " [ 191 1211]] \n",
      "\n",
      "El classification report es: \n",
      "              precision    recall  f1-score   support\n",
      "\n",
      "           0       0.86      0.62      0.72      1861\n",
      "           1       0.63      0.86      0.73      1402\n",
      "\n",
      "    accuracy                           0.72      3263\n",
      "   macro avg       0.74      0.74      0.72      3263\n",
      "weighted avg       0.76      0.72      0.72      3263\n",
      " \n",
      "\n"
     ]
    }
   ],
   "source": [
    "print('ERROR DE SUBMIT:\\n')\n",
    "print('El F1-Score es: {} \\n'.format(f1_score(results['target'], lalala_model_test_prediction)))\n",
    "print('La confusion matrix es: \\n{} \\n'.format(confusion_matrix(results['target'], lalala_model_test_prediction)))\n",
    "print('El classification report es: \\n{} \\n'.format(classification_report(results['target'], lalala_model_test_prediction)))"
   ]
  },
  {
   "cell_type": "code",
   "execution_count": null,
   "metadata": {},
   "outputs": [],
   "source": []
  },
  {
   "cell_type": "code",
   "execution_count": 135,
   "metadata": {},
   "outputs": [],
   "source": [
    "# Creación del modelo iterable para tuning\n",
    "\n",
    "def get_tuning_model(hp):\n",
    "    embedding_layer = layers.Embedding(num_tokens, embeddings_dim, embeddings_initializer=keras.initializers.Constant(embeddingsMatrix), trainable=False)\n",
    "\n",
    "    inputs1 = keras.Input(batch_size = None, shape = (X_train_text.shape[1],))  # Entrada del texto vectorizado según myVocabulary\n",
    "    x1 = embedding_layer(inputs1)\n",
    "    x1 = layers.BatchNormalization(axis=-1, trainable=False)(x1)\n",
    "    x1 = layers.Dropout(0.4)(x1)\n",
    "    x1 = layers.Conv1D(90, 3, padding=\"same\", activation=\"relu\")(x1)\n",
    "    x1 = layers.Conv1D(90, 4, padding=\"same\", activation=\"relu\")(x1)\n",
    "    x1 = layers.MaxPooling1D(pool_size=4, strides=4, padding='same')(x1)\n",
    "    x1 = layers.Conv1D(90, 7, padding=\"same\", activation=\"relu\")(x1)\n",
    "    outputs1 = layers.GlobalAveragePooling1D()(x1)\n",
    "\n",
    "    inputs2 = keras.Input(batch_size = None, shape = (X_train_nf.shape[1],))  # Entrada de los features numéricos completamente pre-procesados\n",
    "    outputs2 = inputs2\n",
    "\n",
    "    x = layers.Concatenate(axis = 1)([outputs1, outputs2])  # Combinación de las salidas de ambas ramas\n",
    "    \n",
    "    for i in range(hp.Int('layers', 2, 3)):\n",
    "        x = layers.BatchNormalization(axis=-1, trainable=False)(x)\n",
    "        if i == 0:\n",
    "            x = layers.Dropout(0.5)(x)\n",
    "        x = layers.Dense(units=hp.Int('units_'+str(i), min_value=32, max_value=256, step=32), activation=\"relu\")(x)\n",
    "    x = layers.BatchNormalization(axis=-1, trainable=False)(x)\n",
    "    outputs = layers.Dense(1, activation=\"sigmoid\")(x)\n",
    "\n",
    "    model = keras.Model(inputs=[inputs1, inputs2], outputs=outputs)\n",
    "    optimizer = keras.optimizers.Adam(learning_rate = 0.002)\n",
    "    model.compile(loss=\"binary_crossentropy\", optimizer=optimizer, metrics=[\"accuracy\"])\n",
    "    return model"
   ]
  },
  {
   "cell_type": "code",
   "execution_count": 139,
   "metadata": {},
   "outputs": [],
   "source": [
    "# Creación del modelo iterable para tuning\n",
    "\n",
    "embedding_layer = layers.Embedding(num_tokens, embeddings_dim, embeddings_initializer=keras.initializers.Constant(embeddingsMatrix), trainable=False)\n",
    "\n",
    "inputs1 = keras.Input(batch_size = None, shape = (X_train_text.shape[1],))  # Entrada del texto vectorizado según myVocabulary\n",
    "x1 = embedding_layer(inputs1)\n",
    "x1 = layers.BatchNormalization(axis=-1, trainable=False)(x1)\n",
    "x1 = layers.Dropout(0.4)(x1)\n",
    "x1 = layers.Conv1D(90, 3, padding=\"same\", activation=\"relu\")(x1)\n",
    "x1 = layers.Conv1D(90, 4, padding=\"same\", activation=\"relu\")(x1)\n",
    "x1 = layers.MaxPooling1D(pool_size=4, strides=4, padding='same')(x1)\n",
    "x1 = layers.Conv1D(90, 7, padding=\"same\", activation=\"relu\")(x1)\n",
    "outputs1 = layers.GlobalAveragePooling1D()(x1)\n",
    "\n",
    "inputs2 = keras.Input(batch_size = None, shape = (X_train_nf.shape[1],))  # Entrada de los features numéricos completamente pre-procesados\n",
    "outputs2 = inputs2\n",
    "\n",
    "x = layers.Concatenate(axis = 1)([outputs1, outputs2])  # Combinación de las salidas de ambas ramas\n",
    "\n",
    "x = layers.BatchNormalization(axis=-1, trainable=False)(x)\n",
    "x = layers.Dropout(0.5)(x)\n",
    "x = layers.Dense(256, activation=\"relu\")(x)\n",
    "x = layers.BatchNormalization(axis=-1, trainable=False)(x)\n",
    "outputs = layers.Dense(1, activation=\"sigmoid\")(x)\n",
    "\n",
    "lalala_model = keras.Model(inputs=[inputs1, inputs2], outputs=outputs)"
   ]
  },
  {
   "cell_type": "code",
   "execution_count": 140,
   "metadata": {},
   "outputs": [
    {
     "name": "stdout",
     "output_type": "stream",
     "text": [
      "Model: \"model_1\"\n",
      "__________________________________________________________________________________________________\n",
      "Layer (type)                    Output Shape         Param #     Connected to                     \n",
      "==================================================================================================\n",
      "input_3 (InputLayer)            [(None, 2114)]       0                                            \n",
      "__________________________________________________________________________________________________\n",
      "embedding_1 (Embedding)         (None, 2114, 100)    211400      input_3[0][0]                    \n",
      "__________________________________________________________________________________________________\n",
      "batch_normalization_5 (BatchNor (None, 2114, 100)    400         embedding_1[0][0]                \n",
      "__________________________________________________________________________________________________\n",
      "dropout_2 (Dropout)             (None, 2114, 100)    0           batch_normalization_5[0][0]      \n",
      "__________________________________________________________________________________________________\n",
      "conv1d_3 (Conv1D)               (None, 2114, 90)     27090       dropout_2[0][0]                  \n",
      "__________________________________________________________________________________________________\n",
      "conv1d_4 (Conv1D)               (None, 2114, 90)     32490       conv1d_3[0][0]                   \n",
      "__________________________________________________________________________________________________\n",
      "max_pooling1d_1 (MaxPooling1D)  (None, 529, 90)      0           conv1d_4[0][0]                   \n",
      "__________________________________________________________________________________________________\n",
      "conv1d_5 (Conv1D)               (None, 529, 90)      56790       max_pooling1d_1[0][0]            \n",
      "__________________________________________________________________________________________________\n",
      "global_average_pooling1d_1 (Glo (None, 90)           0           conv1d_5[0][0]                   \n",
      "__________________________________________________________________________________________________\n",
      "input_4 (InputLayer)            [(None, 24)]         0                                            \n",
      "__________________________________________________________________________________________________\n",
      "concatenate_1 (Concatenate)     (None, 114)          0           global_average_pooling1d_1[0][0] \n",
      "                                                                 input_4[0][0]                    \n",
      "__________________________________________________________________________________________________\n",
      "batch_normalization_6 (BatchNor (None, 114)          456         concatenate_1[0][0]              \n",
      "__________________________________________________________________________________________________\n",
      "dropout_3 (Dropout)             (None, 114)          0           batch_normalization_6[0][0]      \n",
      "__________________________________________________________________________________________________\n",
      "dense_4 (Dense)                 (None, 256)          29440       dropout_3[0][0]                  \n",
      "__________________________________________________________________________________________________\n",
      "batch_normalization_7 (BatchNor (None, 256)          1024        dense_4[0][0]                    \n",
      "__________________________________________________________________________________________________\n",
      "dense_5 (Dense)                 (None, 1)            257         batch_normalization_7[0][0]      \n",
      "==================================================================================================\n",
      "Total params: 359,347\n",
      "Trainable params: 146,067\n",
      "Non-trainable params: 213,280\n",
      "__________________________________________________________________________________________________\n"
     ]
    }
   ],
   "source": [
    "lalala_model.summary()"
   ]
  },
  {
   "cell_type": "code",
   "execution_count": 136,
   "metadata": {},
   "outputs": [
    {
     "data": {
      "text/html": [
       "<span style=\"color:#4527A0\"><h1 style=\"font-size:18px\">Search space summary</h1></span>"
      ],
      "text/plain": [
       "<IPython.core.display.HTML object>"
      ]
     },
     "metadata": {},
     "output_type": "display_data"
    },
    {
     "data": {
      "text/html": [
       "<span style=\"color:cyan\"> |-Default search space size: 3</span>"
      ],
      "text/plain": [
       "<IPython.core.display.HTML object>"
      ]
     },
     "metadata": {},
     "output_type": "display_data"
    },
    {
     "data": {
      "text/html": [
       "<span style=\"color:#7E57C2\"><h2 style=\"font-size:16px\">layers (Int)</h2></span>"
      ],
      "text/plain": [
       "<IPython.core.display.HTML object>"
      ]
     },
     "metadata": {},
     "output_type": "display_data"
    },
    {
     "data": {
      "text/html": [
       "<span style=\"color:cyan\"> |-default: None</span>"
      ],
      "text/plain": [
       "<IPython.core.display.HTML object>"
      ]
     },
     "metadata": {},
     "output_type": "display_data"
    },
    {
     "data": {
      "text/html": [
       "<span style=\"color:blue\"> |-max_value: 3</span>"
      ],
      "text/plain": [
       "<IPython.core.display.HTML object>"
      ]
     },
     "metadata": {},
     "output_type": "display_data"
    },
    {
     "data": {
      "text/html": [
       "<span style=\"color:cyan\"> |-min_value: 2</span>"
      ],
      "text/plain": [
       "<IPython.core.display.HTML object>"
      ]
     },
     "metadata": {},
     "output_type": "display_data"
    },
    {
     "data": {
      "text/html": [
       "<span style=\"color:blue\"> |-sampling: None</span>"
      ],
      "text/plain": [
       "<IPython.core.display.HTML object>"
      ]
     },
     "metadata": {},
     "output_type": "display_data"
    },
    {
     "data": {
      "text/html": [
       "<span style=\"color:cyan\"> |-step: 1</span>"
      ],
      "text/plain": [
       "<IPython.core.display.HTML object>"
      ]
     },
     "metadata": {},
     "output_type": "display_data"
    },
    {
     "data": {
      "text/html": [
       "<span style=\"color:#7E57C2\"><h2 style=\"font-size:16px\">units_0 (Int)</h2></span>"
      ],
      "text/plain": [
       "<IPython.core.display.HTML object>"
      ]
     },
     "metadata": {},
     "output_type": "display_data"
    },
    {
     "data": {
      "text/html": [
       "<span style=\"color:cyan\"> |-default: None</span>"
      ],
      "text/plain": [
       "<IPython.core.display.HTML object>"
      ]
     },
     "metadata": {},
     "output_type": "display_data"
    },
    {
     "data": {
      "text/html": [
       "<span style=\"color:blue\"> |-max_value: 256</span>"
      ],
      "text/plain": [
       "<IPython.core.display.HTML object>"
      ]
     },
     "metadata": {},
     "output_type": "display_data"
    },
    {
     "data": {
      "text/html": [
       "<span style=\"color:cyan\"> |-min_value: 32</span>"
      ],
      "text/plain": [
       "<IPython.core.display.HTML object>"
      ]
     },
     "metadata": {},
     "output_type": "display_data"
    },
    {
     "data": {
      "text/html": [
       "<span style=\"color:blue\"> |-sampling: None</span>"
      ],
      "text/plain": [
       "<IPython.core.display.HTML object>"
      ]
     },
     "metadata": {},
     "output_type": "display_data"
    },
    {
     "data": {
      "text/html": [
       "<span style=\"color:cyan\"> |-step: 32</span>"
      ],
      "text/plain": [
       "<IPython.core.display.HTML object>"
      ]
     },
     "metadata": {},
     "output_type": "display_data"
    },
    {
     "data": {
      "text/html": [
       "<span style=\"color:#7E57C2\"><h2 style=\"font-size:16px\">units_1 (Int)</h2></span>"
      ],
      "text/plain": [
       "<IPython.core.display.HTML object>"
      ]
     },
     "metadata": {},
     "output_type": "display_data"
    },
    {
     "data": {
      "text/html": [
       "<span style=\"color:cyan\"> |-default: None</span>"
      ],
      "text/plain": [
       "<IPython.core.display.HTML object>"
      ]
     },
     "metadata": {},
     "output_type": "display_data"
    },
    {
     "data": {
      "text/html": [
       "<span style=\"color:blue\"> |-max_value: 256</span>"
      ],
      "text/plain": [
       "<IPython.core.display.HTML object>"
      ]
     },
     "metadata": {},
     "output_type": "display_data"
    },
    {
     "data": {
      "text/html": [
       "<span style=\"color:cyan\"> |-min_value: 32</span>"
      ],
      "text/plain": [
       "<IPython.core.display.HTML object>"
      ]
     },
     "metadata": {},
     "output_type": "display_data"
    },
    {
     "data": {
      "text/html": [
       "<span style=\"color:blue\"> |-sampling: None</span>"
      ],
      "text/plain": [
       "<IPython.core.display.HTML object>"
      ]
     },
     "metadata": {},
     "output_type": "display_data"
    },
    {
     "data": {
      "text/html": [
       "<span style=\"color:cyan\"> |-step: 32</span>"
      ],
      "text/plain": [
       "<IPython.core.display.HTML object>"
      ]
     },
     "metadata": {},
     "output_type": "display_data"
    }
   ],
   "source": [
    "dense_layers_conv1_tuner = BayesianOptimization(get_tuning_model, objective = \"val_accuracy\", max_trials = 25, num_initial_points=2, seed=999, \n",
    "                             directory='dense_layers_conv1_tuner', project_name='dense_layers_conv1_tuner')\n",
    "dense_layers_conv1_tuner.search_space_summary()"
   ]
  },
  {
   "cell_type": "code",
   "execution_count": 138,
   "metadata": {},
   "outputs": [
    {
     "name": "stdout",
     "output_type": "stream",
     "text": [
      "Epoch 1/5\n",
      "WARNING:tensorflow:Model was constructed with shape (None, 2188) for input Tensor(\"input_1:0\", shape=(None, 2188), dtype=float32), but it was called on an input with incompatible shape (None, 2114).\n",
      "WARNING:tensorflow:Model was constructed with shape (None, 248) for input Tensor(\"input_2:0\", shape=(None, 248), dtype=float32), but it was called on an input with incompatible shape (None, 24).\n"
     ]
    },
    {
     "ename": "ValueError",
     "evalue": "in user code:\n\n    /home/martin/Datos/TP2/venvTP2/lib/python3.6/site-packages/tensorflow/python/keras/engine/training.py:571 train_function  *\n        outputs = self.distribute_strategy.run(\n    /home/martin/Datos/TP2/venvTP2/lib/python3.6/site-packages/tensorflow/python/distribute/distribute_lib.py:951 run  **\n        return self._extended.call_for_each_replica(fn, args=args, kwargs=kwargs)\n    /home/martin/Datos/TP2/venvTP2/lib/python3.6/site-packages/tensorflow/python/distribute/distribute_lib.py:2290 call_for_each_replica\n        return self._call_for_each_replica(fn, args, kwargs)\n    /home/martin/Datos/TP2/venvTP2/lib/python3.6/site-packages/tensorflow/python/distribute/distribute_lib.py:2649 _call_for_each_replica\n        return fn(*args, **kwargs)\n    /home/martin/Datos/TP2/venvTP2/lib/python3.6/site-packages/tensorflow/python/keras/engine/training.py:531 train_step  **\n        y_pred = self(x, training=True)\n    /home/martin/Datos/TP2/venvTP2/lib/python3.6/site-packages/tensorflow/python/keras/engine/base_layer.py:927 __call__\n        outputs = call_fn(cast_inputs, *args, **kwargs)\n    /home/martin/Datos/TP2/venvTP2/lib/python3.6/site-packages/tensorflow/python/keras/engine/network.py:719 call\n        convert_kwargs_to_constants=base_layer_utils.call_context().saving)\n    /home/martin/Datos/TP2/venvTP2/lib/python3.6/site-packages/tensorflow/python/keras/engine/network.py:888 _run_internal_graph\n        output_tensors = layer(computed_tensors, **kwargs)\n    /home/martin/Datos/TP2/venvTP2/lib/python3.6/site-packages/tensorflow/python/keras/engine/base_layer.py:886 __call__\n        self.name)\n    /home/martin/Datos/TP2/venvTP2/lib/python3.6/site-packages/tensorflow/python/keras/engine/input_spec.py:216 assert_input_compatibility\n        ' but received input with shape ' + str(shape))\n\n    ValueError: Input 0 of layer batch_normalization_1 is incompatible with the layer: expected axis 1 of input shape to have value 338 but received input with shape [None, 114]\n",
     "output_type": "error",
     "traceback": [
      "\u001b[0;31m---------------------------------------------------------------------------\u001b[0m",
      "\u001b[0;31mValueError\u001b[0m                                Traceback (most recent call last)",
      "\u001b[0;32m<ipython-input-138-6670239c3d68>\u001b[0m in \u001b[0;36m<module>\u001b[0;34m\u001b[0m\n\u001b[1;32m      1\u001b[0m dense_layers_conv1_tuning = dense_layers_conv1_tuner.search([X_train_text, X_train_nf], y_train, \n\u001b[1;32m      2\u001b[0m                                                             \u001b[0mvalidation_data\u001b[0m \u001b[0;34m=\u001b[0m \u001b[0;34m(\u001b[0m\u001b[0;34m[\u001b[0m\u001b[0mX_val_text\u001b[0m\u001b[0;34m,\u001b[0m \u001b[0mX_val_nf\u001b[0m\u001b[0;34m]\u001b[0m\u001b[0;34m,\u001b[0m \u001b[0my_val\u001b[0m\u001b[0;34m)\u001b[0m\u001b[0;34m,\u001b[0m\u001b[0;34m\u001b[0m\u001b[0;34m\u001b[0m\u001b[0m\n\u001b[0;32m----> 3\u001b[0;31m                                                             batch_size = 32, epochs = 5, verbose = 2)\n\u001b[0m",
      "\u001b[0;32m~/Datos/TP2/venvTP2/lib/python3.6/site-packages/kerastuner/engine/base_tuner.py\u001b[0m in \u001b[0;36msearch\u001b[0;34m(self, *fit_args, **fit_kwargs)\u001b[0m\n\u001b[1;32m    128\u001b[0m \u001b[0;34m\u001b[0m\u001b[0m\n\u001b[1;32m    129\u001b[0m             \u001b[0mself\u001b[0m\u001b[0;34m.\u001b[0m\u001b[0mon_trial_begin\u001b[0m\u001b[0;34m(\u001b[0m\u001b[0mtrial\u001b[0m\u001b[0;34m)\u001b[0m\u001b[0;34m\u001b[0m\u001b[0;34m\u001b[0m\u001b[0m\n\u001b[0;32m--> 130\u001b[0;31m             \u001b[0mself\u001b[0m\u001b[0;34m.\u001b[0m\u001b[0mrun_trial\u001b[0m\u001b[0;34m(\u001b[0m\u001b[0mtrial\u001b[0m\u001b[0;34m,\u001b[0m \u001b[0;34m*\u001b[0m\u001b[0mfit_args\u001b[0m\u001b[0;34m,\u001b[0m \u001b[0;34m**\u001b[0m\u001b[0mfit_kwargs\u001b[0m\u001b[0;34m)\u001b[0m\u001b[0;34m\u001b[0m\u001b[0;34m\u001b[0m\u001b[0m\n\u001b[0m\u001b[1;32m    131\u001b[0m             \u001b[0mself\u001b[0m\u001b[0;34m.\u001b[0m\u001b[0mon_trial_end\u001b[0m\u001b[0;34m(\u001b[0m\u001b[0mtrial\u001b[0m\u001b[0;34m)\u001b[0m\u001b[0;34m\u001b[0m\u001b[0;34m\u001b[0m\u001b[0m\n\u001b[1;32m    132\u001b[0m         \u001b[0mself\u001b[0m\u001b[0;34m.\u001b[0m\u001b[0mon_search_end\u001b[0m\u001b[0;34m(\u001b[0m\u001b[0;34m)\u001b[0m\u001b[0;34m\u001b[0m\u001b[0;34m\u001b[0m\u001b[0m\n",
      "\u001b[0;32m~/Datos/TP2/venvTP2/lib/python3.6/site-packages/kerastuner/engine/multi_execution_tuner.py\u001b[0m in \u001b[0;36mrun_trial\u001b[0;34m(self, trial, *fit_args, **fit_kwargs)\u001b[0m\n\u001b[1;32m     94\u001b[0m \u001b[0;34m\u001b[0m\u001b[0m\n\u001b[1;32m     95\u001b[0m             \u001b[0mmodel\u001b[0m \u001b[0;34m=\u001b[0m \u001b[0mself\u001b[0m\u001b[0;34m.\u001b[0m\u001b[0mhypermodel\u001b[0m\u001b[0;34m.\u001b[0m\u001b[0mbuild\u001b[0m\u001b[0;34m(\u001b[0m\u001b[0mtrial\u001b[0m\u001b[0;34m.\u001b[0m\u001b[0mhyperparameters\u001b[0m\u001b[0;34m)\u001b[0m\u001b[0;34m\u001b[0m\u001b[0;34m\u001b[0m\u001b[0m\n\u001b[0;32m---> 96\u001b[0;31m             \u001b[0mhistory\u001b[0m \u001b[0;34m=\u001b[0m \u001b[0mmodel\u001b[0m\u001b[0;34m.\u001b[0m\u001b[0mfit\u001b[0m\u001b[0;34m(\u001b[0m\u001b[0;34m*\u001b[0m\u001b[0mfit_args\u001b[0m\u001b[0;34m,\u001b[0m \u001b[0;34m**\u001b[0m\u001b[0mcopied_fit_kwargs\u001b[0m\u001b[0;34m)\u001b[0m\u001b[0;34m\u001b[0m\u001b[0;34m\u001b[0m\u001b[0m\n\u001b[0m\u001b[1;32m     97\u001b[0m             \u001b[0;32mfor\u001b[0m \u001b[0mmetric\u001b[0m\u001b[0;34m,\u001b[0m \u001b[0mepoch_values\u001b[0m \u001b[0;32min\u001b[0m \u001b[0mhistory\u001b[0m\u001b[0;34m.\u001b[0m\u001b[0mhistory\u001b[0m\u001b[0;34m.\u001b[0m\u001b[0mitems\u001b[0m\u001b[0;34m(\u001b[0m\u001b[0;34m)\u001b[0m\u001b[0;34m:\u001b[0m\u001b[0;34m\u001b[0m\u001b[0;34m\u001b[0m\u001b[0m\n\u001b[1;32m     98\u001b[0m                 \u001b[0;32mif\u001b[0m \u001b[0mself\u001b[0m\u001b[0;34m.\u001b[0m\u001b[0moracle\u001b[0m\u001b[0;34m.\u001b[0m\u001b[0mobjective\u001b[0m\u001b[0;34m.\u001b[0m\u001b[0mdirection\u001b[0m \u001b[0;34m==\u001b[0m \u001b[0;34m'min'\u001b[0m\u001b[0;34m:\u001b[0m\u001b[0;34m\u001b[0m\u001b[0;34m\u001b[0m\u001b[0m\n",
      "\u001b[0;32m~/Datos/TP2/venvTP2/lib/python3.6/site-packages/tensorflow/python/keras/engine/training.py\u001b[0m in \u001b[0;36m_method_wrapper\u001b[0;34m(self, *args, **kwargs)\u001b[0m\n\u001b[1;32m     64\u001b[0m   \u001b[0;32mdef\u001b[0m \u001b[0m_method_wrapper\u001b[0m\u001b[0;34m(\u001b[0m\u001b[0mself\u001b[0m\u001b[0;34m,\u001b[0m \u001b[0;34m*\u001b[0m\u001b[0margs\u001b[0m\u001b[0;34m,\u001b[0m \u001b[0;34m**\u001b[0m\u001b[0mkwargs\u001b[0m\u001b[0;34m)\u001b[0m\u001b[0;34m:\u001b[0m\u001b[0;34m\u001b[0m\u001b[0;34m\u001b[0m\u001b[0m\n\u001b[1;32m     65\u001b[0m     \u001b[0;32mif\u001b[0m \u001b[0;32mnot\u001b[0m \u001b[0mself\u001b[0m\u001b[0;34m.\u001b[0m\u001b[0m_in_multi_worker_mode\u001b[0m\u001b[0;34m(\u001b[0m\u001b[0;34m)\u001b[0m\u001b[0;34m:\u001b[0m  \u001b[0;31m# pylint: disable=protected-access\u001b[0m\u001b[0;34m\u001b[0m\u001b[0;34m\u001b[0m\u001b[0m\n\u001b[0;32m---> 66\u001b[0;31m       \u001b[0;32mreturn\u001b[0m \u001b[0mmethod\u001b[0m\u001b[0;34m(\u001b[0m\u001b[0mself\u001b[0m\u001b[0;34m,\u001b[0m \u001b[0;34m*\u001b[0m\u001b[0margs\u001b[0m\u001b[0;34m,\u001b[0m \u001b[0;34m**\u001b[0m\u001b[0mkwargs\u001b[0m\u001b[0;34m)\u001b[0m\u001b[0;34m\u001b[0m\u001b[0;34m\u001b[0m\u001b[0m\n\u001b[0m\u001b[1;32m     67\u001b[0m \u001b[0;34m\u001b[0m\u001b[0m\n\u001b[1;32m     68\u001b[0m     \u001b[0;31m# Running inside `run_distribute_coordinator` already.\u001b[0m\u001b[0;34m\u001b[0m\u001b[0;34m\u001b[0m\u001b[0;34m\u001b[0m\u001b[0m\n",
      "\u001b[0;32m~/Datos/TP2/venvTP2/lib/python3.6/site-packages/tensorflow/python/keras/engine/training.py\u001b[0m in \u001b[0;36mfit\u001b[0;34m(self, x, y, batch_size, epochs, verbose, callbacks, validation_split, validation_data, shuffle, class_weight, sample_weight, initial_epoch, steps_per_epoch, validation_steps, validation_batch_size, validation_freq, max_queue_size, workers, use_multiprocessing)\u001b[0m\n\u001b[1;32m    846\u001b[0m                 batch_size=batch_size):\n\u001b[1;32m    847\u001b[0m               \u001b[0mcallbacks\u001b[0m\u001b[0;34m.\u001b[0m\u001b[0mon_train_batch_begin\u001b[0m\u001b[0;34m(\u001b[0m\u001b[0mstep\u001b[0m\u001b[0;34m)\u001b[0m\u001b[0;34m\u001b[0m\u001b[0;34m\u001b[0m\u001b[0m\n\u001b[0;32m--> 848\u001b[0;31m               \u001b[0mtmp_logs\u001b[0m \u001b[0;34m=\u001b[0m \u001b[0mtrain_function\u001b[0m\u001b[0;34m(\u001b[0m\u001b[0miterator\u001b[0m\u001b[0;34m)\u001b[0m\u001b[0;34m\u001b[0m\u001b[0;34m\u001b[0m\u001b[0m\n\u001b[0m\u001b[1;32m    849\u001b[0m               \u001b[0;31m# Catch OutOfRangeError for Datasets of unknown size.\u001b[0m\u001b[0;34m\u001b[0m\u001b[0;34m\u001b[0m\u001b[0;34m\u001b[0m\u001b[0m\n\u001b[1;32m    850\u001b[0m               \u001b[0;31m# This blocks until the batch has finished executing.\u001b[0m\u001b[0;34m\u001b[0m\u001b[0;34m\u001b[0m\u001b[0;34m\u001b[0m\u001b[0m\n",
      "\u001b[0;32m~/Datos/TP2/venvTP2/lib/python3.6/site-packages/tensorflow/python/eager/def_function.py\u001b[0m in \u001b[0;36m__call__\u001b[0;34m(self, *args, **kwds)\u001b[0m\n\u001b[1;32m    578\u001b[0m         \u001b[0mxla_context\u001b[0m\u001b[0;34m.\u001b[0m\u001b[0mExit\u001b[0m\u001b[0;34m(\u001b[0m\u001b[0;34m)\u001b[0m\u001b[0;34m\u001b[0m\u001b[0;34m\u001b[0m\u001b[0m\n\u001b[1;32m    579\u001b[0m     \u001b[0;32melse\u001b[0m\u001b[0;34m:\u001b[0m\u001b[0;34m\u001b[0m\u001b[0;34m\u001b[0m\u001b[0m\n\u001b[0;32m--> 580\u001b[0;31m       \u001b[0mresult\u001b[0m \u001b[0;34m=\u001b[0m \u001b[0mself\u001b[0m\u001b[0;34m.\u001b[0m\u001b[0m_call\u001b[0m\u001b[0;34m(\u001b[0m\u001b[0;34m*\u001b[0m\u001b[0margs\u001b[0m\u001b[0;34m,\u001b[0m \u001b[0;34m**\u001b[0m\u001b[0mkwds\u001b[0m\u001b[0;34m)\u001b[0m\u001b[0;34m\u001b[0m\u001b[0;34m\u001b[0m\u001b[0m\n\u001b[0m\u001b[1;32m    581\u001b[0m \u001b[0;34m\u001b[0m\u001b[0m\n\u001b[1;32m    582\u001b[0m     \u001b[0;32mif\u001b[0m \u001b[0mtracing_count\u001b[0m \u001b[0;34m==\u001b[0m \u001b[0mself\u001b[0m\u001b[0;34m.\u001b[0m\u001b[0m_get_tracing_count\u001b[0m\u001b[0;34m(\u001b[0m\u001b[0;34m)\u001b[0m\u001b[0;34m:\u001b[0m\u001b[0;34m\u001b[0m\u001b[0;34m\u001b[0m\u001b[0m\n",
      "\u001b[0;32m~/Datos/TP2/venvTP2/lib/python3.6/site-packages/tensorflow/python/eager/def_function.py\u001b[0m in \u001b[0;36m_call\u001b[0;34m(self, *args, **kwds)\u001b[0m\n\u001b[1;32m    625\u001b[0m       \u001b[0;31m# This is the first call of __call__, so we have to initialize.\u001b[0m\u001b[0;34m\u001b[0m\u001b[0;34m\u001b[0m\u001b[0;34m\u001b[0m\u001b[0m\n\u001b[1;32m    626\u001b[0m       \u001b[0minitializers\u001b[0m \u001b[0;34m=\u001b[0m \u001b[0;34m[\u001b[0m\u001b[0;34m]\u001b[0m\u001b[0;34m\u001b[0m\u001b[0;34m\u001b[0m\u001b[0m\n\u001b[0;32m--> 627\u001b[0;31m       \u001b[0mself\u001b[0m\u001b[0;34m.\u001b[0m\u001b[0m_initialize\u001b[0m\u001b[0;34m(\u001b[0m\u001b[0margs\u001b[0m\u001b[0;34m,\u001b[0m \u001b[0mkwds\u001b[0m\u001b[0;34m,\u001b[0m \u001b[0madd_initializers_to\u001b[0m\u001b[0;34m=\u001b[0m\u001b[0minitializers\u001b[0m\u001b[0;34m)\u001b[0m\u001b[0;34m\u001b[0m\u001b[0;34m\u001b[0m\u001b[0m\n\u001b[0m\u001b[1;32m    628\u001b[0m     \u001b[0;32mfinally\u001b[0m\u001b[0;34m:\u001b[0m\u001b[0;34m\u001b[0m\u001b[0;34m\u001b[0m\u001b[0m\n\u001b[1;32m    629\u001b[0m       \u001b[0;31m# At this point we know that the initialization is complete (or less\u001b[0m\u001b[0;34m\u001b[0m\u001b[0;34m\u001b[0m\u001b[0;34m\u001b[0m\u001b[0m\n",
      "\u001b[0;32m~/Datos/TP2/venvTP2/lib/python3.6/site-packages/tensorflow/python/eager/def_function.py\u001b[0m in \u001b[0;36m_initialize\u001b[0;34m(self, args, kwds, add_initializers_to)\u001b[0m\n\u001b[1;32m    504\u001b[0m     self._concrete_stateful_fn = (\n\u001b[1;32m    505\u001b[0m         self._stateful_fn._get_concrete_function_internal_garbage_collected(  # pylint: disable=protected-access\n\u001b[0;32m--> 506\u001b[0;31m             *args, **kwds))\n\u001b[0m\u001b[1;32m    507\u001b[0m \u001b[0;34m\u001b[0m\u001b[0m\n\u001b[1;32m    508\u001b[0m     \u001b[0;32mdef\u001b[0m \u001b[0minvalid_creator_scope\u001b[0m\u001b[0;34m(\u001b[0m\u001b[0;34m*\u001b[0m\u001b[0munused_args\u001b[0m\u001b[0;34m,\u001b[0m \u001b[0;34m**\u001b[0m\u001b[0munused_kwds\u001b[0m\u001b[0;34m)\u001b[0m\u001b[0;34m:\u001b[0m\u001b[0;34m\u001b[0m\u001b[0;34m\u001b[0m\u001b[0m\n",
      "\u001b[0;32m~/Datos/TP2/venvTP2/lib/python3.6/site-packages/tensorflow/python/eager/function.py\u001b[0m in \u001b[0;36m_get_concrete_function_internal_garbage_collected\u001b[0;34m(self, *args, **kwargs)\u001b[0m\n\u001b[1;32m   2444\u001b[0m       \u001b[0margs\u001b[0m\u001b[0;34m,\u001b[0m \u001b[0mkwargs\u001b[0m \u001b[0;34m=\u001b[0m \u001b[0;32mNone\u001b[0m\u001b[0;34m,\u001b[0m \u001b[0;32mNone\u001b[0m\u001b[0;34m\u001b[0m\u001b[0;34m\u001b[0m\u001b[0m\n\u001b[1;32m   2445\u001b[0m     \u001b[0;32mwith\u001b[0m \u001b[0mself\u001b[0m\u001b[0;34m.\u001b[0m\u001b[0m_lock\u001b[0m\u001b[0;34m:\u001b[0m\u001b[0;34m\u001b[0m\u001b[0;34m\u001b[0m\u001b[0m\n\u001b[0;32m-> 2446\u001b[0;31m       \u001b[0mgraph_function\u001b[0m\u001b[0;34m,\u001b[0m \u001b[0m_\u001b[0m\u001b[0;34m,\u001b[0m \u001b[0m_\u001b[0m \u001b[0;34m=\u001b[0m \u001b[0mself\u001b[0m\u001b[0;34m.\u001b[0m\u001b[0m_maybe_define_function\u001b[0m\u001b[0;34m(\u001b[0m\u001b[0margs\u001b[0m\u001b[0;34m,\u001b[0m \u001b[0mkwargs\u001b[0m\u001b[0;34m)\u001b[0m\u001b[0;34m\u001b[0m\u001b[0;34m\u001b[0m\u001b[0m\n\u001b[0m\u001b[1;32m   2447\u001b[0m     \u001b[0;32mreturn\u001b[0m \u001b[0mgraph_function\u001b[0m\u001b[0;34m\u001b[0m\u001b[0;34m\u001b[0m\u001b[0m\n\u001b[1;32m   2448\u001b[0m \u001b[0;34m\u001b[0m\u001b[0m\n",
      "\u001b[0;32m~/Datos/TP2/venvTP2/lib/python3.6/site-packages/tensorflow/python/eager/function.py\u001b[0m in \u001b[0;36m_maybe_define_function\u001b[0;34m(self, args, kwargs)\u001b[0m\n\u001b[1;32m   2775\u001b[0m \u001b[0;34m\u001b[0m\u001b[0m\n\u001b[1;32m   2776\u001b[0m       \u001b[0mself\u001b[0m\u001b[0;34m.\u001b[0m\u001b[0m_function_cache\u001b[0m\u001b[0;34m.\u001b[0m\u001b[0mmissed\u001b[0m\u001b[0;34m.\u001b[0m\u001b[0madd\u001b[0m\u001b[0;34m(\u001b[0m\u001b[0mcall_context_key\u001b[0m\u001b[0;34m)\u001b[0m\u001b[0;34m\u001b[0m\u001b[0;34m\u001b[0m\u001b[0m\n\u001b[0;32m-> 2777\u001b[0;31m       \u001b[0mgraph_function\u001b[0m \u001b[0;34m=\u001b[0m \u001b[0mself\u001b[0m\u001b[0;34m.\u001b[0m\u001b[0m_create_graph_function\u001b[0m\u001b[0;34m(\u001b[0m\u001b[0margs\u001b[0m\u001b[0;34m,\u001b[0m \u001b[0mkwargs\u001b[0m\u001b[0;34m)\u001b[0m\u001b[0;34m\u001b[0m\u001b[0;34m\u001b[0m\u001b[0m\n\u001b[0m\u001b[1;32m   2778\u001b[0m       \u001b[0mself\u001b[0m\u001b[0;34m.\u001b[0m\u001b[0m_function_cache\u001b[0m\u001b[0;34m.\u001b[0m\u001b[0mprimary\u001b[0m\u001b[0;34m[\u001b[0m\u001b[0mcache_key\u001b[0m\u001b[0;34m]\u001b[0m \u001b[0;34m=\u001b[0m \u001b[0mgraph_function\u001b[0m\u001b[0;34m\u001b[0m\u001b[0;34m\u001b[0m\u001b[0m\n\u001b[1;32m   2779\u001b[0m       \u001b[0;32mreturn\u001b[0m \u001b[0mgraph_function\u001b[0m\u001b[0;34m,\u001b[0m \u001b[0margs\u001b[0m\u001b[0;34m,\u001b[0m \u001b[0mkwargs\u001b[0m\u001b[0;34m\u001b[0m\u001b[0;34m\u001b[0m\u001b[0m\n",
      "\u001b[0;32m~/Datos/TP2/venvTP2/lib/python3.6/site-packages/tensorflow/python/eager/function.py\u001b[0m in \u001b[0;36m_create_graph_function\u001b[0;34m(self, args, kwargs, override_flat_arg_shapes)\u001b[0m\n\u001b[1;32m   2665\u001b[0m             \u001b[0marg_names\u001b[0m\u001b[0;34m=\u001b[0m\u001b[0marg_names\u001b[0m\u001b[0;34m,\u001b[0m\u001b[0;34m\u001b[0m\u001b[0;34m\u001b[0m\u001b[0m\n\u001b[1;32m   2666\u001b[0m             \u001b[0moverride_flat_arg_shapes\u001b[0m\u001b[0;34m=\u001b[0m\u001b[0moverride_flat_arg_shapes\u001b[0m\u001b[0;34m,\u001b[0m\u001b[0;34m\u001b[0m\u001b[0;34m\u001b[0m\u001b[0m\n\u001b[0;32m-> 2667\u001b[0;31m             capture_by_value=self._capture_by_value),\n\u001b[0m\u001b[1;32m   2668\u001b[0m         \u001b[0mself\u001b[0m\u001b[0;34m.\u001b[0m\u001b[0m_function_attributes\u001b[0m\u001b[0;34m,\u001b[0m\u001b[0;34m\u001b[0m\u001b[0;34m\u001b[0m\u001b[0m\n\u001b[1;32m   2669\u001b[0m         \u001b[0;31m# Tell the ConcreteFunction to clean up its graph once it goes out of\u001b[0m\u001b[0;34m\u001b[0m\u001b[0;34m\u001b[0m\u001b[0;34m\u001b[0m\u001b[0m\n",
      "\u001b[0;32m~/Datos/TP2/venvTP2/lib/python3.6/site-packages/tensorflow/python/framework/func_graph.py\u001b[0m in \u001b[0;36mfunc_graph_from_py_func\u001b[0;34m(name, python_func, args, kwargs, signature, func_graph, autograph, autograph_options, add_control_dependencies, arg_names, op_return_value, collections, capture_by_value, override_flat_arg_shapes)\u001b[0m\n\u001b[1;32m    979\u001b[0m         \u001b[0m_\u001b[0m\u001b[0;34m,\u001b[0m \u001b[0moriginal_func\u001b[0m \u001b[0;34m=\u001b[0m \u001b[0mtf_decorator\u001b[0m\u001b[0;34m.\u001b[0m\u001b[0munwrap\u001b[0m\u001b[0;34m(\u001b[0m\u001b[0mpython_func\u001b[0m\u001b[0;34m)\u001b[0m\u001b[0;34m\u001b[0m\u001b[0;34m\u001b[0m\u001b[0m\n\u001b[1;32m    980\u001b[0m \u001b[0;34m\u001b[0m\u001b[0m\n\u001b[0;32m--> 981\u001b[0;31m       \u001b[0mfunc_outputs\u001b[0m \u001b[0;34m=\u001b[0m \u001b[0mpython_func\u001b[0m\u001b[0;34m(\u001b[0m\u001b[0;34m*\u001b[0m\u001b[0mfunc_args\u001b[0m\u001b[0;34m,\u001b[0m \u001b[0;34m**\u001b[0m\u001b[0mfunc_kwargs\u001b[0m\u001b[0;34m)\u001b[0m\u001b[0;34m\u001b[0m\u001b[0;34m\u001b[0m\u001b[0m\n\u001b[0m\u001b[1;32m    982\u001b[0m \u001b[0;34m\u001b[0m\u001b[0m\n\u001b[1;32m    983\u001b[0m       \u001b[0;31m# invariant: `func_outputs` contains only Tensors, CompositeTensors,\u001b[0m\u001b[0;34m\u001b[0m\u001b[0;34m\u001b[0m\u001b[0;34m\u001b[0m\u001b[0m\n",
      "\u001b[0;32m~/Datos/TP2/venvTP2/lib/python3.6/site-packages/tensorflow/python/eager/def_function.py\u001b[0m in \u001b[0;36mwrapped_fn\u001b[0;34m(*args, **kwds)\u001b[0m\n\u001b[1;32m    439\u001b[0m         \u001b[0;31m# __wrapped__ allows AutoGraph to swap in a converted function. We give\u001b[0m\u001b[0;34m\u001b[0m\u001b[0;34m\u001b[0m\u001b[0;34m\u001b[0m\u001b[0m\n\u001b[1;32m    440\u001b[0m         \u001b[0;31m# the function a weak reference to itself to avoid a reference cycle.\u001b[0m\u001b[0;34m\u001b[0m\u001b[0;34m\u001b[0m\u001b[0;34m\u001b[0m\u001b[0m\n\u001b[0;32m--> 441\u001b[0;31m         \u001b[0;32mreturn\u001b[0m \u001b[0mweak_wrapped_fn\u001b[0m\u001b[0;34m(\u001b[0m\u001b[0;34m)\u001b[0m\u001b[0;34m.\u001b[0m\u001b[0m__wrapped__\u001b[0m\u001b[0;34m(\u001b[0m\u001b[0;34m*\u001b[0m\u001b[0margs\u001b[0m\u001b[0;34m,\u001b[0m \u001b[0;34m**\u001b[0m\u001b[0mkwds\u001b[0m\u001b[0;34m)\u001b[0m\u001b[0;34m\u001b[0m\u001b[0;34m\u001b[0m\u001b[0m\n\u001b[0m\u001b[1;32m    442\u001b[0m     \u001b[0mweak_wrapped_fn\u001b[0m \u001b[0;34m=\u001b[0m \u001b[0mweakref\u001b[0m\u001b[0;34m.\u001b[0m\u001b[0mref\u001b[0m\u001b[0;34m(\u001b[0m\u001b[0mwrapped_fn\u001b[0m\u001b[0;34m)\u001b[0m\u001b[0;34m\u001b[0m\u001b[0;34m\u001b[0m\u001b[0m\n\u001b[1;32m    443\u001b[0m \u001b[0;34m\u001b[0m\u001b[0m\n",
      "\u001b[0;32m~/Datos/TP2/venvTP2/lib/python3.6/site-packages/tensorflow/python/framework/func_graph.py\u001b[0m in \u001b[0;36mwrapper\u001b[0;34m(*args, **kwargs)\u001b[0m\n\u001b[1;32m    966\u001b[0m           \u001b[0;32mexcept\u001b[0m \u001b[0mException\u001b[0m \u001b[0;32mas\u001b[0m \u001b[0me\u001b[0m\u001b[0;34m:\u001b[0m  \u001b[0;31m# pylint:disable=broad-except\u001b[0m\u001b[0;34m\u001b[0m\u001b[0;34m\u001b[0m\u001b[0m\n\u001b[1;32m    967\u001b[0m             \u001b[0;32mif\u001b[0m \u001b[0mhasattr\u001b[0m\u001b[0;34m(\u001b[0m\u001b[0me\u001b[0m\u001b[0;34m,\u001b[0m \u001b[0;34m\"ag_error_metadata\"\u001b[0m\u001b[0;34m)\u001b[0m\u001b[0;34m:\u001b[0m\u001b[0;34m\u001b[0m\u001b[0;34m\u001b[0m\u001b[0m\n\u001b[0;32m--> 968\u001b[0;31m               \u001b[0;32mraise\u001b[0m \u001b[0me\u001b[0m\u001b[0;34m.\u001b[0m\u001b[0mag_error_metadata\u001b[0m\u001b[0;34m.\u001b[0m\u001b[0mto_exception\u001b[0m\u001b[0;34m(\u001b[0m\u001b[0me\u001b[0m\u001b[0;34m)\u001b[0m\u001b[0;34m\u001b[0m\u001b[0;34m\u001b[0m\u001b[0m\n\u001b[0m\u001b[1;32m    969\u001b[0m             \u001b[0;32melse\u001b[0m\u001b[0;34m:\u001b[0m\u001b[0;34m\u001b[0m\u001b[0;34m\u001b[0m\u001b[0m\n\u001b[1;32m    970\u001b[0m               \u001b[0;32mraise\u001b[0m\u001b[0;34m\u001b[0m\u001b[0;34m\u001b[0m\u001b[0m\n",
      "\u001b[0;31mValueError\u001b[0m: in user code:\n\n    /home/martin/Datos/TP2/venvTP2/lib/python3.6/site-packages/tensorflow/python/keras/engine/training.py:571 train_function  *\n        outputs = self.distribute_strategy.run(\n    /home/martin/Datos/TP2/venvTP2/lib/python3.6/site-packages/tensorflow/python/distribute/distribute_lib.py:951 run  **\n        return self._extended.call_for_each_replica(fn, args=args, kwargs=kwargs)\n    /home/martin/Datos/TP2/venvTP2/lib/python3.6/site-packages/tensorflow/python/distribute/distribute_lib.py:2290 call_for_each_replica\n        return self._call_for_each_replica(fn, args, kwargs)\n    /home/martin/Datos/TP2/venvTP2/lib/python3.6/site-packages/tensorflow/python/distribute/distribute_lib.py:2649 _call_for_each_replica\n        return fn(*args, **kwargs)\n    /home/martin/Datos/TP2/venvTP2/lib/python3.6/site-packages/tensorflow/python/keras/engine/training.py:531 train_step  **\n        y_pred = self(x, training=True)\n    /home/martin/Datos/TP2/venvTP2/lib/python3.6/site-packages/tensorflow/python/keras/engine/base_layer.py:927 __call__\n        outputs = call_fn(cast_inputs, *args, **kwargs)\n    /home/martin/Datos/TP2/venvTP2/lib/python3.6/site-packages/tensorflow/python/keras/engine/network.py:719 call\n        convert_kwargs_to_constants=base_layer_utils.call_context().saving)\n    /home/martin/Datos/TP2/venvTP2/lib/python3.6/site-packages/tensorflow/python/keras/engine/network.py:888 _run_internal_graph\n        output_tensors = layer(computed_tensors, **kwargs)\n    /home/martin/Datos/TP2/venvTP2/lib/python3.6/site-packages/tensorflow/python/keras/engine/base_layer.py:886 __call__\n        self.name)\n    /home/martin/Datos/TP2/venvTP2/lib/python3.6/site-packages/tensorflow/python/keras/engine/input_spec.py:216 assert_input_compatibility\n        ' but received input with shape ' + str(shape))\n\n    ValueError: Input 0 of layer batch_normalization_1 is incompatible with the layer: expected axis 1 of input shape to have value 338 but received input with shape [None, 114]\n"
     ]
    }
   ],
   "source": [
    "dense_layers_conv1_tuning = dense_layers_conv1_tuner.search([X_train_text, X_train_nf], y_train, \n",
    "                                                            validation_data = ([X_val_text, X_val_nf], y_val), \n",
    "                                                            batch_size = 32, epochs = 5, verbose = 2)"
   ]
  },
  {
   "cell_type": "markdown",
   "metadata": {},
   "source": [
    " "
   ]
  },
  {
   "cell_type": "markdown",
   "metadata": {},
   "source": [
    "## Deep learning: LSTM, Holdout Validation y HP Tuning"
   ]
  },
  {
   "cell_type": "code",
   "execution_count": null,
   "metadata": {},
   "outputs": [],
   "source": [
    "# Creación del modelo iterable para tuning\n",
    "\n",
    "def get_lstm_tuning_model(hp):\n",
    "    embedding_layer = layers.Embedding(num_tokens, embeddings_dim, embeddings_initializer=keras.initializers.Constant(embeddingsMatrix), trainable=False)\n",
    "\n",
    "    inputs1 = keras.Input(batch_size = None, shape = (2188,))  # Entrada del texto vectorizado según myVocabulary\n",
    "    x1 = embedding_layer(inputs1)\n",
    "    x1 = layers.BatchNormalization(axis=-1, trainable=False)(x1)\n",
    "    x1 = layers.Dropout(0.4)(x1)\n",
    "    x1 = layers.LSTM(units=hp.Int('units_lstm_1', min_value=90, max_value=100, step=10), activation='relu', return_sequences = True)(x1)\n",
    "    x1 = layers.LSTM(units=hp.Int('units_lstm_2', min_value=90, max_value=100, step=10), activation='relu')(x1)\n",
    "    outputs1 = x1\n",
    "\n",
    "    inputs2 = keras.Input(batch_size = None, shape = (248,))  # Entrada de los features numéricos completamente pre-procesados\n",
    "    outputs2 = layers.Dense(128, activation=\"relu\")(inputs2)\n",
    "\n",
    "    merged_outputs = layers.Concatenate(axis = 1)([outputs1, outputs2])  # Combinación de las salidas de ambas ramas\n",
    "    merged_outputs = layers.BatchNormalization(trainable = False)(merged_outputs)\n",
    "    \n",
    "    x = layers.Dropout(0.5)(merged_outputs)\n",
    "    x = layers.Dense(64, activation=\"relu\")(x)\n",
    "    x = layers.BatchNormalization(axis=-1, trainable=False)(x)\n",
    "    x = layers.Dropout(0.2)(x)\n",
    "    outputs = layers.Dense(1, activation=\"sigmoid\")(x)\n",
    "\n",
    "    model = keras.Model(inputs=[inputs1, inputs2], outputs=outputs)\n",
    "    optimizer = keras.optimizers.Adam(learning_rate = 0.003)\n",
    "    model.compile(loss=\"binary_crossentropy\", optimizer=optimizer, metrics=[\"accuracy\"])\n",
    "    return model"
   ]
  },
  {
   "cell_type": "code",
   "execution_count": null,
   "metadata": {},
   "outputs": [],
   "source": [
    "lstm_tuner = BayesianOptimization(get_lstm_tuning_model, objective = \"val_accuracy\", max_trials = 20, num_initial_points=2, seed=444, \n",
    "                             directory='LSTM_opt', project_name='LSTM_opt')\n",
    "lstm_tuner.search_space_summary()"
   ]
  },
  {
   "cell_type": "code",
   "execution_count": null,
   "metadata": {},
   "outputs": [],
   "source": [
    "lstm_tuner = lstm_tuner.search([X_train_text, X_train_nf], y_train_text, validation_data = ([X_val_text, X_val_nf], y_val_text), \n",
    "                        batch_size = 32, epochs = 5, verbose = 2)"
   ]
  },
  {
   "cell_type": "markdown",
   "metadata": {},
   "source": [
    " "
   ]
  },
  {
   "cell_type": "markdown",
   "metadata": {},
   "source": [
    " "
   ]
  }
 ],
 "metadata": {
  "kernelspec": {
   "display_name": "venvTP2",
   "language": "python",
   "name": "venvtp2"
  },
  "language_info": {
   "codemirror_mode": {
    "name": "ipython",
    "version": 3
   },
   "file_extension": ".py",
   "mimetype": "text/x-python",
   "name": "python",
   "nbconvert_exporter": "python",
   "pygments_lexer": "ipython3",
   "version": "3.6.9"
  }
 },
 "nbformat": 4,
 "nbformat_minor": 4
}

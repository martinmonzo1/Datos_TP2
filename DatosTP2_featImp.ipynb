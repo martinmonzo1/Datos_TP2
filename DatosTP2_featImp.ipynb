{
 "cells": [
  {
   "cell_type": "markdown",
   "metadata": {},
   "source": [
    "## <center>Inicio"
   ]
  },
  {
   "cell_type": "code",
   "execution_count": 2,
   "metadata": {},
   "outputs": [],
   "source": [
    "# Importación de librerías\n",
    "\n",
    "import pickle\n",
    "import numpy as np\n",
    "import pandas as pd\n",
    "import matplotlib.pyplot as plt\n",
    "import seaborn as sns\n",
    "from scipy import sparse\n",
    "import random"
   ]
  },
  {
   "cell_type": "code",
   "execution_count": 3,
   "metadata": {},
   "outputs": [],
   "source": [
    "import re\n",
    "from string import punctuation\n",
    "import nltk\n",
    "from nltk.corpus import stopwords\n",
    "from nltk.stem import PorterStemmer\n",
    "from nltk.tokenize import word_tokenize, sent_tokenize\n",
    "from textblob import TextBlob"
   ]
  },
  {
   "cell_type": "code",
   "execution_count": 4,
   "metadata": {},
   "outputs": [],
   "source": [
    "from sklearn.model_selection import train_test_split, GridSearchCV, KFold, StratifiedKFold, cross_val_score\n",
    "from sklearn.feature_extraction.text import CountVectorizer, TfidfTransformer, HashingVectorizer\n",
    "from sklearn.pipeline import Pipeline\n",
    "from sklearn.ensemble import RandomForestClassifier\n",
    "from sklearn.decomposition import TruncatedSVD\n",
    "from sklearn.metrics import f1_score, confusion_matrix, classification_report, accuracy_score\n",
    "from sklearn.preprocessing import OneHotEncoder, LabelBinarizer"
   ]
  },
  {
   "cell_type": "code",
   "execution_count": 5,
   "metadata": {},
   "outputs": [],
   "source": [
    "from sklearn.utils import shuffle"
   ]
  },
  {
   "cell_type": "code",
   "execution_count": 6,
   "metadata": {},
   "outputs": [],
   "source": [
    "import xgboost as xgb"
   ]
  },
  {
   "cell_type": "code",
   "execution_count": 7,
   "metadata": {},
   "outputs": [],
   "source": [
    "import tensorflow as tf\n",
    "from tensorflow import keras\n",
    "from tensorflow.keras import layers\n",
    "import kerastuner as kt\n",
    "from kerastuner.tuners import BayesianOptimization"
   ]
  },
  {
   "cell_type": "code",
   "execution_count": null,
   "metadata": {},
   "outputs": [],
   "source": [
    "# Importación de los documentos\n",
    "\n",
    "tw_train = pd.read_csv('./train.csv')\n",
    "tw_test = pd.read_csv('./test.csv')\n",
    "pd.set_option('display.max_columns', None)\n",
    "pd.options.display.max_colwidth = 150"
   ]
  },
  {
   "cell_type": "markdown",
   "metadata": {},
   "source": [
    " "
   ]
  },
  {
   "cell_type": "markdown",
   "metadata": {},
   "source": [
    "## <center>Preprocesamiento y Feature Extraction a partir de 'text'"
   ]
  },
  {
   "cell_type": "code",
   "execution_count": 6,
   "metadata": {},
   "outputs": [],
   "source": [
    "contraction_mapping = {\"ain't\": \"is not\", \"aren't\": \"are not\",\"can't\": \"cannot\", \"'cause\": \"because\", \"could've\": \"could have\", \"couldn't\": \"could not\", \"didn't\": \"did not\",  \"doesn't\": \"does not\", \"don't\": \"do not\", \"hadn't\": \"had not\", \"hasn't\": \"has not\", \"haven't\": \"have not\", \"he'd\": \"he would\",\"he'll\": \"he will\", \"he's\": \"he is\", \"how'd\": \"how did\", \"how'd'y\": \"how do you\", \"how'll\": \"how will\", \"how's\": \"how is\",  \"I'd\": \"I would\", \"I'd've\": \"I would have\", \"I'll\": \"I will\", \"I'll've\": \"I will have\",\"I'm\": \"I am\", \"I've\": \"I have\", \"i'd\": \"i would\", \"i'd've\": \"i would have\", \"i'll\": \"i will\",  \"i'll've\": \"i will have\",\"i'm\": \"i am\", \"i've\": \"i have\", \"isn't\": \"is not\", \"it'd\": \"it would\", \"it'd've\": \"it would have\", \"it'll\": \"it will\", \"it'll've\": \"it will have\",\"it's\": \"it is\", \"let's\": \"let us\", \"ma'am\": \"madam\", \"mayn't\": \"may not\", \"might've\": \"might have\",\"mightn't\": \"might not\",\"mightn't've\": \"might not have\", \"must've\": \"must have\", \"mustn't\": \"must not\", \"mustn't've\": \"must not have\", \"needn't\": \"need not\", \"needn't've\": \"need not have\",\"o'clock\": \"of the clock\", \"oughtn't\": \"ought not\", \"oughtn't've\": \"ought not have\", \"shan't\": \"shall not\", \"sha'n't\": \"shall not\", \"shan't've\": \"shall not have\", \"she'd\": \"she would\", \"she'd've\": \"she would have\", \"she'll\": \"she will\", \"she'll've\": \"she will have\", \"she's\": \"she is\", \"should've\": \"should have\", \"shouldn't\": \"should not\", \"shouldn't've\": \"should not have\", \"so've\": \"so have\",\"so's\": \"so as\", \"this's\": \"this is\",\"that'd\": \"that would\", \"that'd've\": \"that would have\", \"that's\": \"that is\", \"there'd\": \"there would\", \"there'd've\": \"there would have\", \"there's\": \"there is\", \"here's\": \"here is\",\"they'd\": \"they would\", \"they'd've\": \"they would have\", \"they'll\": \"they will\", \"they'll've\": \"they will have\", \"they're\": \"they are\", \"they've\": \"they have\", \"to've\": \"to have\", \"wasn't\": \"was not\", \"we'd\": \"we would\", \"we'd've\": \"we would have\", \"we'll\": \"we will\", \"we'll've\": \"we will have\", \"we're\": \"we are\", \"we've\": \"we have\", \"weren't\": \"were not\", \"what'll\": \"what will\", \"what'll've\": \"what will have\", \"what're\": \"what are\",  \"what's\": \"what is\", \"what've\": \"what have\", \"when's\": \"when is\", \"when've\": \"when have\", \"where'd\": \"where did\", \"where's\": \"where is\", \"where've\": \"where have\", \"who'll\": \"who will\", \"who'll've\": \"who will have\", \"who's\": \"who is\", \"who've\": \"who have\", \"why's\": \"why is\", \"why've\": \"why have\", \"will've\": \"will have\", \"won't\": \"will not\", \"won't've\": \"will not have\", \"would've\": \"would have\", \"wouldn't\": \"would not\", \"wouldn't've\": \"would not have\", \"y'all\": \"you all\", \"y'all'd\": \"you all would\",\"y'all'd've\": \"you all would have\",\"y'all're\": \"you all are\",\"y'all've\": \"you all have\",\"you'd\": \"you would\", \"you'd've\": \"you would have\", \"you'll\": \"you will\", \"you'll've\": \"you will have\", \"you're\": \"you are\", \"you've\": \"you have\" }\n",
    "\n",
    "regexes = {'hashtags':r'(#)+', 'mentions':r'(@)\\w*', 'URLs':r'(http://)[a-zA-Z0-9./]*'}\n",
    "\n",
    "referenceDF = pd.read_csv('./headlines_reference_values.csv').drop(columns = 'Unnamed: 0')\n",
    "ref = referenceDF.loc[0]\n",
    "\n",
    "basicStopwords = stopwords.words('english')\n",
    "myStopwords = set(basicStopwords + list(punctuation))"
   ]
  },
  {
   "cell_type": "code",
   "execution_count": 7,
   "metadata": {},
   "outputs": [],
   "source": [
    "def isInText(DF, feature):\n",
    "    DF[feature[0]+'_in_t'] = 0   # Inicialización de la nueva columna\n",
    "    for i in range(len(DF)):\n",
    "        try:\n",
    "            if (DF.loc[i, feature]).lower() in (DF.loc[i, 'text']).lower(): DF.loc[i, feature[0]+'_in_t'] = 1\n",
    "        except:\n",
    "            continue\n",
    "        \n",
    "def replace_contractions(text, mapping):\n",
    "    noContText = []\n",
    "    counter = 0\n",
    "    for t in text.split(\" \"):\n",
    "        if t.lower() in mapping:\n",
    "            noContText.append(mapping[t.lower()])\n",
    "            counter += 1\n",
    "        else:\n",
    "            noContText.append(t) \n",
    "    return [' '.join(noContText), counter]\n",
    "\n",
    "def Qy(regex, text):   \n",
    "    try:\n",
    "        return len(re.compile(regex).findall(text))\n",
    "    except:\n",
    "        return 0\n",
    "\n",
    "def newFeatures(DF, regexDict):\n",
    "    for k, v in regexDict.items():\n",
    "        DF[['text', k]] = pd.DataFrame(DF['text'].map(lambda x: [re.compile(v).sub(r' ', x), Qy(v, x)]).tolist())\n",
    "\n",
    "def wilsonScore(num, den):\n",
    "    if num == 0:\n",
    "        return round(0, 2)\n",
    "    phat = num/den\n",
    "    z = 1.96\n",
    "    return round(((phat + z*z/(2*den) - z * np.sqrt((phat*(1-phat)+z*z/(4*den))/den))/(1+z*z/den)), 2)\n",
    "\n",
    "def tagging(text):\n",
    "    tagsCount = {'ADJ':0, 'ADP':0, 'ADV':0, 'CONJ':0, 'DET':0, 'NOUN':0, 'NUM':0, 'PRT':0, 'PRON':0, 'VERB':0, '.':0, 'X':0}\n",
    "    tags = []\n",
    "    sentences = sent_tokenize(text)\n",
    "    for sentence in sentences:\n",
    "        tags += nltk.pos_tag(word_tokenize(sentence), tagset = 'universal')\n",
    "    for word, tag in tags:\n",
    "        tagsCount[tag] += 1    \n",
    "    POS_ratio = [round((12 - list(tagsCount.values()).count(0))/12, 2)]\n",
    "#     mostCommonPOS_ratio = [round(list(tagsCount.values()).count(max(tagsCount.values()))/(12-list(tagsCount.values()).count(0)), 2)]\n",
    "    mostCommonPOS_ratio = [wilsonScore(list(tagsCount.values()).count(max(tagsCount.values())), 12-list(tagsCount.values()).count(0))]\n",
    "    noun_ratio =  [wilsonScore(tagsCount['NOUN'], sum(tagsCount.values()))]\n",
    "    return list(tagsCount.values()) + POS_ratio + mostCommonPOS_ratio + noun_ratio\n",
    "\n",
    "def headlinesDistance(DF, ref):\n",
    "    DF['dist'] = 0\n",
    "    for i in range(len(DF)):\n",
    "        x = DF.loc[i, ['textLenght','ADJ','ADP','ADV','CONJ','DET','NOUN','NUM','PRT','PRON','VERB','.','X','POS_ratio','topPOS_ratio','NOUN/TOT', 'polarity', 'subjectivity']]\n",
    "        DF.loc[i, 'dist'] =  np.dot(x, ref)/(np.linalg.norm(x)*np.linalg.norm(ref))\n",
    "\n",
    "def sentimentAnalysis(text):\n",
    "    blob = TextBlob(text)\n",
    "    return blob.sentiment\n",
    "\n",
    "def stemmizer(text, stopwords):\n",
    "    words = word_tokenize(text)\n",
    "    return ' '.join([PorterStemmer().stem(word) for word in words if word not in stopwords])\n",
    "\n",
    "def SWRemoval(text, stopwords):\n",
    "    words = word_tokenize(text)\n",
    "    return ' '.join([word for word in words if word not in stopwords])\n",
    "    \n",
    "def preprocessing(DF, contraction_mapping, regexes, ref, myStopwords):\n",
    "#     originalTextLength = tw_train['text'].map(lambda x: len(x))\n",
    "    isInText(DF, 'keyword')\n",
    "    isInText(DF, 'location')\n",
    "    DF[['text', 'conts']] = pd.DataFrame(DF['text'].map(lambda x: replace_contractions(x, contraction_mapping)).tolist())\n",
    "    originalTextLength = DF['text'].map(lambda x: len(x))\n",
    "    newFeatures(DF, regexes) \n",
    "    DF['textLenght'] = DF['text'].map(lambda x: len(x))\n",
    "#     DF['textTrash'] = originalTextLength - DF['textLenght']\n",
    "    DF[['ADJ','ADP','ADV','CONJ','DET','NOUN','NUM','PRT','PRON','VERB','.','X','POS_ratio','topPOS_ratio','NOUN/TOT']] = pd.DataFrame(DF['text'].map(lambda x: tagging(x)).tolist())\n",
    "    DF[['polarity', 'subjectivity']] = pd.DataFrame(DF['text'].map(lambda x: sentimentAnalysis(x)).tolist())\n",
    "    headlinesDistance(DF, ref)\n",
    "    DF['K'] = DF['textLenght']*DF['NOUN/TOT']*DF['polarity']\n",
    "    DF['text'] = DF['text'].map(lambda x: x.lower())\n",
    "    DF['text'] = DF['text'].map(lambda x: re.compile(r'\\d').sub(r' ', x))\n",
    "#     DF['text'] = DF['text'].map(lambda x: stemmizer(x, myStopwords))\n",
    "    DF['text'] = DF['text'].map(lambda x: SWRemoval(x, myStopwords))\n",
    "    DF['textTrash'] = originalTextLength - DF['textLenght']    "
   ]
  },
  {
   "cell_type": "code",
   "execution_count": 10,
   "metadata": {
    "jupyter": {
     "source_hidden": true
    }
   },
   "outputs": [],
   "source": [
    "# Preprocesamiento y feature extraction del text\n",
    "\n",
    "preprocessing(tw_train, contraction_mapping, regexes, ref, myStopwords)\n",
    "preprocessing(tw_test, contraction_mapping, regexes, ref, myStopwords)"
   ]
  },
  {
   "cell_type": "markdown",
   "metadata": {},
   "source": [
    " "
   ]
  },
  {
   "cell_type": "markdown",
   "metadata": {},
   "source": [
    "## <center>Vocabulario - Embeddings"
   ]
  },
  {
   "cell_type": "code",
   "execution_count": 11,
   "metadata": {
    "collapsed": true,
    "jupyter": {
     "outputs_hidden": true,
     "source_hidden": true
    }
   },
   "outputs": [
    {
     "name": "stdout",
     "output_type": "stream",
     "text": [
      "El vocabulario consta de 2173 palabras\n"
     ]
    }
   ],
   "source": [
    "# Vocabulary\n",
    "# las Stopwords ya quedaron afuera en el paso anterior\n",
    "\n",
    "textList = tw_train['text'].tolist()\n",
    "text = ' '.join(textList)\n",
    "tokens = word_tokenize(text)\n",
    "tokensFreq = nltk.FreqDist(tokens)\n",
    "tokensFreq = {k:v for k,v in tokensFreq.items() if (v>5) & (v<150)}\n",
    "myVocabulary = list(tokensFreq.keys())\n",
    "print('El vocabulario consta de {} palabras'.format(len(myVocabulary)))"
   ]
  },
  {
   "cell_type": "code",
   "execution_count": 27,
   "metadata": {},
   "outputs": [],
   "source": [
    "# Embeddings\n",
    "\n",
    "embeddingsFilePath = './glove.twitter.27B.100d.txt'\n",
    "embeddingsFile = open(embeddingsFilePath)\n",
    "embeddingsIndex = {}\n",
    "for line in embeddingsFile:\n",
    "    lineList = line.split()\n",
    "    word = lineList[0]\n",
    "    vector = np.array(lineList[1:])\n",
    "    embeddingsIndex[word] = vector\n",
    "embeddingsFile.close()"
   ]
  },
  {
   "cell_type": "code",
   "execution_count": 13,
   "metadata": {
    "collapsed": true,
    "jupyter": {
     "outputs_hidden": true,
     "source_hidden": true
    }
   },
   "outputs": [
    {
     "name": "stdout",
     "output_type": "stream",
     "text": [
      "96.82% de los tokens tienen embedding\n"
     ]
    }
   ],
   "source": [
    "def embeddingsInVoc(voc):\n",
    "    noEmbeddingTokens = []\n",
    "    for token in voc:\n",
    "        if token.lower() not in embeddingsIndex:\n",
    "            noEmbeddingTokens.append(token)\n",
    "    print('{}% de los tokens tienen embedding'.format( 100 - round((len(noEmbeddingTokens)/len(voc))*100, 2) ))\n",
    "    return noEmbeddingTokens\n",
    "\n",
    "noEmbeddingTokens = embeddingsInVoc(myVocabulary)"
   ]
  },
  {
   "cell_type": "code",
   "execution_count": 14,
   "metadata": {
    "jupyter": {
     "source_hidden": true
    }
   },
   "outputs": [],
   "source": [
    "tokensReplacement = {'icemoon':'ice moon','bioterror':'bio terror','bioterrorism':'bio terrorism','microlight':'micro light',\n",
    "                     'w/heavenly':'heavenly','typhoon-devastated':'typhoon devastated',\"'save\":'save','animalrescue':'animal rescue',\n",
    "                     'mediterran':'mediterranean','meat-loving':'meat loving',\"'suicide\":'suicide'}\n",
    "tokensDeletion = set(tokensReplacement.keys()) ^ set(noEmbeddingTokens)"
   ]
  },
  {
   "cell_type": "code",
   "execution_count": 15,
   "metadata": {
    "jupyter": {
     "source_hidden": true
    }
   },
   "outputs": [],
   "source": [
    "# Últimos detalles sobre la limpieza del texto\n",
    "def replace_noEmbeddingTokens(text, replacement_mapping, deletion_list):\n",
    "    newText = []\n",
    "    for word in word_tokenize(text):\n",
    "        if word.lower() in replacement_mapping:\n",
    "            newText.append(replacement_mapping[word.lower()])\n",
    "        elif word.lower() not in deletion_list:\n",
    "            newText.append(word) \n",
    "    return ' '.join(newText)\n",
    "\n",
    "tw_train['text'] = tw_train['text'].map(lambda x: replace_noEmbeddingTokens(x, tokensReplacement, tokensDeletion))\n",
    "tw_test['text'] = tw_test['text'].map(lambda x: replace_noEmbeddingTokens(x, tokensReplacement, tokensDeletion))"
   ]
  },
  {
   "cell_type": "code",
   "execution_count": 16,
   "metadata": {
    "collapsed": true,
    "jupyter": {
     "outputs_hidden": true,
     "source_hidden": true
    }
   },
   "outputs": [
    {
     "name": "stdout",
     "output_type": "stream",
     "text": [
      "El nuevo vocabulario consta de 2112 palabras\n"
     ]
    }
   ],
   "source": [
    "# Redefino vocabulario\n",
    "myVocabulary = [w for w in myVocabulary if w not in tokensDeletion]\n",
    "myVocabulary = [tokensReplacement[w] if (w in tokensReplacement) else w for w in myVocabulary]\n",
    "myVocabulary = list(set(myVocabulary))\n",
    "print('El nuevo vocabulario consta de {} palabras'.format(len(myVocabulary)))"
   ]
  },
  {
   "cell_type": "code",
   "execution_count": 17,
   "metadata": {
    "collapsed": true,
    "jupyter": {
     "outputs_hidden": true,
     "source_hidden": true
    }
   },
   "outputs": [
    {
     "name": "stdout",
     "output_type": "stream",
     "text": [
      "99.67% de los tokens tienen embedding\n"
     ]
    }
   ],
   "source": [
    "noEmbeddingTokens = embeddingsInVoc(myVocabulary)"
   ]
  },
  {
   "cell_type": "markdown",
   "metadata": {
    "jupyter": {
     "source_hidden": true
    }
   },
   "source": [
    "### Resultados"
   ]
  },
  {
   "cell_type": "code",
   "execution_count": 18,
   "metadata": {
    "jupyter": {
     "source_hidden": true
    }
   },
   "outputs": [],
   "source": [
    "tw_train.to_csv('tw_train.csv', index = False)\n",
    "tw_test.to_csv('tw_test.csv', index = False)\n",
    "\n",
    "with open('myVocabulary.pickle', 'wb') as f:\n",
    "    pickle.dump(myVocabulary, f)"
   ]
  },
  {
   "cell_type": "markdown",
   "metadata": {},
   "source": [
    "### Carga de los resultados"
   ]
  },
  {
   "cell_type": "raw",
   "metadata": {},
   "source": [
    "tw_train = pd.read_csv('tw_train.csv')\n",
    "tw_train['text'] = tw_train['text'].astype('str')\n",
    "tw_test = pd.read_csv('tw_test.csv')\n",
    "tw_test['text'] = tw_test['text'].astype('str')"
   ]
  },
  {
   "cell_type": "code",
   "execution_count": 8,
   "metadata": {},
   "outputs": [],
   "source": [
    "with open('myVocabulary.pickle', 'rb') as f:\n",
    "    myVocabulary = pickle.load(f)"
   ]
  },
  {
   "cell_type": "markdown",
   "metadata": {},
   "source": [
    "### Más de embeddings"
   ]
  },
  {
   "cell_type": "code",
   "execution_count": 9,
   "metadata": {},
   "outputs": [
    {
     "name": "stdout",
     "output_type": "stream",
     "text": [
      "La embeddingsMatrix resultante tiene las dimensiones (2114, 100)\n"
     ]
    }
   ],
   "source": [
    "# Creación de un Vocabulary Index\n",
    "# El índice cero y el índice 1 se reservan para padding y \"out of index\", respectivamente.\n",
    "\n",
    "vocabularyIndex = {}\n",
    "for i in range(2, len(myVocabulary)+2):  # myVocabulary es una lista ya creada anteriormente\n",
    "    vocabularyIndex[myVocabulary[i-2]] = i\n",
    "    \n",
    "# Construcción de la embedding matrix\n",
    "\n",
    "num_tokens = len(vocabularyIndex) + 2\n",
    "embeddings_dim = 100\n",
    "embeddingsMatrix = np.zeros((num_tokens, embeddings_dim))\n",
    "for word, i in vocabularyIndex.items():\n",
    "    embedding_vector = embeddingsIndex.get(word)\n",
    "    if embedding_vector is not None:\n",
    "        embeddingsMatrix[i] = embedding_vector\n",
    "    else:\n",
    "        continue\n",
    "print('La embeddingsMatrix resultante tiene las dimensiones {}'.format(embeddingsMatrix.shape))\n",
    "\n",
    "# Construcción de los vectores de entrada\n",
    "\n",
    "def vocMapping(text):\n",
    "    vector = []\n",
    "    for word in word_tokenize(text):\n",
    "        try:\n",
    "            vector.append(vocabularyIndex[word])\n",
    "        except:\n",
    "            vector.append(1)  # Embeddings desconocidos\n",
    "    vector = vector + [0]*(num_tokens - len(vector))  # Padding\n",
    "    return np.array(vector).astype(np.float)"
   ]
  },
  {
   "cell_type": "markdown",
   "metadata": {},
   "source": [
    " "
   ]
  },
  {
   "cell_type": "markdown",
   "metadata": {},
   "source": [
    "## <center>Data Augmentation: Creación de un nuevo set de train basado en ruido"
   ]
  },
  {
   "cell_type": "code",
   "execution_count": 20,
   "metadata": {
    "jupyter": {
     "source_hidden": true
    }
   },
   "outputs": [],
   "source": [
    "# Data a utilizar: embeddingsIndex, que es el diccionario tal que (k, v) = (word, embedding)\n",
    "# Lo reduzco a una forma que contenga solo las claves que también se encuentran en myVocabulary\n",
    "\n",
    "myEmbeddingsIndex = {k:v.astype(np.float) for k,v in embeddingsIndex.items() if k in myVocabulary}"
   ]
  },
  {
   "cell_type": "raw",
   "metadata": {
    "jupyter": {
     "source_hidden": true
    }
   },
   "source": [
    "# El nuevo texto tendrá el 50% de sus palabras reemplazadas\n",
    "# Se reemplazan las palabras de acuerdo al vector más cercano que exista en el vocabulario\n",
    "\n",
    "def text_adulteration(text, stopwords, embDict):\n",
    "    words = word_tokenize(text)\n",
    "    for i in range(len(words)):\n",
    "        if words[i].lower() in stopwords:\n",
    "            continue\n",
    "        elif words[i].lower() in embDict:\n",
    "            minDistance = -1\n",
    "            for k, v in embDict.items():\n",
    "                if k != words[i].lower():\n",
    "                    distance = np.dot(embDict[words[i].lower()], v)/(np.linalg.norm(embDict[words[i].lower()])*np.linalg.norm(v))\n",
    "                    if (1 - distance) < (1 - minDistance):\n",
    "                        minDistance = distance\n",
    "                        newWord = k\n",
    "        else:\n",
    "            choice = random.randint(0, 1)\n",
    "            if choice == 1:\n",
    "                newWord = list(embDict.keys())[random.randint(0, len(embDict)-1)]\n",
    "            else:\n",
    "                newWord = words[i]\n",
    "        words[i] = newWord\n",
    "    choice = random.randint(0, 1)\n",
    "    if choice == 0:\n",
    "        words.append(list(embDict.keys())[random.randint(0, len(embDict)-1)])\n",
    "    elif (choice == 1) and (len(words) > 1):\n",
    "        words.pop()\n",
    "    return ' '.join(words)\n",
    "\n",
    "def noisy_preprocessing(DF, contraction_mapping, regexes, ref, myStopwords, embDict):\n",
    "#     originalTextLength = tw_train['text'].map(lambda x: len(x))\n",
    "    DF[['text', 'conts']] = pd.DataFrame(DF['text'].map(lambda x: replace_contractions(x, contraction_mapping)).tolist())\n",
    "    originalTextLength = DF['text'].map(lambda x: len(x))\n",
    "    newFeatures(DF, regexes)\n",
    "    DF['text'] = DF['text'].map(lambda x: text_adulteration(x, myStopwords, embDict))\n",
    "    isInText(DF, 'keyword')\n",
    "    isInText(DF, 'location')\n",
    "    DF['textLenght'] = DF['text'].map(lambda x: len(x))\n",
    "#     DF['textTrash'] = originalTextLength - DF['textLenght']\n",
    "    DF[['ADJ','ADP','ADV','CONJ','DET','NOUN','NUM','PRT','PRON','VERB','.','X','POS_ratio','topPOS_ratio','NOUN/TOT']] = pd.DataFrame(DF['text'].map(lambda x: tagging(x)).tolist())\n",
    "    DF[['polarity', 'subjectivity']] = pd.DataFrame(DF['text'].map(lambda x: sentimentAnalysis(x)).tolist())\n",
    "    headlinesDistance(DF, ref)\n",
    "    DF['K'] = DF['textLenght']*DF['NOUN/TOT']*DF['polarity']\n",
    "    DF['text'] = DF['text'].map(lambda x: x.lower())\n",
    "    DF['text'] = DF['text'].map(lambda x: re.compile(r'\\d').sub(r' ', x))\n",
    "#     DF['text'] = DF['text'].map(lambda x: stemmizer(x, myStopwords))\n",
    "    DF['text'] = DF['text'].map(lambda x: SWRemoval(x, myStopwords))\n",
    "    DF['textTrash'] = originalTextLength - DF['textLenght']  "
   ]
  },
  {
   "cell_type": "code",
   "execution_count": 21,
   "metadata": {
    "jupyter": {
     "source_hidden": true
    }
   },
   "outputs": [],
   "source": [
    "def text_mutation(text, embDict):\n",
    "    words = text.split()\n",
    "    for i in range(len(words)):\n",
    "        if words[i].lower() in embDict:\n",
    "            minDistance = -1\n",
    "            newWord = words[i]\n",
    "            for k, v in embDict.items():\n",
    "                if k != words[i].lower():\n",
    "                    distance = np.dot(embDict[words[i].lower()], v)/(np.linalg.norm(embDict[words[i].lower()])*np.linalg.norm(v))\n",
    "                    if (1 - distance) < (1 - minDistance):\n",
    "                        minDistance = distance\n",
    "                        newWord = k\n",
    "            words[i] = newWord\n",
    "    words.insert(random.randint(0, len(words)-1) ,list(embDict.keys())[random.randint(0, len(embDict)-1)])\n",
    "    return ' '.join(words)"
   ]
  },
  {
   "cell_type": "code",
   "execution_count": 22,
   "metadata": {
    "jupyter": {
     "source_hidden": true
    }
   },
   "outputs": [],
   "source": [
    "def noisy_preprocessing(DF, contraction_mapping, regexes, ref, myStopwords, myEmbeddingsIndex):\n",
    "    isInText(DF, 'keyword')\n",
    "    isInText(DF, 'location')\n",
    "    DF[['text', 'conts']] = pd.DataFrame(DF['text'].map(lambda x: replace_contractions(x, contraction_mapping)).tolist())\n",
    "    newFeatures(DF, {'hashtags':r'(#)+'})\n",
    "    DF['text'] = DF['text'].map(lambda x: text_mutation(x, myEmbeddingsIndex))\n",
    "    originalTextLength = DF['text'].map(lambda x: len(x))\n",
    "    newFeatures(DF, {'mentions':r'(@)\\w*', 'URLs':r'(http://)[a-zA-Z0-9./]*'})\n",
    "    DF['textLenght'] = DF['text'].map(lambda x: len(x))\n",
    "    DF[['ADJ','ADP','ADV','CONJ','DET','NOUN','NUM','PRT','PRON','VERB','.','X','POS_ratio','topPOS_ratio','NOUN/TOT']] = pd.DataFrame(DF['text'].map(lambda x: tagging(x)).tolist())\n",
    "    DF[['polarity', 'subjectivity']] = pd.DataFrame(DF['text'].map(lambda x: sentimentAnalysis(x)).tolist())\n",
    "    headlinesDistance(DF, ref)\n",
    "    DF['K'] = DF['textLenght']*DF['NOUN/TOT']*DF['polarity']\n",
    "    DF['text'] = DF['text'].map(lambda x: x.lower())\n",
    "    DF['text'] = DF['text'].map(lambda x: re.compile(r'\\d').sub(r' ', x))\n",
    "    DF['text'] = DF['text'].map(lambda x: SWRemoval(x, myStopwords))\n",
    "    DF['textTrash'] = originalTextLength - DF['textLenght']\n",
    "    DF['text'] = DF['text'].map(lambda x: replace_noEmbeddingTokens(x, tokensReplacement, tokensDeletion))"
   ]
  },
  {
   "cell_type": "code",
   "execution_count": 23,
   "metadata": {
    "jupyter": {
     "source_hidden": true
    }
   },
   "outputs": [],
   "source": [
    "tw_train_noise = pd.read_csv('./train.csv')"
   ]
  },
  {
   "cell_type": "code",
   "execution_count": 24,
   "metadata": {
    "jupyter": {
     "source_hidden": true
    }
   },
   "outputs": [],
   "source": [
    "noisy_preprocessing(tw_train_noise, contraction_mapping, regexes, ref, myStopwords, myEmbeddingsIndex)"
   ]
  },
  {
   "cell_type": "code",
   "execution_count": 36,
   "metadata": {
    "collapsed": true,
    "jupyter": {
     "outputs_hidden": true,
     "source_hidden": true
    }
   },
   "outputs": [
    {
     "name": "stdout",
     "output_type": "stream",
     "text": [
      "Para ilustrar la diferencia:\n",
      "Original: might killed airplane accident night car wreck politics best\n",
      "Mutado: could murdered plane crash tonight truck wreck politics inch best\n"
     ]
    }
   ],
   "source": [
    "print(f'''Para ilustrar la diferencia:\n",
    "Original: {tw_train.loc[150,'text']}\n",
    "Mutado: {tw_train_noise.loc[150,'text']}''')"
   ]
  },
  {
   "cell_type": "code",
   "execution_count": 42,
   "metadata": {
    "collapsed": true,
    "jupyter": {
     "outputs_hidden": true,
     "source_hidden": true
    }
   },
   "outputs": [
    {
     "name": "stdout",
     "output_type": "stream",
     "text": [
      "Para ilustrar la diferencia:\n",
      "Original: deeds reason earthquake may allah forgive us\n",
      "Mutado: deeds wrong officers tornado close islam forgive bring\n"
     ]
    }
   ],
   "source": [
    "print(f'''Para ilustrar la diferencia:\n",
    "Original: {tw_train.loc[0,'text']}\n",
    "Mutado: {tw_train_noise.loc[0,'text']}''')"
   ]
  },
  {
   "cell_type": "code",
   "execution_count": 26,
   "metadata": {
    "jupyter": {
     "source_hidden": true
    }
   },
   "outputs": [],
   "source": [
    "tw_train_noise = tw_train_noise[list(tw_train.columns)]"
   ]
  },
  {
   "cell_type": "markdown",
   "metadata": {},
   "source": [
    "### Resultados:"
   ]
  },
  {
   "cell_type": "raw",
   "metadata": {},
   "source": [
    "tw_train_noise.to_csv('tw_train_noise.csv', index = False)"
   ]
  },
  {
   "cell_type": "markdown",
   "metadata": {},
   "source": [
    "### Uso: Para balancear el Train Set original"
   ]
  },
  {
   "cell_type": "code",
   "execution_count": 9,
   "metadata": {},
   "outputs": [],
   "source": [
    "def balance(clean, noise):\n",
    "    delta = clean['target'].value_counts().loc[0] - clean['target'].value_counts().loc[1]\n",
    "    if delta > 0:\n",
    "        add_balance = noise.loc[noise['target'] == 1, :].sample(n = abs(delta), replace = False, random_state = 60)\n",
    "    elif delta < 0:\n",
    "        add_balance = noise.loc[noise['target'] == 0, :].sample(n = abs(delta), replace = False, random_state = 60)\n",
    "    balanced = pd.concat([clean, add_balance], axis=0, join = 'outer', ignore_index = True)    \n",
    "    return shuffle(balanced)"
   ]
  },
  {
   "cell_type": "markdown",
   "metadata": {},
   "source": [
    "### Uso: Para agragar ruido"
   ]
  },
  {
   "cell_type": "code",
   "execution_count": 10,
   "metadata": {},
   "outputs": [],
   "source": [
    "def add_noise(clean, noise, noise_level,keep_proportion = True, return_residual_noise = False):\n",
    "    \n",
    "    if keep_proportion == True:\n",
    "        stratify = noise['target']\n",
    "    else:\n",
    "        stratify = None\n",
    "        \n",
    "    residual_noise, noise_required = train_test_split(noise, stratify = stratify, test_size = noise_level)\n",
    "    noisyDF = pd.concat([clean, noise_required], axis=0, join = 'outer', ignore_index = True)\n",
    "    \n",
    "    if return_residual_noise == False:\n",
    "        return shuffle(noisyDF)\n",
    "    else:\n",
    "        return shuffle(noisyDF), shuffle(residual_noise)"
   ]
  },
  {
   "cell_type": "markdown",
   "metadata": {},
   "source": [
    " "
   ]
  },
  {
   "cell_type": "markdown",
   "metadata": {},
   "source": [
    "## <center>Visualización de los datos (¿Se pueden distinguir los target?)"
   ]
  },
  {
   "cell_type": "code",
   "execution_count": 57,
   "metadata": {
    "collapsed": true,
    "jupyter": {
     "outputs_hidden": true,
     "source_hidden": true
    }
   },
   "outputs": [],
   "source": [
    "SVD = TruncatedSVD(n_components=2, n_iter=7, random_state=678)\n",
    "X_svd = SVD.fit_transform(X)"
   ]
  },
  {
   "cell_type": "code",
   "execution_count": 58,
   "metadata": {
    "collapsed": true,
    "jupyter": {
     "outputs_hidden": true,
     "source_hidden": true
    }
   },
   "outputs": [],
   "source": [
    "scatter_data = np.concatenate((X_svd, np.array(tw_train['target']).reshape(-1,1)), axis = 1)"
   ]
  },
  {
   "cell_type": "code",
   "execution_count": 59,
   "metadata": {
    "collapsed": true,
    "jupyter": {
     "outputs_hidden": true,
     "source_hidden": true
    }
   },
   "outputs": [
    {
     "data": {
      "text/plain": [
       "<matplotlib.axes._subplots.AxesSubplot at 0x7fcf4ba07470>"
      ]
     },
     "execution_count": 59,
     "metadata": {},
     "output_type": "execute_result"
    },
    {
     "data": {
      "image/png": "[encoded data removed]",
      "text/plain": [
       "<Figure size 864x864 with 1 Axes>"
      ]
     },
     "metadata": {
      "needs_background": "light"
     },
     "output_type": "display_data"
    }
   ],
   "source": [
    "fig, ax = plt.subplots(nrows = 1, ncols = 1, figsize = (8,8))\n",
    "sns.scatterplot(ax = ax, x = scatter_data[:, 0], y = scatter_data[:, 1], hue = scatter_data[:, 2])"
   ]
  },
  {
   "cell_type": "code",
   "execution_count": 60,
   "metadata": {
    "collapsed": true,
    "jupyter": {
     "outputs_hidden": true,
     "source_hidden": true
    }
   },
   "outputs": [],
   "source": [
    "from sklearn.decomposition import KernelPCA"
   ]
  },
  {
   "cell_type": "code",
   "execution_count": 63,
   "metadata": {
    "collapsed": true,
    "jupyter": {
     "outputs_hidden": true,
     "source_hidden": true
    }
   },
   "outputs": [],
   "source": [
    "kpca = KernelPCA(n_components = 2, kernel = 'poly', random_state = 456)"
   ]
  },
  {
   "cell_type": "code",
   "execution_count": 64,
   "metadata": {
    "collapsed": true,
    "jupyter": {
     "outputs_hidden": true,
     "source_hidden": true
    }
   },
   "outputs": [
    {
     "data": {
      "text/plain": [
       "<matplotlib.axes._subplots.AxesSubplot at 0x7fcf49fd8e80>"
      ]
     },
     "execution_count": 64,
     "metadata": {},
     "output_type": "execute_result"
    },
    {
     "data": {
      "image/png": "[encoded data removed]",
      "text/plain": [
       "<Figure size 864x864 with 1 Axes>"
      ]
     },
     "metadata": {
      "needs_background": "light"
     },
     "output_type": "display_data"
    }
   ],
   "source": [
    "X_kpca = kpca.fit_transform(X)\n",
    "scatter_data = np.concatenate((X_kpca, np.array(tw_train['target']).reshape(-1,1)), axis = 1)\n",
    "fig, ax = plt.subplots(nrows = 1, ncols = 1, figsize = (8,8))\n",
    "sns.scatterplot(ax = ax, x = scatter_data[:, 0], y = scatter_data[:, 1], hue = scatter_data[:, 2])"
   ]
  },
  {
   "cell_type": "markdown",
   "metadata": {},
   "source": [
    " "
   ]
  },
  {
   "cell_type": "markdown",
   "metadata": {},
   "source": [
    "## Random forest: Feature importance"
   ]
  },
  {
   "cell_type": "code",
   "execution_count": null,
   "metadata": {},
   "outputs": [],
   "source": [
    "# SET DE DATOS: OPCION 1: CON EL TRAIN SET TAL CUAL\n",
    "tw_train = pd.read_csv('./tw_train.csv')\n",
    "tw_train['text'] = tw_train['text'].astype('str')\n",
    "tw_test = pd.read_csv('./tw_test.csv')\n",
    "tw_test['text'] = tw_test['text'].astype('str')"
   ]
  },
  {
   "cell_type": "code",
   "execution_count": null,
   "metadata": {},
   "outputs": [],
   "source": [
    "# SET DE DATOS: OPCION 1.2: Sacando l_in_t, k_in_t, X \n",
    "tw_train = pd.read_csv('./tw_train.csv')\n",
    "tw_train['text'] = tw_train['text'].astype('str')\n",
    "tw_train = tw_train.drop(columns = ['l_in_t', 'k_in_t', 'X'])\n",
    "tw_test = pd.read_csv('./tw_test.csv')\n",
    "tw_test['text'] = tw_test['text'].astype('str')\n",
    "tw_test = tw_test.drop(columns = ['l_in_t', 'k_in_t', 'X'])"
   ]
  },
  {
   "cell_type": "code",
   "execution_count": 90,
   "metadata": {},
   "outputs": [],
   "source": [
    "# SET DE DATOS: OPCION 2: AGREGANDO RUIDO AL TRAIN SET PARA BALANCEAR\n",
    "tw_train = pd.read_csv('./tw_train.csv')\n",
    "tw_train['text'] = tw_train['text'].astype('str')\n",
    "tw_train = tw_train.drop(columns = ['l_in_t', 'k_in_t', 'X'])\n",
    "tw_train_noise = pd.read_csv('./tw_train_noise.csv')\n",
    "tw_train_noise['text'] = tw_train_noise['text'].astype('str')\n",
    "tw_train_noise = tw_train_noise.drop(columns = ['l_in_t', 'k_in_t', 'X'])\n",
    "tw_train_balanced = balance(tw_train, tw_train_noise)\n",
    "tw_train = tw_train_balanced\n",
    "tw_test = pd.read_csv('./tw_test.csv')\n",
    "tw_test['text'] = tw_test['text'].astype('str')\n",
    "tw_test = tw_test.drop(columns = ['l_in_t', 'k_in_t', 'X'])"
   ]
  },
  {
   "cell_type": "code",
   "execution_count": null,
   "metadata": {},
   "outputs": [],
   "source": [
    "# SET DE DATOS OPCIÓN 3: AGREGANDO RUIDO AL TRAIN SET MANTENIENDO DESBALANCE\n",
    "tw_train = pd.read_csv('./tw_train.csv')\n",
    "tw_train['text'] = tw_train['text'].astype('str')\n",
    "tw_train_noise = pd.read_csv('./tw_train_noise.csv')\n",
    "tw_train_noise['text'] = tw_train_noise['text'].astype('str')\n",
    "tw_train_noisy = add_noise(tw_train, tw_train_noise, 0.6, keep_proportion = True, return_residual_noise = False)\n",
    "tw_test = pd.read_csv('./tw_test.csv')\n",
    "tw_test['text'] = tw_test['text'].astype('str')"
   ]
  },
  {
   "cell_type": "code",
   "execution_count": null,
   "metadata": {},
   "outputs": [],
   "source": [
    "# SET DE DATOS OPCIÓN 4: USAR TODO EL TRAIN PARA ENTRENAR Y RUIDO PARA VALIDAR\n",
    "tw_train = pd.read_csv('./tw_train.csv')\n",
    "tw_train['text'] = tw_train['text'].astype('str')\n",
    "tw_train_noise = pd.read_csv('./tw_train_noise.csv')\n",
    "tw_train_noise['text'] = tw_train_noise['text'].astype('str')\n",
    "tw_test = pd.read_csv('./tw_test.csv')\n",
    "tw_test['text'] = tw_test['text'].astype('str')"
   ]
  },
  {
   "cell_type": "code",
   "execution_count": 28,
   "metadata": {},
   "outputs": [],
   "source": [
    "# SET DE DATOS OPCION 5: CON UN SET DE DATOS EXTENDIDO Y BALANCEADO\n",
    "tw_train = pd.read_csv('./tw_train.csv')\n",
    "tw_train['text'] = tw_train['text'].astype('str')\n",
    "# tw_train = tw_train.drop(columns = ['l_in_t', 'k_in_t', 'X'])\n",
    "tw_train_noise = pd.read_csv('./tw_train_noise.csv')\n",
    "tw_train_noise['text'] = tw_train_noise['text'].astype('str')\n",
    "# tw_train_noise = tw_train_noise.drop(columns = ['l_in_t', 'k_in_t', 'X'])\n",
    "tw_train_noisy, residual_noise = add_noise(tw_train, tw_train_noise, 0.50, keep_proportion = True, return_residual_noise = True)\n",
    "tw_train_noisy_balanced = balance(tw_train_noisy, residual_noise)\n",
    "tw_train = tw_train_noisy_balanced\n",
    "tw_test = pd.read_csv('./tw_test.csv')\n",
    "tw_test['text'] = tw_test['text'].astype('str')\n",
    "# tw_test = tw_test.drop(columns = ['l_in_t', 'k_in_t', 'X'])"
   ]
  },
  {
   "cell_type": "code",
   "execution_count": 29,
   "metadata": {},
   "outputs": [],
   "source": [
    "# Encoding de keyword\n",
    "\n",
    "# Entreno el encoder sin los NaN. Luego, les doy un valor arbitrario no contenido en el conjunto de categorías original de manera que, \n",
    "# en la tranformación, se les asigne el vector nulo\n",
    "ohe = OneHotEncoder(handle_unknown = 'ignore')\n",
    "ohe.fit(np.array(tw_train.loc[tw_train['keyword'].isna() == False, 'keyword']).reshape((-1,1)))\n",
    "tw_train['keyword'].fillna('NoKeyword', inplace = True)\n",
    "tw_train_keyword_enc = ohe.transform(np.array(tw_train['keyword']).reshape((-1,1)))\n",
    "tw_test['keyword'].fillna('NoKeyword', inplace = True)\n",
    "tw_test_keyword_enc = ohe.transform(np.array(tw_test['keyword']).reshape((-1,1)))"
   ]
  },
  {
   "cell_type": "code",
   "execution_count": 30,
   "metadata": {},
   "outputs": [
    {
     "name": "stdout",
     "output_type": "stream",
     "text": [
      "El encoding genera 221 nuevos features\n"
     ]
    }
   ],
   "source": [
    "print('El encoding genera {} nuevos features'.format(tw_train_keyword_enc.shape[1]))"
   ]
  },
  {
   "cell_type": "code",
   "execution_count": 31,
   "metadata": {},
   "outputs": [],
   "source": [
    "def embed(text):\n",
    "    addition = np.zeros((100,))\n",
    "    for word in word_tokenize(text):\n",
    "        try:\n",
    "            addition += np.array(embeddingsIndex[word.lower()]).astype(np.float)\n",
    "        except:\n",
    "            continue\n",
    "    return addition\n",
    "\n",
    "tw_train_text_embedded = np.stack(tw_train['text'].map(lambda x: embed(x)))\n",
    "tw_test_text_embedded = np.stack(tw_test['text'].map(lambda x: embed(x)))"
   ]
  },
  {
   "cell_type": "code",
   "execution_count": 32,
   "metadata": {},
   "outputs": [
    {
     "name": "stdout",
     "output_type": "stream",
     "text": [
      "El embedding genera 100 nuevos features\n"
     ]
    }
   ],
   "source": [
    "print(f'El embedding genera {tw_train_text_embedded.shape[1]} nuevos features')"
   ]
  },
  {
   "cell_type": "code",
   "execution_count": 33,
   "metadata": {},
   "outputs": [],
   "source": [
    "# Conformación de los sets de datos\n",
    "\n",
    "tw_train_subset = tw_train.drop(columns = ['id', 'keyword', 'location', 'text', 'target'])\n",
    "X = sparse.hstack((tw_train_text_embedded, sparse.csr_matrix(tw_train_subset.values)))\n",
    "X = sparse.hstack((tw_train_keyword_enc, X))\n",
    "y = tw_train['target']\n",
    "\n",
    "tw_test_subset = tw_test.drop(columns = ['id', 'keyword', 'location', 'text'])\n",
    "X_test = sparse.hstack((tw_test_text_embedded, sparse.csr_matrix(tw_test_subset.values)))\n",
    "X_test = sparse.hstack((tw_test_keyword_enc, X_test))"
   ]
  },
  {
   "cell_type": "code",
   "execution_count": 103,
   "metadata": {},
   "outputs": [],
   "source": [
    "# Conformación de los sets de datos sin encoding\n",
    "\n",
    "tw_train_subset = tw_train.drop(columns = ['id', 'keyword', 'location', 'text', 'target'])\n",
    "X = sparse.hstack((tw_train_text_embedded, sparse.csr_matrix(tw_train_subset.values)))\n",
    "y = tw_train['target']\n",
    "\n",
    "tw_test_subset = tw_test.drop(columns = ['id', 'keyword', 'location', 'text'])\n",
    "X_test = sparse.hstack((tw_test_text_embedded, sparse.csr_matrix(tw_test_subset.values)))"
   ]
  },
  {
   "cell_type": "code",
   "execution_count": 34,
   "metadata": {},
   "outputs": [],
   "source": [
    "# Separación del set de validación\n",
    "\n",
    "X_train, X_val, y_train, y_val = train_test_split(X, y, stratify = y, test_size=0.20, random_state=123)"
   ]
  },
  {
   "cell_type": "code",
   "execution_count": 35,
   "metadata": {},
   "outputs": [
    {
     "name": "stdout",
     "output_type": "stream",
     "text": [
      "Las dimensiones de los sets de datos son:\n",
      "    Set de entrenamiento: (10420, 348)\n",
      "    Set de validación: (2606, 348)\n",
      "    Set de test: (3263, 348)\n"
     ]
    }
   ],
   "source": [
    "print(\n",
    "    '''Las dimensiones de los sets de datos son:\n",
    "    Set de entrenamiento: {}\n",
    "    Set de validación: {}\n",
    "    Set de test: {}'''.format(X_train.shape, X_val.shape,X_test.shape)\n",
    ")"
   ]
  },
  {
   "cell_type": "code",
   "execution_count": 36,
   "metadata": {},
   "outputs": [
    {
     "data": {
      "text/plain": [
       "RandomForestClassifier(n_estimators=300, random_state=158)"
      ]
     },
     "execution_count": 36,
     "metadata": {},
     "output_type": "execute_result"
    }
   ],
   "source": [
    "# Entrenamiento del clasificador\n",
    "rfc = RandomForestClassifier(n_estimators = 300, random_state = 158)\n",
    "rfc.fit(X_train, y_train)"
   ]
  },
  {
   "cell_type": "code",
   "execution_count": 37,
   "metadata": {},
   "outputs": [
    {
     "data": {
      "text/plain": [
       "0.9945297504798465"
      ]
     },
     "execution_count": 37,
     "metadata": {},
     "output_type": "execute_result"
    }
   ],
   "source": [
    "# Evaluación del error de entrenamiento\n",
    "rfc.score(X_train, y_train)"
   ]
  },
  {
   "cell_type": "code",
   "execution_count": 38,
   "metadata": {},
   "outputs": [],
   "source": [
    "# Predicción sobre el Validation Set\n",
    "predicted_0 = rfc.predict(X_val)"
   ]
  },
  {
   "cell_type": "code",
   "execution_count": 39,
   "metadata": {},
   "outputs": [
    {
     "name": "stdout",
     "output_type": "stream",
     "text": [
      "El F1-Score es: 0.8121787267694742 \n",
      "\n",
      "La confusion matrix es: \n",
      "[[1104  199]\n",
      " [ 276 1027]] \n",
      "\n",
      "El classification report es: \n",
      "              precision    recall  f1-score   support\n",
      "\n",
      "           0       0.80      0.85      0.82      1303\n",
      "           1       0.84      0.79      0.81      1303\n",
      "\n",
      "    accuracy                           0.82      2606\n",
      "   macro avg       0.82      0.82      0.82      2606\n",
      "weighted avg       0.82      0.82      0.82      2606\n",
      " \n",
      "\n"
     ]
    }
   ],
   "source": [
    "# Evaluación de la predicción\n",
    "print('El F1-Score es: {} \\n'.format(f1_score(y_val, predicted_0)))\n",
    "print('La confusion matrix es: \\n{} \\n'.format(confusion_matrix(y_val, predicted_0)))\n",
    "print('El classification report es: \\n{} \\n'.format(classification_report(y_val, predicted_0)))"
   ]
  },
  {
   "cell_type": "code",
   "execution_count": 23,
   "metadata": {},
   "outputs": [],
   "source": [
    "results = pd.read_csv('./results.csv')"
   ]
  },
  {
   "cell_type": "code",
   "execution_count": 40,
   "metadata": {},
   "outputs": [
    {
     "name": "stdout",
     "output_type": "stream",
     "text": [
      "ERROR DE SUBMIT:\n",
      "\n",
      "El F1-Score es: 0.7472775065715358 \n",
      "\n",
      "La confusion matrix es: \n",
      "[[1595  266]\n",
      " [ 407  995]] \n",
      "\n",
      "El classification report es: \n",
      "              precision    recall  f1-score   support\n",
      "\n",
      "           0       0.80      0.86      0.83      1861\n",
      "           1       0.79      0.71      0.75      1402\n",
      "\n",
      "    accuracy                           0.79      3263\n",
      "   macro avg       0.79      0.78      0.79      3263\n",
      "weighted avg       0.79      0.79      0.79      3263\n",
      " \n",
      "\n"
     ]
    }
   ],
   "source": [
    "# Más evaluación\n",
    "predicted_test = rfc.predict(X_test)\n",
    "print('ERROR DE SUBMIT:\\n')\n",
    "print('El F1-Score es: {} \\n'.format(f1_score(results['target'], predicted_test)))\n",
    "print('La confusion matrix es: \\n{} \\n'.format(confusion_matrix(results['target'], predicted_test)))\n",
    "print('El classification report es: \\n{} \\n'.format(classification_report(results['target'], predicted_test)))"
   ]
  },
  {
   "cell_type": "code",
   "execution_count": 41,
   "metadata": {
    "scrolled": true
   },
   "outputs": [
    {
     "name": "stdout",
     "output_type": "stream",
     "text": [
      "Feature ranking:\n",
      "1. feature 290 (0.037201)\n",
      "2. feature 282 (0.036330)\n",
      "3. feature 250 (0.030853)\n",
      "4. feature 303 (0.026660)\n",
      "5. feature 247 (0.023363)\n",
      "6. feature 236 (0.021616)\n",
      "7. feature 242 (0.020314)\n",
      "8. feature 235 (0.018018)\n",
      "9. feature 304 (0.017619)\n",
      "10. feature 221 (0.016630)\n",
      "11. feature 222 (0.015738)\n",
      "12. feature 302 (0.015215)\n",
      "13. feature 258 (0.014400)\n",
      "14. feature 262 (0.014336)\n",
      "15. feature 345 (0.012792)\n",
      "16. feature 299 (0.012521)\n",
      "17. feature 283 (0.012094)\n",
      "18. feature 266 (0.010320)\n",
      "19. feature 251 (0.009826)\n",
      "20. feature 307 (0.009466)\n",
      "21. feature 273 (0.009152)\n",
      "22. feature 261 (0.009079)\n",
      "23. feature 297 (0.009025)\n",
      "24. feature 246 (0.008986)\n",
      "25. feature 274 (0.008888)\n",
      "26. feature 230 (0.008678)\n",
      "27. feature 224 (0.008677)\n",
      "28. feature 279 (0.008629)\n",
      "29. feature 293 (0.008553)\n",
      "30. feature 245 (0.008542)\n",
      "31. feature 342 (0.008308)\n",
      "32. feature 336 (0.008171)\n",
      "33. feature 288 (0.008063)\n",
      "34. feature 244 (0.007921)\n",
      "35. feature 264 (0.007773)\n",
      "36. feature 347 (0.007723)\n",
      "37. feature 223 (0.007556)\n",
      "38. feature 306 (0.007537)\n",
      "39. feature 267 (0.007509)\n",
      "40. feature 227 (0.007486)\n",
      "41. feature 228 (0.007081)\n",
      "42. feature 253 (0.007072)\n",
      "43. feature 257 (0.007001)\n",
      "44. feature 287 (0.006997)\n",
      "45. feature 300 (0.006970)\n",
      "46. feature 259 (0.006915)\n",
      "47. feature 295 (0.006854)\n",
      "48. feature 254 (0.006770)\n",
      "49. feature 238 (0.006737)\n",
      "50. feature 229 (0.006639)\n",
      "51. feature 318 (0.006591)\n",
      "52. feature 237 (0.006583)\n",
      "53. feature 326 (0.006512)\n",
      "54. feature 281 (0.006367)\n",
      "55. feature 225 (0.006364)\n",
      "56. feature 231 (0.006340)\n",
      "57. feature 256 (0.006329)\n",
      "58. feature 315 (0.006280)\n",
      "59. feature 327 (0.006178)\n",
      "60. feature 275 (0.006095)\n",
      "61. feature 311 (0.006075)\n",
      "62. feature 317 (0.006071)\n",
      "63. feature 285 (0.005994)\n",
      "64. feature 276 (0.005988)\n",
      "65. feature 268 (0.005981)\n",
      "66. feature 249 (0.005948)\n",
      "67. feature 271 (0.005941)\n",
      "68. feature 255 (0.005905)\n",
      "69. feature 248 (0.005899)\n",
      "70. feature 232 (0.005834)\n",
      "71. feature 319 (0.005812)\n",
      "72. feature 294 (0.005804)\n",
      "73. feature 314 (0.005769)\n",
      "74. feature 241 (0.005742)\n",
      "75. feature 252 (0.005726)\n",
      "76. feature 260 (0.005715)\n",
      "77. feature 278 (0.005713)\n",
      "78. feature 234 (0.005688)\n",
      "79. feature 280 (0.005670)\n",
      "80. feature 233 (0.005669)\n",
      "81. feature 286 (0.005645)\n",
      "82. feature 292 (0.005635)\n",
      "83. feature 296 (0.005599)\n",
      "84. feature 240 (0.005563)\n",
      "85. feature 308 (0.005560)\n",
      "86. feature 301 (0.005540)\n",
      "87. feature 269 (0.005536)\n",
      "88. feature 298 (0.005515)\n",
      "89. feature 312 (0.005470)\n",
      "90. feature 284 (0.005463)\n",
      "91. feature 305 (0.005461)\n",
      "92. feature 272 (0.005452)\n",
      "93. feature 310 (0.005421)\n",
      "94. feature 226 (0.005413)\n",
      "95. feature 277 (0.005382)\n",
      "96. feature 313 (0.005382)\n",
      "97. feature 265 (0.005364)\n",
      "98. feature 320 (0.005362)\n",
      "99. feature 316 (0.005339)\n",
      "100. feature 309 (0.005298)\n",
      "101. feature 291 (0.005275)\n",
      "102. feature 289 (0.005254)\n",
      "103. feature 270 (0.005219)\n",
      "104. feature 243 (0.005165)\n",
      "105. feature 239 (0.005098)\n",
      "106. feature 263 (0.005087)\n",
      "107. feature 346 (0.004673)\n",
      "108. feature 333 (0.004052)\n",
      "109. feature 343 (0.003994)\n",
      "110. feature 340 (0.003413)\n",
      "111. feature 344 (0.003200)\n",
      "112. feature 337 (0.002744)\n",
      "113. feature 338 (0.002740)\n",
      "114. feature 341 (0.002607)\n",
      "115. feature 329 (0.002594)\n",
      "116. feature 332 (0.002084)\n",
      "117. feature 325 (0.001803)\n",
      "118. feature 324 (0.001630)\n",
      "119. feature 328 (0.001579)\n",
      "120. feature 330 (0.001524)\n",
      "121. feature 335 (0.001368)\n",
      "122. feature 323 (0.001365)\n",
      "123. feature 331 (0.001173)\n",
      "124. feature 334 (0.001112)\n",
      "125. feature 321 (0.001079)\n",
      "126. feature 129 (0.000618)\n",
      "127. feature 34 (0.000417)\n",
      "128. feature 38 (0.000368)\n",
      "129. feature 199 (0.000354)\n",
      "130. feature 139 (0.000323)\n",
      "131. feature 168 (0.000302)\n",
      "132. feature 215 (0.000293)\n",
      "133. feature 118 (0.000263)\n",
      "134. feature 107 (0.000239)\n",
      "135. feature 212 (0.000238)\n",
      "136. feature 146 (0.000237)\n",
      "137. feature 181 (0.000235)\n",
      "138. feature 65 (0.000228)\n",
      "139. feature 213 (0.000227)\n",
      "140. feature 154 (0.000215)\n",
      "141. feature 171 (0.000210)\n",
      "142. feature 322 (0.000208)\n",
      "143. feature 17 (0.000207)\n",
      "144. feature 339 (0.000199)\n",
      "145. feature 152 (0.000190)\n",
      "146. feature 145 (0.000187)\n",
      "147. feature 74 (0.000186)\n",
      "148. feature 105 (0.000181)\n",
      "149. feature 46 (0.000178)\n",
      "150. feature 75 (0.000176)\n",
      "151. feature 96 (0.000173)\n",
      "152. feature 82 (0.000173)\n",
      "153. feature 148 (0.000167)\n",
      "154. feature 125 (0.000165)\n",
      "155. feature 169 (0.000163)\n",
      "156. feature 132 (0.000160)\n",
      "157. feature 60 (0.000160)\n",
      "158. feature 208 (0.000158)\n",
      "159. feature 85 (0.000156)\n",
      "160. feature 22 (0.000156)\n",
      "161. feature 67 (0.000156)\n",
      "162. feature 100 (0.000155)\n",
      "163. feature 79 (0.000153)\n",
      "164. feature 23 (0.000150)\n",
      "165. feature 58 (0.000147)\n",
      "166. feature 40 (0.000146)\n",
      "167. feature 205 (0.000142)\n",
      "168. feature 122 (0.000142)\n",
      "169. feature 157 (0.000140)\n",
      "170. feature 95 (0.000138)\n",
      "171. feature 115 (0.000137)\n",
      "172. feature 57 (0.000136)\n",
      "173. feature 179 (0.000135)\n",
      "174. feature 101 (0.000135)\n",
      "175. feature 24 (0.000132)\n",
      "176. feature 218 (0.000132)\n",
      "177. feature 123 (0.000129)\n",
      "178. feature 29 (0.000128)\n",
      "179. feature 93 (0.000128)\n",
      "180. feature 102 (0.000127)\n",
      "181. feature 160 (0.000126)\n",
      "182. feature 69 (0.000124)\n",
      "183. feature 92 (0.000123)\n",
      "184. feature 137 (0.000123)\n",
      "185. feature 155 (0.000122)\n",
      "186. feature 18 (0.000120)\n",
      "187. feature 140 (0.000119)\n",
      "188. feature 151 (0.000117)\n",
      "189. feature 4 (0.000117)\n",
      "190. feature 182 (0.000116)\n",
      "191. feature 144 (0.000116)\n",
      "192. feature 167 (0.000115)\n",
      "193. feature 214 (0.000115)\n",
      "194. feature 42 (0.000115)\n",
      "195. feature 78 (0.000115)\n",
      "196. feature 35 (0.000114)\n",
      "197. feature 10 (0.000113)\n",
      "198. feature 11 (0.000113)\n",
      "199. feature 73 (0.000113)\n",
      "200. feature 177 (0.000111)\n",
      "201. feature 6 (0.000111)\n",
      "202. feature 90 (0.000109)\n",
      "203. feature 80 (0.000108)\n",
      "204. feature 39 (0.000107)\n",
      "205. feature 104 (0.000106)\n",
      "206. feature 108 (0.000105)\n",
      "207. feature 133 (0.000105)\n",
      "208. feature 209 (0.000105)\n",
      "209. feature 5 (0.000104)\n",
      "210. feature 41 (0.000104)\n",
      "211. feature 166 (0.000104)\n",
      "212. feature 164 (0.000104)\n",
      "213. feature 70 (0.000103)\n",
      "214. feature 175 (0.000103)\n",
      "215. feature 71 (0.000103)\n",
      "216. feature 121 (0.000103)\n",
      "217. feature 72 (0.000102)\n",
      "218. feature 106 (0.000101)\n",
      "219. feature 202 (0.000101)\n",
      "220. feature 31 (0.000101)\n",
      "221. feature 14 (0.000101)\n",
      "222. feature 195 (0.000100)\n",
      "223. feature 37 (0.000098)\n",
      "224. feature 49 (0.000098)\n",
      "225. feature 211 (0.000098)\n",
      "226. feature 15 (0.000098)\n",
      "227. feature 54 (0.000097)\n",
      "228. feature 165 (0.000096)\n",
      "229. feature 66 (0.000095)\n",
      "230. feature 147 (0.000094)\n",
      "231. feature 63 (0.000094)\n",
      "232. feature 43 (0.000092)\n",
      "233. feature 52 (0.000091)\n",
      "234. feature 206 (0.000091)\n",
      "235. feature 3 (0.000090)\n",
      "236. feature 91 (0.000090)\n",
      "237. feature 189 (0.000089)\n",
      "238. feature 110 (0.000089)\n",
      "239. feature 16 (0.000089)\n",
      "240. feature 47 (0.000089)\n",
      "241. feature 200 (0.000089)\n",
      "242. feature 8 (0.000088)\n",
      "243. feature 86 (0.000087)\n",
      "244. feature 9 (0.000087)\n",
      "245. feature 191 (0.000087)\n",
      "246. feature 120 (0.000087)\n",
      "247. feature 113 (0.000087)\n",
      "248. feature 176 (0.000087)\n",
      "249. feature 89 (0.000086)\n",
      "250. feature 131 (0.000086)\n",
      "251. feature 192 (0.000085)\n",
      "252. feature 28 (0.000084)\n",
      "253. feature 2 (0.000083)\n",
      "254. feature 130 (0.000082)\n",
      "255. feature 174 (0.000082)\n",
      "256. feature 98 (0.000082)\n",
      "257. feature 162 (0.000081)\n",
      "258. feature 87 (0.000080)\n",
      "259. feature 7 (0.000080)\n",
      "260. feature 109 (0.000080)\n",
      "261. feature 207 (0.000078)\n",
      "262. feature 61 (0.000078)\n",
      "263. feature 114 (0.000077)\n",
      "264. feature 193 (0.000076)\n",
      "265. feature 197 (0.000075)\n",
      "266. feature 143 (0.000075)\n",
      "267. feature 194 (0.000074)\n",
      "268. feature 56 (0.000073)\n",
      "269. feature 198 (0.000073)\n",
      "270. feature 196 (0.000073)\n",
      "271. feature 99 (0.000073)\n",
      "272. feature 116 (0.000071)\n",
      "273. feature 112 (0.000071)\n",
      "274. feature 97 (0.000070)\n",
      "275. feature 119 (0.000070)\n",
      "276. feature 126 (0.000069)\n",
      "277. feature 203 (0.000069)\n",
      "278. feature 141 (0.000067)\n",
      "279. feature 51 (0.000067)\n",
      "280. feature 48 (0.000067)\n",
      "281. feature 127 (0.000067)\n",
      "282. feature 188 (0.000067)\n",
      "283. feature 55 (0.000066)\n",
      "284. feature 220 (0.000066)\n",
      "285. feature 84 (0.000065)\n",
      "286. feature 217 (0.000064)\n",
      "287. feature 159 (0.000063)\n",
      "288. feature 33 (0.000063)\n",
      "289. feature 103 (0.000062)\n",
      "290. feature 30 (0.000062)\n",
      "291. feature 81 (0.000061)\n",
      "292. feature 163 (0.000061)\n",
      "293. feature 135 (0.000061)\n",
      "294. feature 32 (0.000061)\n",
      "295. feature 1 (0.000060)\n",
      "296. feature 138 (0.000060)\n",
      "297. feature 77 (0.000060)\n",
      "298. feature 53 (0.000060)\n",
      "299. feature 178 (0.000059)\n",
      "300. feature 44 (0.000059)\n",
      "301. feature 0 (0.000058)\n",
      "302. feature 12 (0.000058)\n",
      "303. feature 20 (0.000058)\n",
      "304. feature 68 (0.000057)\n",
      "305. feature 184 (0.000057)\n",
      "306. feature 111 (0.000057)\n",
      "307. feature 117 (0.000055)\n",
      "308. feature 187 (0.000055)\n",
      "309. feature 76 (0.000054)\n",
      "310. feature 59 (0.000053)\n",
      "311. feature 19 (0.000053)\n",
      "312. feature 172 (0.000052)\n",
      "313. feature 149 (0.000051)\n",
      "314. feature 201 (0.000051)\n",
      "315. feature 13 (0.000050)\n",
      "316. feature 183 (0.000049)\n",
      "317. feature 62 (0.000049)\n",
      "318. feature 216 (0.000049)\n",
      "319. feature 26 (0.000048)\n",
      "320. feature 88 (0.000048)\n",
      "321. feature 210 (0.000047)\n",
      "322. feature 161 (0.000047)\n",
      "323. feature 64 (0.000046)\n",
      "324. feature 45 (0.000045)\n",
      "325. feature 21 (0.000045)\n",
      "326. feature 136 (0.000042)\n",
      "327. feature 158 (0.000042)\n",
      "328. feature 190 (0.000041)\n",
      "329. feature 36 (0.000041)\n",
      "330. feature 173 (0.000041)\n",
      "331. feature 180 (0.000039)\n",
      "332. feature 219 (0.000038)\n",
      "333. feature 25 (0.000037)\n",
      "334. feature 27 (0.000037)\n",
      "335. feature 83 (0.000037)\n",
      "336. feature 156 (0.000037)\n",
      "337. feature 50 (0.000037)\n",
      "338. feature 204 (0.000035)\n",
      "339. feature 124 (0.000033)\n",
      "340. feature 185 (0.000031)\n",
      "341. feature 128 (0.000029)\n",
      "342. feature 153 (0.000025)\n",
      "343. feature 150 (0.000021)\n",
      "344. feature 142 (0.000020)\n",
      "345. feature 94 (0.000017)\n",
      "346. feature 170 (0.000008)\n",
      "347. feature 134 (0.000003)\n",
      "348. feature 186 (0.000002)\n"
     ]
    }
   ],
   "source": [
    "# Feature ranking\n",
    "importances = rfc.feature_importances_\n",
    "std = np.std([tree.feature_importances_ for tree in rfc.estimators_], axis=0)\n",
    "indices = np.argsort(importances)[::-1]\n",
    "\n",
    "myTopFeatures = []\n",
    "print(\"Feature ranking:\")\n",
    "for f in range(X.shape[1]):   \n",
    "    print(\"%d. feature %d (%f)\" % (f + 1, indices[f], importances[indices[f]]))\n",
    "    if indices[f] >= 321:\n",
    "        myTopFeatures.append((f + 1, indices[f], importances[indices[f]]))\n",
    "# print([indices[f] for f in range(80)])"
   ]
  },
  {
   "cell_type": "code",
   "execution_count": 46,
   "metadata": {},
   "outputs": [
    {
     "data": {
      "image/png": "[encoded data removed]",
      "text/plain": [
       "<Figure size 1296x648 with 1 Axes>"
      ]
     },
     "metadata": {},
     "output_type": "display_data"
    }
   ],
   "source": [
    "# Plot the impurity-based feature importances of the forest\n",
    "plt.style.use('ggplot')\n",
    "plt.figure(figsize = (18, 9))\n",
    "plt.title(\"Feature importances\")\n",
    "# plt.bar(range(X.shape[1]), importances[indices],color=\"r\", yerr=std[indices], align=\"center\")\n",
    "# plt.xticks(range(X.shape[1]), indices)\n",
    "plt.xlabel('Features')\n",
    "plt.bar(range(X.shape[1]), importances[indices],color=\"b\")\n",
    "# plt.xlim([-1, X.shape[1]])\n",
    "plt.show()"
   ]
  },
  {
   "cell_type": "markdown",
   "metadata": {},
   "source": [
    " "
   ]
  }
 ],
 "metadata": {
  "kernelspec": {
   "display_name": "venvTP2",
   "language": "python",
   "name": "venvtp2"
  },
  "language_info": {
   "codemirror_mode": {
    "name": "ipython",
    "version": 3
   },
   "file_extension": ".py",
   "mimetype": "text/x-python",
   "name": "python",
   "nbconvert_exporter": "python",
   "pygments_lexer": "ipython3",
   "version": "3.6.9"
  }
 },
 "nbformat": 4,
 "nbformat_minor": 4
}

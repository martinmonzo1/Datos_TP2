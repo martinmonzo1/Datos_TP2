{
 "cells": [
  {
   "cell_type": "code",
   "execution_count": 1,
   "metadata": {},
   "outputs": [],
   "source": [
    "import numpy as np\n",
    "import pandas as pd\n",
    "import matplotlib.pyplot as plt\n",
    "import seaborn as sns"
   ]
  },
  {
   "cell_type": "code",
   "execution_count": 2,
   "metadata": {},
   "outputs": [],
   "source": [
    "import nltk\n",
    "from nltk import word_tokenize, sent_tokenize\n",
    "from textblob import TextBlob"
   ]
  },
  {
   "cell_type": "code",
   "execution_count": 3,
   "metadata": {},
   "outputs": [],
   "source": [
    "headlines = pd.read_csv('abcnews-date-text.csv')"
   ]
  },
  {
   "cell_type": "code",
   "execution_count": 4,
   "metadata": {},
   "outputs": [],
   "source": [
    "pd.set_option('display.max_columns', None)\n",
    "pd.options.display.max_colwidth = 150"
   ]
  },
  {
   "cell_type": "code",
   "execution_count": 5,
   "metadata": {},
   "outputs": [],
   "source": [
    "headlinesSample = headlines.sample(10000, random_state = 123)\n",
    "headlinesSample.reset_index(inplace = True)"
   ]
  },
  {
   "cell_type": "code",
   "execution_count": 6,
   "metadata": {
    "jupyter": {
     "source_hidden": true
    }
   },
   "outputs": [
    {
     "data": {
      "image/png": "[encoded data removed]",
      "text/plain": [
       "<Figure size 720x576 with 1 Axes>"
      ]
     },
     "metadata": {
      "needs_background": "light"
     },
     "output_type": "display_data"
    }
   ],
   "source": [
    "fig, ax = plt.subplots(nrows = 1, ncols = 1, figsize = (10, 8))\n",
    "ax = sns.kdeplot(headlinesSample['headline_text'].map(lambda x: len(x)))"
   ]
  },
  {
   "cell_type": "code",
   "execution_count": 7,
   "metadata": {},
   "outputs": [],
   "source": [
    "headlinesSample['textLenght'] = headlinesSample['headline_text'].map(lambda x: len(x))"
   ]
  },
  {
   "cell_type": "code",
   "execution_count": 8,
   "metadata": {},
   "outputs": [],
   "source": [
    "# Creación de nuevos features a partir de PoS: Presencia de cada una de las partes\n",
    "def wilsonScore(num, den):\n",
    "    if num == 0:\n",
    "        return round(0, 2)\n",
    "    phat = num/den\n",
    "    z = 1.96\n",
    "    return round(((phat + z*z/(2*den) - z * np.sqrt((phat*(1-phat)+z*z/(4*den))/den))/(1+z*z/den)), 2)\n",
    "\n",
    "def posPreprocessing(text):\n",
    "    tagsCount = {'ADJ':0, 'ADP':0, 'ADV':0, 'CONJ':0, 'DET':0, 'NOUN':0, 'NUM':0, 'PRT':0, 'PRON':0, 'VERB':0, '.':0, 'X':0}\n",
    "    tags = []\n",
    "    sentences = sent_tokenize(text)\n",
    "    for sentence in sentences:\n",
    "        tags += nltk.pos_tag(word_tokenize(sentence), tagset = 'universal')\n",
    "    for word, tag in tags:\n",
    "        tagsCount[tag] += 1    \n",
    "    POS_ratio = [round((12 - list(tagsCount.values()).count(0))/12, 2)]\n",
    "    mostCommonPOS_ratio = [round(list(tagsCount.values()).count(max(tagsCount.values()))/(12-list(tagsCount.values()).count(0)), 2)]    \n",
    "    #noun_ratio =  [round(tagsCount['NOUN']/sum(tagsCount.values()), 2)]\n",
    "    noun_ratio =  [wilsonScore(tagsCount['NOUN'], sum(tagsCount.values()))]\n",
    "    return list(tagsCount.values()) + POS_ratio + mostCommonPOS_ratio + noun_ratio\n",
    "        \n",
    "headlinesSample[['ADJ','ADP','ADV','CONJ','DET','NOUN','NUM','PRT','PRON','VERB','.','X','POS_ratio','topPOS_ratio','NOUN/TOT']] = pd.DataFrame(headlinesSample['headline_text'].map(lambda x: posPreprocessing(x)).tolist())"
   ]
  },
  {
   "cell_type": "code",
   "execution_count": 9,
   "metadata": {},
   "outputs": [
    {
     "data": {
      "text/plain": [
       "polarity        0.02\n",
       "subjectivity    0.15\n",
       "dtype: float64"
      ]
     },
     "execution_count": 9,
     "metadata": {},
     "output_type": "execute_result"
    }
   ],
   "source": [
    "def sentimentAnalysis(text):\n",
    "    blob = TextBlob(text)\n",
    "    return blob.sentiment\n",
    "\n",
    "headlinesSample[['polarity', 'subjectivity']] = pd.DataFrame(headlinesSample['headline_text'].map(lambda x: sentimentAnalysis(x)).tolist())\n",
    "round(headlinesSample[['polarity', 'subjectivity']].mean(), 2)"
   ]
  },
  {
   "cell_type": "code",
   "execution_count": 10,
   "metadata": {},
   "outputs": [
    {
     "data": {
      "text/html": [
       "<div>\n",
       "<style scoped>\n",
       "    .dataframe tbody tr th:only-of-type {\n",
       "        vertical-align: middle;\n",
       "    }\n",
       "\n",
       "    .dataframe tbody tr th {\n",
       "        vertical-align: top;\n",
       "    }\n",
       "\n",
       "    .dataframe thead th {\n",
       "        text-align: right;\n",
       "    }\n",
       "</style>\n",
       "<table border=\"1\" class=\"dataframe\">\n",
       "  <thead>\n",
       "    <tr style=\"text-align: right;\">\n",
       "      <th></th>\n",
       "      <th>index</th>\n",
       "      <th>publish_date</th>\n",
       "      <th>headline_text</th>\n",
       "      <th>textLenght</th>\n",
       "      <th>ADJ</th>\n",
       "      <th>ADP</th>\n",
       "      <th>ADV</th>\n",
       "      <th>CONJ</th>\n",
       "      <th>DET</th>\n",
       "      <th>NOUN</th>\n",
       "      <th>NUM</th>\n",
       "      <th>PRT</th>\n",
       "      <th>PRON</th>\n",
       "      <th>VERB</th>\n",
       "      <th>.</th>\n",
       "      <th>X</th>\n",
       "      <th>POS_ratio</th>\n",
       "      <th>topPOS_ratio</th>\n",
       "      <th>NOUN/TOT</th>\n",
       "      <th>polarity</th>\n",
       "      <th>subjectivity</th>\n",
       "    </tr>\n",
       "  </thead>\n",
       "  <tbody>\n",
       "    <tr>\n",
       "      <th>0</th>\n",
       "      <td>408956</td>\n",
       "      <td>20080905</td>\n",
       "      <td>rees sworn in as new nsw premier</td>\n",
       "      <td>32</td>\n",
       "      <td>1</td>\n",
       "      <td>2</td>\n",
       "      <td>0</td>\n",
       "      <td>0</td>\n",
       "      <td>0</td>\n",
       "      <td>3</td>\n",
       "      <td>0</td>\n",
       "      <td>0</td>\n",
       "      <td>0</td>\n",
       "      <td>1</td>\n",
       "      <td>0</td>\n",
       "      <td>0</td>\n",
       "      <td>0.33</td>\n",
       "      <td>0.25</td>\n",
       "      <td>0.16</td>\n",
       "      <td>0.136364</td>\n",
       "      <td>0.454545</td>\n",
       "    </tr>\n",
       "    <tr>\n",
       "      <th>1</th>\n",
       "      <td>826060</td>\n",
       "      <td>20131014</td>\n",
       "      <td>nrn new bjd case</td>\n",
       "      <td>16</td>\n",
       "      <td>1</td>\n",
       "      <td>0</td>\n",
       "      <td>1</td>\n",
       "      <td>0</td>\n",
       "      <td>0</td>\n",
       "      <td>2</td>\n",
       "      <td>0</td>\n",
       "      <td>0</td>\n",
       "      <td>0</td>\n",
       "      <td>0</td>\n",
       "      <td>0</td>\n",
       "      <td>0</td>\n",
       "      <td>0.25</td>\n",
       "      <td>0.33</td>\n",
       "      <td>0.15</td>\n",
       "      <td>0.136364</td>\n",
       "      <td>0.454545</td>\n",
       "    </tr>\n",
       "    <tr>\n",
       "      <th>2</th>\n",
       "      <td>819895</td>\n",
       "      <td>20130917</td>\n",
       "      <td>natasha griggs defends male dominated federal cabinet</td>\n",
       "      <td>53</td>\n",
       "      <td>2</td>\n",
       "      <td>0</td>\n",
       "      <td>1</td>\n",
       "      <td>0</td>\n",
       "      <td>0</td>\n",
       "      <td>3</td>\n",
       "      <td>0</td>\n",
       "      <td>0</td>\n",
       "      <td>0</td>\n",
       "      <td>1</td>\n",
       "      <td>0</td>\n",
       "      <td>0</td>\n",
       "      <td>0.33</td>\n",
       "      <td>0.25</td>\n",
       "      <td>0.16</td>\n",
       "      <td>0.000000</td>\n",
       "      <td>0.100000</td>\n",
       "    </tr>\n",
       "    <tr>\n",
       "      <th>3</th>\n",
       "      <td>685056</td>\n",
       "      <td>20120404</td>\n",
       "      <td>horsham records road toll spike</td>\n",
       "      <td>31</td>\n",
       "      <td>0</td>\n",
       "      <td>0</td>\n",
       "      <td>0</td>\n",
       "      <td>0</td>\n",
       "      <td>0</td>\n",
       "      <td>5</td>\n",
       "      <td>0</td>\n",
       "      <td>0</td>\n",
       "      <td>0</td>\n",
       "      <td>0</td>\n",
       "      <td>0</td>\n",
       "      <td>0</td>\n",
       "      <td>0.08</td>\n",
       "      <td>1.00</td>\n",
       "      <td>0.57</td>\n",
       "      <td>0.000000</td>\n",
       "      <td>0.000000</td>\n",
       "    </tr>\n",
       "    <tr>\n",
       "      <th>4</th>\n",
       "      <td>387780</td>\n",
       "      <td>20080603</td>\n",
       "      <td>corbell warns canberrans of house fire risk</td>\n",
       "      <td>43</td>\n",
       "      <td>0</td>\n",
       "      <td>1</td>\n",
       "      <td>0</td>\n",
       "      <td>0</td>\n",
       "      <td>0</td>\n",
       "      <td>6</td>\n",
       "      <td>0</td>\n",
       "      <td>0</td>\n",
       "      <td>0</td>\n",
       "      <td>0</td>\n",
       "      <td>0</td>\n",
       "      <td>0</td>\n",
       "      <td>0.17</td>\n",
       "      <td>0.50</td>\n",
       "      <td>0.49</td>\n",
       "      <td>0.000000</td>\n",
       "      <td>0.000000</td>\n",
       "    </tr>\n",
       "  </tbody>\n",
       "</table>\n",
       "</div>"
      ],
      "text/plain": [
       "    index  publish_date  \\\n",
       "0  408956      20080905   \n",
       "1  826060      20131014   \n",
       "2  819895      20130917   \n",
       "3  685056      20120404   \n",
       "4  387780      20080603   \n",
       "\n",
       "                                           headline_text  textLenght  ADJ  \\\n",
       "0                       rees sworn in as new nsw premier          32    1   \n",
       "1                                       nrn new bjd case          16    1   \n",
       "2  natasha griggs defends male dominated federal cabinet          53    2   \n",
       "3                        horsham records road toll spike          31    0   \n",
       "4            corbell warns canberrans of house fire risk          43    0   \n",
       "\n",
       "   ADP  ADV  CONJ  DET  NOUN  NUM  PRT  PRON  VERB  .  X  POS_ratio  \\\n",
       "0    2    0     0    0     3    0    0     0     1  0  0       0.33   \n",
       "1    0    1     0    0     2    0    0     0     0  0  0       0.25   \n",
       "2    0    1     0    0     3    0    0     0     1  0  0       0.33   \n",
       "3    0    0     0    0     5    0    0     0     0  0  0       0.08   \n",
       "4    1    0     0    0     6    0    0     0     0  0  0       0.17   \n",
       "\n",
       "   topPOS_ratio  NOUN/TOT  polarity  subjectivity  \n",
       "0          0.25      0.16  0.136364      0.454545  \n",
       "1          0.33      0.15  0.136364      0.454545  \n",
       "2          0.25      0.16  0.000000      0.100000  \n",
       "3          1.00      0.57  0.000000      0.000000  \n",
       "4          0.50      0.49  0.000000      0.000000  "
      ]
     },
     "execution_count": 10,
     "metadata": {},
     "output_type": "execute_result"
    }
   ],
   "source": [
    "headlinesSample.head(5)"
   ]
  },
  {
   "cell_type": "code",
   "execution_count": 11,
   "metadata": {},
   "outputs": [
    {
     "data": {
      "text/plain": [
       "textLenght      40.76\n",
       "ADJ              0.77\n",
       "ADP              0.64\n",
       "ADV              0.13\n",
       "CONJ             0.03\n",
       "DET              0.10\n",
       "NOUN             3.36\n",
       "NUM              0.11\n",
       "PRT              0.25\n",
       "PRON             0.05\n",
       "VERB             1.08\n",
       ".                0.01\n",
       "X                0.00\n",
       "POS_ratio        0.29\n",
       "topPOS_ratio     0.38\n",
       "NOUN/TOT         0.22\n",
       "polarity         0.02\n",
       "subjectivity     0.15\n",
       "dtype: float64"
      ]
     },
     "execution_count": 11,
     "metadata": {},
     "output_type": "execute_result"
    }
   ],
   "source": [
    "ref = round(headlinesSample[['textLenght','ADJ','ADP','ADV','CONJ','DET','NOUN','NUM','PRT','PRON','VERB','.','X','POS_ratio','topPOS_ratio','NOUN/TOT', 'polarity', 'subjectivity']].mean(), 2)\n",
    "ref"
   ]
  },
  {
   "cell_type": "code",
   "execution_count": 12,
   "metadata": {},
   "outputs": [
    {
     "data": {
      "text/plain": [
       "textLenght      40.76\n",
       "ADJ              0.77\n",
       "ADP              0.64\n",
       "ADV              0.13\n",
       "CONJ             0.03\n",
       "DET              0.10\n",
       "NOUN             3.36\n",
       "NUM              0.11\n",
       "PRT              0.25\n",
       "PRON             0.05\n",
       "VERB             1.08\n",
       ".                0.01\n",
       "X                0.00\n",
       "POS_ratio        0.29\n",
       "topPOS_ratio     0.38\n",
       "NOUN/TOT         0.22\n",
       "polarity         0.02\n",
       "subjectivity     0.15\n",
       "Name: 0, dtype: float64"
      ]
     },
     "execution_count": 12,
     "metadata": {},
     "output_type": "execute_result"
    }
   ],
   "source": [
    "ref.to_frame().unstack().unstack().loc[0]"
   ]
  },
  {
   "cell_type": "code",
   "execution_count": 15,
   "metadata": {},
   "outputs": [
    {
     "data": {
      "text/plain": [
       "textLenght        45\n",
       "ADJ                1\n",
       "ADP                2\n",
       "ADV                0\n",
       "CONJ               0\n",
       "DET                0\n",
       "NOUN               4\n",
       "NUM                0\n",
       "PRT                0\n",
       "PRON               0\n",
       "VERB               1\n",
       ".                  0\n",
       "X                  0\n",
       "POS_ratio       0.33\n",
       "topPOS_ratio    0.25\n",
       "NOUN/TOT        0.22\n",
       "polarity         0.5\n",
       "subjectivity     0.5\n",
       "Name: 5, dtype: object"
      ]
     },
     "execution_count": 15,
     "metadata": {},
     "output_type": "execute_result"
    }
   ],
   "source": [
    "i = headlinesSample.loc[5, ['textLenght','ADJ','ADP','ADV','CONJ','DET','NOUN','NUM','PRT','PRON','VERB','.','X','POS_ratio','topPOS_ratio','NOUN/TOT', 'polarity', 'subjectivity']]\n",
    "i"
   ]
  },
  {
   "cell_type": "code",
   "execution_count": 16,
   "metadata": {},
   "outputs": [
    {
     "data": {
      "text/plain": [
       "textLenght     -4.24\n",
       "ADJ            -0.23\n",
       "ADP            -1.36\n",
       "ADV             0.13\n",
       "CONJ            0.03\n",
       "DET              0.1\n",
       "NOUN           -0.64\n",
       "NUM             0.11\n",
       "PRT             0.25\n",
       "PRON            0.05\n",
       "VERB            0.08\n",
       ".               0.01\n",
       "X                  0\n",
       "POS_ratio      -0.04\n",
       "topPOS_ratio    0.13\n",
       "NOUN/TOT           0\n",
       "polarity       -0.48\n",
       "subjectivity   -0.35\n",
       "dtype: object"
      ]
     },
     "execution_count": 16,
     "metadata": {},
     "output_type": "execute_result"
    }
   ],
   "source": [
    "ref - i"
   ]
  },
  {
   "cell_type": "code",
   "execution_count": 17,
   "metadata": {},
   "outputs": [
    {
     "data": {
      "text/plain": [
       "0.999435100679061"
      ]
     },
     "execution_count": 17,
     "metadata": {},
     "output_type": "execute_result"
    }
   ],
   "source": [
    "np.dot(i, ref)/(np.linalg.norm(i)*np.linalg.norm(ref))"
   ]
  },
  {
   "cell_type": "code",
   "execution_count": 18,
   "metadata": {},
   "outputs": [],
   "source": [
    "ref_DF = ref.to_frame().unstack().unstack()\n",
    "ref_DF.to_csv('headlines_reference_values.csv')"
   ]
  },
  {
   "cell_type": "code",
   "execution_count": 19,
   "metadata": {},
   "outputs": [
    {
     "data": {
      "text/html": [
       "<div>\n",
       "<style scoped>\n",
       "    .dataframe tbody tr th:only-of-type {\n",
       "        vertical-align: middle;\n",
       "    }\n",
       "\n",
       "    .dataframe tbody tr th {\n",
       "        vertical-align: top;\n",
       "    }\n",
       "\n",
       "    .dataframe thead th {\n",
       "        text-align: right;\n",
       "    }\n",
       "</style>\n",
       "<table border=\"1\" class=\"dataframe\">\n",
       "  <thead>\n",
       "    <tr style=\"text-align: right;\">\n",
       "      <th></th>\n",
       "      <th>textLenght</th>\n",
       "      <th>ADJ</th>\n",
       "      <th>ADP</th>\n",
       "      <th>ADV</th>\n",
       "      <th>CONJ</th>\n",
       "      <th>DET</th>\n",
       "      <th>NOUN</th>\n",
       "      <th>NUM</th>\n",
       "      <th>PRT</th>\n",
       "      <th>PRON</th>\n",
       "      <th>VERB</th>\n",
       "      <th>.</th>\n",
       "      <th>X</th>\n",
       "      <th>POS_ratio</th>\n",
       "      <th>topPOS_ratio</th>\n",
       "      <th>NOUN/TOT</th>\n",
       "      <th>polarity</th>\n",
       "      <th>subjectivity</th>\n",
       "    </tr>\n",
       "  </thead>\n",
       "  <tbody>\n",
       "    <tr>\n",
       "      <th>0</th>\n",
       "      <td>40.76</td>\n",
       "      <td>0.77</td>\n",
       "      <td>0.64</td>\n",
       "      <td>0.13</td>\n",
       "      <td>0.03</td>\n",
       "      <td>0.1</td>\n",
       "      <td>3.36</td>\n",
       "      <td>0.11</td>\n",
       "      <td>0.25</td>\n",
       "      <td>0.05</td>\n",
       "      <td>1.08</td>\n",
       "      <td>0.01</td>\n",
       "      <td>0.0</td>\n",
       "      <td>0.29</td>\n",
       "      <td>0.38</td>\n",
       "      <td>0.22</td>\n",
       "      <td>0.02</td>\n",
       "      <td>0.15</td>\n",
       "    </tr>\n",
       "  </tbody>\n",
       "</table>\n",
       "</div>"
      ],
      "text/plain": [
       "   textLenght   ADJ   ADP   ADV  CONJ  DET  NOUN   NUM   PRT  PRON  VERB  \\\n",
       "0       40.76  0.77  0.64  0.13  0.03  0.1  3.36  0.11  0.25  0.05  1.08   \n",
       "\n",
       "      .    X  POS_ratio  topPOS_ratio  NOUN/TOT  polarity  subjectivity  \n",
       "0  0.01  0.0       0.29          0.38      0.22      0.02          0.15  "
      ]
     },
     "execution_count": 19,
     "metadata": {},
     "output_type": "execute_result"
    }
   ],
   "source": [
    "ref_DF"
   ]
  },
  {
   "cell_type": "code",
   "execution_count": 20,
   "metadata": {},
   "outputs": [],
   "source": [
    "prueba = pd.read_csv('headlines_reference_values.csv').drop(columns = 'Unnamed: 0')"
   ]
  },
  {
   "cell_type": "code",
   "execution_count": 21,
   "metadata": {},
   "outputs": [
    {
     "data": {
      "text/plain": [
       "textLenght     -4.24\n",
       "ADJ            -0.23\n",
       "ADP            -1.36\n",
       "ADV             0.13\n",
       "CONJ            0.03\n",
       "DET              0.1\n",
       "NOUN           -0.64\n",
       "NUM             0.11\n",
       "PRT             0.25\n",
       "PRON            0.05\n",
       "VERB            0.08\n",
       ".               0.01\n",
       "X                  0\n",
       "POS_ratio      -0.04\n",
       "topPOS_ratio    0.13\n",
       "NOUN/TOT           0\n",
       "polarity       -0.48\n",
       "subjectivity   -0.35\n",
       "dtype: object"
      ]
     },
     "execution_count": 21,
     "metadata": {},
     "output_type": "execute_result"
    }
   ],
   "source": [
    "prueba.loc[0] - i"
   ]
  },
  {
   "cell_type": "code",
   "execution_count": 19,
   "metadata": {},
   "outputs": [
    {
     "data": {
      "text/plain": [
       "textLenght     -4.24\n",
       "ADJ            -0.23\n",
       "ADP            -1.36\n",
       "ADV             0.13\n",
       "CONJ            0.03\n",
       "DET              0.1\n",
       "NOUN           -0.64\n",
       "NUM             0.11\n",
       "PRT             0.25\n",
       "PRON            0.05\n",
       "VERB            0.08\n",
       ".               0.01\n",
       "X                  0\n",
       "POS_ratio      -0.04\n",
       "topPOS_ratio    0.13\n",
       "NOUN/TOT        0.01\n",
       "dtype: object"
      ]
     },
     "execution_count": 19,
     "metadata": {},
     "output_type": "execute_result"
    }
   ],
   "source": [
    "ref - i"
   ]
  },
  {
   "cell_type": "code",
   "execution_count": null,
   "metadata": {},
   "outputs": [],
   "source": []
  }
 ],
 "metadata": {
  "kernelspec": {
   "display_name": "venvTP2",
   "language": "python",
   "name": "venvtp2"
  },
  "language_info": {
   "codemirror_mode": {
    "name": "ipython",
    "version": 3
   },
   "file_extension": ".py",
   "mimetype": "text/x-python",
   "name": "python",
   "nbconvert_exporter": "python",
   "pygments_lexer": "ipython3",
   "version": "3.6.9"
  }
 },
 "nbformat": 4,
 "nbformat_minor": 4
}
